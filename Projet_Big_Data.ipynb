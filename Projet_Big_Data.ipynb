{
  "nbformat": 4,
  "nbformat_minor": 0,
  "metadata": {
    "colab": {
      "provenance": [],
      "include_colab_link": true
    },
    "kernelspec": {
      "name": "python3",
      "display_name": "Python 3"
    },
    "language_info": {
      "name": "python"
    }
  },
  "cells": [
    {
      "cell_type": "markdown",
      "metadata": {
        "id": "view-in-github",
        "colab_type": "text"
      },
      "source": [
        "<a href=\"https://colab.research.google.com/github/amir-10/Projet_Big_Data/blob/main/Projet_Big_Data.ipynb\" target=\"_parent\"><img src=\"https://colab.research.google.com/assets/colab-badge.svg\" alt=\"Open In Colab\"/></a>"
      ]
    },
    {
      "cell_type": "code",
      "execution_count": 3,
      "metadata": {
        "id": "80GmyDXDMDkT"
      },
      "outputs": [],
      "source": [
        "# instalation de la bibliotheque java\n",
        "! apt-get install openjdk-8-jdk-headless -qq > /dev/null"
      ]
    },
    {
      "cell_type": "code",
      "source": [
        "# instalation de spark\n",
        "! wget -q https://dlcdn.apache.org/spark/spark-3.3.1/spark-3.3.1-bin-hadoop3.tgz"
      ],
      "metadata": {
        "id": "gEi02TPvOnHm"
      },
      "execution_count": 4,
      "outputs": []
    },
    {
      "cell_type": "code",
      "source": [
        "# décompresser le dossier \n",
        "! tar xf /content/spark-3.3.1-bin-hadoop3.tgz\n"
      ],
      "metadata": {
        "id": "xxfE2rYvP7K2"
      },
      "execution_count": 5,
      "outputs": []
    },
    {
      "cell_type": "code",
      "source": [
        "# instalation de pyspark\n",
        "! pip install -q findspark\n",
        "! pip install pyspark"
      ],
      "metadata": {
        "id": "lFiWQgJdP_Re",
        "colab": {
          "base_uri": "https://localhost:8080/"
        },
        "outputId": "f1976282-0af9-4bfb-ee7e-5b9e98b290cb"
      },
      "execution_count": 6,
      "outputs": [
        {
          "output_type": "stream",
          "name": "stdout",
          "text": [
            "Looking in indexes: https://pypi.org/simple, https://us-python.pkg.dev/colab-wheels/public/simple/\n",
            "Collecting pyspark\n",
            "  Downloading pyspark-3.3.1.tar.gz (281.4 MB)\n",
            "\u001b[2K     \u001b[90m━━━━━━━━━━━━━━━━━━━━━━━━━━━━━━━━━━━━━━━\u001b[0m \u001b[32m281.4/281.4 MB\u001b[0m \u001b[31m5.0 MB/s\u001b[0m eta \u001b[36m0:00:00\u001b[0m\n",
            "\u001b[?25h  Preparing metadata (setup.py) ... \u001b[?25l\u001b[?25hdone\n",
            "Collecting py4j==0.10.9.5\n",
            "  Downloading py4j-0.10.9.5-py2.py3-none-any.whl (199 kB)\n",
            "\u001b[2K     \u001b[90m━━━━━━━━━━━━━━━━━━━━━━━━━━━━━━━━━━━━━━\u001b[0m \u001b[32m199.7/199.7 KB\u001b[0m \u001b[31m21.4 MB/s\u001b[0m eta \u001b[36m0:00:00\u001b[0m\n",
            "\u001b[?25hBuilding wheels for collected packages: pyspark\n",
            "  Building wheel for pyspark (setup.py) ... \u001b[?25l\u001b[?25hdone\n",
            "  Created wheel for pyspark: filename=pyspark-3.3.1-py2.py3-none-any.whl size=281845512 sha256=5cd5abd2d0b5b69a9f9cf5eec014b877e88f79a2a7d676234fb6c78e55694abe\n",
            "  Stored in directory: /root/.cache/pip/wheels/43/dc/11/ec201cd671da62fa9c5cc77078235e40722170ceba231d7598\n",
            "Successfully built pyspark\n",
            "Installing collected packages: py4j, pyspark\n",
            "Successfully installed py4j-0.10.9.5 pyspark-3.3.1\n"
          ]
        }
      ]
    },
    {
      "cell_type": "code",
      "source": [
        "import os\n",
        "# definir deux variables d'environement\n",
        "\n",
        "os.environ[\"JAVA_HOME\"] = \"/usr/lib/jvm/java-8-openjdk-amd64\"  # l'endroit de java\n",
        "os.environ[\"SPARK_HOME\"] = \"/content/spark-3.3.1-bin-hadoop3\" # l'endroit de spark\n",
        "os.environ['PYSPARK_SUBMIT_ARGS'] = '--packages org.apache.spark:spark-avro_2.11:2.4.5 pyspark-shell' \n",
        "import findspark\n",
        "\n",
        "findspark.init(\"spark-3.3.1-bin-hadoop3\")\n",
        "\n",
        "\n",
        "from pyspark import SparkContext, SparkConf\n",
        "\n",
        "# lancement du spark en local (en une seule machine qui est la machine virtuelle de colab dans ce cas) avec 4 processus (workers node)\n",
        "configuration = SparkConf().setAppName(\"name\").setMaster(\"local[4]\").set('spark.jars.packages', 'org.apache.spark:spark-avro_2.11:2.4.5')\n",
        "# name: c'est le nom qu'on donne a notre app (code)\n",
        "sc = SparkContext(conf=configuration) # l'objet "
      ],
      "metadata": {
        "id": "XqJL73UxQb6q"
      },
      "execution_count": 7,
      "outputs": []
    },
    {
      "cell_type": "code",
      "source": [
        "sc"
      ],
      "metadata": {
        "id": "sLJc20MwVnsF",
        "colab": {
          "base_uri": "https://localhost:8080/",
          "height": 196
        },
        "outputId": "0b6223e2-c4b6-419d-9841-c80d2138f13c"
      },
      "execution_count": 8,
      "outputs": [
        {
          "output_type": "execute_result",
          "data": {
            "text/plain": [
              "<SparkContext master=local[4] appName=name>"
            ],
            "text/html": [
              "\n",
              "        <div>\n",
              "            <p><b>SparkContext</b></p>\n",
              "\n",
              "            <p><a href=\"http://07cd7ab6cf06:4040\">Spark UI</a></p>\n",
              "\n",
              "            <dl>\n",
              "              <dt>Version</dt>\n",
              "                <dd><code>v3.3.1</code></dd>\n",
              "              <dt>Master</dt>\n",
              "                <dd><code>local[4]</code></dd>\n",
              "              <dt>AppName</dt>\n",
              "                <dd><code>name</code></dd>\n",
              "            </dl>\n",
              "        </div>\n",
              "        "
            ]
          },
          "metadata": {},
          "execution_count": 8
        }
      ]
    },
    {
      "cell_type": "code",
      "source": [
        "# L'objet sparkSession créé pour utiliser l'API Spark SQL\n",
        "from pyspark.sql import SparkSession\n",
        "spark = SparkSession.builder.config(conf=configuration).getOrCreate()"
      ],
      "metadata": {
        "id": "8CXmh37JVuoQ"
      },
      "execution_count": 9,
      "outputs": []
    },
    {
      "cell_type": "code",
      "source": [
        "! wget -q http://qwone.com/~jason/20Newsgroups/20news-19997.tar.gz"
      ],
      "metadata": {
        "id": "RwjFOBQ9WEIF"
      },
      "execution_count": 10,
      "outputs": []
    },
    {
      "cell_type": "code",
      "source": [
        "# décompresser le dossier \n",
        "! tar xf /content/20news-19997.tar.gz"
      ],
      "metadata": {
        "id": "XMNChhuTWPvX"
      },
      "execution_count": 11,
      "outputs": []
    },
    {
      "cell_type": "code",
      "source": [
        "rdd1 = sc.wholeTextFiles(\"/content/20_newsgroups/alt.atheism\")\n",
        "rdd2 = sc.wholeTextFiles(\"/content/20_newsgroups/rec.sport.baseball\")"
      ],
      "metadata": {
        "id": "IqUNkQFbdAOG"
      },
      "execution_count": 22,
      "outputs": []
    },
    {
      "cell_type": "code",
      "source": [
        "x=rdd2.take(2)"
      ],
      "metadata": {
        "id": "_4_S17Z_dc0u"
      },
      "execution_count": 23,
      "outputs": []
    },
    {
      "cell_type": "code",
      "source": [
        "def separateur(x):\n",
        "  l=x[1].split(\"\\n\\n\")\n",
        "  return (x[0],l)\n",
        "\n",
        "#separateur(x[1])\n",
        "\n",
        "rdd1=rdd1.map(separateur)\n",
        "rdd2=rdd2.map(separateur)\n",
        "\n",
        "\n",
        "\n",
        "\n"
      ],
      "metadata": {
        "id": "kdS3yOh9d-wY"
      },
      "execution_count": 24,
      "outputs": []
    },
    {
      "cell_type": "code",
      "source": [
        "# extraction des infos de l'entete \n",
        "test=rdd1.take(1)\n",
        "test"
      ],
      "metadata": {
        "id": "8H3eWV5MkKB9",
        "colab": {
          "base_uri": "https://localhost:8080/"
        },
        "outputId": "1e265e66-8c37-4ae9-dc19-69bbcae17f55"
      },
      "execution_count": 90,
      "outputs": [
        {
          "output_type": "execute_result",
          "data": {
            "text/plain": [
              "[('file:/content/20_newsgroups/alt.atheism/53079',\n",
              "  [\"Xref: cantaloupe.srv.cs.cmu.edu talk.abortion:120533 alt.atheism:53079 talk.religion.misc:83551\\nPath: cantaloupe.srv.cs.cmu.edu!das-news.harvard.edu!noc.near.net!uunet!mcsun!Germany.EU.net!thoth.mchp.sni.de!horus.ap.mchp.sni.de!D012S658!frank\\nFrom: frank@D012S658.uucp (Frank O'Dwyer)\\nNewsgroups: talk.abortion,alt.atheism,talk.religion.misc\\nSubject: Re: After 2000 years, can we say that Christian Morality is\\nDate: 15 Apr 1993 21:12:01 GMT\\nOrganization: Siemens-Nixdorf AG\\nLines: 50\\nMessage-ID: <1qkj31$4c6@horus.ap.mchp.sni.de>\\nReferences: <pww-140493214334@spac-at1-59.rice.edu> <1qjahh$mrs@horus.ap.mchp.sni.de> <lsr6ihINNsa@exodus.Eng.Sun.COM>\\nNNTP-Posting-Host: d012s658.ap.mchp.sni.de\",\n",
              "   'In article <lsr6ihINNsa@exodus.Eng.Sun.COM> emarsh@hernes-sun.Eng.Sun.COM (Eric Marsh) writes:\\n#In article <1qjahh$mrs@horus.ap.mchp.sni.de> frank@D012S658.uucp (Frank O\\'Dwyer) writes:\\n#>Science (\"the real world\") has its basis in values, not the other way round, \\n#>as you would wish it.  If there is no such thing as objective value, then \\n#>science can not objectively be said to be more useful than a kick in the head.\\n#>Simple theories with accurate predictions could not objectively be said\\n#>to be more useful than a set of tarot cards.  You like those conclusions?\\n#>I don\\'t.\\n#\\n#I think that you are changing the meaning of \"values\" here. Perhaps\\n#it is time to backtrack and take a look at the word.\\n#\\n#value n. 1. A fair equivalent or return for something, such as goods\\n#or service. 2. Monetary or material worth. 3. Worth as measured in \\n#usefulness or importance; merit. 4. A principle, standard, or quality\\n#considered inherently worthwhile or desirable. 5. Precise meaning, as\\n#of a word. 6. An assigned or calculated numerical quantity. 7. Mus. \\n#The relative duratation of a tone or rest. 8. The relative darkness or\\n#lightness of a color. 9. The distinctive quality of a speech or speech\\n#sound. \\n#\\n#In context of a moral system, definition four seems to fit best. In terms\\n#of scientific usage, definitions six or eight might apply. Note that\\n#these definitions do not mean the same thing.',\n",
              "   \"No, I'm using definition (3), or perhaps (4) in both cases.  If there\\nis no objective worth, usefulness, or importance then science has no \\nobjective worth, usefulness, or importance.  If nothing is inherently\\nworthwhile or desirable, then simple theories with accurate predictions\\nare not inherently worthwhile or desirable. Do you see any flaws in this?\",\n",
              "   'If on the other hand, some things *have* objective worth, usefulness,\\nor importance, it would be interesting to know what they are.',\n",
              "   '#If you can provide an objective foundation for \"morality\" then that will\\n#be a good beginning.',\n",
              "   'I\\'m not willing to attempt this until someone provides an objective\\nbasis for the notion that science is useful, worthy, or important in\\ndealing with observed facts.  Alternatively, you could try to\\ndemonstrate to me that science is not necessarily useful, worthy\\nor important in any situation.   In other words, I need to know\\nhow you use the term \"objective\".',\n",
              "   '#eric',\n",
              "   '\\n-- \\nFrank O\\'Dwyer                                  \\'I\\'m not hatching That\\'\\nodwyer@sse.ie                                  from \"Hens\",  by Evelyn Conlon\\n'])]"
            ]
          },
          "metadata": {},
          "execution_count": 90
        }
      ]
    },
    {
      "cell_type": "code",
      "source": [
        "def extraction_informations_entete(entete):\n",
        "  l=entete.split(\"\\n\")\n",
        "  d=dict()\n",
        "  for x in l:\n",
        "    z=x.split(\":\")\n",
        "    if len(z)==2:\n",
        "       d[z[0]]=z[1]\n",
        "\n",
        "  return d"
      ],
      "metadata": {
        "id": "s_87u2qsn3Tc"
      },
      "execution_count": 26,
      "outputs": []
    },
    {
      "cell_type": "code",
      "source": [
        "# extraire l'organisation du premier document du rdd1 (alt.atheism)\n",
        "# par l'action first\n",
        "doc1=rdd1.first()\n",
        "entete=doc1[1][0]\n",
        "# Dictionnaire des informations de l'entete\n",
        "dict1_info=extraction_informations_entete(entete)\n",
        "dict1_info"
      ],
      "metadata": {
        "id": "jb3WmurZq4PR",
        "colab": {
          "base_uri": "https://localhost:8080/"
        },
        "outputId": "09b8304f-4896-488f-fd6c-86a3606c3334"
      },
      "execution_count": 27,
      "outputs": [
        {
          "output_type": "execute_result",
          "data": {
            "text/plain": [
              "{'Path': ' cantaloupe.srv.cs.cmu.edu!das-news.harvard.edu!noc.near.net!uunet!mcsun!Germany.EU.net!thoth.mchp.sni.de!horus.ap.mchp.sni.de!D012S658!frank',\n",
              " 'From': \" frank@D012S658.uucp (Frank O'Dwyer)\",\n",
              " 'Newsgroups': ' talk.abortion,alt.atheism,talk.religion.misc',\n",
              " 'Organization': ' Siemens-Nixdorf AG',\n",
              " 'Lines': ' 50',\n",
              " 'Message-ID': ' <1qkj31$4c6@horus.ap.mchp.sni.de>',\n",
              " 'References': ' <pww-140493214334@spac-at1-59.rice.edu> <1qjahh$mrs@horus.ap.mchp.sni.de> <lsr6ihINNsa@exodus.Eng.Sun.COM>',\n",
              " 'NNTP-Posting-Host': ' d012s658.ap.mchp.sni.de'}"
            ]
          },
          "metadata": {},
          "execution_count": 27
        }
      ]
    },
    {
      "cell_type": "code",
      "source": [
        "# selectionner Organization et Newsgroups\n",
        "print(dict1_info['Newsgroups'])\n",
        "print(dict1_info['Organization'])"
      ],
      "metadata": {
        "id": "1fy0wE-qtfTb",
        "colab": {
          "base_uri": "https://localhost:8080/"
        },
        "outputId": "617fbb6d-2d59-4b34-9ed3-c53637ec2cfa"
      },
      "execution_count": 28,
      "outputs": [
        {
          "output_type": "stream",
          "name": "stdout",
          "text": [
            " talk.abortion,alt.atheism,talk.religion.misc\n",
            " Siemens-Nixdorf AG\n"
          ]
        }
      ]
    },
    {
      "cell_type": "code",
      "source": [
        "# par l'action take\n",
        "doc2=rdd2.take(2)\n",
        "entete2=doc2[1][1][0]\n",
        "# Dictionnaire des informations de l'entete\n",
        "dict2_info=extraction_informations_entete(entete2)\n",
        "dict2_info"
      ],
      "metadata": {
        "id": "PRntxXwVsQYu",
        "colab": {
          "base_uri": "https://localhost:8080/"
        },
        "outputId": "e3b6c86b-8515-45e2-a14a-ff4e75716144"
      },
      "execution_count": 29,
      "outputs": [
        {
          "output_type": "execute_result",
          "data": {
            "text/plain": [
              "{'Path': ' cantaloupe.srv.cs.cmu.edu!das-news.harvard.edu!noc.near.net!howland.reston.ans.net!zaphod.mps.ohio-state.edu!hobbes.physics.uiowa.edu!news.iastate.edu!iscsvax.uni.edu!reed5575',\n",
              " 'From': ' reed5575@iscsvax.uni.edu',\n",
              " 'Newsgroups': ' rec.sport.baseball',\n",
              " 'Message-ID': ' <1993Apr20.233429.12558@iscsvax.uni.edu>',\n",
              " 'References': ' <1993Apr20.102857.1@tesla.njit.edu>',\n",
              " 'Organization': ' University of Northern Iowa',\n",
              " 'Lines': ' 12'}"
            ]
          },
          "metadata": {},
          "execution_count": 29
        }
      ]
    },
    {
      "cell_type": "code",
      "source": [
        "# selectionner Organization et Newsgroups\n",
        "print(dict2_info['Newsgroups'])\n",
        "print(dict2_info['Organization'])\n",
        "#print(dict2_info['Subject'])\n",
        "print(dict2_info['References'])"
      ],
      "metadata": {
        "id": "5vGSXmr8tM09",
        "colab": {
          "base_uri": "https://localhost:8080/"
        },
        "outputId": "5e9dc9c7-ba68-4f50-858b-fa15facd4283"
      },
      "execution_count": 30,
      "outputs": [
        {
          "output_type": "stream",
          "name": "stdout",
          "text": [
            " rec.sport.baseball\n",
            " University of Northern Iowa\n",
            " <1993Apr20.102857.1@tesla.njit.edu>\n"
          ]
        }
      ]
    },
    {
      "cell_type": "code",
      "source": [
        "def extraction_informations_entete2(entete):\n",
        "  if entete is not None:\n",
        "    l=entete[1][0].split(\"\\n\")\n",
        "    d=dict()\n",
        "    if len(l)!=0:\n",
        "      for x in l:\n",
        "        z=x.split(\":\",1)\n",
        "        if len(z)==2:\n",
        "          d[z[0]]=z[1]\n",
        "        if len(z)<2:\n",
        "           pass\n",
        "        \n",
        "\n",
        "      return (entete[0],[d,entete[1][1]])"
      ],
      "metadata": {
        "id": "iP2HOZSXCjuS"
      },
      "execution_count": 31,
      "outputs": []
    },
    {
      "cell_type": "code",
      "source": [
        "new_rdd1=rdd1.map(extraction_informations_entete2)\n",
        "#rdd1.take(3)"
      ],
      "metadata": {
        "id": "GDfaOLzGCSwg"
      },
      "execution_count": 32,
      "outputs": []
    },
    {
      "cell_type": "code",
      "source": [
        "new_rdd1.take(8)"
      ],
      "metadata": {
        "id": "6E0EShNhDahC",
        "colab": {
          "base_uri": "https://localhost:8080/"
        },
        "outputId": "b391f2f7-b813-4e36-e339-cc6b50fbbbda"
      },
      "execution_count": 34,
      "outputs": [
        {
          "output_type": "execute_result",
          "data": {
            "text/plain": [
              "[('file:/content/20_newsgroups/alt.atheism/53079',\n",
              "  [{'Xref': ' cantaloupe.srv.cs.cmu.edu talk.abortion:120533 alt.atheism:53079 talk.religion.misc:83551',\n",
              "    'Path': ' cantaloupe.srv.cs.cmu.edu!das-news.harvard.edu!noc.near.net!uunet!mcsun!Germany.EU.net!thoth.mchp.sni.de!horus.ap.mchp.sni.de!D012S658!frank',\n",
              "    'From': \" frank@D012S658.uucp (Frank O'Dwyer)\",\n",
              "    'Newsgroups': ' talk.abortion,alt.atheism,talk.religion.misc',\n",
              "    'Subject': ' Re: After 2000 years, can we say that Christian Morality is',\n",
              "    'Date': ' 15 Apr 1993 21:12:01 GMT',\n",
              "    'Organization': ' Siemens-Nixdorf AG',\n",
              "    'Lines': ' 50',\n",
              "    'Message-ID': ' <1qkj31$4c6@horus.ap.mchp.sni.de>',\n",
              "    'References': ' <pww-140493214334@spac-at1-59.rice.edu> <1qjahh$mrs@horus.ap.mchp.sni.de> <lsr6ihINNsa@exodus.Eng.Sun.COM>',\n",
              "    'NNTP-Posting-Host': ' d012s658.ap.mchp.sni.de'},\n",
              "   'In article <lsr6ihINNsa@exodus.Eng.Sun.COM> emarsh@hernes-sun.Eng.Sun.COM (Eric Marsh) writes:\\n#In article <1qjahh$mrs@horus.ap.mchp.sni.de> frank@D012S658.uucp (Frank O\\'Dwyer) writes:\\n#>Science (\"the real world\") has its basis in values, not the other way round, \\n#>as you would wish it.  If there is no such thing as objective value, then \\n#>science can not objectively be said to be more useful than a kick in the head.\\n#>Simple theories with accurate predictions could not objectively be said\\n#>to be more useful than a set of tarot cards.  You like those conclusions?\\n#>I don\\'t.\\n#\\n#I think that you are changing the meaning of \"values\" here. Perhaps\\n#it is time to backtrack and take a look at the word.\\n#\\n#value n. 1. A fair equivalent or return for something, such as goods\\n#or service. 2. Monetary or material worth. 3. Worth as measured in \\n#usefulness or importance; merit. 4. A principle, standard, or quality\\n#considered inherently worthwhile or desirable. 5. Precise meaning, as\\n#of a word. 6. An assigned or calculated numerical quantity. 7. Mus. \\n#The relative duratation of a tone or rest. 8. The relative darkness or\\n#lightness of a color. 9. The distinctive quality of a speech or speech\\n#sound. \\n#\\n#In context of a moral system, definition four seems to fit best. In terms\\n#of scientific usage, definitions six or eight might apply. Note that\\n#these definitions do not mean the same thing.']),\n",
              " ('file:/content/20_newsgroups/alt.atheism/51141',\n",
              "  [{'Path': ' cantaloupe.srv.cs.cmu.edu!das-news.harvard.edu!husc-news.harvard.edu!hsdndev!yale!yale.edu!newsserver.jvnc.net!louie!udel!wupost!uunet!pipex!bnr.co.uk!bnrgate!bmerh85!bmers30!dgraham',\n",
              "    'Newsgroups': ' alt.atheism',\n",
              "    'Subject': ' Re: Speculations',\n",
              "    'Message-ID': ' <1993Apr5.211924.18459@bmerh85.bnr.ca>',\n",
              "    'From': ' dgraham@bmers30.bnr.ca (Douglas Graham)',\n",
              "    'Date': ' 5 Apr 93 21:19:24 GMT',\n",
              "    'Sender': ' news@bmerh85.bnr.ca (Usenet News)',\n",
              "    'References': ' <1993Apr1.190230.18485@proxima.alt.za> <UfjElCG00Vp3E7i6Vo@andrew.cmu.edu> <930405.172903.4w6.rusnews.w165w@mantis.co.uk>',\n",
              "    'Organization': ' Bell-Northern Research, Ottawa, Canada',\n",
              "    'Lines': ' 17'},\n",
              "   \"In article <930405.172903.4w6.rusnews.w165w@mantis.co.uk> mathew <mathew@mantis.co.uk> writes:\\n>Nanci Ann Miller <nm0w+@andrew.cmu.edu> writes:\\n>> If this god is truly omnipotent as you folks like to claim, then why can't\\n>> he terminate eternity?\\n>\\n>For the same reason he can't flibble glop ork groink.\\n>\\n>The thing you are demanding that he must be able to do, has no meaning in its\\n>own terms.\"]),\n",
              " ('file:/content/20_newsgroups/alt.atheism/53282',\n",
              "  [{'Path': ' cantaloupe.srv.cs.cmu.edu!crabapple.srv.cs.cmu.edu!bb3.andrew.cmu.edu!news.sei.cmu.edu!cis.ohio-state.edu!zaphod.mps.ohio-state.edu!darwin.sura.net!haven.umd.edu!uunet!uchdcc!enkidu!agrino',\n",
              "    'From': ' agrino@enkidu.mic.cl (Andres Grino Brandt)',\n",
              "    'Newsgroups': ' alt.atheism',\n",
              "    'Subject': ' Studies on Book of Mormon',\n",
              "    'Distribution': ' world',\n",
              "    'Message-ID': ' <735023059snx@enkidu.mic.cl>',\n",
              "    'Organization': ' Orden del Lobo Estepario',\n",
              "    'Reply-To': ' agrino@enkidu.mic.cl',\n",
              "    'Lines': ' 20',\n",
              "    'Date': ' Sun, 18 Apr 1993 14:15:33 CST'},\n",
              "   'Hi!']),\n",
              " ('file:/content/20_newsgroups/alt.atheism/53631',\n",
              "  [{'Newsgroups': ' alt.atheism',\n",
              "    'Path': ' cantaloupe.srv.cs.cmu.edu!crabapple.srv.cs.cmu.edu!bb3.andrew.cmu.edu!news.sei.cmu.edu!fs7.ece.cmu.edu!europa.eng.gtefsd.com!howland.reston.ans.net!zaphod.mps.ohio-state.edu!cs.utexas.edu!uunet!pipex!uknet!warwick!nott-cs!mips.nott.ac.uk!eczcaw',\n",
              "    'From': ' eczcaw@mips.nott.ac.uk (A.Wainwright)',\n",
              "    'Subject': ' Re: Death Penalty (was Re: Political Atheists?)',\n",
              "    'Message-ID': ' <1993Apr21.114947.6464@cs.nott.ac.uk>',\n",
              "    'Sender': ' news@cs.nott.ac.uk',\n",
              "    'Reply-To': ' eczcaw@mips.nott.ac.uk (A.Wainwright)',\n",
              "    'Organization': ' Nottingham University',\n",
              "    'References': ' <kmr4.1619.735098097@po.CWRU.edu> <C5rLyz.4Mt@darkside.osrhe.uoknor.edu>',\n",
              "    'Date': ' Wed, 21 Apr 93 11:49:47 GMT',\n",
              "    'Lines': ' 60'},\n",
              "   'In article <C5rLyz.4Mt@darkside.osrhe.uoknor.edu>, bil@okcforum.osrhe.edu (Bill Conner) writes:\\n|> This is fascinating. Atheists argue for abortion,']),\n",
              " ('file:/content/20_newsgroups/alt.atheism/53163',\n",
              "  [{'Path': ' cantaloupe.srv.cs.cmu.edu!das-news.harvard.edu!noc.near.net!uunet!olivea!bu.edu!buphy.bu.edu!jaeger',\n",
              "    'From': ' jaeger@buphy.bu.edu (Gregg Jaeger)',\n",
              "    'Newsgroups': ' alt.atheism',\n",
              "    'Subject': ' Re: The Inimitable Rushdie',\n",
              "    'Message-ID': ' <115560@bu.edu>',\n",
              "    'Date': ' 16 Apr 93 01:31:01 GMT',\n",
              "    'References': ' <1qctef$r05@fido.asd.sgi.com> <115256@bu.edu> <C5HKv2.Epv@blaze.cs.jhu.edu>',\n",
              "    'Sender': ' news@bu.edu',\n",
              "    'Organization': ' Boston University Physics Department',\n",
              "    'Lines': ' 41'},\n",
              "   'In article <C5HKv2.Epv@blaze.cs.jhu.edu> arromdee@jyusenkyou.cs.jhu.edu (Ken Arromdee) writes:']),\n",
              " ('file:/content/20_newsgroups/alt.atheism/54232',\n",
              "  [{'Xref': ' cantaloupe.srv.cs.cmu.edu talk.abortion:121621 alt.atheism:54232 talk.religion.misc:84403',\n",
              "    'Newsgroups': ' talk.abortion,alt.atheism,talk.religion.misc',\n",
              "    'Path': ' cantaloupe.srv.cs.cmu.edu!crabapple.srv.cs.cmu.edu!bb3.andrew.cmu.edu!news.sei.cmu.edu!fs7.ece.cmu.edu!europa.eng.gtefsd.com!howland.reston.ans.net!usc!cs.utexas.edu!utnut!torn!nott!bnrgate!bnr.co.uk!uknet!pipex!harlqn.co.uk!harlqn!richard',\n",
              "    'From': ' richard@harlqn.co.uk (Richard Brooksby)',\n",
              "    'Subject': ' Re: After 2000 years, can we say that Christian Morality is',\n",
              "    'Message-ID': ' <1993Apr22.154804.10555@harlqn.co.uk>',\n",
              "    'Organization': ' Harlequin Ltd. Cambridge, England',\n",
              "    'References': ' <1qtsmc$39j@horus.ap.mchp.sni.de> <930420.100544.6n0.rusnews.w165w@mantis.co.uk> <1r1ko8$6b1@horus.ap.mchp.sni.de>',\n",
              "    'Date': ' Thu, 22 Apr 1993 15:48:04 GMT',\n",
              "    'Lines': ' 36'},\n",
              "   \"frank@D012S658.uucp (Frank O'Dwyer) writes:\\n> In article <930420.100544.6n0.rusnews.w165w@mantis.co.uk> mathew\\n> <mathew@mantis.co.uk> writes:\\n> #This is complete nonsense.  Relativism means saying that there is no absolut\\n> #standard of morality; it does NOT mean saying that all standards of morality\\n> #are equally good.\\n> \\n> Presumably this means that some moral systems are better than\\n> others?\"]),\n",
              " ('file:/content/20_newsgroups/alt.atheism/53149',\n",
              "  [{'Newsgroups': ' alt.atheism',\n",
              "    'Path': ' cantaloupe.srv.cs.cmu.edu!das-news.harvard.edu!noc.near.net!howland.reston.ans.net!ux1.cso.uiuc.edu!news.cso.uiuc.edu!alexia!cobb',\n",
              "    'From': ' cobb@alexia.lis.uiuc.edu (Mike Cobb)',\n",
              "    'Subject': ' Re: After 2000 years, can we say that Christian Morality is',\n",
              "    'Date': ' Fri, 16 Apr 1993 00:58:06 GMT',\n",
              "    'Message-ID': ' <C5JxCu.2Hv@news.cso.uiuc.edu>',\n",
              "    'References': ' <C5Fuo2.FF8@news.cso.uiuc.edu> <1qg8bu$kl5@fido.asd.sgi.com> ',\n",
              "    'Sender': ' usenet@news.cso.uiuc.edu (Net Noise owner)',\n",
              "    'Organization': ' University of Illinois at Urbana',\n",
              "    'Lines': ' 23'},\n",
              "   'In <sfnNTrC00WBO43LRUK@andrew.cmu.edu> \"David R. Sacco\" <dsav+@andrew.cmu.edu> \\nwrites:']),\n",
              " ('file:/content/20_newsgroups/alt.atheism/53795',\n",
              "  [{'Path': ' cantaloupe.srv.cs.cmu.edu!magnesium.club.cc.cmu.edu!news.sei.cmu.edu!cis.ohio-state.edu!zaphod.mps.ohio-state.edu!cs.utexas.edu!uunet!mcsun!Germany.EU.net!thoth.mchp.sni.de!horus.ap.mchp.sni.de!D012S658!frank',\n",
              "    'From': \" frank@D012S658.uucp (Frank O'Dwyer)\",\n",
              "    'Newsgroups': ' alt.atheism',\n",
              "    'Subject': ' Re: Bayesian Statistics, theism and atheism',\n",
              "    'Date': ' 25 Apr 1993 00:20:05 GMT',\n",
              "    'Organization': ' Siemens-Nixdorf AG',\n",
              "    'Lines': ' 192',\n",
              "    'Message-ID': ' <1rclfl$nnv@horus.ap.mchp.sni.de>',\n",
              "    'References': ' <1993Apr15.181924.21026@dcs.warwick.ac.uk> <1quei1$8mb@horus.ap.mchp.sni.de> <1993Apr24.165301.8321@dcs.warwick.ac.uk>',\n",
              "    'NNTP-Posting-Host': ' d012s658.ap.mchp.sni.de'},\n",
              "   'In article <1993Apr24.165301.8321@dcs.warwick.ac.uk> simon@dcs.warwick.ac.uk (Simon Clippingdale) writes:\\n#In article <1quei1$8mb@horus.ap.mchp.sni.de> frank@D012S658.uucp (Frank O\\'Dwyer) writes:\\n#>In article <1993Apr15.181924.21026@dcs.warwick.ac.uk> simon@dcs.warwick.ac.uk (Simon Clippingdale) writes:\\n[I write:]\\n#>>> Imagine that 1000000 Alterian dollars turn up in your bank account every\\n#>>> month. Suppose further that this money is being paid to you by (a) your \\n#>>> big-hearted Alterian benefactor, or (b) a bug in an Alterian ATM.  Let\\'s\\n#>>> suppose that this is a true dichotomy, so P(a)+P(b)=1. Trouble is, Alterius \\n#>>> is in a different universe, so that no observations of Alterius are possible\\n#>>> (except for the banks - you couldn\\'t possibly afford it ;-)\\n#>>> \\n#>>> Now let\\'s examine the case for (a).  There is no evidence whatsoever that\\n#>>> there is any such thing as a big-hearted Alterian benefactor. However,\\n#>>> P(exists(b-h A b)) + P(not(exists(b-h A b)) = 1. On the grounds that \\n#>>> lack_of_evidence_for is evidence_against when we have a partition like\\n#>>> that, we dismiss hypothesis (a).\\n#>>>\\n#>>> Turning, therefore, to (b), we also find no evidence to support that\\n#>>> hypothesis.  On the same grounds as before, we dismiss hypothesis (b).\\n#>>>\\n#>>> The problem with this is that we have dismissed *all* of the possible\\n#>>> hypotheses, and even though we know by construction that the money \\n#>>> arrives every month, we have proven that it can\\'t, because we\\n#>>> have dismissed all of its potential causes.\\n#\\n#>> That\\'s an *extremely* poor argument, and here\\'s why.\\n#>>\\n#>> Premise 1: \"...this money is being paid to you by [either] (a) your big-\\n#>>             hearted Alterian benefactor, or (b) a bug in an Alterian ATM\".\\n#>> \\n#>> Thus each monthly appearance of the bucks, should it happen, is an\\n#>> observation on Alterius, and by construction, is evidence for the\\n#>> existence of [either the benefactor or the bug in the ATM].\\n#>> \\n#>> Premise 2: no observations on Alterius are possible.\\n#\\n#>     #> (except for the banks - you couldn\\'t possibly afford it ;-)\\n#>\\n#> You forgot to include this.  My premise is actually:\\n#>\\n#> Premise 2:  The cardinality of the set of possible observations on Alterius\\n#>             is one.\\n#\\n#>> This is clearly contradictory to the first.\\n#\\n#> Not if you state it properly.\\n#\\n#>> Trouble is, on the basis of premise 2, you say that there can be no evidence\\n#>> of [either the benefactor or the bug], but the first premise leads to the\\n#>> conclusion that the appearance of the bucks, should it happen, is evidence\\n#>> for the existence of [either the benefactor or the bug].\\n#>> \\n#>> Voila, a screaming contradiction.\\n#\\n#[with my highlights - SC]\\n#> But in a strawman argument. There is only evidence for OneOf(Benefactor,Bug).\\n#> No observation to distinguish Benefactor from Bug is possible. That is\\n#> ~~~~~~~~~~~~~~~~~~~~~~~~~~~~~~~~~~~~~~~~~~~~~~~~~~~~~~~~~~~~~~~~~~~~~~\\n#> not evidence for Bug, and neither is it evidence for Benefactor. Nor\\n#> ~~~~~~~~~~~~~~~~~~~~~~~~~~~~~~~~~~~~~~~~~~~~~~~~~~~~~~~~~~~~~~~\\n#> is true to say that this hypothetical universe appears exactly as\\n#> if there were no Benefactor/Bug (two statements, both would be false).\\n#\\n#This is still contradictory. It reduces to\\n#\\n#  (1): Alterian dosh arriving in my account is due to [benefactor or bug].\\n#\\n#  (2): this is not evidence for [benefactor], neither is it evidence for\\n#       [bug] (meaning that it doesn\\'t lend more weight to one than to the\\n#       other)\\n#\\n#  (3): therefore no evidence can exist for [benefactor] and no evidence\\n#       can exist for [bug].\\n#\\n#But (3) relies on a shift in meaning from (2). When you say (paraphrased)\\n#in (2) that this is not \"evidence for [benefactor]\", for example, what you\\n#mean is that it\\'s no *more* evidence for [benefactor] than it is for [bug].'])]"
            ]
          },
          "metadata": {},
          "execution_count": 34
        }
      ]
    },
    {
      "cell_type": "code",
      "source": [
        "new_rdd2=rdd2.map(extraction_informations_entete2)"
      ],
      "metadata": {
        "id": "cf4484UdAjBv"
      },
      "execution_count": 33,
      "outputs": []
    },
    {
      "cell_type": "code",
      "source": [
        "new_rdd2.take(8)"
      ],
      "metadata": {
        "colab": {
          "base_uri": "https://localhost:8080/"
        },
        "id": "tkW5ltJxAska",
        "outputId": "d295894a-8413-49c2-e6ff-35374b5ca886"
      },
      "execution_count": 35,
      "outputs": [
        {
          "output_type": "execute_result",
          "data": {
            "text/plain": [
              "[('file:/content/20_newsgroups/rec.sport.baseball/104336',\n",
              "  [{'Newsgroups': ' rec.sport.baseball',\n",
              "    'Path': ' cantaloupe.srv.cs.cmu.edu!das-news.harvard.edu!noc.near.net!howland.reston.ans.net!usenet.ins.cwru.edu!gatech!purdue!mentor.cc.purdue.edu!mace.cc.purdue.edu!poutsmaj',\n",
              "    'From': ' poutsmaj@mace.cc.purdue.edu (unknown)',\n",
              "    'Subject': ' Re: Aguilera Causes Cardiac Arrest',\n",
              "    'Message-ID': ' <C5J68F.FC@mentor.cc.purdue.edu>',\n",
              "    'Sender': ' news@mentor.cc.purdue.edu (USENET News)',\n",
              "    'Organization': ' Purdue University',\n",
              "    'References': ' <1993Apr13.172643.15442@sctc.com> <1993Apr14.123722.24506@bmw.mayo.edu> <1qi97dINNemh@phakt.usc.edu>',\n",
              "    'Date': ' Thu, 15 Apr 1993 15:12:14 GMT',\n",
              "    'Lines': ' 21'},\n",
              "   \"In article <1qi97dINNemh@phakt.usc.edu> wagner@phakt.usc.edu (Loren Wagner) writes:\\n>In article <1993Apr14.123722.24506@bmw.mayo.edu> bergerson@mayo.edu writes:\\n>>\\n>>Maybe you would rather have Ron Davis back ????   :^)\\n>>\\n>\\n>The truly amazing thing was how many years this bum was the closer for the\\n>Twins.  You'd have thought they could find *somebody* better.\\n>\\n>Don Daybell\\n>wagner@usc.edu\"]),\n",
              " ('file:/content/20_newsgroups/rec.sport.baseball/104842',\n",
              "  [{'Path': ' cantaloupe.srv.cs.cmu.edu!das-news.harvard.edu!noc.near.net!howland.reston.ans.net!zaphod.mps.ohio-state.edu!hobbes.physics.uiowa.edu!news.iastate.edu!iscsvax.uni.edu!reed5575',\n",
              "    'From': ' reed5575@iscsvax.uni.edu',\n",
              "    'Newsgroups': ' rec.sport.baseball',\n",
              "    'Subject': ' Re: BEST FIRST BASEMEN...',\n",
              "    'Message-ID': ' <1993Apr20.233429.12558@iscsvax.uni.edu>',\n",
              "    'Date': ' 20 Apr 93 23:34:29 -0600',\n",
              "    'References': ' <1993Apr20.102857.1@tesla.njit.edu>',\n",
              "    'Organization': ' University of Northern Iowa',\n",
              "    'Lines': ' 12'},\n",
              "   'In article <1993Apr20.102857.1@tesla.njit.edu>, drm6640@tesla.njit.edu writes:\\n> DON MATTINGLY IS THE BEST FIRST BASEMAN IN THE HISTORY OF BASEBALL.....ALWAYS\\n> HAS BEEN.....ALWAYS WILL BE!!!!!!!!!!!!!!!!!!!!!!!!!!!!!!!!!\\nNOT!!!!!!!!!!!!!!!!!!!!!!!!!!!!!!!!!!!!!!!!!!!!!!!!!!!!!!!!!!!!!!!!!\\nWHAT KIND OF HAPPY GRASS YOU ARE SMOKING? MAYBE YOU SHOULD SHARE SOME WITH ME.\\nFIRST OF ALL, LOU GEHRIG IS THE GREATEST FIRST BASEMAN EVER. JIMMIE FOXX IS\\nCLEARLY THE NEXT BEST FIRST BASEMAN EVER. HE COULD BE THE GREATEST FIRST\\nBASEMAN OF THE YANKEES IN THE MODERN ERA. TO PUT HIM IN THIS \"BEST IN THE\\nHISTORY OF BASEBALL\" IS QUITE HUMOROUS, VERY SILLY, AND TOTALLY OFF THE LINE.']),\n",
              " ('file:/content/20_newsgroups/rec.sport.baseball/104988',\n",
              "  [{'Newsgroups': ' rec.sport.baseball',\n",
              "    'Path': ' cantaloupe.srv.cs.cmu.edu!rochester!cornell!tedward',\n",
              "    'From': ' tedward@cs.cornell.edu (Edward [Ted] Fischer)',\n",
              "    'Subject': ' Re: Bases loaded walk gives Reds win in 12',\n",
              "    'Message-ID': ' <1993Apr23.194053.9087@cs.cornell.edu>',\n",
              "    'Organization': ' Cornell Univ. CS Dept, Ithaca NY 14853',\n",
              "    'References': ' <mssC5xB3I.2CG@netcom.com> <C5xwAI.3nu@news.cso.uiuc.edu> <mssC5y5u0.4Dn@netcom.com>',\n",
              "    'Date': ' Fri, 23 Apr 1993 19:40:53 GMT',\n",
              "    'Lines': ' 87'},\n",
              "   'In article <mssC5y5u0.4Dn@netcom.com> mss@netcom.com (Mark Singer) writes:\\n>\\n>Actually, I think the large-scale sample size is part of the problem.\\n>It seems to me that if we were to plot all the players in baseball\\n>in regard to BA vs. Clutch BA deviation we would get some kind of\\n>bell curve.  (The X-axis being the +/- deviation in clutch hitting\\n>vs. non-clutch;  the Y-axis being the number of players.)  Certainly\\n>there would be *some* players on the extreme ends of the bell.']),\n",
              " ('file:/content/20_newsgroups/rec.sport.baseball/104395',\n",
              "  [{'Path': ' cantaloupe.srv.cs.cmu.edu!das-news.harvard.edu!noc.near.net!uunet!zaphod.mps.ohio-state.edu!magnus.acs.ohio-state.edu!usenet.ins.cwru.edu!agate!jtchern',\n",
              "    'From': ' jtchern@ocf.berkeley.edu (Joseph Hernandez)',\n",
              "    'Newsgroups': ' rec.sport.baseball',\n",
              "    'Subject': \" Re: WHAT'S WITH ALL THESE SCORES?\",\n",
              "    'Date': ' 17 Apr 1993 19:24:23 GMT',\n",
              "    'Organization': ' JTC Enterprises Sports Division (Major League Baseball Dept.)',\n",
              "    'Lines': ' 38',\n",
              "    'Message-ID': ' <1qplh7$e2g@agate.berkeley.edu>',\n",
              "    'References': ' <1993Apr17.050311.10098@news.yale.edu> <1qp1m9INNfjg@senator-bedfellow.MIT.EDU>',\n",
              "    'NNTP-Posting-Host': ' monsoon.berkeley.edu'},\n",
              "   'In article <1qp1m9INNfjg@senator-bedfellow.MIT.EDU> cmk@athena.mit.edu (Charles M Kozierok) writes:\\n>In article <1993Apr17.050311.10098@news.yale.edu> (Sean Garrison) writes:\\n>} [Stuff about upated inning scores deleted.]\\n>at just that exact time to see the message. even results after the game\\n>is over are not necessary, thanks to Mr. Hernandez who posts daily\\n>standings and results here every day.']),\n",
              " ('file:/content/20_newsgroups/rec.sport.baseball/105047',\n",
              "  [{'Newsgroups': ' rec.sport.baseball',\n",
              "    'Path': ' cantaloupe.srv.cs.cmu.edu!crabapple.srv.cs.cmu.edu!fs7.ece.cmu.edu!europa.eng.gtefsd.com!howland.reston.ans.net!bogus.sura.net!udel!news.intercon.com!psinntp!asd.com!scott',\n",
              "    'From': ' scott@asd.com (Scott Barman)',\n",
              "    'Subject': ' Re: Darrrrrrrrryl',\n",
              "    'Message-ID': ' <1993Apr20.181912.7806@asd.com>',\n",
              "    'Organization': ' American Software Development Corp., West Babylon, NY',\n",
              "    'References': ' <1993Apr15.214421.1@acad.drake.edu> <1993Apr16.052137.21443@alleg.edu> <mssC5KCru.5Ip@netcom.com>',\n",
              "    'Date': ' Tue, 20 Apr 1993 18:19:12 GMT',\n",
              "    'Lines': ' 37'},\n",
              "   \"In article <mssC5KCru.5Ip@netcom.com> mss@netcom.com (Mark Singer) writes:\\n>That exuberance disappeared immediately, however, when Strawberry\\n>went into a tirade at the man.  All reports indicate he used a lot\\n>of profanity and accused the man of interference, and therefore of\\n>costing the Dodgers a game.  Shortly afterwards other fans hurled\\n>food and beverages toward the man who made the catch.  Dodger Stadium\\n>officials started to remove him from the park, but then relented and\\n>just relocated him to another area.  In an interview after the game,\\n>Lasorda blamed the fan for the loss.  Strawberry also went into a\\n>tirade about how the fans are stupid and they don't care about \\n>winning.  L.A. Times columnists similarly blasted the man who made\\n>the catch.\"]),\n",
              " ('file:/content/20_newsgroups/rec.sport.baseball/104642',\n",
              "  [{'Path': ' cantaloupe.srv.cs.cmu.edu!rochester!udel!bogus.sura.net!howland.reston.ans.net!usenet.ins.cwru.edu!lerc.nasa.gov!ariel.lerc.nasa.gov!ecaxron',\n",
              "    'From': ' ecaxron@ariel.lerc.nasa.gov (Ron Graham)',\n",
              "    'Newsgroups': ' rec.sport.baseball',\n",
              "    'Subject': ' I am right!  No, *I* am right!  (was Re: BOB KNEPPER WAS DAMN RIGHT!)',\n",
              "    'Date': ' 20 Apr 1993 11:50 EST',\n",
              "    'Organization': ' NASA Lewis Research Center',\n",
              "    'Lines': ' 81',\n",
              "    'Distribution': ' world',\n",
              "    'Message-ID': ' <20APR199311503211@ariel.lerc.nasa.gov>',\n",
              "    'References': ' <1993Apr19.035406.11473@news.yale.edu> <1993Apr19.060208.17373@leland.Stanford.EDU> <13510@news.duke.edu> <13581@news.duke.edu>',\n",
              "    'NNTP-Posting-Host': ' ariel.lerc.nasa.gov',\n",
              "    'News-Software': ' VAX/VMS VNEWS 1.41    '},\n",
              "   'In article <13581@news.duke.edu>, fierkelab@bchm.biochem.duke.edu \\n     (Eric Roush) writes...']),\n",
              " ('file:/content/20_newsgroups/rec.sport.baseball/104626',\n",
              "  [{'Newsgroups': ' rec.sport.baseball',\n",
              "    'Path': ' cantaloupe.srv.cs.cmu.edu!magnesium.club.cc.cmu.edu!news.sei.cmu.edu!cis.ohio-state.edu!pacific.mps.ohio-state.edu!zaphod.mps.ohio-state.edu!darwin.sura.net!cc.gatech.edu!terminus!hoyt',\n",
              "    'From': ' hoyt@terminus.gatech.edu (Kurt Hoyt)',\n",
              "    'Subject': ' Re: Hunter on DL, Klesko up.',\n",
              "    'Message-ID': ' <hoyt.735315988@cc.gatech.edu>',\n",
              "    'Sender': ' news@cc.gatech.edu',\n",
              "    'Organization': ' Georgia Tech College of Computing',\n",
              "    'References': ' <13557@news.duke.edu> <steph.735261953@pegasus.cs.uiuc.edu>',\n",
              "    'Date': ' Tue, 20 Apr 1993 14:26:28 GMT',\n",
              "    'Lines': ' 20'},\n",
              "   \"steph@pegasus.cs.uiuc.edu (Dale Stephenson) writes:\\n>In <13557@news.duke.edu> fierkelab@bchm.biochem.duke.edu (Eric Roush) writes:\\n>>As a touter of Braves prospects, all I can say is that, IMO,\\n>>someone on the Braves roster is about to become Pipped.\\n>>It may not even be Hunter.  But I think they'll have a\\n>>problem getting Klesko out of the lineup once he's in.\"]),\n",
              " ('file:/content/20_newsgroups/rec.sport.baseball/104591',\n",
              "  [{'Newsgroups': ' rec.sport.baseball',\n",
              "    'Path': ' cantaloupe.srv.cs.cmu.edu!das-news.harvard.edu!noc.near.net!howland.reston.ans.net!ux1.cso.uiuc.edu!news.cso.uiuc.edu!ux4.cso.uiuc.edu!rkoffler',\n",
              "    'From': ' rkoffler@ux4.cso.uiuc.edu (Bighelmet)',\n",
              "    'Subject': ' Re: Best Sportwriters...',\n",
              "    'Date': ' Fri, 16 Apr 1993 04:40:32 GMT',\n",
              "    'Message-ID': ' <C5K7nK.7tv@news.cso.uiuc.edu>',\n",
              "    'References': ' <1993Apr16.041519.17419@cabell.vcu.edu>',\n",
              "    'Sender': ' usenet@news.cso.uiuc.edu (Net Noise owner)',\n",
              "    'Keywords': ' Sportswriters',\n",
              "    'Organization': ' University of Illinois at Urbana',\n",
              "    'Lines': ' 21'},\n",
              "   'csc2imd@cabell.vcu.edu (Ian M. Derby) writes:'])]"
            ]
          },
          "metadata": {},
          "execution_count": 35
        }
      ]
    },
    {
      "cell_type": "code",
      "source": [
        "# Fusionner les deux RDD (union)\n",
        "fusion=new_rdd1.union(new_rdd2)\n"
      ],
      "metadata": {
        "id": "aRn8a57Du1py"
      },
      "execution_count": 91,
      "outputs": []
    },
    {
      "cell_type": "code",
      "source": [
        "doc1=fusion.take(4)\n",
        "doc1\n"
      ],
      "metadata": {
        "id": "81NjmV3R8kxQ",
        "colab": {
          "base_uri": "https://localhost:8080/"
        },
        "outputId": "5c343bdd-164d-456b-e50b-180e1e012790"
      },
      "execution_count": 93,
      "outputs": [
        {
          "output_type": "execute_result",
          "data": {
            "text/plain": [
              "[('file:/content/20_newsgroups/alt.atheism/53079',\n",
              "  [{'Xref': ' cantaloupe.srv.cs.cmu.edu talk.abortion:120533 alt.atheism:53079 talk.religion.misc:83551',\n",
              "    'Path': ' cantaloupe.srv.cs.cmu.edu!das-news.harvard.edu!noc.near.net!uunet!mcsun!Germany.EU.net!thoth.mchp.sni.de!horus.ap.mchp.sni.de!D012S658!frank',\n",
              "    'From': \" frank@D012S658.uucp (Frank O'Dwyer)\",\n",
              "    'Newsgroups': ' talk.abortion,alt.atheism,talk.religion.misc',\n",
              "    'Subject': ' Re: After 2000 years, can we say that Christian Morality is',\n",
              "    'Date': ' 15 Apr 1993 21:12:01 GMT',\n",
              "    'Organization': ' Siemens-Nixdorf AG',\n",
              "    'Lines': ' 50',\n",
              "    'Message-ID': ' <1qkj31$4c6@horus.ap.mchp.sni.de>',\n",
              "    'References': ' <pww-140493214334@spac-at1-59.rice.edu> <1qjahh$mrs@horus.ap.mchp.sni.de> <lsr6ihINNsa@exodus.Eng.Sun.COM>',\n",
              "    'NNTP-Posting-Host': ' d012s658.ap.mchp.sni.de'},\n",
              "   'In article <lsr6ihINNsa@exodus.Eng.Sun.COM> emarsh@hernes-sun.Eng.Sun.COM (Eric Marsh) writes:\\n#In article <1qjahh$mrs@horus.ap.mchp.sni.de> frank@D012S658.uucp (Frank O\\'Dwyer) writes:\\n#>Science (\"the real world\") has its basis in values, not the other way round, \\n#>as you would wish it.  If there is no such thing as objective value, then \\n#>science can not objectively be said to be more useful than a kick in the head.\\n#>Simple theories with accurate predictions could not objectively be said\\n#>to be more useful than a set of tarot cards.  You like those conclusions?\\n#>I don\\'t.\\n#\\n#I think that you are changing the meaning of \"values\" here. Perhaps\\n#it is time to backtrack and take a look at the word.\\n#\\n#value n. 1. A fair equivalent or return for something, such as goods\\n#or service. 2. Monetary or material worth. 3. Worth as measured in \\n#usefulness or importance; merit. 4. A principle, standard, or quality\\n#considered inherently worthwhile or desirable. 5. Precise meaning, as\\n#of a word. 6. An assigned or calculated numerical quantity. 7. Mus. \\n#The relative duratation of a tone or rest. 8. The relative darkness or\\n#lightness of a color. 9. The distinctive quality of a speech or speech\\n#sound. \\n#\\n#In context of a moral system, definition four seems to fit best. In terms\\n#of scientific usage, definitions six or eight might apply. Note that\\n#these definitions do not mean the same thing.']),\n",
              " ('file:/content/20_newsgroups/alt.atheism/51141',\n",
              "  [{'Path': ' cantaloupe.srv.cs.cmu.edu!das-news.harvard.edu!husc-news.harvard.edu!hsdndev!yale!yale.edu!newsserver.jvnc.net!louie!udel!wupost!uunet!pipex!bnr.co.uk!bnrgate!bmerh85!bmers30!dgraham',\n",
              "    'Newsgroups': ' alt.atheism',\n",
              "    'Subject': ' Re: Speculations',\n",
              "    'Message-ID': ' <1993Apr5.211924.18459@bmerh85.bnr.ca>',\n",
              "    'From': ' dgraham@bmers30.bnr.ca (Douglas Graham)',\n",
              "    'Date': ' 5 Apr 93 21:19:24 GMT',\n",
              "    'Sender': ' news@bmerh85.bnr.ca (Usenet News)',\n",
              "    'References': ' <1993Apr1.190230.18485@proxima.alt.za> <UfjElCG00Vp3E7i6Vo@andrew.cmu.edu> <930405.172903.4w6.rusnews.w165w@mantis.co.uk>',\n",
              "    'Organization': ' Bell-Northern Research, Ottawa, Canada',\n",
              "    'Lines': ' 17'},\n",
              "   \"In article <930405.172903.4w6.rusnews.w165w@mantis.co.uk> mathew <mathew@mantis.co.uk> writes:\\n>Nanci Ann Miller <nm0w+@andrew.cmu.edu> writes:\\n>> If this god is truly omnipotent as you folks like to claim, then why can't\\n>> he terminate eternity?\\n>\\n>For the same reason he can't flibble glop ork groink.\\n>\\n>The thing you are demanding that he must be able to do, has no meaning in its\\n>own terms.\"]),\n",
              " ('file:/content/20_newsgroups/alt.atheism/53282',\n",
              "  [{'Path': ' cantaloupe.srv.cs.cmu.edu!crabapple.srv.cs.cmu.edu!bb3.andrew.cmu.edu!news.sei.cmu.edu!cis.ohio-state.edu!zaphod.mps.ohio-state.edu!darwin.sura.net!haven.umd.edu!uunet!uchdcc!enkidu!agrino',\n",
              "    'From': ' agrino@enkidu.mic.cl (Andres Grino Brandt)',\n",
              "    'Newsgroups': ' alt.atheism',\n",
              "    'Subject': ' Studies on Book of Mormon',\n",
              "    'Distribution': ' world',\n",
              "    'Message-ID': ' <735023059snx@enkidu.mic.cl>',\n",
              "    'Organization': ' Orden del Lobo Estepario',\n",
              "    'Reply-To': ' agrino@enkidu.mic.cl',\n",
              "    'Lines': ' 20',\n",
              "    'Date': ' Sun, 18 Apr 1993 14:15:33 CST'},\n",
              "   'Hi!']),\n",
              " ('file:/content/20_newsgroups/alt.atheism/53631',\n",
              "  [{'Newsgroups': ' alt.atheism',\n",
              "    'Path': ' cantaloupe.srv.cs.cmu.edu!crabapple.srv.cs.cmu.edu!bb3.andrew.cmu.edu!news.sei.cmu.edu!fs7.ece.cmu.edu!europa.eng.gtefsd.com!howland.reston.ans.net!zaphod.mps.ohio-state.edu!cs.utexas.edu!uunet!pipex!uknet!warwick!nott-cs!mips.nott.ac.uk!eczcaw',\n",
              "    'From': ' eczcaw@mips.nott.ac.uk (A.Wainwright)',\n",
              "    'Subject': ' Re: Death Penalty (was Re: Political Atheists?)',\n",
              "    'Message-ID': ' <1993Apr21.114947.6464@cs.nott.ac.uk>',\n",
              "    'Sender': ' news@cs.nott.ac.uk',\n",
              "    'Reply-To': ' eczcaw@mips.nott.ac.uk (A.Wainwright)',\n",
              "    'Organization': ' Nottingham University',\n",
              "    'References': ' <kmr4.1619.735098097@po.CWRU.edu> <C5rLyz.4Mt@darkside.osrhe.uoknor.edu>',\n",
              "    'Date': ' Wed, 21 Apr 93 11:49:47 GMT',\n",
              "    'Lines': ' 60'},\n",
              "   'In article <C5rLyz.4Mt@darkside.osrhe.uoknor.edu>, bil@okcforum.osrhe.edu (Bill Conner) writes:\\n|> This is fascinating. Atheists argue for abortion,'])]"
            ]
          },
          "metadata": {},
          "execution_count": 93
        }
      ]
    },
    {
      "cell_type": "code",
      "source": [
        "fusion.take(30)"
      ],
      "metadata": {
        "colab": {
          "base_uri": "https://localhost:8080/"
        },
        "id": "63328mfiBO3l",
        "outputId": "4937c7e9-c50c-442b-de49-6c079035d31b"
      },
      "execution_count": 54,
      "outputs": [
        {
          "output_type": "execute_result",
          "data": {
            "text/plain": [
              "[('file:/content/20_newsgroups/alt.atheism/53079',\n",
              "  [{'Xref': ' cantaloupe.srv.cs.cmu.edu talk.abortion:120533 alt.atheism:53079 talk.religion.misc:83551',\n",
              "    'Path': ' cantaloupe.srv.cs.cmu.edu!das-news.harvard.edu!noc.near.net!uunet!mcsun!Germany.EU.net!thoth.mchp.sni.de!horus.ap.mchp.sni.de!D012S658!frank',\n",
              "    'From': \" frank@D012S658.uucp (Frank O'Dwyer)\",\n",
              "    'Newsgroups': ' talk.abortion,alt.atheism,talk.religion.misc',\n",
              "    'Subject': ' Re: After 2000 years, can we say that Christian Morality is',\n",
              "    'Date': ' 15 Apr 1993 21:12:01 GMT',\n",
              "    'Organization': ' Siemens-Nixdorf AG',\n",
              "    'Lines': ' 50',\n",
              "    'Message-ID': ' <1qkj31$4c6@horus.ap.mchp.sni.de>',\n",
              "    'References': ' <pww-140493214334@spac-at1-59.rice.edu> <1qjahh$mrs@horus.ap.mchp.sni.de> <lsr6ihINNsa@exodus.Eng.Sun.COM>',\n",
              "    'NNTP-Posting-Host': ' d012s658.ap.mchp.sni.de'},\n",
              "   'In article <lsr6ihINNsa@exodus.Eng.Sun.COM> emarsh@hernes-sun.Eng.Sun.COM (Eric Marsh) writes:\\n#In article <1qjahh$mrs@horus.ap.mchp.sni.de> frank@D012S658.uucp (Frank O\\'Dwyer) writes:\\n#>Science (\"the real world\") has its basis in values, not the other way round, \\n#>as you would wish it.  If there is no such thing as objective value, then \\n#>science can not objectively be said to be more useful than a kick in the head.\\n#>Simple theories with accurate predictions could not objectively be said\\n#>to be more useful than a set of tarot cards.  You like those conclusions?\\n#>I don\\'t.\\n#\\n#I think that you are changing the meaning of \"values\" here. Perhaps\\n#it is time to backtrack and take a look at the word.\\n#\\n#value n. 1. A fair equivalent or return for something, such as goods\\n#or service. 2. Monetary or material worth. 3. Worth as measured in \\n#usefulness or importance; merit. 4. A principle, standard, or quality\\n#considered inherently worthwhile or desirable. 5. Precise meaning, as\\n#of a word. 6. An assigned or calculated numerical quantity. 7. Mus. \\n#The relative duratation of a tone or rest. 8. The relative darkness or\\n#lightness of a color. 9. The distinctive quality of a speech or speech\\n#sound. \\n#\\n#In context of a moral system, definition four seems to fit best. In terms\\n#of scientific usage, definitions six or eight might apply. Note that\\n#these definitions do not mean the same thing.']),\n",
              " ('file:/content/20_newsgroups/alt.atheism/51141',\n",
              "  [{'Path': ' cantaloupe.srv.cs.cmu.edu!das-news.harvard.edu!husc-news.harvard.edu!hsdndev!yale!yale.edu!newsserver.jvnc.net!louie!udel!wupost!uunet!pipex!bnr.co.uk!bnrgate!bmerh85!bmers30!dgraham',\n",
              "    'Newsgroups': ' alt.atheism',\n",
              "    'Subject': ' Re: Speculations',\n",
              "    'Message-ID': ' <1993Apr5.211924.18459@bmerh85.bnr.ca>',\n",
              "    'From': ' dgraham@bmers30.bnr.ca (Douglas Graham)',\n",
              "    'Date': ' 5 Apr 93 21:19:24 GMT',\n",
              "    'Sender': ' news@bmerh85.bnr.ca (Usenet News)',\n",
              "    'References': ' <1993Apr1.190230.18485@proxima.alt.za> <UfjElCG00Vp3E7i6Vo@andrew.cmu.edu> <930405.172903.4w6.rusnews.w165w@mantis.co.uk>',\n",
              "    'Organization': ' Bell-Northern Research, Ottawa, Canada',\n",
              "    'Lines': ' 17'},\n",
              "   \"In article <930405.172903.4w6.rusnews.w165w@mantis.co.uk> mathew <mathew@mantis.co.uk> writes:\\n>Nanci Ann Miller <nm0w+@andrew.cmu.edu> writes:\\n>> If this god is truly omnipotent as you folks like to claim, then why can't\\n>> he terminate eternity?\\n>\\n>For the same reason he can't flibble glop ork groink.\\n>\\n>The thing you are demanding that he must be able to do, has no meaning in its\\n>own terms.\"]),\n",
              " ('file:/content/20_newsgroups/alt.atheism/53282',\n",
              "  [{'Path': ' cantaloupe.srv.cs.cmu.edu!crabapple.srv.cs.cmu.edu!bb3.andrew.cmu.edu!news.sei.cmu.edu!cis.ohio-state.edu!zaphod.mps.ohio-state.edu!darwin.sura.net!haven.umd.edu!uunet!uchdcc!enkidu!agrino',\n",
              "    'From': ' agrino@enkidu.mic.cl (Andres Grino Brandt)',\n",
              "    'Newsgroups': ' alt.atheism',\n",
              "    'Subject': ' Studies on Book of Mormon',\n",
              "    'Distribution': ' world',\n",
              "    'Message-ID': ' <735023059snx@enkidu.mic.cl>',\n",
              "    'Organization': ' Orden del Lobo Estepario',\n",
              "    'Reply-To': ' agrino@enkidu.mic.cl',\n",
              "    'Lines': ' 20',\n",
              "    'Date': ' Sun, 18 Apr 1993 14:15:33 CST'},\n",
              "   'Hi!']),\n",
              " ('file:/content/20_newsgroups/alt.atheism/53631',\n",
              "  [{'Newsgroups': ' alt.atheism',\n",
              "    'Path': ' cantaloupe.srv.cs.cmu.edu!crabapple.srv.cs.cmu.edu!bb3.andrew.cmu.edu!news.sei.cmu.edu!fs7.ece.cmu.edu!europa.eng.gtefsd.com!howland.reston.ans.net!zaphod.mps.ohio-state.edu!cs.utexas.edu!uunet!pipex!uknet!warwick!nott-cs!mips.nott.ac.uk!eczcaw',\n",
              "    'From': ' eczcaw@mips.nott.ac.uk (A.Wainwright)',\n",
              "    'Subject': ' Re: Death Penalty (was Re: Political Atheists?)',\n",
              "    'Message-ID': ' <1993Apr21.114947.6464@cs.nott.ac.uk>',\n",
              "    'Sender': ' news@cs.nott.ac.uk',\n",
              "    'Reply-To': ' eczcaw@mips.nott.ac.uk (A.Wainwright)',\n",
              "    'Organization': ' Nottingham University',\n",
              "    'References': ' <kmr4.1619.735098097@po.CWRU.edu> <C5rLyz.4Mt@darkside.osrhe.uoknor.edu>',\n",
              "    'Date': ' Wed, 21 Apr 93 11:49:47 GMT',\n",
              "    'Lines': ' 60'},\n",
              "   'In article <C5rLyz.4Mt@darkside.osrhe.uoknor.edu>, bil@okcforum.osrhe.edu (Bill Conner) writes:\\n|> This is fascinating. Atheists argue for abortion,']),\n",
              " ('file:/content/20_newsgroups/alt.atheism/53163',\n",
              "  [{'Path': ' cantaloupe.srv.cs.cmu.edu!das-news.harvard.edu!noc.near.net!uunet!olivea!bu.edu!buphy.bu.edu!jaeger',\n",
              "    'From': ' jaeger@buphy.bu.edu (Gregg Jaeger)',\n",
              "    'Newsgroups': ' alt.atheism',\n",
              "    'Subject': ' Re: The Inimitable Rushdie',\n",
              "    'Message-ID': ' <115560@bu.edu>',\n",
              "    'Date': ' 16 Apr 93 01:31:01 GMT',\n",
              "    'References': ' <1qctef$r05@fido.asd.sgi.com> <115256@bu.edu> <C5HKv2.Epv@blaze.cs.jhu.edu>',\n",
              "    'Sender': ' news@bu.edu',\n",
              "    'Organization': ' Boston University Physics Department',\n",
              "    'Lines': ' 41'},\n",
              "   'In article <C5HKv2.Epv@blaze.cs.jhu.edu> arromdee@jyusenkyou.cs.jhu.edu (Ken Arromdee) writes:']),\n",
              " ('file:/content/20_newsgroups/alt.atheism/54232',\n",
              "  [{'Xref': ' cantaloupe.srv.cs.cmu.edu talk.abortion:121621 alt.atheism:54232 talk.religion.misc:84403',\n",
              "    'Newsgroups': ' talk.abortion,alt.atheism,talk.religion.misc',\n",
              "    'Path': ' cantaloupe.srv.cs.cmu.edu!crabapple.srv.cs.cmu.edu!bb3.andrew.cmu.edu!news.sei.cmu.edu!fs7.ece.cmu.edu!europa.eng.gtefsd.com!howland.reston.ans.net!usc!cs.utexas.edu!utnut!torn!nott!bnrgate!bnr.co.uk!uknet!pipex!harlqn.co.uk!harlqn!richard',\n",
              "    'From': ' richard@harlqn.co.uk (Richard Brooksby)',\n",
              "    'Subject': ' Re: After 2000 years, can we say that Christian Morality is',\n",
              "    'Message-ID': ' <1993Apr22.154804.10555@harlqn.co.uk>',\n",
              "    'Organization': ' Harlequin Ltd. Cambridge, England',\n",
              "    'References': ' <1qtsmc$39j@horus.ap.mchp.sni.de> <930420.100544.6n0.rusnews.w165w@mantis.co.uk> <1r1ko8$6b1@horus.ap.mchp.sni.de>',\n",
              "    'Date': ' Thu, 22 Apr 1993 15:48:04 GMT',\n",
              "    'Lines': ' 36'},\n",
              "   \"frank@D012S658.uucp (Frank O'Dwyer) writes:\\n> In article <930420.100544.6n0.rusnews.w165w@mantis.co.uk> mathew\\n> <mathew@mantis.co.uk> writes:\\n> #This is complete nonsense.  Relativism means saying that there is no absolut\\n> #standard of morality; it does NOT mean saying that all standards of morality\\n> #are equally good.\\n> \\n> Presumably this means that some moral systems are better than\\n> others?\"]),\n",
              " ('file:/content/20_newsgroups/alt.atheism/53149',\n",
              "  [{'Newsgroups': ' alt.atheism',\n",
              "    'Path': ' cantaloupe.srv.cs.cmu.edu!das-news.harvard.edu!noc.near.net!howland.reston.ans.net!ux1.cso.uiuc.edu!news.cso.uiuc.edu!alexia!cobb',\n",
              "    'From': ' cobb@alexia.lis.uiuc.edu (Mike Cobb)',\n",
              "    'Subject': ' Re: After 2000 years, can we say that Christian Morality is',\n",
              "    'Date': ' Fri, 16 Apr 1993 00:58:06 GMT',\n",
              "    'Message-ID': ' <C5JxCu.2Hv@news.cso.uiuc.edu>',\n",
              "    'References': ' <C5Fuo2.FF8@news.cso.uiuc.edu> <1qg8bu$kl5@fido.asd.sgi.com> ',\n",
              "    'Sender': ' usenet@news.cso.uiuc.edu (Net Noise owner)',\n",
              "    'Organization': ' University of Illinois at Urbana',\n",
              "    'Lines': ' 23'},\n",
              "   'In <sfnNTrC00WBO43LRUK@andrew.cmu.edu> \"David R. Sacco\" <dsav+@andrew.cmu.edu> \\nwrites:']),\n",
              " ('file:/content/20_newsgroups/alt.atheism/53795',\n",
              "  [{'Path': ' cantaloupe.srv.cs.cmu.edu!magnesium.club.cc.cmu.edu!news.sei.cmu.edu!cis.ohio-state.edu!zaphod.mps.ohio-state.edu!cs.utexas.edu!uunet!mcsun!Germany.EU.net!thoth.mchp.sni.de!horus.ap.mchp.sni.de!D012S658!frank',\n",
              "    'From': \" frank@D012S658.uucp (Frank O'Dwyer)\",\n",
              "    'Newsgroups': ' alt.atheism',\n",
              "    'Subject': ' Re: Bayesian Statistics, theism and atheism',\n",
              "    'Date': ' 25 Apr 1993 00:20:05 GMT',\n",
              "    'Organization': ' Siemens-Nixdorf AG',\n",
              "    'Lines': ' 192',\n",
              "    'Message-ID': ' <1rclfl$nnv@horus.ap.mchp.sni.de>',\n",
              "    'References': ' <1993Apr15.181924.21026@dcs.warwick.ac.uk> <1quei1$8mb@horus.ap.mchp.sni.de> <1993Apr24.165301.8321@dcs.warwick.ac.uk>',\n",
              "    'NNTP-Posting-Host': ' d012s658.ap.mchp.sni.de'},\n",
              "   'In article <1993Apr24.165301.8321@dcs.warwick.ac.uk> simon@dcs.warwick.ac.uk (Simon Clippingdale) writes:\\n#In article <1quei1$8mb@horus.ap.mchp.sni.de> frank@D012S658.uucp (Frank O\\'Dwyer) writes:\\n#>In article <1993Apr15.181924.21026@dcs.warwick.ac.uk> simon@dcs.warwick.ac.uk (Simon Clippingdale) writes:\\n[I write:]\\n#>>> Imagine that 1000000 Alterian dollars turn up in your bank account every\\n#>>> month. Suppose further that this money is being paid to you by (a) your \\n#>>> big-hearted Alterian benefactor, or (b) a bug in an Alterian ATM.  Let\\'s\\n#>>> suppose that this is a true dichotomy, so P(a)+P(b)=1. Trouble is, Alterius \\n#>>> is in a different universe, so that no observations of Alterius are possible\\n#>>> (except for the banks - you couldn\\'t possibly afford it ;-)\\n#>>> \\n#>>> Now let\\'s examine the case for (a).  There is no evidence whatsoever that\\n#>>> there is any such thing as a big-hearted Alterian benefactor. However,\\n#>>> P(exists(b-h A b)) + P(not(exists(b-h A b)) = 1. On the grounds that \\n#>>> lack_of_evidence_for is evidence_against when we have a partition like\\n#>>> that, we dismiss hypothesis (a).\\n#>>>\\n#>>> Turning, therefore, to (b), we also find no evidence to support that\\n#>>> hypothesis.  On the same grounds as before, we dismiss hypothesis (b).\\n#>>>\\n#>>> The problem with this is that we have dismissed *all* of the possible\\n#>>> hypotheses, and even though we know by construction that the money \\n#>>> arrives every month, we have proven that it can\\'t, because we\\n#>>> have dismissed all of its potential causes.\\n#\\n#>> That\\'s an *extremely* poor argument, and here\\'s why.\\n#>>\\n#>> Premise 1: \"...this money is being paid to you by [either] (a) your big-\\n#>>             hearted Alterian benefactor, or (b) a bug in an Alterian ATM\".\\n#>> \\n#>> Thus each monthly appearance of the bucks, should it happen, is an\\n#>> observation on Alterius, and by construction, is evidence for the\\n#>> existence of [either the benefactor or the bug in the ATM].\\n#>> \\n#>> Premise 2: no observations on Alterius are possible.\\n#\\n#>     #> (except for the banks - you couldn\\'t possibly afford it ;-)\\n#>\\n#> You forgot to include this.  My premise is actually:\\n#>\\n#> Premise 2:  The cardinality of the set of possible observations on Alterius\\n#>             is one.\\n#\\n#>> This is clearly contradictory to the first.\\n#\\n#> Not if you state it properly.\\n#\\n#>> Trouble is, on the basis of premise 2, you say that there can be no evidence\\n#>> of [either the benefactor or the bug], but the first premise leads to the\\n#>> conclusion that the appearance of the bucks, should it happen, is evidence\\n#>> for the existence of [either the benefactor or the bug].\\n#>> \\n#>> Voila, a screaming contradiction.\\n#\\n#[with my highlights - SC]\\n#> But in a strawman argument. There is only evidence for OneOf(Benefactor,Bug).\\n#> No observation to distinguish Benefactor from Bug is possible. That is\\n#> ~~~~~~~~~~~~~~~~~~~~~~~~~~~~~~~~~~~~~~~~~~~~~~~~~~~~~~~~~~~~~~~~~~~~~~\\n#> not evidence for Bug, and neither is it evidence for Benefactor. Nor\\n#> ~~~~~~~~~~~~~~~~~~~~~~~~~~~~~~~~~~~~~~~~~~~~~~~~~~~~~~~~~~~~~~~\\n#> is true to say that this hypothetical universe appears exactly as\\n#> if there were no Benefactor/Bug (two statements, both would be false).\\n#\\n#This is still contradictory. It reduces to\\n#\\n#  (1): Alterian dosh arriving in my account is due to [benefactor or bug].\\n#\\n#  (2): this is not evidence for [benefactor], neither is it evidence for\\n#       [bug] (meaning that it doesn\\'t lend more weight to one than to the\\n#       other)\\n#\\n#  (3): therefore no evidence can exist for [benefactor] and no evidence\\n#       can exist for [bug].\\n#\\n#But (3) relies on a shift in meaning from (2). When you say (paraphrased)\\n#in (2) that this is not \"evidence for [benefactor]\", for example, what you\\n#mean is that it\\'s no *more* evidence for [benefactor] than it is for [bug].']),\n",
              " ('file:/content/20_newsgroups/alt.atheism/53375',\n",
              "  [{'Newsgroups': ' alt.atheism',\n",
              "    'Path': ' cantaloupe.srv.cs.cmu.edu!das-news.harvard.edu!noc.near.net!nic.umass.edu!caen!zaphod.mps.ohio-state.edu!cs.utexas.edu!wotan.compaq.com!twisto.eng.hou.compaq.com!twisto!edm',\n",
              "    'From': ' edm@twisto.compaq.com (Ed McCreary)',\n",
              "    'Subject': ' Re: thoughts on christians',\n",
              "    'In-Reply-To': \" bobbe@vice.ICO.TEK.COM's message of 16 Apr 93 05: 10:18 GMT\",\n",
              "    'Message-ID': ' <EDM.93Apr16092404@gocart.twisto.compaq.com>',\n",
              "    'Sender': ' news@twisto.eng.hou.compaq.com (Netnews Account)',\n",
              "    'Organization': ' Compaq Computer Corp',\n",
              "    'References': ' <ofnWyG600WB699voA=@andrew.cmu.edu> <11831@vice.ICO.TEK.COM>',\n",
              "    'Date': ' Fri, 16 Apr 1993 14:24:04 GMT',\n",
              "    'Lines': ' 26'},\n",
              "   '>>>>> On 16 Apr 93 05:10:18 GMT, bobbe@vice.ICO.TEK.COM (Robert Beauchaine) said:']),\n",
              " ('file:/content/20_newsgroups/alt.atheism/51154',\n",
              "  [{'Path': ' cantaloupe.srv.cs.cmu.edu!crabapple.srv.cs.cmu.edu!bb3.andrew.cmu.edu!andrew.cmu.edu!nm0w+',\n",
              "    'From': ' Nanci Ann Miller <nm0w+@andrew.cmu.edu>',\n",
              "    'Newsgroups': ' alt.atheism',\n",
              "    'Subject': ' Re: Genocide is Caused by Atheism',\n",
              "    'Date': ' Mon,  5 Apr 1993 18:40:31 -0400',\n",
              "    'Organization': ' Sponsored account, School of Computer Science, Carnegie Mellon, Pittsburgh, PA',\n",
              "    'Lines': ' 27',\n",
              "    'Message-ID': ' <gfk=JTa00Vpd0K8HIf@andrew.cmu.edu>',\n",
              "    'References': ' <1993Apr5.020504.19326@ultb.isc.rit.edu>',\n",
              "    'NNTP-Posting-Host': ' andrew.cmu.edu',\n",
              "    'In-Reply-To': ' <1993Apr5.020504.19326@ultb.isc.rit.edu>'},\n",
              "   'snm6394@ultb.isc.rit.edu (S.N. Mozumder ) writes:\\n> More horrible deaths resulted from atheism than anything else.']),\n",
              " ('file:/content/20_newsgroups/alt.atheism/53177',\n",
              "  [{'Newsgroups': ' alt.atheism',\n",
              "    'Path': ' cantaloupe.srv.cs.cmu.edu!das-news.harvard.edu!noc.near.net!howland.reston.ans.net!bogus.sura.net!darwin.sura.net!news-feed-1.peachnet.edu!umn.edu!gaia.ucs.orst.edu!wsrcc.com!fastrac.llnl.gov!usenet.ee.pdx.edu!reed!henson!news.u.washington.edu!saturn.wwc.edu!saturn.wwc.edu!healta',\n",
              "    'From': ' healta@saturn.wwc.edu (Tammy R Healy)',\n",
              "    'Subject': ' Re: Free Moral Agency and Kent S.',\n",
              "    'Message-ID': ' <healta.140.734925835@saturn.wwc.edu>',\n",
              "    'Lines': ' 37',\n",
              "    'Sender': ' news@saturn.wwc.edu (Net News Admin)',\n",
              "    'Organization': ' Walla Walla College',\n",
              "    'References': ' <healta.135.734811375@saturn.wwc.edu> <sandvik-140493185034@sandvik-kent.apple.com>',\n",
              "    'Date': ' Fri, 16 Apr 1993 02:03:55 GMT'},\n",
              "   'In article <sandvik-140493185034@sandvik-kent.apple.com> sandvik@newton.apple.com (Kent Sandvik) writes:\\n>From: sandvik@newton.apple.com (Kent Sandvik)\\n>Subject: Re: Free Moral Agency and Kent S.\\n>Date: Thu, 15 Apr 1993 01:51:57 GMT\\n>In article <healta.135.734811375@saturn.wwc.edu>, healta@saturn.wwc.edu\\n>(TAMMY R HEALY) wrote:\\n>> Ezekiel 28:17 says, Your hart was filled with pride because of all your \\n>> beauty; you corrupted your wisdom for the sake of your splendor.  Therefore \\n>> I have cast you down the the ground and exposed you helpless before the \\n>> curious gaze of Kings.\"\\n>\\n>> For those of you who are Bible scholars, you knowthat the 1st 11 verses \\n>> refer to the Prince of Tyre.  This is a prophesy about and addressed to the \\n>> human prince.  Verses 12-19 refer to the King of Tyre, which is a term for \\n>> Satan.\\n>\\n>Tammy, what\\'s the rationale to connect the prince of Tyre with Satan,\\n>could you give us more rational bible cites, thanks? I\\'m afraid that\\n>if this is not the case, your thinking model falls apart like a house\\n>of cards. But let\\'s see!\\n>\\n>Cheers,\\n>Kent\\n>---\\n>sandvik@newton.apple.com. ALink: KSAND -- Private activities on the net.']),\n",
              " ('file:/content/20_newsgroups/alt.atheism/53151',\n",
              "  [{'Newsgroups': ' alt.atheism',\n",
              "    'Path': ' cantaloupe.srv.cs.cmu.edu!das-news.harvard.edu!noc.near.net!howland.reston.ans.net!ux1.cso.uiuc.edu!news.cso.uiuc.edu!alexia!cobb',\n",
              "    'From': ' cobb@alexia.lis.uiuc.edu (Mike Cobb)',\n",
              "    'Subject': ' Re: After 2000 years, can we say that Christian Morality is',\n",
              "    'Date': ' Fri, 16 Apr 1993 01:03:51 GMT',\n",
              "    'Message-ID': ' <C5JxMF.2oq@news.cso.uiuc.edu>',\n",
              "    'References': ' <lsojdjINNq12@exodus.Eng.Sun.COM> ',\n",
              "    'Sender': ' usenet@news.cso.uiuc.edu (Net Noise owner)',\n",
              "    'Organization': ' University of Illinois at Urbana',\n",
              "    'Lines': ' 36'},\n",
              "   'In <kmr4.1576.734879396@po.CWRU.edu> kmr4@po.CWRU.edu (Keith M. Ryan) writes:']),\n",
              " ('file:/content/20_newsgroups/alt.atheism/53675',\n",
              "  [{'Path': ' cantaloupe.srv.cs.cmu.edu!crabapple.srv.cs.cmu.edu!bb3.andrew.cmu.edu!andrew.cmu.edu!nm0w+',\n",
              "    'From': ' Nanci Ann Miller <nm0w+@andrew.cmu.edu>',\n",
              "    'Newsgroups': ' alt.atheism',\n",
              "    'Subject': ' Re: College atheists',\n",
              "    'Date': ' Wed, 21 Apr 1993 13:44:14 -0400',\n",
              "    'Organization': ' Sponsored account, School of Computer Science, Carnegie Mellon, Pittsburgh, PA',\n",
              "    'Lines': ' 34',\n",
              "    'Message-ID': ' <cfpMTiu00VB9M6FcFz@andrew.cmu.edu>',\n",
              "    'References': ' <1993Apr20.191209.6142@cnsvax.uwec.edu>',\n",
              "    'NNTP-Posting-Host': ' po5.andrew.cmu.edu',\n",
              "    'In-Reply-To': ' <1993Apr20.191209.6142@cnsvax.uwec.edu>'},\n",
              "   'nyeda@cnsvax.uwec.edu (David Nye) writes:\\n> I read an article about a poll done of students at the Ivy League\\n> schools in which it was reported that a third of the students\\n> indentified themselves as atheists.  This is a lot higher than among the\\n> general population.  I wonder what the reasons for this discrepancy are?\\n> Is it because they are more intelligent?  Younger?  Is this the wave of\\n> the future?']),\n",
              " ('file:/content/20_newsgroups/alt.atheism/53063',\n",
              "  [{'Xref': ' cantaloupe.srv.cs.cmu.edu alt.atheism:53063 talk.religion.misc:83534',\n",
              "    'Newsgroups': ' alt.atheism,talk.religion.misc',\n",
              "    'Path': ' cantaloupe.srv.cs.cmu.edu!das-news.harvard.edu!noc.near.net!howland.reston.ans.net!wupost!crcnis1.unl.edu!moe.ksu.ksu.edu!ux1.cso.uiuc.edu!news.cso.uiuc.edu!alexia!cobb',\n",
              "    'From': ' cobb@alexia.lis.uiuc.edu (Mike Cobb)',\n",
              "    'Subject': ' Societal basis for morality',\n",
              "    ' References': ' <4fm9iYO00iV303voYt@andrew.cmu.edu>  ',\n",
              "    'Date': ' Mon, 19 Apr 1993 04:45:08 GMT',\n",
              "    'Message-ID': ' <C5prv8.5nI@news.cso.uiuc.edu>',\n",
              "    'Sender': ' usenet@news.cso.uiuc.edu (Net Noise owner)',\n",
              "    'Organization': ' University of Illinois at Urbana',\n",
              "    'Lines': ' 18'},\n",
              "   \"I'll yield the discussion on absolute morality until I can think of another way\\nto discuss it.  If you're interested in a change, here's an idea.\"]),\n",
              " ('file:/content/20_newsgroups/alt.atheism/54137',\n",
              "  [{'Newsgroups': ' alt.atheism',\n",
              "    'Path': ' cantaloupe.srv.cs.cmu.edu!das-news.harvard.edu!noc.near.net!howland.reston.ans.net!zaphod.mps.ohio-state.edu!uwm.edu!linac!uchinews!att-out!cbnewsj!decay',\n",
              "    'From': ' decay@cbnewsj.cb.att.com (dean.kaflowitz)',\n",
              "    'Subject': ' Re: some thoughts.',\n",
              "    'Organization': ' AT&T',\n",
              "    'Distribution': ' na',\n",
              "    'Date': ' Mon, 26 Apr 1993 13:28:52 GMT',\n",
              "    'Message-ID': ' <C63Es7.Hqt@cbnewsj.cb.att.com>',\n",
              "    'References': ' <bissda.4.734849678@saturn.wwc.edu> <madhausC5yD87.KIp@netcom.com> <kmr4.1718.735827952@po.CWRU.edu>',\n",
              "    'Lines': ' 26'},\n",
              "   'In article <kmr4.1718.735827952@po.CWRU.edu>, kmr4@po.CWRU.edu (Keith M. Ryan) writes:\\n> In article <C63AEC.FB3@cbnewsj.cb.att.com> decay@cbnewsj.cb.att.com (dean.kaflowitz) writes:\\n> \\n> >The \"R Us\" thing is trademarked.  I don\\'t know if Charles\\n> >Lazarus is dead or alive, but I\\'d be careful, because with\\n> >a name like Lazarus, he might rise again just to start a\\n> >lawsuit.\\n> \\n> \\tThe \"R Us\" is not trademarked, but the \"Backwards R Us\" is, I \\n> believe.']),\n",
              " ('file:/content/20_newsgroups/alt.atheism/54227',\n",
              "  [{'Path': ' cantaloupe.srv.cs.cmu.edu!das-news.harvard.edu!noc.near.net!howland.reston.ans.net!usenet.ins.cwru.edu!po.CWRU.edu!kmr4',\n",
              "    'From': ' kmr4@po.CWRU.edu (Keith M. Ryan)',\n",
              "    'Newsgroups': ' alt.atheism',\n",
              "    'Subject': ' Re: The Inimitable Rushdie (Re: An Anecdote about Islam',\n",
              "    'Date': ' Sun, 18 Apr 1993 01:56:15 GMT',\n",
              "    'Organization': ' Case Western Reserve University',\n",
              "    'Lines': ' 19',\n",
              "    'Distribution': ' world,public',\n",
              "    'Message-ID': ' <kmr4.1620.735098175@po.CWRU.edu>',\n",
              "    'References': ' <C5GEw6.3GL@unix.portal.com> <115437@bu.edu> <sandvik-160493114804@sandvik-kent.apple.com> <115847@bu.edu>',\n",
              "    'NNTP-Posting-Host': ' b64635.student.cwru.edu'},\n",
              "   'In article <115847@bu.edu> jaeger@buphy.bu.edu (Gregg Jaeger) writes:']),\n",
              " ('file:/content/20_newsgroups/alt.atheism/53389',\n",
              "  [{'Newsgroups': ' alt.atheism',\n",
              "    'Path': ' cantaloupe.srv.cs.cmu.edu!das-news.harvard.edu!noc.near.net!uunet!zaphod.mps.ohio-state.edu!cs.utexas.edu!wotan.compaq.com!twisto.eng.hou.compaq.com!twisto!edm',\n",
              "    'From': ' edm@twisto.compaq.com (Ed McCreary)',\n",
              "    'Subject': ' Re: KORESH IS GOD!',\n",
              "    'In-Reply-To': \" mathew's message of Fri, 16 Apr 1993 14: 15:20 +0100\",\n",
              "    'Message-ID': ' <EDM.93Apr16105912@gocart.twisto.compaq.com>',\n",
              "    'Sender': ' news@twisto.eng.hou.compaq.com (Netnews Account)',\n",
              "    'Organization': ' Compaq Computer Corp',\n",
              "    'References': ' <1q4m27$17p@usenet.INS.CWRU.Edu> <93105.070358TAN102@psuvm.psu.edu>',\n",
              "    'Date': ' Fri, 16 Apr 1993 15:59:12 GMT',\n",
              "    'Lines': ' 12'},\n",
              "   '>>>>> On Fri, 16 Apr 1993 14:15:20 +0100, mathew <mathew@mantis.co.uk> said:']),\n",
              " ('file:/content/20_newsgroups/alt.atheism/53276',\n",
              "  [{'Path': ' cantaloupe.srv.cs.cmu.edu!magnesium.club.cc.cmu.edu!news.sei.cmu.edu!cis.ohio-state.edu!zaphod.mps.ohio-state.edu!cs.utexas.edu!uunet!news.tek.com!vice!bobbe',\n",
              "    'From': ' bobbe@vice.ICO.TEK.COM (Robert Beauchaine)',\n",
              "    'Newsgroups': ' alt.atheism',\n",
              "    'Subject': ' Re: Amusing atheists and agnostics',\n",
              "    'Message-ID': ' <11860@vice.ICO.TEK.COM>',\n",
              "    'Date': ' 20 Apr 93 15:37:10 GMT',\n",
              "    'References': ' <timmbake.735204406@mcl> <madhausC5rFqo.9qL@netcom.com>',\n",
              "    'Organization': ' Tektronix Inc., Beaverton, Or.',\n",
              "    'Lines': ' 18'},\n",
              "   'In article <madhausC5rFqo.9qL@netcom.com> madhaus@netcom.com (Maddi Hausmann) writes:\\n>\\n>\"Clam\" Bake Timmons = Bill \"Shit Stirrer Connor\"\\n>']),\n",
              " ('file:/content/20_newsgroups/alt.atheism/51289',\n",
              "  [{'Xref': ' cantaloupe.srv.cs.cmu.edu alt.atheism:51289 talk.religion.misc:82811 talk.origins:40445',\n",
              "    'Path': ' cantaloupe.srv.cs.cmu.edu!das-news.harvard.edu!husc-news.harvard.edu!hsdndev!newsfeed.rice.edu!cs.utexas.edu!uunet!quack!pharvey',\n",
              "    'Newsgroups': ' alt.atheism,talk.religion.misc,talk.origins',\n",
              "    'Subject': ' Re: Albert Sabin',\n",
              "    'Message-ID': ' <f1zbKjU@quack.kfu.com>',\n",
              "    'From': ' pharvey@quack.kfu.com (Paul Harvey)',\n",
              "    'Date': ' 6 Apr 93 18:44:16 GMT',\n",
              "    'References': ' <1pfq90$cbb@access.digex.com> <1ph4c8$8j6@shrike.und.ac.za> <1pq63o$n7t@access.digex.net>',\n",
              "    'Organization': \" The Duck Pond public unix: +1 408 249 9630, log in as 'guest'.\",\n",
              "    'Lines': ' 16'},\n",
              "   \"In article <1pq63o$n7t@access.digex.net> \\nhuston@access.digex.com (Herb Huston) writes:\\n>In article <1ph4c8$8j6@shrike.und.ac.za> \\ndace@shrike.und.ac.za (Roy Dace) writes:\\n>}Herb Huston (huston@access.digex.com) wrote:\\n>}: Actually, cannibalism is quite widespread.  My favorite examples are sand\\n>}: sharks and mackerel sharks.  The fetuses begin cannibalizing each other, and\\n>}: the one that is eventually born enters the sea with a full stomache.  Would\\n>}: you like some more gruesome examples?\\n>}Fair enough - I'm pretty well aware of the examples used - and mine were very\\n>}rapidly and thoughtlessly pulled out of thin air, but the point I'm making is\\n>}that our non-cannibalism doesn't imply any `value' over other animals.\\n>Did something happen while I wasn't looking?  When did _Homo sapiens_ become\\n>non-cannibalistic?\"]),\n",
              " ('file:/content/20_newsgroups/alt.atheism/53663',\n",
              "  [{'Newsgroups': ' alt.atheism',\n",
              "    'Path': ' cantaloupe.srv.cs.cmu.edu!crabapple.srv.cs.cmu.edu!bb3.andrew.cmu.edu!news.sei.cmu.edu!cis.ohio-state.edu!zaphod.mps.ohio-state.edu!howland.reston.ans.net!noc.near.net!uunet!munnari.oz.au!bruce.cs.monash.edu.au!monu6!yoyo.cc.monash.edu.au!darice',\n",
              "    'From': ' darice@yoyo.cc.monash.edu.au (Fred Rice)',\n",
              "    'Subject': ' Re: Genocide is Caused by Atheism',\n",
              "    'Message-ID': ' <1993Apr21.155649.26483@monu6.cc.monash.edu.au>',\n",
              "    'Sender': ' news@monu6.cc.monash.edu.au (Usenet system)',\n",
              "    'Organization': ' Monash University, Melb., Australia.',\n",
              "    'References': ' <1993Apr5.020504.19326@ultb.isc.rit.edu> <1993Apr7.135152.9065@eagle.lerc.nasa.gov> <1993Apr10.131918.4200@monu6.cc.monash.edu.au> <1q88qh$27k@fido.asd.sgi.com> <sandvik-110493124256@sandvik-kent.apple.com> <1993Apr14.104954.7000@monu6.cc.monash.edu.au> <sandvik-140493183210@sandvik-kent.apple.com> <1993Apr19.112706.26911@monu6.cc.monash.edu.au> <1993Apr19.140316.14872@cs.nott.ac.uk>',\n",
              "    'Date': ' Wed, 21 Apr 1993 15:56:49 GMT',\n",
              "    'Lines': ' 19'},\n",
              "   'In <1993Apr19.140316.14872@cs.nott.ac.uk> eczcaw@mips.nott.ac.uk (A.Wainwright) writes:']),\n",
              " ('file:/content/20_newsgroups/alt.atheism/54135',\n",
              "  [{'Newsgroups': ' alt.atheism',\n",
              "    'Path': ' cantaloupe.srv.cs.cmu.edu!das-news.harvard.edu!noc.near.net!howland.reston.ans.net!zaphod.mps.ohio-state.edu!pacific.mps.ohio-state.edu!linac!att!att-out!cbnewsj!decay',\n",
              "    'From': ' decay@cbnewsj.cb.att.com (dean.kaflowitz)',\n",
              "    'Subject': ' Re: some thoughts.',\n",
              "    'Organization': ' AT&T',\n",
              "    'Distribution': ' na',\n",
              "    'Date': ' Mon, 26 Apr 1993 13:13:38 GMT',\n",
              "    'Message-ID': ' <C63E2y.H6E@cbnewsj.cb.att.com>',\n",
              "    'References': ' <bissda.4.734849678@saturn.wwc.edu> <1qmg6i$ang@eagle.lerc.nasa.gov> <C62B52.LKz@blaze.cs.jhu.edu>',\n",
              "    'Lines': ' 40'},\n",
              "   \"In article <C62B52.LKz@blaze.cs.jhu.edu>, arromdee@jyusenkyou.cs.jhu.edu (Ken Arromdee) writes:\\n> In article <w_briggs-250493134303@ccresources6h58.cc.utas.edu.au> w_briggs@postoffice.utas.edu.au (William Briggs) writes:\\n> >Wasn't JC a carpenter?  Anyway that's beside the point. I think the fact\\n> >that is more compelling is JC fulfilling the prophecies when the prophecies\\n> >include him getting killed in the most agonizing possible way.\\n> \\n> This is nonsense.\\n> \\n> I can think of a lot more agonizing ways to get killed.  Fatal cancer, for\\n> instance.\\n> \\n> Anyone else have some more?  Maybe we can make a list.\"]),\n",
              " ('file:/content/20_newsgroups/alt.atheism/53284',\n",
              "  [{'Path': ' cantaloupe.srv.cs.cmu.edu!crabapple.srv.cs.cmu.edu!bb3.andrew.cmu.edu!news.sei.cmu.edu!cis.ohio-state.edu!zaphod.mps.ohio-state.edu!howland.reston.ans.net!usenet.ins.cwru.edu!agate!dog.ee.lbl.gov!network.ucsd.edu!ucsbcsl!mcl!timmbake',\n",
              "    'From': ' timmbake@mcl.ucsb.edu (Bake Timmons)',\n",
              "    'Newsgroups': ' alt.atheism',\n",
              "    'Subject': ' Re: Amusing atheists and agnostics',\n",
              "    'Message-ID': ' <timmbake.735268029@mcl>',\n",
              "    'Date': ' 20 Apr 93 01:07:09 GMT',\n",
              "    'Sender': ' root@ucsbcsl.ucsb.edu',\n",
              "    'Lines': ' 19'},\n",
              "   \"nancyo@fraser.sfu.ca (Nancy Patricia O'Connor) writes:\"]),\n",
              " ('file:/content/20_newsgroups/alt.atheism/53262',\n",
              "  [{'Path': ' cantaloupe.srv.cs.cmu.edu!magnesium.club.cc.cmu.edu!news.sei.cmu.edu!cis.ohio-state.edu!zaphod.mps.ohio-state.edu!howland.reston.ans.net!sol.ctr.columbia.edu!ursa!panther!halat',\n",
              "    'From': ' halat@panther.bears (Jim Halat)',\n",
              "    'Newsgroups': ' alt.atheism',\n",
              "    'Subject': ' Re: After 2000 years, can we say that Christian Morality is',\n",
              "    'Message-ID': ' <30145@ursa.bear.com>',\n",
              "    'Date': ' 20 Apr 93 15:25:03 GMT',\n",
              "    'References': ' <sandvik-140493230024@sandvik-kent.apple.com> <1qjd3o$nlv@horus.ap.mchp.sni.de> <30136@ursa.bear.com> <1993Apr17.153653.26206@Princeton.EDU> <30142@ursa.bear.com>',\n",
              "    'Sender': ' news@bear.com',\n",
              "    'Reply-To': ' halat@panther.bears (Jim Halat)',\n",
              "    'Lines': ' 129'},\n",
              "   'In article <930419.104739.2t8.rusnews.w165w@mantis.co.uk>, mathew@mantis.co.uk (mathew) writes:\\n>mccullou@snake2.cs.wisc.edu (Mark McCullough) writes:\\n>>In article <30136@ursa.bear.com> halat@pooh.bears (Jim Halat) writes:\\n>>>Atoms are not objective.  They aren\\'t even real.  What scientists call\\n>>>an atom is nothing more than a mathematical model that describes \\n>>>certain physical, observable properties of our surroundings.  All\\n>>>of which is subjective.  \\n>> \\n>> This deserves framing.  It really does.  \"[Atoms] aren\\'t even real.\"\\n>> \\n>> Tell me then, those atoms we have seen with electron microscopes are\\n>> atoms now, so what are they?  Figments of our imaginations?  The\\n>> evidence that atoms are real is overwhelming, but I won\\'t bother with\\n>> most evidence at the moment.\\n>\\n>HA HA HA!\\n>\\n>Sorry, but having studied cell biology, I have to say that \"I can see it\\n>through an electron microscope, THEREFORE it is real\" is a laughable\\n>statement.\\n>\\n[...stuff deleted...]']),\n",
              " ('file:/content/20_newsgroups/alt.atheism/54243',\n",
              "  [{'Xref': ' cantaloupe.srv.cs.cmu.edu sci.skeptic:43676 alt.atheism:54243',\n",
              "    'Path': ' cantaloupe.srv.cs.cmu.edu!rochester!udel!gatech!howland.reston.ans.net!zaphod.mps.ohio-state.edu!cs.utexas.edu!uunet!ddsw1!lll-winken.llnl.gov!ed',\n",
              "    'From': ' ed@wente.llnl.gov (Ed Suranyi)',\n",
              "    'Newsgroups': ' sci.skeptic,alt.atheism',\n",
              "    'Subject': ' Re: Asimov stamp',\n",
              "    'Date': ' 26 Apr 1993 17:48:05 GMT',\n",
              "    'Organization': ' UC Davis Dept of Applied Science at LLNL',\n",
              "    'Lines': ' 18',\n",
              "    'Message-ID': ' <1rh78l$iub@lll-winken.llnl.gov>',\n",
              "    'References': ' <C5yGt8.Er6@usenet.ucs.indiana.edu> <schnitzi.735603785@eustis> <C61H4H.8D4@dcs.ed.ac.uk>',\n",
              "    'NNTP-Posting-Host': ' wente.llnl.gov'},\n",
              "   \"In article <C61H4H.8D4@dcs.ed.ac.uk> pdc@dcs.ed.ac.uk (Paul Crowley) writes:\\n>Quoting schnitzi@eustis.cs.ucf.edu (Mark Schnitzius) in article <schnitzi.735603785@eustis>:\\n>>I'm sure all the religious types would get in a snit due\\n>>to Asimov's atheism.\"]),\n",
              " ('file:/content/20_newsgroups/alt.atheism/51300',\n",
              "  [{'Newsgroups': ' alt.atheism',\n",
              "    'Path': ' cantaloupe.srv.cs.cmu.edu!crabapple.srv.cs.cmu.edu!bb3.andrew.cmu.edu!news.sei.cmu.edu!cis.ohio-state.edu!zaphod.mps.ohio-state.edu!howland.reston.ans.net!newsserver.jvnc.net!yale.edu!ira.uka.de!news.dfn.de!tubsibr!dbstu1.rz.tu-bs.de!I3150101',\n",
              "    'From': ' I3150101@dbstu1.rz.tu-bs.de (Benedikt Rosenau)',\n",
              "    'Subject': ' Re: Yeah, Right',\n",
              "    'Message-ID': ' <16BA8F98A.I3150101@dbstu1.rz.tu-bs.de>',\n",
              "    'Sender': ' postnntp@ibr.cs.tu-bs.de (Mr. Nntp Inews Entry)',\n",
              "    'Organization': ' Technical University Braunschweig, Germany',\n",
              "    'References': ' <16BA6BEF0.I3150101@dbstu1.rz.tu-bs.de> <66014@mimsy.umd.edu>',\n",
              "    'Date': ' Tue, 6 Apr 1993 16:44:42 GMT',\n",
              "    'Lines': ' 54'},\n",
              "   'In article <66014@mimsy.umd.edu>\\nmangoe@cs.umd.edu (Charley Wingate) writes:\\n \\n>>And what about that revelation thing, Charley?\\n>\\n>If you\\'re talking about this intellectual engagement of revelation, well,\\n>it\\'s obviously a risk one takes.\\n>\\n \\nI see, it is not rational, but it is intellectual. Does madness qualify\\nas intellectual engagement, too?\\n \\n \\n>>Many people say that the concept of metaphysical and religious knowledge\\n>>is contradictive.\\n>\\n>I\\'m not an objectivist, so I\\'m not particularly impressed with problems of\\n>conceptualization.  The problem in this case is at least as bad as that of\\n>trying to explain quantum mechanics and relativity in the terms of ordinary\\n>experience.  One can get some rough understanding, but the language is, from\\n>the perspective of ordinary phenomena, inconsistent, and from the\\n>perspective of what\\'s being described, rather inexact (to be charitable).\\n>\\n \\nExactly why science uses mathematics. QM representation in natural language\\nis not supposed to replace the elaborate representation in mathematical\\nterminology. Nor is it supposed to be the truth, as opposed to the\\nrepresentation of gods or religions in ordinary language. Admittedly,\\nnot  every religion says so, but a fancy side effect of their inept\\nrepresentations are the eternal hassles between religions.\\n \\nAnd QM allows for making experiments that will lead to results that will\\nbe agreed upon as being similar. Show me something similar in religion.\\n \\n \\n>An analogous situation (supposedly) obtains in metaphysics; the problem is\\n>that the \"better\" descriptive language is not available.\\n>\\n \\nWith the effect that the models presented are useless. And one can argue\\nthat the other way around, namely that the only reason metaphysics still\\nflourish is because it makes no statements that can be verified or falsified -\\nshowing that it is bogus.\\n \\n \\n>>And in case it holds reliable information, can you show how you establish\\n>>that?\\n>\\n>This word \"reliable\" is essentially meaningless in the context-- unless you\\n>can show how reliability can be determined.\\n \\nHaven\\'t you read the many posts about what reliability is and how it can\\nbe acheived respectively determined?\\n   Benedikt\\n']),\n",
              " ('file:/content/20_newsgroups/alt.atheism/53401',\n",
              "  [{'Path': ' cantaloupe.srv.cs.cmu.edu!magnesium.club.cc.cmu.edu!news.sei.cmu.edu!cis.ohio-state.edu!zaphod.mps.ohio-state.edu!howland.reston.ans.net!bogus.sura.net!news-feed-1.peachnet.edu!umn.edu!uum1!mac.cc.macalstr.edu!acooper',\n",
              "    'From': ' acooper@mac.cc.macalstr.edu (Turin Turambar, ME Department of Utter Misery)',\n",
              "    'Newsgroups': ' alt.atheism',\n",
              "    'Subject': ' TEST: IGNORE',\n",
              "    'Message-ID': ' <1993Apr20.185520.4925@mac.cc.macalstr.edu>',\n",
              "    'Date': ' 20 Apr 93 18:55:20 -0600',\n",
              "    'Organization': ' Macalester College',\n",
              "    'Lines': ' 11'},\n",
              "   'TEST-- ']),\n",
              " ('file:/content/20_newsgroups/alt.atheism/53523',\n",
              "  [{'Newsgroups': ' alt.atheism',\n",
              "    'Path': ' cantaloupe.srv.cs.cmu.edu!das-news.harvard.edu!noc.near.net!howland.reston.ans.net!wupost!CSM560.smsu.edu!umn.edu!bru!newsman',\n",
              "    'From': ' vdp@mayo.edu (Vinayak Dutt)',\n",
              "    'Subject': ' Re:  Islam And Scientific Predictions (was',\n",
              "    'Message-ID': ' <1993Apr16.183654.29554@bmw.mayo.edu>',\n",
              "    'Sender': ' newsman@bmw.mayo.edu (Usenet News Administrator)',\n",
              "    'Reply-To': ' vdp@mayo.edu',\n",
              "    'Organization': ' Mayo Foundation/Mayo Graduate School :Rochester, MN',\n",
              "    'References': ' <C5L1Fv.H9r@ra.nrl.navy.mil>',\n",
              "    'Date': ' Fri, 16 Apr 93 18:36:54 GMT',\n",
              "    'Lines': ' 53'},\n",
              "   'In article H9r@ra.nrl.navy.mil,  khan@itd.itd.nrl.navy.mil (Umar Khan) writes:\\n##I strongly suggest that you look up a book called THE BIBLE, THE QURAN, AND\\n##SCIENCE by Maurice Baucaille, a French surgeon.  It is not comprehensive,\\n##but, it is well researched.  I imagine your library has it or can get it\\n##for you through interlibrary loan.\\n##']),\n",
              " ('file:/content/20_newsgroups/alt.atheism/53555',\n",
              "  [{'Path': ' cantaloupe.srv.cs.cmu.edu!das-news.harvard.edu!noc.near.net!uunet!digex.com!lynx.unm.edu!vesta.unm.edu!cfaehl',\n",
              "    'From': ' cfaehl@vesta.unm.edu (Chris Faehl)',\n",
              "    'Newsgroups': ' alt.atheism',\n",
              "    'Subject': ' Re: free moral agency',\n",
              "    'Date': ' 23 Apr 1993 17:28:24 GMT',\n",
              "    'Organization': ' University of New Mexico, Albuquerque',\n",
              "    'Lines': ' 76',\n",
              "    'Distribution': ' na',\n",
              "    'Message-ID': ' <1r98voINNr9q@lynx.unm.edu>',\n",
              "    'References': ' <93110.031029TAN102@psuvm.psu.edu> <C5v2Mr.1z1@darkside.osrhe.uoknor.edu>',\n",
              "    'NNTP-Posting-Host': ' vesta.unm.edu',\n",
              "    'Keywords': ' Another thread destined for the kill-file'},\n",
              "   'In article <C5v2Mr.1z1@darkside.osrhe.uoknor.edu>, bil@okcforum.osrhe.edu (Bill Conner) writes:\\n[deleted stuff from Andrew wrt which atheist myth is Bill re: to]\\n> \\n> Andrew,\\n> \\n> The myth to which I refer is the convoluted counterfeit athiests have\\n> created to make religion appear absurd. ']),\n",
              " ('file:/content/20_newsgroups/alt.atheism/53563',\n",
              "  [{'Newsgroups': ' alt.atheism',\n",
              "    'Path': ' cantaloupe.srv.cs.cmu.edu!magnesium.club.cc.cmu.edu!news.sei.cmu.edu!fs7.ece.cmu.edu!europa.eng.gtefsd.com!howland.reston.ans.net!usc!sol.ctr.columbia.edu!eff!news.byu.edu!news.mtholyoke.edu!news.amherst.edu!mtabbott',\n",
              "    'From': ' mtabbott@unix.amherst.edu (MTA)',\n",
              "    'Subject': ' Atheism survey',\n",
              "    'Message-ID': ' <C5y93J.EAG@unix.amherst.edu>',\n",
              "    'Sender': ' news@unix.amherst.edu (No News is Good News)',\n",
              "    'Nntp-Posting-Host': ' amhux3.amherst.edu',\n",
              "    'Organization': ' Amherst College',\n",
              "    'X-Newsreader': ' TIN [version 1.1 PL7]',\n",
              "    'Date': ' Fri, 23 Apr 1993 18:38:06 GMT',\n",
              "    'Lines': ' 100'},\n",
              "   'I am doing research on atheism, part of which involves field research here\\non the net.  The following is a survey directed towards all readers of this\\ngroup, intended to get data about the basis of atheistic belief.  I would\\nseriously appreciate it if each and every one of you would fill it out and\\nmail it back to me at mtabbott@unix.amherst.edu.  ']),\n",
              " ('file:/content/20_newsgroups/alt.atheism/53458',\n",
              "  [{'Path': ' cantaloupe.srv.cs.cmu.edu!magnesium.club.cc.cmu.edu!pitt.edu!uunet!noc.near.net!howland.reston.ans.net!zaphod.mps.ohio-state.edu!uwm.edu!linac!att!princeton!ernie.Princeton.EDU!qpliu',\n",
              "    'From': ' qpliu@ernie.Princeton.EDU (q.p.liu)',\n",
              "    'Newsgroups': ' alt.atheism',\n",
              "    'Subject': ' Re: Christian Morality is',\n",
              "    'Message-ID': ' <1993Apr20.210858.23666@Princeton.EDU>',\n",
              "    'Date': ' 20 Apr 93 21:08:58 GMT',\n",
              "    'References': ' <11853@vice.ICO.TEK.COM> <4949@eastman.UUCP>',\n",
              "    'Sender': ' news@Princeton.EDU (USENET News System)',\n",
              "    'Reply-To': ' qpliu@princeton.edu',\n",
              "    'Organization': ' Princeton University',\n",
              "    'Lines': ' 14',\n",
              "    'Originator': ' news@nimaster',\n",
              "    'Nntp-Posting-Host': ' ernie.princeton.edu'},\n",
              "   'In article <4949@eastman.UUCP> dps@nasa.kodak.com writes:\\n>Simple logic arguments are folly.  If you read the Bible you will see\\n>that Jesus made fools of those who tried to trick him with \"logic\".'])]"
            ]
          },
          "metadata": {},
          "execution_count": 54
        }
      ]
    },
    {
      "cell_type": "code",
      "source": [
        "from pyspark.sql import Row\n",
        "def ToRow(x):\n",
        "  entete=x[1][0]\n",
        "  \n",
        "    #dict1_info=extraction_informations_entete(entete)\n",
        "  row = Row(Path=x[0], Newsgroups=entete['Newsgroups'] if 'Newsgroups' in entete.keys() else None,\n",
        "              Organization=entete['Organization'] if 'Organization' in entete.keys() else None,\n",
        "              Subject=entete['Subject'] if 'Subject' in entete.keys() else None,\n",
        "              Date=entete['Date'] if 'Date' in entete.keys() else None,\n",
        "            Lines=entete['Lines'] if 'Lines' in entete.keys() else None,\n",
        "            From=entete['From'] if 'From' in entete.keys() else None,\n",
        "              \n",
        "              Contenu=x[1][1])\n",
        "  \n",
        "\n",
        "  return row\n",
        "\n",
        "#fusion.take(1)\n",
        "rddF=fusion.map(ToRow)\n"
      ],
      "metadata": {
        "id": "DcArLax4vGn3"
      },
      "execution_count": 175,
      "outputs": []
    },
    {
      "cell_type": "code",
      "source": [
        "rddF.take(60)"
      ],
      "metadata": {
        "id": "WMSB87g_x4DG",
        "colab": {
          "base_uri": "https://localhost:8080/"
        },
        "outputId": "d188eb99-26cf-4204-a0d6-ec1ea8b9b6ff"
      },
      "execution_count": 176,
      "outputs": [
        {
          "output_type": "execute_result",
          "data": {
            "text/plain": [
              "[Row(Path='file:/content/20_newsgroups/alt.atheism/53079', Newsgroups=' talk.abortion,alt.atheism,talk.religion.misc', Organization=' Siemens-Nixdorf AG', Subject=' Re: After 2000 years, can we say that Christian Morality is', Date=' 15 Apr 1993 21:12:01 GMT', Lines=' 50', From=\" frank@D012S658.uucp (Frank O'Dwyer)\", Contenu='In article <lsr6ihINNsa@exodus.Eng.Sun.COM> emarsh@hernes-sun.Eng.Sun.COM (Eric Marsh) writes:\\n#In article <1qjahh$mrs@horus.ap.mchp.sni.de> frank@D012S658.uucp (Frank O\\'Dwyer) writes:\\n#>Science (\"the real world\") has its basis in values, not the other way round, \\n#>as you would wish it.  If there is no such thing as objective value, then \\n#>science can not objectively be said to be more useful than a kick in the head.\\n#>Simple theories with accurate predictions could not objectively be said\\n#>to be more useful than a set of tarot cards.  You like those conclusions?\\n#>I don\\'t.\\n#\\n#I think that you are changing the meaning of \"values\" here. Perhaps\\n#it is time to backtrack and take a look at the word.\\n#\\n#value n. 1. A fair equivalent or return for something, such as goods\\n#or service. 2. Monetary or material worth. 3. Worth as measured in \\n#usefulness or importance; merit. 4. A principle, standard, or quality\\n#considered inherently worthwhile or desirable. 5. Precise meaning, as\\n#of a word. 6. An assigned or calculated numerical quantity. 7. Mus. \\n#The relative duratation of a tone or rest. 8. The relative darkness or\\n#lightness of a color. 9. The distinctive quality of a speech or speech\\n#sound. \\n#\\n#In context of a moral system, definition four seems to fit best. In terms\\n#of scientific usage, definitions six or eight might apply. Note that\\n#these definitions do not mean the same thing.'),\n",
              " Row(Path='file:/content/20_newsgroups/alt.atheism/51141', Newsgroups=' alt.atheism', Organization=' Bell-Northern Research, Ottawa, Canada', Subject=' Re: Speculations', Date=' 5 Apr 93 21:19:24 GMT', Lines=' 17', From=' dgraham@bmers30.bnr.ca (Douglas Graham)', Contenu=\"In article <930405.172903.4w6.rusnews.w165w@mantis.co.uk> mathew <mathew@mantis.co.uk> writes:\\n>Nanci Ann Miller <nm0w+@andrew.cmu.edu> writes:\\n>> If this god is truly omnipotent as you folks like to claim, then why can't\\n>> he terminate eternity?\\n>\\n>For the same reason he can't flibble glop ork groink.\\n>\\n>The thing you are demanding that he must be able to do, has no meaning in its\\n>own terms.\"),\n",
              " Row(Path='file:/content/20_newsgroups/alt.atheism/53282', Newsgroups=' alt.atheism', Organization=' Orden del Lobo Estepario', Subject=' Studies on Book of Mormon', Date=' Sun, 18 Apr 1993 14:15:33 CST', Lines=' 20', From=' agrino@enkidu.mic.cl (Andres Grino Brandt)', Contenu='Hi!'),\n",
              " Row(Path='file:/content/20_newsgroups/alt.atheism/53631', Newsgroups=' alt.atheism', Organization=' Nottingham University', Subject=' Re: Death Penalty (was Re: Political Atheists?)', Date=' Wed, 21 Apr 93 11:49:47 GMT', Lines=' 60', From=' eczcaw@mips.nott.ac.uk (A.Wainwright)', Contenu='In article <C5rLyz.4Mt@darkside.osrhe.uoknor.edu>, bil@okcforum.osrhe.edu (Bill Conner) writes:\\n|> This is fascinating. Atheists argue for abortion,'),\n",
              " Row(Path='file:/content/20_newsgroups/alt.atheism/53163', Newsgroups=' alt.atheism', Organization=' Boston University Physics Department', Subject=' Re: The Inimitable Rushdie', Date=' 16 Apr 93 01:31:01 GMT', Lines=' 41', From=' jaeger@buphy.bu.edu (Gregg Jaeger)', Contenu='In article <C5HKv2.Epv@blaze.cs.jhu.edu> arromdee@jyusenkyou.cs.jhu.edu (Ken Arromdee) writes:'),\n",
              " Row(Path='file:/content/20_newsgroups/alt.atheism/54232', Newsgroups=' talk.abortion,alt.atheism,talk.religion.misc', Organization=' Harlequin Ltd. Cambridge, England', Subject=' Re: After 2000 years, can we say that Christian Morality is', Date=' Thu, 22 Apr 1993 15:48:04 GMT', Lines=' 36', From=' richard@harlqn.co.uk (Richard Brooksby)', Contenu=\"frank@D012S658.uucp (Frank O'Dwyer) writes:\\n> In article <930420.100544.6n0.rusnews.w165w@mantis.co.uk> mathew\\n> <mathew@mantis.co.uk> writes:\\n> #This is complete nonsense.  Relativism means saying that there is no absolut\\n> #standard of morality; it does NOT mean saying that all standards of morality\\n> #are equally good.\\n> \\n> Presumably this means that some moral systems are better than\\n> others?\"),\n",
              " Row(Path='file:/content/20_newsgroups/alt.atheism/53149', Newsgroups=' alt.atheism', Organization=' University of Illinois at Urbana', Subject=' Re: After 2000 years, can we say that Christian Morality is', Date=' Fri, 16 Apr 1993 00:58:06 GMT', Lines=' 23', From=' cobb@alexia.lis.uiuc.edu (Mike Cobb)', Contenu='In <sfnNTrC00WBO43LRUK@andrew.cmu.edu> \"David R. Sacco\" <dsav+@andrew.cmu.edu> \\nwrites:'),\n",
              " Row(Path='file:/content/20_newsgroups/alt.atheism/53795', Newsgroups=' alt.atheism', Organization=' Siemens-Nixdorf AG', Subject=' Re: Bayesian Statistics, theism and atheism', Date=' 25 Apr 1993 00:20:05 GMT', Lines=' 192', From=\" frank@D012S658.uucp (Frank O'Dwyer)\", Contenu='In article <1993Apr24.165301.8321@dcs.warwick.ac.uk> simon@dcs.warwick.ac.uk (Simon Clippingdale) writes:\\n#In article <1quei1$8mb@horus.ap.mchp.sni.de> frank@D012S658.uucp (Frank O\\'Dwyer) writes:\\n#>In article <1993Apr15.181924.21026@dcs.warwick.ac.uk> simon@dcs.warwick.ac.uk (Simon Clippingdale) writes:\\n[I write:]\\n#>>> Imagine that 1000000 Alterian dollars turn up in your bank account every\\n#>>> month. Suppose further that this money is being paid to you by (a) your \\n#>>> big-hearted Alterian benefactor, or (b) a bug in an Alterian ATM.  Let\\'s\\n#>>> suppose that this is a true dichotomy, so P(a)+P(b)=1. Trouble is, Alterius \\n#>>> is in a different universe, so that no observations of Alterius are possible\\n#>>> (except for the banks - you couldn\\'t possibly afford it ;-)\\n#>>> \\n#>>> Now let\\'s examine the case for (a).  There is no evidence whatsoever that\\n#>>> there is any such thing as a big-hearted Alterian benefactor. However,\\n#>>> P(exists(b-h A b)) + P(not(exists(b-h A b)) = 1. On the grounds that \\n#>>> lack_of_evidence_for is evidence_against when we have a partition like\\n#>>> that, we dismiss hypothesis (a).\\n#>>>\\n#>>> Turning, therefore, to (b), we also find no evidence to support that\\n#>>> hypothesis.  On the same grounds as before, we dismiss hypothesis (b).\\n#>>>\\n#>>> The problem with this is that we have dismissed *all* of the possible\\n#>>> hypotheses, and even though we know by construction that the money \\n#>>> arrives every month, we have proven that it can\\'t, because we\\n#>>> have dismissed all of its potential causes.\\n#\\n#>> That\\'s an *extremely* poor argument, and here\\'s why.\\n#>>\\n#>> Premise 1: \"...this money is being paid to you by [either] (a) your big-\\n#>>             hearted Alterian benefactor, or (b) a bug in an Alterian ATM\".\\n#>> \\n#>> Thus each monthly appearance of the bucks, should it happen, is an\\n#>> observation on Alterius, and by construction, is evidence for the\\n#>> existence of [either the benefactor or the bug in the ATM].\\n#>> \\n#>> Premise 2: no observations on Alterius are possible.\\n#\\n#>     #> (except for the banks - you couldn\\'t possibly afford it ;-)\\n#>\\n#> You forgot to include this.  My premise is actually:\\n#>\\n#> Premise 2:  The cardinality of the set of possible observations on Alterius\\n#>             is one.\\n#\\n#>> This is clearly contradictory to the first.\\n#\\n#> Not if you state it properly.\\n#\\n#>> Trouble is, on the basis of premise 2, you say that there can be no evidence\\n#>> of [either the benefactor or the bug], but the first premise leads to the\\n#>> conclusion that the appearance of the bucks, should it happen, is evidence\\n#>> for the existence of [either the benefactor or the bug].\\n#>> \\n#>> Voila, a screaming contradiction.\\n#\\n#[with my highlights - SC]\\n#> But in a strawman argument. There is only evidence for OneOf(Benefactor,Bug).\\n#> No observation to distinguish Benefactor from Bug is possible. That is\\n#> ~~~~~~~~~~~~~~~~~~~~~~~~~~~~~~~~~~~~~~~~~~~~~~~~~~~~~~~~~~~~~~~~~~~~~~\\n#> not evidence for Bug, and neither is it evidence for Benefactor. Nor\\n#> ~~~~~~~~~~~~~~~~~~~~~~~~~~~~~~~~~~~~~~~~~~~~~~~~~~~~~~~~~~~~~~~\\n#> is true to say that this hypothetical universe appears exactly as\\n#> if there were no Benefactor/Bug (two statements, both would be false).\\n#\\n#This is still contradictory. It reduces to\\n#\\n#  (1): Alterian dosh arriving in my account is due to [benefactor or bug].\\n#\\n#  (2): this is not evidence for [benefactor], neither is it evidence for\\n#       [bug] (meaning that it doesn\\'t lend more weight to one than to the\\n#       other)\\n#\\n#  (3): therefore no evidence can exist for [benefactor] and no evidence\\n#       can exist for [bug].\\n#\\n#But (3) relies on a shift in meaning from (2). When you say (paraphrased)\\n#in (2) that this is not \"evidence for [benefactor]\", for example, what you\\n#mean is that it\\'s no *more* evidence for [benefactor] than it is for [bug].'),\n",
              " Row(Path='file:/content/20_newsgroups/alt.atheism/53375', Newsgroups=' alt.atheism', Organization=' Compaq Computer Corp', Subject=' Re: thoughts on christians', Date=' Fri, 16 Apr 1993 14:24:04 GMT', Lines=' 26', From=' edm@twisto.compaq.com (Ed McCreary)', Contenu='>>>>> On 16 Apr 93 05:10:18 GMT, bobbe@vice.ICO.TEK.COM (Robert Beauchaine) said:'),\n",
              " Row(Path='file:/content/20_newsgroups/alt.atheism/51154', Newsgroups=' alt.atheism', Organization=' Sponsored account, School of Computer Science, Carnegie Mellon, Pittsburgh, PA', Subject=' Re: Genocide is Caused by Atheism', Date=' Mon,  5 Apr 1993 18:40:31 -0400', Lines=' 27', From=' Nanci Ann Miller <nm0w+@andrew.cmu.edu>', Contenu='snm6394@ultb.isc.rit.edu (S.N. Mozumder ) writes:\\n> More horrible deaths resulted from atheism than anything else.'),\n",
              " Row(Path='file:/content/20_newsgroups/alt.atheism/53177', Newsgroups=' alt.atheism', Organization=' Walla Walla College', Subject=' Re: Free Moral Agency and Kent S.', Date=' Fri, 16 Apr 1993 02:03:55 GMT', Lines=' 37', From=' healta@saturn.wwc.edu (Tammy R Healy)', Contenu='In article <sandvik-140493185034@sandvik-kent.apple.com> sandvik@newton.apple.com (Kent Sandvik) writes:\\n>From: sandvik@newton.apple.com (Kent Sandvik)\\n>Subject: Re: Free Moral Agency and Kent S.\\n>Date: Thu, 15 Apr 1993 01:51:57 GMT\\n>In article <healta.135.734811375@saturn.wwc.edu>, healta@saturn.wwc.edu\\n>(TAMMY R HEALY) wrote:\\n>> Ezekiel 28:17 says, Your hart was filled with pride because of all your \\n>> beauty; you corrupted your wisdom for the sake of your splendor.  Therefore \\n>> I have cast you down the the ground and exposed you helpless before the \\n>> curious gaze of Kings.\"\\n>\\n>> For those of you who are Bible scholars, you knowthat the 1st 11 verses \\n>> refer to the Prince of Tyre.  This is a prophesy about and addressed to the \\n>> human prince.  Verses 12-19 refer to the King of Tyre, which is a term for \\n>> Satan.\\n>\\n>Tammy, what\\'s the rationale to connect the prince of Tyre with Satan,\\n>could you give us more rational bible cites, thanks? I\\'m afraid that\\n>if this is not the case, your thinking model falls apart like a house\\n>of cards. But let\\'s see!\\n>\\n>Cheers,\\n>Kent\\n>---\\n>sandvik@newton.apple.com. ALink: KSAND -- Private activities on the net.'),\n",
              " Row(Path='file:/content/20_newsgroups/alt.atheism/53151', Newsgroups=' alt.atheism', Organization=' University of Illinois at Urbana', Subject=' Re: After 2000 years, can we say that Christian Morality is', Date=' Fri, 16 Apr 1993 01:03:51 GMT', Lines=' 36', From=' cobb@alexia.lis.uiuc.edu (Mike Cobb)', Contenu='In <kmr4.1576.734879396@po.CWRU.edu> kmr4@po.CWRU.edu (Keith M. Ryan) writes:'),\n",
              " Row(Path='file:/content/20_newsgroups/alt.atheism/53675', Newsgroups=' alt.atheism', Organization=' Sponsored account, School of Computer Science, Carnegie Mellon, Pittsburgh, PA', Subject=' Re: College atheists', Date=' Wed, 21 Apr 1993 13:44:14 -0400', Lines=' 34', From=' Nanci Ann Miller <nm0w+@andrew.cmu.edu>', Contenu='nyeda@cnsvax.uwec.edu (David Nye) writes:\\n> I read an article about a poll done of students at the Ivy League\\n> schools in which it was reported that a third of the students\\n> indentified themselves as atheists.  This is a lot higher than among the\\n> general population.  I wonder what the reasons for this discrepancy are?\\n> Is it because they are more intelligent?  Younger?  Is this the wave of\\n> the future?'),\n",
              " Row(Path='file:/content/20_newsgroups/alt.atheism/53063', Newsgroups=' alt.atheism,talk.religion.misc', Organization=' University of Illinois at Urbana', Subject=' Societal basis for morality', Date=' Mon, 19 Apr 1993 04:45:08 GMT', Lines=' 18', From=' cobb@alexia.lis.uiuc.edu (Mike Cobb)', Contenu=\"I'll yield the discussion on absolute morality until I can think of another way\\nto discuss it.  If you're interested in a change, here's an idea.\"),\n",
              " Row(Path='file:/content/20_newsgroups/alt.atheism/54137', Newsgroups=' alt.atheism', Organization=' AT&T', Subject=' Re: some thoughts.', Date=' Mon, 26 Apr 1993 13:28:52 GMT', Lines=' 26', From=' decay@cbnewsj.cb.att.com (dean.kaflowitz)', Contenu='In article <kmr4.1718.735827952@po.CWRU.edu>, kmr4@po.CWRU.edu (Keith M. Ryan) writes:\\n> In article <C63AEC.FB3@cbnewsj.cb.att.com> decay@cbnewsj.cb.att.com (dean.kaflowitz) writes:\\n> \\n> >The \"R Us\" thing is trademarked.  I don\\'t know if Charles\\n> >Lazarus is dead or alive, but I\\'d be careful, because with\\n> >a name like Lazarus, he might rise again just to start a\\n> >lawsuit.\\n> \\n> \\tThe \"R Us\" is not trademarked, but the \"Backwards R Us\" is, I \\n> believe.'),\n",
              " Row(Path='file:/content/20_newsgroups/alt.atheism/54227', Newsgroups=' alt.atheism', Organization=' Case Western Reserve University', Subject=' Re: The Inimitable Rushdie (Re: An Anecdote about Islam', Date=' Sun, 18 Apr 1993 01:56:15 GMT', Lines=' 19', From=' kmr4@po.CWRU.edu (Keith M. Ryan)', Contenu='In article <115847@bu.edu> jaeger@buphy.bu.edu (Gregg Jaeger) writes:'),\n",
              " Row(Path='file:/content/20_newsgroups/alt.atheism/53389', Newsgroups=' alt.atheism', Organization=' Compaq Computer Corp', Subject=' Re: KORESH IS GOD!', Date=' Fri, 16 Apr 1993 15:59:12 GMT', Lines=' 12', From=' edm@twisto.compaq.com (Ed McCreary)', Contenu='>>>>> On Fri, 16 Apr 1993 14:15:20 +0100, mathew <mathew@mantis.co.uk> said:'),\n",
              " Row(Path='file:/content/20_newsgroups/alt.atheism/53276', Newsgroups=' alt.atheism', Organization=' Tektronix Inc., Beaverton, Or.', Subject=' Re: Amusing atheists and agnostics', Date=' 20 Apr 93 15:37:10 GMT', Lines=' 18', From=' bobbe@vice.ICO.TEK.COM (Robert Beauchaine)', Contenu='In article <madhausC5rFqo.9qL@netcom.com> madhaus@netcom.com (Maddi Hausmann) writes:\\n>\\n>\"Clam\" Bake Timmons = Bill \"Shit Stirrer Connor\"\\n>'),\n",
              " Row(Path='file:/content/20_newsgroups/alt.atheism/51289', Newsgroups=' alt.atheism,talk.religion.misc,talk.origins', Organization=\" The Duck Pond public unix: +1 408 249 9630, log in as 'guest'.\", Subject=' Re: Albert Sabin', Date=' 6 Apr 93 18:44:16 GMT', Lines=' 16', From=' pharvey@quack.kfu.com (Paul Harvey)', Contenu=\"In article <1pq63o$n7t@access.digex.net> \\nhuston@access.digex.com (Herb Huston) writes:\\n>In article <1ph4c8$8j6@shrike.und.ac.za> \\ndace@shrike.und.ac.za (Roy Dace) writes:\\n>}Herb Huston (huston@access.digex.com) wrote:\\n>}: Actually, cannibalism is quite widespread.  My favorite examples are sand\\n>}: sharks and mackerel sharks.  The fetuses begin cannibalizing each other, and\\n>}: the one that is eventually born enters the sea with a full stomache.  Would\\n>}: you like some more gruesome examples?\\n>}Fair enough - I'm pretty well aware of the examples used - and mine were very\\n>}rapidly and thoughtlessly pulled out of thin air, but the point I'm making is\\n>}that our non-cannibalism doesn't imply any `value' over other animals.\\n>Did something happen while I wasn't looking?  When did _Homo sapiens_ become\\n>non-cannibalistic?\"),\n",
              " Row(Path='file:/content/20_newsgroups/alt.atheism/53663', Newsgroups=' alt.atheism', Organization=' Monash University, Melb., Australia.', Subject=' Re: Genocide is Caused by Atheism', Date=' Wed, 21 Apr 1993 15:56:49 GMT', Lines=' 19', From=' darice@yoyo.cc.monash.edu.au (Fred Rice)', Contenu='In <1993Apr19.140316.14872@cs.nott.ac.uk> eczcaw@mips.nott.ac.uk (A.Wainwright) writes:'),\n",
              " Row(Path='file:/content/20_newsgroups/alt.atheism/54135', Newsgroups=' alt.atheism', Organization=' AT&T', Subject=' Re: some thoughts.', Date=' Mon, 26 Apr 1993 13:13:38 GMT', Lines=' 40', From=' decay@cbnewsj.cb.att.com (dean.kaflowitz)', Contenu=\"In article <C62B52.LKz@blaze.cs.jhu.edu>, arromdee@jyusenkyou.cs.jhu.edu (Ken Arromdee) writes:\\n> In article <w_briggs-250493134303@ccresources6h58.cc.utas.edu.au> w_briggs@postoffice.utas.edu.au (William Briggs) writes:\\n> >Wasn't JC a carpenter?  Anyway that's beside the point. I think the fact\\n> >that is more compelling is JC fulfilling the prophecies when the prophecies\\n> >include him getting killed in the most agonizing possible way.\\n> \\n> This is nonsense.\\n> \\n> I can think of a lot more agonizing ways to get killed.  Fatal cancer, for\\n> instance.\\n> \\n> Anyone else have some more?  Maybe we can make a list.\"),\n",
              " Row(Path='file:/content/20_newsgroups/alt.atheism/53284', Newsgroups=' alt.atheism', Organization=None, Subject=' Re: Amusing atheists and agnostics', Date=' 20 Apr 93 01:07:09 GMT', Lines=' 19', From=' timmbake@mcl.ucsb.edu (Bake Timmons)', Contenu=\"nancyo@fraser.sfu.ca (Nancy Patricia O'Connor) writes:\"),\n",
              " Row(Path='file:/content/20_newsgroups/alt.atheism/53262', Newsgroups=' alt.atheism', Organization=None, Subject=' Re: After 2000 years, can we say that Christian Morality is', Date=' 20 Apr 93 15:25:03 GMT', Lines=' 129', From=' halat@panther.bears (Jim Halat)', Contenu='In article <930419.104739.2t8.rusnews.w165w@mantis.co.uk>, mathew@mantis.co.uk (mathew) writes:\\n>mccullou@snake2.cs.wisc.edu (Mark McCullough) writes:\\n>>In article <30136@ursa.bear.com> halat@pooh.bears (Jim Halat) writes:\\n>>>Atoms are not objective.  They aren\\'t even real.  What scientists call\\n>>>an atom is nothing more than a mathematical model that describes \\n>>>certain physical, observable properties of our surroundings.  All\\n>>>of which is subjective.  \\n>> \\n>> This deserves framing.  It really does.  \"[Atoms] aren\\'t even real.\"\\n>> \\n>> Tell me then, those atoms we have seen with electron microscopes are\\n>> atoms now, so what are they?  Figments of our imaginations?  The\\n>> evidence that atoms are real is overwhelming, but I won\\'t bother with\\n>> most evidence at the moment.\\n>\\n>HA HA HA!\\n>\\n>Sorry, but having studied cell biology, I have to say that \"I can see it\\n>through an electron microscope, THEREFORE it is real\" is a laughable\\n>statement.\\n>\\n[...stuff deleted...]'),\n",
              " Row(Path='file:/content/20_newsgroups/alt.atheism/54243', Newsgroups=' sci.skeptic,alt.atheism', Organization=' UC Davis Dept of Applied Science at LLNL', Subject=' Re: Asimov stamp', Date=' 26 Apr 1993 17:48:05 GMT', Lines=' 18', From=' ed@wente.llnl.gov (Ed Suranyi)', Contenu=\"In article <C61H4H.8D4@dcs.ed.ac.uk> pdc@dcs.ed.ac.uk (Paul Crowley) writes:\\n>Quoting schnitzi@eustis.cs.ucf.edu (Mark Schnitzius) in article <schnitzi.735603785@eustis>:\\n>>I'm sure all the religious types would get in a snit due\\n>>to Asimov's atheism.\"),\n",
              " Row(Path='file:/content/20_newsgroups/alt.atheism/51300', Newsgroups=' alt.atheism', Organization=' Technical University Braunschweig, Germany', Subject=' Re: Yeah, Right', Date=' Tue, 6 Apr 1993 16:44:42 GMT', Lines=' 54', From=' I3150101@dbstu1.rz.tu-bs.de (Benedikt Rosenau)', Contenu='In article <66014@mimsy.umd.edu>\\nmangoe@cs.umd.edu (Charley Wingate) writes:\\n \\n>>And what about that revelation thing, Charley?\\n>\\n>If you\\'re talking about this intellectual engagement of revelation, well,\\n>it\\'s obviously a risk one takes.\\n>\\n \\nI see, it is not rational, but it is intellectual. Does madness qualify\\nas intellectual engagement, too?\\n \\n \\n>>Many people say that the concept of metaphysical and religious knowledge\\n>>is contradictive.\\n>\\n>I\\'m not an objectivist, so I\\'m not particularly impressed with problems of\\n>conceptualization.  The problem in this case is at least as bad as that of\\n>trying to explain quantum mechanics and relativity in the terms of ordinary\\n>experience.  One can get some rough understanding, but the language is, from\\n>the perspective of ordinary phenomena, inconsistent, and from the\\n>perspective of what\\'s being described, rather inexact (to be charitable).\\n>\\n \\nExactly why science uses mathematics. QM representation in natural language\\nis not supposed to replace the elaborate representation in mathematical\\nterminology. Nor is it supposed to be the truth, as opposed to the\\nrepresentation of gods or religions in ordinary language. Admittedly,\\nnot  every religion says so, but a fancy side effect of their inept\\nrepresentations are the eternal hassles between religions.\\n \\nAnd QM allows for making experiments that will lead to results that will\\nbe agreed upon as being similar. Show me something similar in religion.\\n \\n \\n>An analogous situation (supposedly) obtains in metaphysics; the problem is\\n>that the \"better\" descriptive language is not available.\\n>\\n \\nWith the effect that the models presented are useless. And one can argue\\nthat the other way around, namely that the only reason metaphysics still\\nflourish is because it makes no statements that can be verified or falsified -\\nshowing that it is bogus.\\n \\n \\n>>And in case it holds reliable information, can you show how you establish\\n>>that?\\n>\\n>This word \"reliable\" is essentially meaningless in the context-- unless you\\n>can show how reliability can be determined.\\n \\nHaven\\'t you read the many posts about what reliability is and how it can\\nbe acheived respectively determined?\\n   Benedikt\\n'),\n",
              " Row(Path='file:/content/20_newsgroups/alt.atheism/53401', Newsgroups=' alt.atheism', Organization=' Macalester College', Subject=' TEST: IGNORE', Date=' 20 Apr 93 18:55:20 -0600', Lines=' 11', From=' acooper@mac.cc.macalstr.edu (Turin Turambar, ME Department of Utter Misery)', Contenu='TEST-- '),\n",
              " Row(Path='file:/content/20_newsgroups/alt.atheism/53523', Newsgroups=' alt.atheism', Organization=' Mayo Foundation/Mayo Graduate School :Rochester, MN', Subject=' Re:  Islam And Scientific Predictions (was', Date=' Fri, 16 Apr 93 18:36:54 GMT', Lines=' 53', From=' vdp@mayo.edu (Vinayak Dutt)', Contenu='In article H9r@ra.nrl.navy.mil,  khan@itd.itd.nrl.navy.mil (Umar Khan) writes:\\n##I strongly suggest that you look up a book called THE BIBLE, THE QURAN, AND\\n##SCIENCE by Maurice Baucaille, a French surgeon.  It is not comprehensive,\\n##but, it is well researched.  I imagine your library has it or can get it\\n##for you through interlibrary loan.\\n##'),\n",
              " Row(Path='file:/content/20_newsgroups/alt.atheism/53555', Newsgroups=' alt.atheism', Organization=' University of New Mexico, Albuquerque', Subject=' Re: free moral agency', Date=' 23 Apr 1993 17:28:24 GMT', Lines=' 76', From=' cfaehl@vesta.unm.edu (Chris Faehl)', Contenu='In article <C5v2Mr.1z1@darkside.osrhe.uoknor.edu>, bil@okcforum.osrhe.edu (Bill Conner) writes:\\n[deleted stuff from Andrew wrt which atheist myth is Bill re: to]\\n> \\n> Andrew,\\n> \\n> The myth to which I refer is the convoluted counterfeit athiests have\\n> created to make religion appear absurd. '),\n",
              " Row(Path='file:/content/20_newsgroups/alt.atheism/53563', Newsgroups=' alt.atheism', Organization=' Amherst College', Subject=' Atheism survey', Date=' Fri, 23 Apr 1993 18:38:06 GMT', Lines=' 100', From=' mtabbott@unix.amherst.edu (MTA)', Contenu='I am doing research on atheism, part of which involves field research here\\non the net.  The following is a survey directed towards all readers of this\\ngroup, intended to get data about the basis of atheistic belief.  I would\\nseriously appreciate it if each and every one of you would fill it out and\\nmail it back to me at mtabbott@unix.amherst.edu.  '),\n",
              " Row(Path='file:/content/20_newsgroups/alt.atheism/53458', Newsgroups=' alt.atheism', Organization=' Princeton University', Subject=' Re: Christian Morality is', Date=' 20 Apr 93 21:08:58 GMT', Lines=' 14', From=' qpliu@ernie.Princeton.EDU (q.p.liu)', Contenu='In article <4949@eastman.UUCP> dps@nasa.kodak.com writes:\\n>Simple logic arguments are folly.  If you read the Bible you will see\\n>that Jesus made fools of those who tried to trick him with \"logic\".'),\n",
              " Row(Path='file:/content/20_newsgroups/alt.atheism/51283', Newsgroups=' alt.atheism,rec.scouting', Organization=' University of Michigan Engineering, Ann Arbor', Subject=' Evo. & Homosexuality (Was Re: Princeton etc.)', Date=' 6 Apr 93 20:23:54 GMT', Lines=' 51', From=' ingles@engin.umich.edu (Ray Ingles)', Contenu=\"\\n Sorry, Bill, I had to clear this up. There may be good evolutionary\\narguments against homosexuality, but these don't qualify.\"),\n",
              " Row(Path='file:/content/20_newsgroups/alt.atheism/53542', Newsgroups=' talk.abortion,alt.atheism,talk.religion.misc', Organization=' Wolfram Research, Inc.', Subject=' Re: After 2000 years, can we say that Christian Morality is', Date=' Fri, 23 Apr 1993 15:53:21 GMT', Lines=' 55', From=' markp@avignon (Mark Pundurs)', Contenu='mathew <mathew@mantis.co.uk> writes:'),\n",
              " Row(Path='file:/content/20_newsgroups/alt.atheism/53564', Newsgroups=' alt.atheism', Organization=' Department of Computer Science, Warwick University, England', Subject=\" Re: Americans and Evolution, now with free Ockham's Razor inside\", Date=' Fri, 23 Apr 1993 18:49:02 GMT', Lines=' 386', From=' simon@dcs.warwick.ac.uk (Simon Clippingdale)', Contenu='Sorry about the delay in responding, due to conference paper deadline panic.'),\n",
              " Row(Path='file:/content/20_newsgroups/alt.atheism/53227', Newsgroups=' alt.atheism,talk.religion.misc,talk.origins', Organization=' Tektronix Inc., Beaverton, Or.', Subject=' Re: Albert Sabin', Date=' 16 Apr 93 04:46:32 GMT', Lines=' 17', From=' bobbe@vice.ICO.TEK.COM (Robert Beauchaine)', Contenu='In article <1993Apr15.231515.19982@rambo.atlanta.dg.com> wpr@atlanta.dg.com (Bill Rawlins) writes:\\n>           An atonement (Jesus) is needed to atone for sin.'),\n",
              " Row(Path='file:/content/20_newsgroups/alt.atheism/53354', Newsgroups=' alt.atheism,talk.religion.misc,talk.origins', Organization=' Purdue University Computing Center', Subject=' Burden of Proof', Date=' Wed, 21 Apr 1993 00:38:37 GMT', Lines=' 15', From=' frittsbc@sage.cc.purdue.edu (Brian Fritts)', Contenu=\"  I saw one theist on this net talking about the absurdity of one saying he\\ndoesn't believe in god, and how can we be sure.  The problem with this and\\nother arguments assumes that the burden of proof lies with the atheist. Wrong!\\nIn philosophy the one who is making a positive argument must give reasons for\\nhis believing so, not the negative.  If I were to make the statement elves \\nexist, then it would be up to me to prove my positive assertion, not the \\nperson saying that elves don't exist.  If the negative in this case had to \\nprove elves don't exist he would have to omniscient and know every inch of the\\nuniverse.  The same applies with god.  Give me your reasons, and you (the theist) make the case.\"),\n",
              " Row(Path='file:/content/20_newsgroups/alt.atheism/53397', Newsgroups=' alt.atheism', Organization=' Macalester College', Subject=' Re: Societally acceptable behavior', Date=' 20 Apr 93 17:53:14 -0600', Lines=' 55', From=' acooper@mac.cc.macalstr.edu (Turin Turambar, ME Department of Utter Misery)', Contenu=\"In article <C5sA29.14s@news.cso.uiuc.edu>, cobb@alexia.lis.uiuc.edu (Mike Cobb) writes:\\n> I guess I'm delving into a religious language area.  What exactly is morality \\n> or morals?  \"),\n",
              " Row(Path='file:/content/20_newsgroups/alt.atheism/53202', Newsgroups=' alt.atheism,talk.religion.misc,talk.origins', Organization=' Case Western Reserve University', Subject=' Re: After 2000 years, can we say that Christian Morality is', Date=' Fri, 16 Apr 1993 04:15:11 GMT', Lines=' 15', From=' kmr4@po.CWRU.edu (Keith M. Ryan)', Contenu='In article <C5JrDE.M4z@news.cso.uiuc.edu> cobb@alexia.lis.uiuc.edu (Mike Cobb) writes:'),\n",
              " Row(Path='file:/content/20_newsgroups/alt.atheism/53098', Newsgroups=' alt.atheism', Organization=' Cookamunga Tourist Bureau', Subject=' Re: Genocide is Caused by Atheism', Date=' Thu, 15 Apr 1993 21:57:25 GMT', Lines=' 27', From=' sandvik@newton.apple.com (Kent Sandvik)', Contenu='In article <1qjfnv$ogt@horus.ap.mchp.sni.de>, frank@D012S658.uucp (Frank\\nO\\'Dwyer) wrote:\\n> (1) Does the term \"hero-worship\" mean anything to you?  '),\n",
              " Row(Path='file:/content/20_newsgroups/alt.atheism/53132', Newsgroups=' alt.atheism', Organization=' Tektronix, Inc., Beaverton,  OR.', Subject=' Re: Slavery (was Re: Why is sex only allowed in marriage: ...)', Date=' 16 Apr 93 00:14:51 GMT', Lines=' 21', From=' naren@tekig1.PEN.TEK.COM (Naren Bala)', Contenu=\"In article <sandvik-150493144638@sandvik-kent.apple.com> sandvik@newton.apple.com (Kent Sandvik) writes:\\n>Looking at historical evidence such 'perfect utopian' islamic states\\n>didn't survive. I agree, people are people, and even if you might\\n>start an Islamic revolution and create this perfect state, it takes \\n>some time and the internal corruption will destroy the ground rules --\\n>again.\\n>\"),\n",
              " Row(Path='file:/content/20_newsgroups/alt.atheism/53385', Newsgroups=' alt.atheism,talk.religion.misc,talk.origins', Organization=' University of Illinois at Urbana', Subject=' Re: After 2000 years, can we say that Christian Morality is', Date=' Fri, 16 Apr 1993 15:19:16 GMT', Lines=' 26', From=' cobb@alexia.lis.uiuc.edu (Mike Cobb)', Contenu='In <1qlapk$d7v@morrow.stanford.edu> salem@pangea.Stanford.EDU (Bruce Salem) \\nwrites:'),\n",
              " Row(Path='file:/content/20_newsgroups/alt.atheism/54237', Newsgroups=' alt.atheism', Organization=' Penn State University', Subject=' Re: YOU WILL ALL GO TO HELL!!!', Date=' Thu, 22 Apr 1993 19:18:23 EDT', Lines=' 38', From=' Andrew Newell <TAN102@psuvm.psu.edu>', Contenu=\"In article <1993Apr21.144114.8057@wam.umd.edu>, willdb@wam.umd.edu (William\\nDavid Battles) says:\\n>\\n>In article <1993Apr16.223250.15242@ncsu.edu> aiken@news.ncsu.edu (Wayne NMI\\n>Aiken) writes:\\n>>JSN104@psuvm.psu.edu wrote:\\n>>: YOU BLASHEPHEMERS!!! YOU WILL ALL GO TO HELL FOR NOT BELIEVING IN GOD!!!!  E\\n>B\\n>>: PREPARED FOR YOUR ETERNAL DAMNATION!!!\\n>>\\n>>Did someone leave their terminal unattended again?\\n>\\n>Probably not! The jesus freak's post is probably JSN104@PSUVM. Penn State\\n>is just loaded to the hilt with bible bangers. I use to go there *vomit* and\\n>it was the reason I left. They even had a group try to stop playing\\n>rock music in the dining halls one year cuz they deemed it satanic. Kampus\\n>Krusade for Khrist people run the damn place for the most part....except\\n>the Liberal Arts departments...they are the safe havens.\"),\n",
              " Row(Path='file:/content/20_newsgroups/alt.atheism/53353', Newsgroups=' alt.atheism', Organization=' SunSelect', Subject=\" Re: Who has read Rushdie's _The Satanic Ve\", Date=' 20 Apr 1993 23:48:54 GMT', Lines=' 15', From=' geoff@poori.East.Sun.COM (Geoff Arnold @ Sun BOS - R.H. coast near the top)', Contenu='In article 1r1cl7INNknk@bozo.dsinc.com, perry@dsinc.com (Jim Perry) writes:\\n>Anyway, since I seem to be the only one following this particular line\\n>of discussion, I wonder how many of the rest of the readership have\\n>read this book?  What are your thoughts on it?  '),\n",
              " Row(Path='file:/content/20_newsgroups/alt.atheism/53184', Newsgroups=' alt.atheism', Organization=' Walla Walla College', Subject=' Re: who are we to judge, Bobby?', Date=' Fri, 16 Apr 1993 02:44:34 GMT', Lines=' 38', From=' healta@saturn.wwc.edu (Tammy R Healy)', Contenu='In article <1993Apr14.213356.22176@ultb.isc.rit.edu> snm6394@ultb.isc.rit.edu (S.N. Mozumder ) writes:\\n>From: snm6394@ultb.isc.rit.edu (S.N. Mozumder )\\n>Subject: Re: who are we to judge, Bobby?\\n>Date: Wed, 14 Apr 1993 21:33:56 GMT\\n>In article <healta.56.734556346@saturn.wwc.edu> healta@saturn.wwc.edu (TAMMY R HEALY) writes:\\n>>Bobby,\\n>>\\n>>I would like to take the liberty to quote from a Christian writer named \\n>>Ellen G. White.  I hope that what she said will help you to edit your \\n>>remarks in this group in the future.\\n>>\\n>>\"Do not set yourself as a standard.  Do not make your opinions, your views \\n>>of duty, your interpretations of scripture, a criterion for others and in \\n>>your heart condemn them if they do not come up to your ideal.\"\\n>>                         Thoughts Fromthe Mount of Blessing p. 124\\n>>\\n>>I hope quoting this doesn\\'t make the atheists gag, but I think Ellen White \\n>>put it better than I could.\\n>> \\n>>Tammy\\n>\\n>Point?\\n>\\n>Peace,\\n>\\n>Bobby Mozumder\\n>\\nMy point is that you set up your views as the only way to believe.  Saying \\nthat all eveil in this world is caused by atheism is ridiculous and \\ncounterproductive to dialogue in this newsgroups.  I see in your posts a \\nspirit of condemnation of the atheists in this newsgroup bacause they don\\'\\nt believe exactly as you do.  If you\\'re here to try to convert the atheists \\nhere, you\\'re failing miserably.  Who wants to be in position of constantly \\ndefending themselves agaist insulting attacks, like you seem to like to do?!\\nI\\'m sorry you\\'re so blind that you didn\\'t get the messgae in the quote, \\neveryone else has seemed to.'),\n",
              " Row(Path='file:/content/20_newsgroups/alt.atheism/53191', Newsgroups=' alt.atheism', Organization=' sgi', Subject=' Re: Morality? (was Re: <Political Atheists?)', Date=' 16 Apr 93 03:48:03 GMT', Lines=' 51', From=' livesey@solntze.wpd.sgi.com (Jon Livesey)', Contenu=\"In article <1ql5snINN4vm@gap.caltech.edu>, keith@cco.caltech.edu (Keith Allan Schneider) writes:\\n|> livesey@solntze.wpd.sgi.com (Jon Livesey) writes:\\n|> \\n|> >>So, you are saying that it isn't possible for an instinctive act\\n|> >>to be moral one?\\n|> >\\n|> >I like to think that many things are possible.   Explain to me\\n|> >how instinctive acts can be moral acts, and I am happy to listen.\\n|> \\n|> For example, if it were instinctive not to murder...\"),\n",
              " Row(Path='file:/content/20_newsgroups/alt.atheism/53339', Newsgroups=' alt.atheism', Organization=' Macalester College', Subject=' STRONG & weak Atheism', Date=' 20 Apr 93 12:02:18 -0600', Lines=' 14', From=' acooper@mac.cc.macalstr.edu (Turin Turambar, ME Department of Utter Misery)', Contenu=\"Did that FAQ ever got modified to re-define strong atheists as not those who\\nassert the nonexistence of God, but as those who assert that they BELIEVE in \\nthe nonexistence of God?  There was a thread on this earlier, but I didn't get\\nthe outcome...\"),\n",
              " Row(Path='file:/content/20_newsgroups/alt.atheism/51160', Newsgroups=' alt.atheism', Organization=' California Institute of Technology, Pasadena', Subject=' Re: <Political Atheists?', Date=' 3 Apr 93 03:14:02 GMT', Lines=' 17', From=' keith@cco.caltech.edu (Keith Allan Schneider)', Contenu='bobbe@vice.ICO.TEK.COM (Robert Beauchaine) writes:'),\n",
              " Row(Path='file:/content/20_newsgroups/alt.atheism/53316', Newsgroups=' alt.atheism', Organization=' Johns Hopkins University CS Dept.', Subject=' Re: Christian Morality is', Date=' Tue, 20 Apr 1993 17:37:15 GMT', Lines=' 24', From=' arromdee@jyusenkyou.cs.jhu.edu (Ken Arromdee)', Contenu='In article <4949@eastman.UUCP> dps@nasa.kodak.com writes:\\n>|>  Yet I am still not a believer.  Is god not concerned with my\\n>|>  disposition?  Why is it beneath him to provide me with the\\n>|>  evidence I would require to believe?  The evidence that my\\n>|>  personality, given to me by this god, would find compelling?\\n>The fact is God could cause you to believe anything He wants you to. \\n>But think about it for a minute.  Would you rather have someone love\\n>you because you made them love you, or because they wanted to\\n>love you.'),\n",
              " Row(Path='file:/content/20_newsgroups/alt.atheism/53614', Newsgroups=' alt.atheism,talk.origins,talk.philosophy.misc', Organization=' University of Illinois at Urbana', Subject=' Science and theories', Date=' Wed, 21 Apr 1993 14:09:25 GMT', Lines=' 19', From=' cobb@alexia.lis.uiuc.edu (Mike Cobb)', Contenu=\"As per various threads on science and creationism, I've started dabbling into a\\nbook called Christianity and the Nature of Science by JP Moreland.  A question\\nthat I had come from one of his comments.  He stated that God is not \\nnecessarily a religious term, but could be used as other scientific terms that\\ngive explanation for events or theories, without being a proven scientific \\nfact.  I think I got his point -- I can quote the section if I'm being vague. \\nThe examples he gave were quarks and continental plates.  Are there \\nexplanations of science or parts of theories that are not measurable in and of\\nthemselves, or can everything be quantified, measured, tested, etc.?  \"),\n",
              " Row(Path='file:/content/20_newsgroups/alt.atheism/53169', Newsgroups=' alt.atheism,talk.religion.misc,talk.origins', Organization=' DGSID, Atlanta, GA', Subject=' Re: Albert Sabin', Date=' Thu, 15 Apr 93 23:15:15 GMT', Lines=' 80', From=' wpr@atlanta.dg.com (Bill Rawlins)', Contenu='In article <C5FtJt.885@sunfish.usd.edu>, rfox@charlie.usd.edu (Rich Fox, Univ of South Dakota) writes:\\n|> In article <1993Apr10.213547.17644@rambo.atlanta.dg.com>, wpr@atlanta.dg.com (Bill Rawlins) writes:\\n|> \\n|> [earlier dialogue deleted]\\n|> \\n|> >|> Perhaps you should read it and stop advancing the Bible as evidence relating \\n|> >|> to questions of science.  \\n|> \\n|> [it = _Did Jesus exist?_ by G. A. Wells]\\n|> \\n|> >     There is a great fallacy in your statement. The question of origins is\\n|> >     based on more than science alone.  \\n|> \\n|> Nope, no fallacy.  Yep, science is best in determining how; religions handle\\n|> why and who.'),\n",
              " Row(Path='file:/content/20_newsgroups/alt.atheism/53258', Newsgroups=' alt.atheism', Organization=' U of Maryland, Dept. of Computer Science, Coll. Pk., MD 20742', Subject=' Re: Origins of the bible.', Date=' 20 Apr 93 10:37:05 GMT', Lines=' 14', From=' mangoe@cs.umd.edu (Charley Wingate)', Contenu='Adda Wainwright writes:'),\n",
              " Row(Path='file:/content/20_newsgroups/alt.atheism/53468', Newsgroups=' alt.atheism', Organization=' Cookamunga Tourist Bureau', Subject=' Re: Yet more Rushdie [Re: ISLAMIC LAW]', Date=' Tue, 20 Apr 1993 02:33:23 GMT', Lines=' 29', From=' sandvik@newton.apple.com (Kent Sandvik)', Contenu=\"In article <C5qt5p.Mvo@blaze.cs.jhu.edu>, arromdee@jyusenkyou.cs.jhu.edu\\n(Ken Arromdee) wrote:\\n> \\n> In article <115694@bu.edu> jaeger@buphy.bu.edu (Gregg Jaeger) writes:\\n> >I think many reading this group would also benefit by knowing how\\n> >deviant the view _as I've articulated it above_ (which may not be\\n> >the true view of Khomeini) is from the basic principles of Islam. \\n> \\n> From the point ov view of an atheist, I see you claim Khomeini wasn't\\n> practicing true Islam.  But I'm sure that he would have said the same about\\n> you.  How am I, a member of neither group, supposed to be able to tell which\\n> one of you two is really a true Muslim?\"),\n",
              " Row(Path='file:/content/20_newsgroups/alt.atheism/54216', Newsgroups=' alt.atheism', Organization=' Okcforum Unix Users Group', Subject=' Re: free moral agency', Date=' Wed, 21 Apr 1993 23:35:32 GMT', Lines=' 4', From=' bil@okcforum.osrhe.edu (Bill Conner)', Contenu='See, I told you there was an atheist mythology, thanks for proving my\\npoint.'),\n",
              " Row(Path='file:/content/20_newsgroups/alt.atheism/51234', Newsgroups=' alt.atheism', Organization=' California Institute of Technology, Pasadena', Subject=' Re: Keith Schneider - Stealth Poster?', Date=' 4 Apr 1993 08:40:32 GMT', Lines=' 26', From=' keith@cco.caltech.edu (Keith Allan Schneider)', Contenu='cmtan@iss.nus.sg (Tan Chade Meng - dan) writes:'),\n",
              " Row(Path='file:/content/20_newsgroups/alt.atheism/53304', Newsgroups=' alt.atheism', Organization=' Technical University Braunschweig, Germany', Subject=' Re: islamic genocide', Date=' Fri, 16 Apr 1993 13:44:51 GMT', Lines=' 23', From=' I3150101@dbstu1.rz.tu-bs.de (Benedikt Rosenau)', Contenu=\"In article <1qi83b$ec4@horus.ap.mchp.sni.de>\\nfrank@D012S658.uucp (Frank O'Dwyer) writes:\\n \\n(Deletion)\\n>#>Few people can imagine dying for capitalism, a few\\n>#>more can imagine dying for democracy, but a lot more will die for their\\n>#>Lord and Savior Jesus Christ who Died on the Cross for their Sins.\\n>#>Motivation, pure and simple.\\n>\\n>Got any cites for this nonsense?   How many people will die for Mom?\\n>Patriotism? Freedom?   Money?  Their Kids?  Fast cars and swimming pools?\\n>A night with Kim Basinger or Mel Gibson?  And which of these things are evil?\\n>\\n \\nRead a history book, Fred. And tell me why so many religions command to\\ncommit genocide when it has got nothing to do with religion. Or why so many\\nreligions say that not living up to the standards of the religion is worse\\nthan dieing? Coincidence, I assume. Or ist part of the absolute morality\\nyou describe so often?\\n \\nTheism is strongly correlated with irrational belief in absolutes. Irrational\\nbelief in absolutes is strongly correlated with fanatism.\\n   Benedikt\\n\"),\n",
              " Row(Path='file:/content/20_newsgroups/alt.atheism/51230', Newsgroups=' alt.atheism', Organization=' Harlequin Ltd, Cambridge, UK', Subject=' Re: Genocide is Caused by Atheism', Date=' Tue, 6 Apr 1993 09:20:02 GMT', Lines=' 21', From=' richard@harlqn.co.uk (Richard Brooksby)', Contenu='Nanci Ann Miller <nm0w+@andrew.cmu.edu> writes:'),\n",
              " Row(Path='file:/content/20_newsgroups/alt.atheism/54163', Newsgroups=' alt.atheism,alt.atheism.moderated,news.answers,alt.answers', Organization=' Mantis Consultants, Cambridge. UK.', Subject=' Alt.Atheism FAQ: Atheist Resources', Date=' Mon, 26 Apr 1993 14:07:43 GMT', Lines=' 303', From=' mathew <mathew@mantis.co.uk>', Contenu='Archive-name: atheism/resources\\nAlt-atheism-archive-name: resources\\nLast-modified: 5 April 1993\\nVersion: 1.1'),\n",
              " Row(Path='file:/content/20_newsgroups/alt.atheism/53517', Newsgroups=' alt.atheism,talk.religion.misc,talk.origins', Organization=' Nottingham University', Subject=' Re: After 2000 years, can we say that Christian Morality is ', Date=' Fri, 16 Apr 93 16:41:17 GMT', Lines=' 45', From=' eczcaw@mips.nott.ac.uk (C.Wainwright)', Contenu=\"In article <C5L14I.JJ3@news.cso.uiuc.edu>, cobb@alexia.lis.uiuc.edu (Mike Cobb) writes:\\n|> In <1993Apr16.010800.11056@scic.intel.com> sbradley@scic.intel.com (Seth J. \\n|> Bradley) writes:\\n|> \\n|> >In article <C5JrDE.M4z@news.cso.uiuc.edu> cobb@alexia.lis.uiuc.edu (Mike \\n|> Cobb) writes:\\n|> >>Theory of Creationism: MY theistic view of the theory of creationism, (there \\n|> >>are many others) is stated in Genesis 1.  In the beginning God created\\n|> >>the heavens and the earth.\\n|> \\n|> >This is a belief, not a theory.  A theory makes predictions and is falsi-\\n|> >fiable.  What you've stated makes no predictions and is not falsifiable.\\n|> >If it was that easy, the ICR wouldn't have it as rough as they do :-).\\n|> >-- \\n|> >Seth J. Bradley, Senior System Administrator, Intel SCIC\\n|> >Internet: sbradley@scic.intel.com   UUCP: uunet!scic.intel.com!sbradley\\n|> >----------------------------------------\"),\n",
              " Row(Path='file:/content/20_newsgroups/alt.atheism/53599', Newsgroups=' alt.atheism', Organization=' Mantis Consultants, Cambridge. UK.', Subject=' Re: Death Penalty / Gulf War (long)', Date=' Wed, 21 Apr 1993 11:33:47 +0100', Lines=' 158', From=' mathew <mathew@mantis.co.uk>', Contenu=\"jbrown@batman.bmd.trw.com writes:\\n> I don't regret the fact that sometimes military decisions have to be made\\n> which affect the lives of innocent people.  But I do regret the \\n> circumstances which make those decisions necessary, and I regret the\\n> suffering caused by those decisions.  \"),\n",
              " Row(Path='file:/content/20_newsgroups/alt.atheism/51311', Newsgroups=' alt.atheism', Organization=' Okcforum Unix Users Group', Subject=' Re: Gospel Dating', Date=' Sat, 3 Apr 1993 02:28:11 GMT', Lines=' 22', From=' bil@okcforum.osrhe.edu (Bill Conner)', Contenu='Jim Perry (perry@dsinc.com) wrote:'),\n",
              " Row(Path='file:/content/20_newsgroups/alt.atheism/53612', Newsgroups=' talk.abortion,alt.atheism,talk.religion.misc', Organization=' Siemens-Nixdorf AG', Subject=' Re: After 2000 years, can we say that Christian Morality is', Date=' 23 Apr 1993 21:48:57 GMT', Lines=' 32', From=\" frank@D012S658.uucp (Frank O'Dwyer)\", Contenu='In article <lefty-220493122007@lefty.apple.com> lefty@apple.com (Lefty) writes:\\n#In article <1qu0f6$489@horus.ap.mchp.sni.de>, frank@D012S658.uucp (Frank\\n#O\\'Dwyer) wrote:\\n#> \\n#> In article <30134@ursa.bear.com> halat@pooh.bears (Jim Halat) writes:\\n#> #In article <1qjbn0$na4@horus.ap.mchp.sni.de>, frank@D012S658.uucp (Frank O\\'Dwyer) writes:\\n#> #\\n#> #\\n#> #>Really?  You don\\'t know what objective value is?  If I offered the people\\n#> #>of the U.S., collectively, $1 for all of the land in America, would that \\n#> #>sound like a good deal?  \\n#> #\\n#> #That happens to be a subjective example that the people of the\\n#> #US would happen to agree on.  Continue to move the price up; \\n#> #at some point a few people would accept then more then more until \\n#> #probably all would accept at a high enough number.\\n#> \\n#> And this \"high enough number\" is...?  :-)\\n#> \\n#> My point is that the deal is bad, and pretty much anyone can see it is so.\\n#\\n#Really?  I suspect my neighbor would jump at your deal.\\n#\\n#Of course, she\\'s only three, but if it were \"objectively\" bad, you wouldn\\'t\\n#think it would make a difference...')]"
            ]
          },
          "metadata": {},
          "execution_count": 176
        }
      ]
    },
    {
      "cell_type": "code",
      "source": [
        "#Create dataframe\n",
        "df=spark.createDataFrame(rddF)\n",
        "df.printSchema()\n",
        "df.show()\n",
        "df.count()"
      ],
      "metadata": {
        "id": "jkNhg-JGyrsE",
        "colab": {
          "base_uri": "https://localhost:8080/"
        },
        "outputId": "831db64c-55fe-4ba2-99dd-c25fa4a9a665"
      },
      "execution_count": 177,
      "outputs": [
        {
          "output_type": "stream",
          "name": "stdout",
          "text": [
            "root\n",
            " |-- Path: string (nullable = true)\n",
            " |-- Newsgroups: string (nullable = true)\n",
            " |-- Organization: string (nullable = true)\n",
            " |-- Subject: string (nullable = true)\n",
            " |-- Date: string (nullable = true)\n",
            " |-- Lines: string (nullable = true)\n",
            " |-- From: string (nullable = true)\n",
            " |-- Contenu: string (nullable = true)\n",
            "\n",
            "+--------------------+--------------------+--------------------+--------------------+--------------------+-----+--------------------+--------------------+\n",
            "|                Path|          Newsgroups|        Organization|             Subject|                Date|Lines|                From|             Contenu|\n",
            "+--------------------+--------------------+--------------------+--------------------+--------------------+-----+--------------------+--------------------+\n",
            "|file:/content/20_...| talk.abortion,al...|  Siemens-Nixdorf AG| Re: After 2000 y...| 15 Apr 1993 21:1...|   50| frank@D012S658.u...|In article <lsr6i...|\n",
            "|file:/content/20_...|         alt.atheism| Bell-Northern Re...|    Re: Speculations| 5 Apr 93 21:19:2...|   17| dgraham@bmers30....|In article <93040...|\n",
            "|file:/content/20_...|         alt.atheism| Orden del Lobo E...| Studies on Book ...| Sun, 18 Apr 1993...|   20| agrino@enkidu.mi...|                 Hi!|\n",
            "|file:/content/20_...|         alt.atheism| Nottingham Unive...| Re: Death Penalt...| Wed, 21 Apr 93 1...|   60| eczcaw@mips.nott...|In article <C5rLy...|\n",
            "|file:/content/20_...|         alt.atheism| Boston Universit...| Re: The Inimitab...| 16 Apr 93 01:31:...|   41| jaeger@buphy.bu....|In article <C5HKv...|\n",
            "|file:/content/20_...| talk.abortion,al...| Harlequin Ltd. C...| Re: After 2000 y...| Thu, 22 Apr 1993...|   36| richard@harlqn.c...|frank@D012S658.uu...|\n",
            "|file:/content/20_...|         alt.atheism| University of Il...| Re: After 2000 y...| Fri, 16 Apr 1993...|   23| cobb@alexia.lis....|In <sfnNTrC00WBO4...|\n",
            "|file:/content/20_...|         alt.atheism|  Siemens-Nixdorf AG| Re: Bayesian Sta...| 25 Apr 1993 00:2...|  192| frank@D012S658.u...|In article <1993A...|\n",
            "|file:/content/20_...|         alt.atheism| Compaq Computer ...| Re: thoughts on ...| Fri, 16 Apr 1993...|   26| edm@twisto.compa...|>>>>> On 16 Apr 9...|\n",
            "|file:/content/20_...|         alt.atheism| Sponsored accoun...| Re: Genocide is ...| Mon,  5 Apr 1993...|   27| Nanci Ann Miller...|snm6394@ultb.isc....|\n",
            "|file:/content/20_...|         alt.atheism| Walla Walla College| Re: Free Moral A...| Fri, 16 Apr 1993...|   37| healta@saturn.ww...|In article <sandv...|\n",
            "|file:/content/20_...|         alt.atheism| University of Il...| Re: After 2000 y...| Fri, 16 Apr 1993...|   36| cobb@alexia.lis....|In <kmr4.1576.734...|\n",
            "|file:/content/20_...|         alt.atheism| Sponsored accoun...| Re: College athe...| Wed, 21 Apr 1993...|   34| Nanci Ann Miller...|nyeda@cnsvax.uwec...|\n",
            "|file:/content/20_...| alt.atheism,talk...| University of Il...| Societal basis f...| Mon, 19 Apr 1993...|   18| cobb@alexia.lis....|I'll yield the di...|\n",
            "|file:/content/20_...|         alt.atheism|                AT&T|  Re: some thoughts.| Mon, 26 Apr 1993...|   26| decay@cbnewsj.cb...|In article <kmr4....|\n",
            "|file:/content/20_...|         alt.atheism| Case Western Res...| Re: The Inimitab...| Sun, 18 Apr 1993...|   19| kmr4@po.CWRU.edu...|In article <11584...|\n",
            "|file:/content/20_...|         alt.atheism| Compaq Computer ...|  Re: KORESH IS GOD!| Fri, 16 Apr 1993...|   12| edm@twisto.compa...|>>>>> On Fri, 16 ...|\n",
            "|file:/content/20_...|         alt.atheism| Tektronix Inc., ...| Re: Amusing athe...| 20 Apr 93 15:37:...|   18| bobbe@vice.ICO.T...|In article <madha...|\n",
            "|file:/content/20_...| alt.atheism,talk...| The Duck Pond pu...|    Re: Albert Sabin| 6 Apr 93 18:44:1...|   16| pharvey@quack.kf...|In article <1pq63...|\n",
            "|file:/content/20_...|         alt.atheism| Monash Universit...| Re: Genocide is ...| Wed, 21 Apr 1993...|   19| darice@yoyo.cc.m...|In <1993Apr19.140...|\n",
            "+--------------------+--------------------+--------------------+--------------------+--------------------+-----+--------------------+--------------------+\n",
            "only showing top 20 rows\n",
            "\n"
          ]
        },
        {
          "output_type": "execute_result",
          "data": {
            "text/plain": [
              "2000"
            ]
          },
          "metadata": {},
          "execution_count": 177
        }
      ]
    },
    {
      "cell_type": "code",
      "source": [
        "!pip install pandavro"
      ],
      "metadata": {
        "id": "9j4F1Md60WZu",
        "colab": {
          "base_uri": "https://localhost:8080/"
        },
        "outputId": "cb36ddb5-be99-435e-8845-8a16ee08d7e6"
      },
      "execution_count": 67,
      "outputs": [
        {
          "output_type": "stream",
          "name": "stdout",
          "text": [
            "Looking in indexes: https://pypi.org/simple, https://us-python.pkg.dev/colab-wheels/public/simple/\n",
            "Collecting pandavro\n",
            "  Downloading pandavro-1.7.1.tar.gz (8.1 kB)\n",
            "  Preparing metadata (setup.py) ... \u001b[?25l\u001b[?25hdone\n",
            "Collecting fastavro==1.5.1\n",
            "  Downloading fastavro-1.5.1-cp38-cp38-manylinux_2_17_x86_64.manylinux2014_x86_64.whl (2.6 MB)\n",
            "\u001b[2K     \u001b[90m━━━━━━━━━━━━━━━━━━━━━━━━━━━━━━━━━━━━━━━━\u001b[0m \u001b[32m2.6/2.6 MB\u001b[0m \u001b[31m71.9 MB/s\u001b[0m eta \u001b[36m0:00:00\u001b[0m\n",
            "\u001b[?25hRequirement already satisfied: pandas>=1.1 in /usr/local/lib/python3.8/dist-packages (from pandavro) (1.3.5)\n",
            "Requirement already satisfied: numpy>=1.15.4 in /usr/local/lib/python3.8/dist-packages (from pandavro) (1.21.6)\n",
            "Requirement already satisfied: python-dateutil>=2.7.3 in /usr/local/lib/python3.8/dist-packages (from pandas>=1.1->pandavro) (2.8.2)\n",
            "Requirement already satisfied: pytz>=2017.3 in /usr/local/lib/python3.8/dist-packages (from pandas>=1.1->pandavro) (2022.7.1)\n",
            "Requirement already satisfied: six>=1.5 in /usr/local/lib/python3.8/dist-packages (from python-dateutil>=2.7.3->pandas>=1.1->pandavro) (1.15.0)\n",
            "Building wheels for collected packages: pandavro\n",
            "  Building wheel for pandavro (setup.py) ... \u001b[?25l\u001b[?25hdone\n",
            "  Created wheel for pandavro: filename=pandavro-1.7.1-py3-none-any.whl size=5688 sha256=be2261f1b3392d667f68a2f253bf693a690dd1afcd25c64ebfcd3160f93d209a\n",
            "  Stored in directory: /root/.cache/pip/wheels/85/cc/15/480a3cfa1a9fc49e2af9bde7437bd6c8c0265f17e61f32672b\n",
            "Successfully built pandavro\n",
            "Installing collected packages: fastavro, pandavro\n",
            "Successfully installed fastavro-1.5.1 pandavro-1.7.1\n"
          ]
        }
      ]
    },
    {
      "cell_type": "code",
      "source": [
        "import numpy as np\n",
        "import pandas as pd\n",
        "import pandavro as pdx\n",
        "filename = \"df.avro\"\n",
        "df2=df.toPandas()\n",
        "pdx.to_avro(filename, df2)"
      ],
      "metadata": {
        "id": "t2smBRf61WTP"
      },
      "execution_count": 178,
      "outputs": []
    },
    {
      "cell_type": "code",
      "source": [
        "#lecture du fichier avro créé\n",
        "saved = pdx.read_avro(filename)\n",
        "print(saved)"
      ],
      "metadata": {
        "id": "45jc0cIg44-4",
        "colab": {
          "base_uri": "https://localhost:8080/"
        },
        "outputId": "00b3f33a-6bfb-4eb3-9226-c4175b33a417"
      },
      "execution_count": 179,
      "outputs": [
        {
          "output_type": "stream",
          "name": "stdout",
          "text": [
            "                                                   Path  \\\n",
            "0         file:/content/20_newsgroups/alt.atheism/53079   \n",
            "1         file:/content/20_newsgroups/alt.atheism/51141   \n",
            "2         file:/content/20_newsgroups/alt.atheism/53282   \n",
            "3         file:/content/20_newsgroups/alt.atheism/53631   \n",
            "4         file:/content/20_newsgroups/alt.atheism/53163   \n",
            "...                                                 ...   \n",
            "1995  file:/content/20_newsgroups/rec.sport.baseball...   \n",
            "1996  file:/content/20_newsgroups/rec.sport.baseball...   \n",
            "1997  file:/content/20_newsgroups/rec.sport.baseball...   \n",
            "1998  file:/content/20_newsgroups/rec.sport.baseball...   \n",
            "1999  file:/content/20_newsgroups/rec.sport.baseball...   \n",
            "\n",
            "                                         Newsgroups  \\\n",
            "0      talk.abortion,alt.atheism,talk.religion.misc   \n",
            "1                                       alt.atheism   \n",
            "2                                       alt.atheism   \n",
            "3                                       alt.atheism   \n",
            "4                                       alt.atheism   \n",
            "...                                             ...   \n",
            "1995                             rec.sport.baseball   \n",
            "1996                             rec.sport.baseball   \n",
            "1997                             rec.sport.baseball   \n",
            "1998                             rec.sport.baseball   \n",
            "1999                             rec.sport.baseball   \n",
            "\n",
            "                                           Organization  \\\n",
            "0                                    Siemens-Nixdorf AG   \n",
            "1                Bell-Northern Research, Ottawa, Canada   \n",
            "2                              Orden del Lobo Estepario   \n",
            "3                                 Nottingham University   \n",
            "4                  Boston University Physics Department   \n",
            "...                                                 ...   \n",
            "1995                      the HP Corporate notes server   \n",
            "1996   Ball State University, Muncie, In - Univ. Com...   \n",
            "1997   Computing Services Division, University of Wi...   \n",
            "1998                                Brandeis University   \n",
            "1999                           University of Cincinnati   \n",
            "\n",
            "                                                Subject  \\\n",
            "0      Re: After 2000 years, can we say that Christi...   \n",
            "1                                      Re: Speculations   \n",
            "2                             Studies on Book of Mormon   \n",
            "3       Re: Death Penalty (was Re: Political Atheists?)   \n",
            "4                            Re: The Inimitable Rushdie   \n",
            "...                                                 ...   \n",
            "1995                                      Rockies 5 - 8   \n",
            "1996                          Jim Lefebvre is an idiot.   \n",
            "1997                              Re: Twins Update 4-22   \n",
            "1998                           Re: Best Sportwriters...   \n",
            "1999                              Re: speeding up games   \n",
            "\n",
            "                                Date Lines  \\\n",
            "0           15 Apr 1993 21:12:01 GMT    50   \n",
            "1              5 Apr 93 21:19:24 GMT    17   \n",
            "2      Sun, 18 Apr 1993 14:15:33 CST    20   \n",
            "3        Wed, 21 Apr 93 11:49:47 GMT    60   \n",
            "4             16 Apr 93 01:31:01 GMT    41   \n",
            "...                              ...   ...   \n",
            "1995   Thu, 22 Apr 1993 15:08:01 GMT    37   \n",
            "1996           6 Apr 93 00:01:41 GMT    14   \n",
            "1997        23 Apr 1993 17:05:48 GMT    12   \n",
            "1998   Fri, 16 Apr 1993 07:22:59 GMT    23   \n",
            "1999        24 Apr 1993 02:57:28 GMT    16   \n",
            "\n",
            "                                             From  \\\n",
            "0             frank@D012S658.uucp (Frank O'Dwyer)   \n",
            "1         dgraham@bmers30.bnr.ca (Douglas Graham)   \n",
            "2      agrino@enkidu.mic.cl (Andres Grino Brandt)   \n",
            "3           eczcaw@mips.nott.ac.uk (A.Wainwright)   \n",
            "4              jaeger@buphy.bu.edu (Gregg Jaeger)   \n",
            "...                                           ...   \n",
            "1995    boell@hpcc01.corp.hp.com (Donald P Boell)   \n",
            "1996                   00bjgood@leo.bsuvc.bsu.edu   \n",
            "1997       paul@csd4.csd.uwm.edu (Paul R Krueger)   \n",
            "1998    st902415@pip.cc.brandeis.edu (Adam Levin)   \n",
            "1999           rbd@flash.ece.uc.edu (Bobby Davis)   \n",
            "\n",
            "                                                Contenu  \n",
            "0     In article <lsr6ihINNsa@exodus.Eng.Sun.COM> em...  \n",
            "1     In article <930405.172903.4w6.rusnews.w165w@ma...  \n",
            "2                                                   Hi!  \n",
            "3     In article <C5rLyz.4Mt@darkside.osrhe.uoknor.e...  \n",
            "4     In article <C5HKv2.Epv@blaze.cs.jhu.edu> arrom...  \n",
            "...                                                 ...  \n",
            "1995  \\nName            Pos   AB    H    2B    3B   ...  \n",
            "1996  I just wanted to let everyone know that I have...  \n",
            "1997  In article <1993Apr23.151050.8995@sctc.com> ma...  \n",
            "1998  In article <C5K7nK.7tv@news.cso.uiuc.edu>, rko...  \n",
            "1999  In article <rudyC5wCsG.G6A@netcom.com> rudy@ne...  \n",
            "\n",
            "[2000 rows x 8 columns]\n"
          ]
        }
      ]
    },
    {
      "cell_type": "code",
      "source": [],
      "metadata": {
        "id": "8LMgxR5L6v1Z"
      },
      "execution_count": null,
      "outputs": []
    },
    {
      "cell_type": "code",
      "source": [
        "# sauvgarder le dataframe au format parquet\n",
        "import pyarrow as pa\n",
        "import pyarrow.parquet as pq\n",
        "table = pa.Table.from_pandas(df2)\n",
        "pq.write_table(table, 'df.parquet')"
      ],
      "metadata": {
        "id": "ukrDrjxH4L0x"
      },
      "execution_count": 180,
      "outputs": []
    },
    {
      "cell_type": "code",
      "source": [
        "# lecture du df a partir du fichier parquet\n",
        "table2 = pq.read_table('df.parquet')\n",
        "table2.to_pandas()"
      ],
      "metadata": {
        "id": "BVWBv2Tk4pRG",
        "colab": {
          "base_uri": "https://localhost:8080/",
          "height": 1000
        },
        "outputId": "4b4ac372-36f1-4037-ff6e-0f368a5e9416"
      },
      "execution_count": 182,
      "outputs": [
        {
          "output_type": "execute_result",
          "data": {
            "text/plain": [
              "                                                   Path  \\\n",
              "0         file:/content/20_newsgroups/alt.atheism/53079   \n",
              "1         file:/content/20_newsgroups/alt.atheism/51141   \n",
              "2         file:/content/20_newsgroups/alt.atheism/53282   \n",
              "3         file:/content/20_newsgroups/alt.atheism/53631   \n",
              "4         file:/content/20_newsgroups/alt.atheism/53163   \n",
              "...                                                 ...   \n",
              "1995  file:/content/20_newsgroups/rec.sport.baseball...   \n",
              "1996  file:/content/20_newsgroups/rec.sport.baseball...   \n",
              "1997  file:/content/20_newsgroups/rec.sport.baseball...   \n",
              "1998  file:/content/20_newsgroups/rec.sport.baseball...   \n",
              "1999  file:/content/20_newsgroups/rec.sport.baseball...   \n",
              "\n",
              "                                         Newsgroups  \\\n",
              "0      talk.abortion,alt.atheism,talk.religion.misc   \n",
              "1                                       alt.atheism   \n",
              "2                                       alt.atheism   \n",
              "3                                       alt.atheism   \n",
              "4                                       alt.atheism   \n",
              "...                                             ...   \n",
              "1995                             rec.sport.baseball   \n",
              "1996                             rec.sport.baseball   \n",
              "1997                             rec.sport.baseball   \n",
              "1998                             rec.sport.baseball   \n",
              "1999                             rec.sport.baseball   \n",
              "\n",
              "                                           Organization  \\\n",
              "0                                    Siemens-Nixdorf AG   \n",
              "1                Bell-Northern Research, Ottawa, Canada   \n",
              "2                              Orden del Lobo Estepario   \n",
              "3                                 Nottingham University   \n",
              "4                  Boston University Physics Department   \n",
              "...                                                 ...   \n",
              "1995                      the HP Corporate notes server   \n",
              "1996   Ball State University, Muncie, In - Univ. Com...   \n",
              "1997   Computing Services Division, University of Wi...   \n",
              "1998                                Brandeis University   \n",
              "1999                           University of Cincinnati   \n",
              "\n",
              "                                                Subject  \\\n",
              "0      Re: After 2000 years, can we say that Christi...   \n",
              "1                                      Re: Speculations   \n",
              "2                             Studies on Book of Mormon   \n",
              "3       Re: Death Penalty (was Re: Political Atheists?)   \n",
              "4                            Re: The Inimitable Rushdie   \n",
              "...                                                 ...   \n",
              "1995                                      Rockies 5 - 8   \n",
              "1996                          Jim Lefebvre is an idiot.   \n",
              "1997                              Re: Twins Update 4-22   \n",
              "1998                           Re: Best Sportwriters...   \n",
              "1999                              Re: speeding up games   \n",
              "\n",
              "                                Date Lines  \\\n",
              "0           15 Apr 1993 21:12:01 GMT    50   \n",
              "1              5 Apr 93 21:19:24 GMT    17   \n",
              "2      Sun, 18 Apr 1993 14:15:33 CST    20   \n",
              "3        Wed, 21 Apr 93 11:49:47 GMT    60   \n",
              "4             16 Apr 93 01:31:01 GMT    41   \n",
              "...                              ...   ...   \n",
              "1995   Thu, 22 Apr 1993 15:08:01 GMT    37   \n",
              "1996           6 Apr 93 00:01:41 GMT    14   \n",
              "1997        23 Apr 1993 17:05:48 GMT    12   \n",
              "1998   Fri, 16 Apr 1993 07:22:59 GMT    23   \n",
              "1999        24 Apr 1993 02:57:28 GMT    16   \n",
              "\n",
              "                                             From  \\\n",
              "0             frank@D012S658.uucp (Frank O'Dwyer)   \n",
              "1         dgraham@bmers30.bnr.ca (Douglas Graham)   \n",
              "2      agrino@enkidu.mic.cl (Andres Grino Brandt)   \n",
              "3           eczcaw@mips.nott.ac.uk (A.Wainwright)   \n",
              "4              jaeger@buphy.bu.edu (Gregg Jaeger)   \n",
              "...                                           ...   \n",
              "1995    boell@hpcc01.corp.hp.com (Donald P Boell)   \n",
              "1996                   00bjgood@leo.bsuvc.bsu.edu   \n",
              "1997       paul@csd4.csd.uwm.edu (Paul R Krueger)   \n",
              "1998    st902415@pip.cc.brandeis.edu (Adam Levin)   \n",
              "1999           rbd@flash.ece.uc.edu (Bobby Davis)   \n",
              "\n",
              "                                                Contenu  \n",
              "0     In article <lsr6ihINNsa@exodus.Eng.Sun.COM> em...  \n",
              "1     In article <930405.172903.4w6.rusnews.w165w@ma...  \n",
              "2                                                   Hi!  \n",
              "3     In article <C5rLyz.4Mt@darkside.osrhe.uoknor.e...  \n",
              "4     In article <C5HKv2.Epv@blaze.cs.jhu.edu> arrom...  \n",
              "...                                                 ...  \n",
              "1995  \\nName            Pos   AB    H    2B    3B   ...  \n",
              "1996  I just wanted to let everyone know that I have...  \n",
              "1997  In article <1993Apr23.151050.8995@sctc.com> ma...  \n",
              "1998  In article <C5K7nK.7tv@news.cso.uiuc.edu>, rko...  \n",
              "1999  In article <rudyC5wCsG.G6A@netcom.com> rudy@ne...  \n",
              "\n",
              "[2000 rows x 8 columns]"
            ],
            "text/html": [
              "\n",
              "  <div id=\"df-49e6b537-8ebe-4ef8-8b53-b1c6295f2ab4\">\n",
              "    <div class=\"colab-df-container\">\n",
              "      <div>\n",
              "<style scoped>\n",
              "    .dataframe tbody tr th:only-of-type {\n",
              "        vertical-align: middle;\n",
              "    }\n",
              "\n",
              "    .dataframe tbody tr th {\n",
              "        vertical-align: top;\n",
              "    }\n",
              "\n",
              "    .dataframe thead th {\n",
              "        text-align: right;\n",
              "    }\n",
              "</style>\n",
              "<table border=\"1\" class=\"dataframe\">\n",
              "  <thead>\n",
              "    <tr style=\"text-align: right;\">\n",
              "      <th></th>\n",
              "      <th>Path</th>\n",
              "      <th>Newsgroups</th>\n",
              "      <th>Organization</th>\n",
              "      <th>Subject</th>\n",
              "      <th>Date</th>\n",
              "      <th>Lines</th>\n",
              "      <th>From</th>\n",
              "      <th>Contenu</th>\n",
              "    </tr>\n",
              "  </thead>\n",
              "  <tbody>\n",
              "    <tr>\n",
              "      <th>0</th>\n",
              "      <td>file:/content/20_newsgroups/alt.atheism/53079</td>\n",
              "      <td>talk.abortion,alt.atheism,talk.religion.misc</td>\n",
              "      <td>Siemens-Nixdorf AG</td>\n",
              "      <td>Re: After 2000 years, can we say that Christi...</td>\n",
              "      <td>15 Apr 1993 21:12:01 GMT</td>\n",
              "      <td>50</td>\n",
              "      <td>frank@D012S658.uucp (Frank O'Dwyer)</td>\n",
              "      <td>In article &lt;lsr6ihINNsa@exodus.Eng.Sun.COM&gt; em...</td>\n",
              "    </tr>\n",
              "    <tr>\n",
              "      <th>1</th>\n",
              "      <td>file:/content/20_newsgroups/alt.atheism/51141</td>\n",
              "      <td>alt.atheism</td>\n",
              "      <td>Bell-Northern Research, Ottawa, Canada</td>\n",
              "      <td>Re: Speculations</td>\n",
              "      <td>5 Apr 93 21:19:24 GMT</td>\n",
              "      <td>17</td>\n",
              "      <td>dgraham@bmers30.bnr.ca (Douglas Graham)</td>\n",
              "      <td>In article &lt;930405.172903.4w6.rusnews.w165w@ma...</td>\n",
              "    </tr>\n",
              "    <tr>\n",
              "      <th>2</th>\n",
              "      <td>file:/content/20_newsgroups/alt.atheism/53282</td>\n",
              "      <td>alt.atheism</td>\n",
              "      <td>Orden del Lobo Estepario</td>\n",
              "      <td>Studies on Book of Mormon</td>\n",
              "      <td>Sun, 18 Apr 1993 14:15:33 CST</td>\n",
              "      <td>20</td>\n",
              "      <td>agrino@enkidu.mic.cl (Andres Grino Brandt)</td>\n",
              "      <td>Hi!</td>\n",
              "    </tr>\n",
              "    <tr>\n",
              "      <th>3</th>\n",
              "      <td>file:/content/20_newsgroups/alt.atheism/53631</td>\n",
              "      <td>alt.atheism</td>\n",
              "      <td>Nottingham University</td>\n",
              "      <td>Re: Death Penalty (was Re: Political Atheists?)</td>\n",
              "      <td>Wed, 21 Apr 93 11:49:47 GMT</td>\n",
              "      <td>60</td>\n",
              "      <td>eczcaw@mips.nott.ac.uk (A.Wainwright)</td>\n",
              "      <td>In article &lt;C5rLyz.4Mt@darkside.osrhe.uoknor.e...</td>\n",
              "    </tr>\n",
              "    <tr>\n",
              "      <th>4</th>\n",
              "      <td>file:/content/20_newsgroups/alt.atheism/53163</td>\n",
              "      <td>alt.atheism</td>\n",
              "      <td>Boston University Physics Department</td>\n",
              "      <td>Re: The Inimitable Rushdie</td>\n",
              "      <td>16 Apr 93 01:31:01 GMT</td>\n",
              "      <td>41</td>\n",
              "      <td>jaeger@buphy.bu.edu (Gregg Jaeger)</td>\n",
              "      <td>In article &lt;C5HKv2.Epv@blaze.cs.jhu.edu&gt; arrom...</td>\n",
              "    </tr>\n",
              "    <tr>\n",
              "      <th>...</th>\n",
              "      <td>...</td>\n",
              "      <td>...</td>\n",
              "      <td>...</td>\n",
              "      <td>...</td>\n",
              "      <td>...</td>\n",
              "      <td>...</td>\n",
              "      <td>...</td>\n",
              "      <td>...</td>\n",
              "    </tr>\n",
              "    <tr>\n",
              "      <th>1995</th>\n",
              "      <td>file:/content/20_newsgroups/rec.sport.baseball...</td>\n",
              "      <td>rec.sport.baseball</td>\n",
              "      <td>the HP Corporate notes server</td>\n",
              "      <td>Rockies 5 - 8</td>\n",
              "      <td>Thu, 22 Apr 1993 15:08:01 GMT</td>\n",
              "      <td>37</td>\n",
              "      <td>boell@hpcc01.corp.hp.com (Donald P Boell)</td>\n",
              "      <td>\\nName            Pos   AB    H    2B    3B   ...</td>\n",
              "    </tr>\n",
              "    <tr>\n",
              "      <th>1996</th>\n",
              "      <td>file:/content/20_newsgroups/rec.sport.baseball...</td>\n",
              "      <td>rec.sport.baseball</td>\n",
              "      <td>Ball State University, Muncie, In - Univ. Com...</td>\n",
              "      <td>Jim Lefebvre is an idiot.</td>\n",
              "      <td>6 Apr 93 00:01:41 GMT</td>\n",
              "      <td>14</td>\n",
              "      <td>00bjgood@leo.bsuvc.bsu.edu</td>\n",
              "      <td>I just wanted to let everyone know that I have...</td>\n",
              "    </tr>\n",
              "    <tr>\n",
              "      <th>1997</th>\n",
              "      <td>file:/content/20_newsgroups/rec.sport.baseball...</td>\n",
              "      <td>rec.sport.baseball</td>\n",
              "      <td>Computing Services Division, University of Wi...</td>\n",
              "      <td>Re: Twins Update 4-22</td>\n",
              "      <td>23 Apr 1993 17:05:48 GMT</td>\n",
              "      <td>12</td>\n",
              "      <td>paul@csd4.csd.uwm.edu (Paul R Krueger)</td>\n",
              "      <td>In article &lt;1993Apr23.151050.8995@sctc.com&gt; ma...</td>\n",
              "    </tr>\n",
              "    <tr>\n",
              "      <th>1998</th>\n",
              "      <td>file:/content/20_newsgroups/rec.sport.baseball...</td>\n",
              "      <td>rec.sport.baseball</td>\n",
              "      <td>Brandeis University</td>\n",
              "      <td>Re: Best Sportwriters...</td>\n",
              "      <td>Fri, 16 Apr 1993 07:22:59 GMT</td>\n",
              "      <td>23</td>\n",
              "      <td>st902415@pip.cc.brandeis.edu (Adam Levin)</td>\n",
              "      <td>In article &lt;C5K7nK.7tv@news.cso.uiuc.edu&gt;, rko...</td>\n",
              "    </tr>\n",
              "    <tr>\n",
              "      <th>1999</th>\n",
              "      <td>file:/content/20_newsgroups/rec.sport.baseball...</td>\n",
              "      <td>rec.sport.baseball</td>\n",
              "      <td>University of Cincinnati</td>\n",
              "      <td>Re: speeding up games</td>\n",
              "      <td>24 Apr 1993 02:57:28 GMT</td>\n",
              "      <td>16</td>\n",
              "      <td>rbd@flash.ece.uc.edu (Bobby Davis)</td>\n",
              "      <td>In article &lt;rudyC5wCsG.G6A@netcom.com&gt; rudy@ne...</td>\n",
              "    </tr>\n",
              "  </tbody>\n",
              "</table>\n",
              "<p>2000 rows × 8 columns</p>\n",
              "</div>\n",
              "      <button class=\"colab-df-convert\" onclick=\"convertToInteractive('df-49e6b537-8ebe-4ef8-8b53-b1c6295f2ab4')\"\n",
              "              title=\"Convert this dataframe to an interactive table.\"\n",
              "              style=\"display:none;\">\n",
              "        \n",
              "  <svg xmlns=\"http://www.w3.org/2000/svg\" height=\"24px\"viewBox=\"0 0 24 24\"\n",
              "       width=\"24px\">\n",
              "    <path d=\"M0 0h24v24H0V0z\" fill=\"none\"/>\n",
              "    <path d=\"M18.56 5.44l.94 2.06.94-2.06 2.06-.94-2.06-.94-.94-2.06-.94 2.06-2.06.94zm-11 1L8.5 8.5l.94-2.06 2.06-.94-2.06-.94L8.5 2.5l-.94 2.06-2.06.94zm10 10l.94 2.06.94-2.06 2.06-.94-2.06-.94-.94-2.06-.94 2.06-2.06.94z\"/><path d=\"M17.41 7.96l-1.37-1.37c-.4-.4-.92-.59-1.43-.59-.52 0-1.04.2-1.43.59L10.3 9.45l-7.72 7.72c-.78.78-.78 2.05 0 2.83L4 21.41c.39.39.9.59 1.41.59.51 0 1.02-.2 1.41-.59l7.78-7.78 2.81-2.81c.8-.78.8-2.07 0-2.86zM5.41 20L4 18.59l7.72-7.72 1.47 1.35L5.41 20z\"/>\n",
              "  </svg>\n",
              "      </button>\n",
              "      \n",
              "  <style>\n",
              "    .colab-df-container {\n",
              "      display:flex;\n",
              "      flex-wrap:wrap;\n",
              "      gap: 12px;\n",
              "    }\n",
              "\n",
              "    .colab-df-convert {\n",
              "      background-color: #E8F0FE;\n",
              "      border: none;\n",
              "      border-radius: 50%;\n",
              "      cursor: pointer;\n",
              "      display: none;\n",
              "      fill: #1967D2;\n",
              "      height: 32px;\n",
              "      padding: 0 0 0 0;\n",
              "      width: 32px;\n",
              "    }\n",
              "\n",
              "    .colab-df-convert:hover {\n",
              "      background-color: #E2EBFA;\n",
              "      box-shadow: 0px 1px 2px rgba(60, 64, 67, 0.3), 0px 1px 3px 1px rgba(60, 64, 67, 0.15);\n",
              "      fill: #174EA6;\n",
              "    }\n",
              "\n",
              "    [theme=dark] .colab-df-convert {\n",
              "      background-color: #3B4455;\n",
              "      fill: #D2E3FC;\n",
              "    }\n",
              "\n",
              "    [theme=dark] .colab-df-convert:hover {\n",
              "      background-color: #434B5C;\n",
              "      box-shadow: 0px 1px 3px 1px rgba(0, 0, 0, 0.15);\n",
              "      filter: drop-shadow(0px 1px 2px rgba(0, 0, 0, 0.3));\n",
              "      fill: #FFFFFF;\n",
              "    }\n",
              "  </style>\n",
              "\n",
              "      <script>\n",
              "        const buttonEl =\n",
              "          document.querySelector('#df-49e6b537-8ebe-4ef8-8b53-b1c6295f2ab4 button.colab-df-convert');\n",
              "        buttonEl.style.display =\n",
              "          google.colab.kernel.accessAllowed ? 'block' : 'none';\n",
              "\n",
              "        async function convertToInteractive(key) {\n",
              "          const element = document.querySelector('#df-49e6b537-8ebe-4ef8-8b53-b1c6295f2ab4');\n",
              "          const dataTable =\n",
              "            await google.colab.kernel.invokeFunction('convertToInteractive',\n",
              "                                                     [key], {});\n",
              "          if (!dataTable) return;\n",
              "\n",
              "          const docLinkHtml = 'Like what you see? Visit the ' +\n",
              "            '<a target=\"_blank\" href=https://colab.research.google.com/notebooks/data_table.ipynb>data table notebook</a>'\n",
              "            + ' to learn more about interactive tables.';\n",
              "          element.innerHTML = '';\n",
              "          dataTable['output_type'] = 'display_data';\n",
              "          await google.colab.output.renderOutput(dataTable, element);\n",
              "          const docLink = document.createElement('div');\n",
              "          docLink.innerHTML = docLinkHtml;\n",
              "          element.appendChild(docLink);\n",
              "        }\n",
              "      </script>\n",
              "    </div>\n",
              "  </div>\n",
              "  "
            ]
          },
          "metadata": {},
          "execution_count": 182
        }
      ]
    },
    {
      "cell_type": "code",
      "source": [
        "df.groupBy(\"Newsgroups\").count().show()"
      ],
      "metadata": {
        "id": "7hpRl_hC6xaT",
        "colab": {
          "base_uri": "https://localhost:8080/"
        },
        "outputId": "e3864825-eded-4fb1-ed87-29b8e61ba1cf"
      },
      "execution_count": 189,
      "outputs": [
        {
          "output_type": "stream",
          "name": "stdout",
          "text": [
            "+--------------------+-----+\n",
            "|          Newsgroups|count|\n",
            "+--------------------+-----+\n",
            "| talk.religion.mi...|    2|\n",
            "| sci.skeptic,alt....|    7|\n",
            "| alt.atheism,talk...|    3|\n",
            "| alt.atheism,rec....|    3|\n",
            "| alt.atheism,talk...|   92|\n",
            "| soc.culture.arab...|    2|\n",
            "| alt.atheism,talk...|    5|\n",
            "| alt.atheism,alt....|    2|\n",
            "| alt.drugs,alt.at...|    2|\n",
            "| alt.atheism,talk...|    2|\n",
            "| alt.atheism,soc....|    8|\n",
            "|         alt.atheism|  734|\n",
            "| alt.atheism,alt....|    7|\n",
            "| talk.religion.mi...|    4|\n",
            "| alt.atheism,talk...|   20|\n",
            "| alt.slack,talk.r...|    1|\n",
            "| talk.religion.mi...|    4|\n",
            "| talk.abortion,al...|   94|\n",
            "| alt.atheism,soc....|    1|\n",
            "| talk.abortion,al...|    1|\n",
            "+--------------------+-----+\n",
            "only showing top 20 rows\n",
            "\n"
          ]
        }
      ]
    },
    {
      "cell_type": "code",
      "source": [
        "spark.sql(\"DROP VIEW sport\")"
      ],
      "metadata": {
        "colab": {
          "base_uri": "https://localhost:8080/",
          "height": 467
        },
        "id": "q_Ba_aJ3ddv7",
        "outputId": "ebb6af42-4e2c-4c78-cbba-a72d46b74b52"
      },
      "execution_count": 190,
      "outputs": [
        {
          "output_type": "error",
          "ename": "AnalysisException",
          "evalue": "ignored",
          "traceback": [
            "\u001b[0;31m---------------------------------------------------------------------------\u001b[0m",
            "\u001b[0;31mAnalysisException\u001b[0m                         Traceback (most recent call last)",
            "\u001b[0;32m<ipython-input-190-7a843a1ef801>\u001b[0m in \u001b[0;36m<module>\u001b[0;34m\u001b[0m\n\u001b[0;32m----> 1\u001b[0;31m \u001b[0mspark\u001b[0m\u001b[0;34m.\u001b[0m\u001b[0msql\u001b[0m\u001b[0;34m(\u001b[0m\u001b[0;34m\"DROP VIEW sport\"\u001b[0m\u001b[0;34m)\u001b[0m\u001b[0;34m\u001b[0m\u001b[0;34m\u001b[0m\u001b[0m\n\u001b[0m",
            "\u001b[0;32m/content/spark-3.3.1-bin-hadoop3/python/pyspark/sql/session.py\u001b[0m in \u001b[0;36msql\u001b[0;34m(self, sqlQuery, **kwargs)\u001b[0m\n\u001b[1;32m   1032\u001b[0m             \u001b[0msqlQuery\u001b[0m \u001b[0;34m=\u001b[0m \u001b[0mformatter\u001b[0m\u001b[0;34m.\u001b[0m\u001b[0mformat\u001b[0m\u001b[0;34m(\u001b[0m\u001b[0msqlQuery\u001b[0m\u001b[0;34m,\u001b[0m \u001b[0;34m**\u001b[0m\u001b[0mkwargs\u001b[0m\u001b[0;34m)\u001b[0m\u001b[0;34m\u001b[0m\u001b[0;34m\u001b[0m\u001b[0m\n\u001b[1;32m   1033\u001b[0m         \u001b[0;32mtry\u001b[0m\u001b[0;34m:\u001b[0m\u001b[0;34m\u001b[0m\u001b[0;34m\u001b[0m\u001b[0m\n\u001b[0;32m-> 1034\u001b[0;31m             \u001b[0;32mreturn\u001b[0m \u001b[0mDataFrame\u001b[0m\u001b[0;34m(\u001b[0m\u001b[0mself\u001b[0m\u001b[0;34m.\u001b[0m\u001b[0m_jsparkSession\u001b[0m\u001b[0;34m.\u001b[0m\u001b[0msql\u001b[0m\u001b[0;34m(\u001b[0m\u001b[0msqlQuery\u001b[0m\u001b[0;34m)\u001b[0m\u001b[0;34m,\u001b[0m \u001b[0mself\u001b[0m\u001b[0;34m)\u001b[0m\u001b[0;34m\u001b[0m\u001b[0;34m\u001b[0m\u001b[0m\n\u001b[0m\u001b[1;32m   1035\u001b[0m         \u001b[0;32mfinally\u001b[0m\u001b[0;34m:\u001b[0m\u001b[0;34m\u001b[0m\u001b[0;34m\u001b[0m\u001b[0m\n\u001b[1;32m   1036\u001b[0m             \u001b[0;32mif\u001b[0m \u001b[0mlen\u001b[0m\u001b[0;34m(\u001b[0m\u001b[0mkwargs\u001b[0m\u001b[0;34m)\u001b[0m \u001b[0;34m>\u001b[0m \u001b[0;36m0\u001b[0m\u001b[0;34m:\u001b[0m\u001b[0;34m\u001b[0m\u001b[0;34m\u001b[0m\u001b[0m\n",
            "\u001b[0;32mspark-3.3.1-bin-hadoop3/python/lib/py4j-0.10.9.5-src.zip/py4j/java_gateway.py\u001b[0m in \u001b[0;36m__call__\u001b[0;34m(self, *args)\u001b[0m\n\u001b[1;32m   1319\u001b[0m \u001b[0;34m\u001b[0m\u001b[0m\n\u001b[1;32m   1320\u001b[0m         \u001b[0manswer\u001b[0m \u001b[0;34m=\u001b[0m \u001b[0mself\u001b[0m\u001b[0;34m.\u001b[0m\u001b[0mgateway_client\u001b[0m\u001b[0;34m.\u001b[0m\u001b[0msend_command\u001b[0m\u001b[0;34m(\u001b[0m\u001b[0mcommand\u001b[0m\u001b[0;34m)\u001b[0m\u001b[0;34m\u001b[0m\u001b[0;34m\u001b[0m\u001b[0m\n\u001b[0;32m-> 1321\u001b[0;31m         return_value = get_return_value(\n\u001b[0m\u001b[1;32m   1322\u001b[0m             answer, self.gateway_client, self.target_id, self.name)\n\u001b[1;32m   1323\u001b[0m \u001b[0;34m\u001b[0m\u001b[0m\n",
            "\u001b[0;32m/content/spark-3.3.1-bin-hadoop3/python/pyspark/sql/utils.py\u001b[0m in \u001b[0;36mdeco\u001b[0;34m(*a, **kw)\u001b[0m\n\u001b[1;32m    194\u001b[0m                 \u001b[0;31m# Hide where the exception came from that shows a non-Pythonic\u001b[0m\u001b[0;34m\u001b[0m\u001b[0;34m\u001b[0m\u001b[0;34m\u001b[0m\u001b[0m\n\u001b[1;32m    195\u001b[0m                 \u001b[0;31m# JVM exception message.\u001b[0m\u001b[0;34m\u001b[0m\u001b[0;34m\u001b[0m\u001b[0;34m\u001b[0m\u001b[0m\n\u001b[0;32m--> 196\u001b[0;31m                 \u001b[0;32mraise\u001b[0m \u001b[0mconverted\u001b[0m \u001b[0;32mfrom\u001b[0m \u001b[0;32mNone\u001b[0m\u001b[0;34m\u001b[0m\u001b[0;34m\u001b[0m\u001b[0m\n\u001b[0m\u001b[1;32m    197\u001b[0m             \u001b[0;32melse\u001b[0m\u001b[0;34m:\u001b[0m\u001b[0;34m\u001b[0m\u001b[0;34m\u001b[0m\u001b[0m\n\u001b[1;32m    198\u001b[0m                 \u001b[0;32mraise\u001b[0m\u001b[0;34m\u001b[0m\u001b[0;34m\u001b[0m\u001b[0m\n",
            "\u001b[0;31mAnalysisException\u001b[0m: View not found: sport; line 1 pos 10;\n'DropView false\n+- 'UnresolvedView [sport], DROP VIEW, true, Please use DROP TABLE instead.\n"
          ]
        }
      ]
    },
    {
      "cell_type": "code",
      "source": [
        "spark.sql(\"DROP VIEW religion\")"
      ],
      "metadata": {
        "colab": {
          "base_uri": "https://localhost:8080/"
        },
        "id": "MwZ96X4ldoR1",
        "outputId": "9deeeec0-b466-4e59-f0fb-8239347fdf92"
      },
      "execution_count": 191,
      "outputs": [
        {
          "output_type": "execute_result",
          "data": {
            "text/plain": [
              "DataFrame[]"
            ]
          },
          "metadata": {},
          "execution_count": 191
        }
      ]
    },
    {
      "cell_type": "code",
      "source": [
        "from pandas._libs.hashtable import value_count\n",
        "df.createOrReplaceTempView(\"Document\")\n",
        "#sqlDF = spark.sql(\"SELECT count(*) FROM Document WHERE Newsgroups like '%rec.sport.baseball%' \")\n",
        "#sqlDF = spark.sql(\"select count(*) from Document WHERE ( Newsgroups LIKE '%alt.atheism%' and Newsgroups Like '%rec.sport.baseball%')\")\n",
        "#sqlDF = spark.sql(\"CREATE TEMP VIEW sport AS SELECT Newsgroups FROM Document WHERE Newsgroups LIKE '%rec.sport.baseball%'\")\n",
        "#sqlDF.show()\n",
        "\n",
        "\n",
        "\n",
        "\n",
        "\n"
      ],
      "metadata": {
        "id": "B4I4EBSRJAML"
      },
      "execution_count": 192,
      "outputs": []
    },
    {
      "cell_type": "code",
      "source": [
        "sqlDF = spark.sql(\"CREATE TEMP VIEW sport AS SELECT Newsgroups FROM Document WHERE Newsgroups LIKE '%rec.sport.baseball%'\")\n",
        "sqlDF.show()"
      ],
      "metadata": {
        "colab": {
          "base_uri": "https://localhost:8080/"
        },
        "id": "w-BQb23nnvFN",
        "outputId": "d157ceab-61fa-43d2-eeff-2c368e61adec"
      },
      "execution_count": 195,
      "outputs": [
        {
          "output_type": "stream",
          "name": "stdout",
          "text": [
            "++\n",
            "||\n",
            "++\n",
            "++\n",
            "\n"
          ]
        }
      ]
    },
    {
      "cell_type": "code",
      "source": [
        "sqlDF = spark.sql(\"CREATE TEMP VIEW religion AS SELECT Newsgroups FROM Document WHERE Newsgroups LIKE '%alt.atheism%'\")\n",
        "sqlDF.show()"
      ],
      "metadata": {
        "colab": {
          "base_uri": "https://localhost:8080/",
          "height": 450
        },
        "id": "PidZcL3QcW1I",
        "outputId": "87ddb7ec-6c78-4dd8-cc4d-d26bd133da31"
      },
      "execution_count": 196,
      "outputs": [
        {
          "output_type": "error",
          "ename": "AnalysisException",
          "evalue": "ignored",
          "traceback": [
            "\u001b[0;31m---------------------------------------------------------------------------\u001b[0m",
            "\u001b[0;31mAnalysisException\u001b[0m                         Traceback (most recent call last)",
            "\u001b[0;32m<ipython-input-196-8a176202cdde>\u001b[0m in \u001b[0;36m<module>\u001b[0;34m\u001b[0m\n\u001b[0;32m----> 1\u001b[0;31m \u001b[0msqlDF\u001b[0m \u001b[0;34m=\u001b[0m \u001b[0mspark\u001b[0m\u001b[0;34m.\u001b[0m\u001b[0msql\u001b[0m\u001b[0;34m(\u001b[0m\u001b[0;34m\"CREATE TEMP VIEW religion AS SELECT Newsgroups FROM Document WHERE Newsgroups LIKE '%alt.atheism%'\"\u001b[0m\u001b[0;34m)\u001b[0m\u001b[0;34m\u001b[0m\u001b[0;34m\u001b[0m\u001b[0m\n\u001b[0m\u001b[1;32m      2\u001b[0m \u001b[0msqlDF\u001b[0m\u001b[0;34m.\u001b[0m\u001b[0mshow\u001b[0m\u001b[0;34m(\u001b[0m\u001b[0;34m)\u001b[0m\u001b[0;34m\u001b[0m\u001b[0;34m\u001b[0m\u001b[0m\n",
            "\u001b[0;32m/content/spark-3.3.1-bin-hadoop3/python/pyspark/sql/session.py\u001b[0m in \u001b[0;36msql\u001b[0;34m(self, sqlQuery, **kwargs)\u001b[0m\n\u001b[1;32m   1032\u001b[0m             \u001b[0msqlQuery\u001b[0m \u001b[0;34m=\u001b[0m \u001b[0mformatter\u001b[0m\u001b[0;34m.\u001b[0m\u001b[0mformat\u001b[0m\u001b[0;34m(\u001b[0m\u001b[0msqlQuery\u001b[0m\u001b[0;34m,\u001b[0m \u001b[0;34m**\u001b[0m\u001b[0mkwargs\u001b[0m\u001b[0;34m)\u001b[0m\u001b[0;34m\u001b[0m\u001b[0;34m\u001b[0m\u001b[0m\n\u001b[1;32m   1033\u001b[0m         \u001b[0;32mtry\u001b[0m\u001b[0;34m:\u001b[0m\u001b[0;34m\u001b[0m\u001b[0;34m\u001b[0m\u001b[0m\n\u001b[0;32m-> 1034\u001b[0;31m             \u001b[0;32mreturn\u001b[0m \u001b[0mDataFrame\u001b[0m\u001b[0;34m(\u001b[0m\u001b[0mself\u001b[0m\u001b[0;34m.\u001b[0m\u001b[0m_jsparkSession\u001b[0m\u001b[0;34m.\u001b[0m\u001b[0msql\u001b[0m\u001b[0;34m(\u001b[0m\u001b[0msqlQuery\u001b[0m\u001b[0;34m)\u001b[0m\u001b[0;34m,\u001b[0m \u001b[0mself\u001b[0m\u001b[0;34m)\u001b[0m\u001b[0;34m\u001b[0m\u001b[0;34m\u001b[0m\u001b[0m\n\u001b[0m\u001b[1;32m   1035\u001b[0m         \u001b[0;32mfinally\u001b[0m\u001b[0;34m:\u001b[0m\u001b[0;34m\u001b[0m\u001b[0;34m\u001b[0m\u001b[0m\n\u001b[1;32m   1036\u001b[0m             \u001b[0;32mif\u001b[0m \u001b[0mlen\u001b[0m\u001b[0;34m(\u001b[0m\u001b[0mkwargs\u001b[0m\u001b[0;34m)\u001b[0m \u001b[0;34m>\u001b[0m \u001b[0;36m0\u001b[0m\u001b[0;34m:\u001b[0m\u001b[0;34m\u001b[0m\u001b[0;34m\u001b[0m\u001b[0m\n",
            "\u001b[0;32mspark-3.3.1-bin-hadoop3/python/lib/py4j-0.10.9.5-src.zip/py4j/java_gateway.py\u001b[0m in \u001b[0;36m__call__\u001b[0;34m(self, *args)\u001b[0m\n\u001b[1;32m   1319\u001b[0m \u001b[0;34m\u001b[0m\u001b[0m\n\u001b[1;32m   1320\u001b[0m         \u001b[0manswer\u001b[0m \u001b[0;34m=\u001b[0m \u001b[0mself\u001b[0m\u001b[0;34m.\u001b[0m\u001b[0mgateway_client\u001b[0m\u001b[0;34m.\u001b[0m\u001b[0msend_command\u001b[0m\u001b[0;34m(\u001b[0m\u001b[0mcommand\u001b[0m\u001b[0;34m)\u001b[0m\u001b[0;34m\u001b[0m\u001b[0;34m\u001b[0m\u001b[0m\n\u001b[0;32m-> 1321\u001b[0;31m         return_value = get_return_value(\n\u001b[0m\u001b[1;32m   1322\u001b[0m             answer, self.gateway_client, self.target_id, self.name)\n\u001b[1;32m   1323\u001b[0m \u001b[0;34m\u001b[0m\u001b[0m\n",
            "\u001b[0;32m/content/spark-3.3.1-bin-hadoop3/python/pyspark/sql/utils.py\u001b[0m in \u001b[0;36mdeco\u001b[0;34m(*a, **kw)\u001b[0m\n\u001b[1;32m    194\u001b[0m                 \u001b[0;31m# Hide where the exception came from that shows a non-Pythonic\u001b[0m\u001b[0;34m\u001b[0m\u001b[0;34m\u001b[0m\u001b[0;34m\u001b[0m\u001b[0m\n\u001b[1;32m    195\u001b[0m                 \u001b[0;31m# JVM exception message.\u001b[0m\u001b[0;34m\u001b[0m\u001b[0;34m\u001b[0m\u001b[0;34m\u001b[0m\u001b[0m\n\u001b[0;32m--> 196\u001b[0;31m                 \u001b[0;32mraise\u001b[0m \u001b[0mconverted\u001b[0m \u001b[0;32mfrom\u001b[0m \u001b[0;32mNone\u001b[0m\u001b[0;34m\u001b[0m\u001b[0;34m\u001b[0m\u001b[0m\n\u001b[0m\u001b[1;32m    197\u001b[0m             \u001b[0;32melse\u001b[0m\u001b[0;34m:\u001b[0m\u001b[0;34m\u001b[0m\u001b[0;34m\u001b[0m\u001b[0m\n\u001b[1;32m    198\u001b[0m                 \u001b[0;32mraise\u001b[0m\u001b[0;34m\u001b[0m\u001b[0;34m\u001b[0m\u001b[0m\n",
            "\u001b[0;31mAnalysisException\u001b[0m: Temporary view 'religion' already exists"
          ]
        }
      ]
    },
    {
      "cell_type": "code",
      "source": [
        "sqlDF2 = spark.sql(\"SELECT * FROM sport\")\n",
        "sqlDF2.show()\n",
        "sqlDF3 = spark.sql(\"SELECT * FROM religion\")\n",
        "sqlDF3.show()"
      ],
      "metadata": {
        "colab": {
          "base_uri": "https://localhost:8080/"
        },
        "id": "nu-RhzMfapKw",
        "outputId": "248bb4ad-d1a8-44ec-ec8d-1a5b3d1fedf9"
      },
      "execution_count": 197,
      "outputs": [
        {
          "output_type": "stream",
          "name": "stdout",
          "text": [
            "+-------------------+\n",
            "|         Newsgroups|\n",
            "+-------------------+\n",
            "| rec.sport.baseball|\n",
            "| rec.sport.baseball|\n",
            "| rec.sport.baseball|\n",
            "| rec.sport.baseball|\n",
            "| rec.sport.baseball|\n",
            "| rec.sport.baseball|\n",
            "| rec.sport.baseball|\n",
            "| rec.sport.baseball|\n",
            "| rec.sport.baseball|\n",
            "| rec.sport.baseball|\n",
            "| rec.sport.baseball|\n",
            "| rec.sport.baseball|\n",
            "| rec.sport.baseball|\n",
            "| rec.sport.baseball|\n",
            "| rec.sport.baseball|\n",
            "| rec.sport.baseball|\n",
            "| rec.sport.baseball|\n",
            "| rec.sport.baseball|\n",
            "| rec.sport.baseball|\n",
            "| rec.sport.baseball|\n",
            "+-------------------+\n",
            "only showing top 20 rows\n",
            "\n",
            "+--------------------+\n",
            "|          Newsgroups|\n",
            "+--------------------+\n",
            "| talk.abortion,al...|\n",
            "|         alt.atheism|\n",
            "|         alt.atheism|\n",
            "|         alt.atheism|\n",
            "|         alt.atheism|\n",
            "| talk.abortion,al...|\n",
            "|         alt.atheism|\n",
            "|         alt.atheism|\n",
            "|         alt.atheism|\n",
            "|         alt.atheism|\n",
            "|         alt.atheism|\n",
            "|         alt.atheism|\n",
            "|         alt.atheism|\n",
            "| alt.atheism,talk...|\n",
            "|         alt.atheism|\n",
            "|         alt.atheism|\n",
            "|         alt.atheism|\n",
            "|         alt.atheism|\n",
            "| alt.atheism,talk...|\n",
            "|         alt.atheism|\n",
            "+--------------------+\n",
            "only showing top 20 rows\n",
            "\n"
          ]
        }
      ]
    },
    {
      "cell_type": "code",
      "source": [
        "# c pour prouver que ya pas d'intersection entre les deux catégories \n",
        "# de plus on a 1000 lignes dans la vue religion et 1000 dans la vue religion\n",
        "#(en sachant que le nombre total des lignes dans la table document est de 2000)\n",
        "sqlDF3 = spark.sql(\"SELECT * FROM religion INTERSECT (SELECT * FROM sport) \")\n",
        "sqlDF3.show()"
      ],
      "metadata": {
        "colab": {
          "base_uri": "https://localhost:8080/"
        },
        "id": "t2Ef-PVLcvUj",
        "outputId": "9f9e0e6e-75e1-40f3-bceb-bc5a46af4292"
      },
      "execution_count": 198,
      "outputs": [
        {
          "output_type": "stream",
          "name": "stdout",
          "text": [
            "+----------+\n",
            "|Newsgroups|\n",
            "+----------+\n",
            "+----------+\n",
            "\n"
          ]
        }
      ]
    },
    {
      "cell_type": "code",
      "source": [
        "# le nombre de documents dont la categorie contient rec_baseball\n",
        "sqlDF3 = spark.sql(\"SELECT count(s.Newsgroups) as nbr_rec_baseball FROM sport s \")\n",
        "sqlDF3.show()"
      ],
      "metadata": {
        "colab": {
          "base_uri": "https://localhost:8080/"
        },
        "id": "OAUHkV1ne0-O",
        "outputId": "ad5e6d01-6469-408f-dd48-38fb4649487b"
      },
      "execution_count": 199,
      "outputs": [
        {
          "output_type": "stream",
          "name": "stdout",
          "text": [
            "+----------------+\n",
            "|nbr_rec_baseball|\n",
            "+----------------+\n",
            "|            1000|\n",
            "+----------------+\n",
            "\n"
          ]
        }
      ]
    },
    {
      "cell_type": "code",
      "source": [
        "# le nombre de documents dont la categorie contient alt.atheism\n",
        "sqlDF3 = spark.sql(\"SELECT count(Newsgroups) as nb_alt_atheism FROM religion\")\n",
        "sqlDF3.show()\n",
        " "
      ],
      "metadata": {
        "colab": {
          "base_uri": "https://localhost:8080/"
        },
        "id": "y1Ks8dqpgrFN",
        "outputId": "442adc3e-cfda-47bc-e786-f04fc6326256"
      },
      "execution_count": 200,
      "outputs": [
        {
          "output_type": "stream",
          "name": "stdout",
          "text": [
            "+--------------+\n",
            "|nb_alt_atheism|\n",
            "+--------------+\n",
            "|          1000|\n",
            "+--------------+\n",
            "\n"
          ]
        }
      ]
    },
    {
      "cell_type": "code",
      "source": [
        "#le nombre d'organisations différentes\n",
        "from pyspark.sql.functions import countDistinct\n",
        "df2=df.select(countDistinct(\"Organization\"))\n",
        "df2.show()"
      ],
      "metadata": {
        "colab": {
          "base_uri": "https://localhost:8080/"
        },
        "id": "sBrfqeMXhbPv",
        "outputId": "1d2a004a-f01d-416a-c015-beed1af9b920"
      },
      "execution_count": 201,
      "outputs": [
        {
          "output_type": "stream",
          "name": "stdout",
          "text": [
            "+----------------------------+\n",
            "|count(DISTINCT Organization)|\n",
            "+----------------------------+\n",
            "|                         485|\n",
            "+----------------------------+\n",
            "\n"
          ]
        }
      ]
    },
    {
      "cell_type": "code",
      "source": [
        "# Max, Min , Moyenne par rapport a l'attribut Lines\n",
        "df.describe(\"Lines\").show()"
      ],
      "metadata": {
        "colab": {
          "base_uri": "https://localhost:8080/"
        },
        "id": "JYV_xrQNjD80",
        "outputId": "a615fb4e-d4cb-4f18-f919-4602799f0026"
      },
      "execution_count": 202,
      "outputs": [
        {
          "output_type": "stream",
          "name": "stdout",
          "text": [
            "+-------+------------------+\n",
            "|summary|             Lines|\n",
            "+-------+------------------+\n",
            "|  count|              1994|\n",
            "|   mean| 36.48294884653962|\n",
            "| stddev|48.791372734500946|\n",
            "|    min|                 1|\n",
            "|    max|                99|\n",
            "+-------+------------------+\n",
            "\n"
          ]
        }
      ]
    },
    {
      "cell_type": "code",
      "source": [
        "# le nombre de documents par organization\n",
        "df.groupBy(\"Organization\").count().show()"
      ],
      "metadata": {
        "colab": {
          "base_uri": "https://localhost:8080/"
        },
        "id": "sHfV1q3gkOt3",
        "outputId": "3553b322-6b7e-49c4-cd60-0685f2e83a5e"
      },
      "execution_count": 204,
      "outputs": [
        {
          "output_type": "stream",
          "name": "stdout",
          "text": [
            "+--------------------+-----+\n",
            "|        Organization|count|\n",
            "+--------------------+-----+\n",
            "|           SunSelect|    2|\n",
            "| Case Western Res...|   39|\n",
            "| University of Br...|    1|\n",
            "| Princeton Univer...|   24|\n",
            "| University of Ne...|    2|\n",
            "| S-CUBED, A Divis...|    1|\n",
            "| Harlequin Ltd. C...|    1|\n",
            "| IBM T.J. Watson ...|    1|\n",
            "| University of Ne...|    7|\n",
            "|   Cured, discharged|    3|\n",
            "| Penn State Engin...|    1|\n",
            "|   Augustana College|    1|\n",
            "|        SGI TechPubs|    1|\n",
            "| National Optical...|    2|\n",
            "| University of Ce...|    1|\n",
            "| Cabletron System...|    6|\n",
            "| Red Wolfe @ The ...|    1|\n",
            "| Welch Medical Li...|    2|\n",
            "| Johns Hopkins Un...|    7|\n",
            "|  Indiana University|   17|\n",
            "+--------------------+-----+\n",
            "only showing top 20 rows\n",
            "\n"
          ]
        }
      ]
    },
    {
      "cell_type": "code",
      "source": [
        "# le nombre de documents qui ont été créés pour chaque auteur\n",
        "df.groupBy(\"FROM\").count().show()"
      ],
      "metadata": {
        "colab": {
          "base_uri": "https://localhost:8080/"
        },
        "id": "-E-v5GPmoOgg",
        "outputId": "45fcc784-16d1-4824-d4b0-b6b9a9615ca0"
      },
      "execution_count": 205,
      "outputs": [
        {
          "output_type": "stream",
          "name": "stdout",
          "text": [
            "+--------------------+-----+\n",
            "|                FROM|count|\n",
            "+--------------------+-----+\n",
            "| kv07@IASTATE.EDU...|    1|\n",
            "| dpw@sei.cmu.edu ...|    4|\n",
            "| mccullou@snake2....|    6|\n",
            "| markp@avignon (M...|    1|\n",
            "| livesey@solntze....|   70|\n",
            "| jvigneau@cs.ulow...|    1|\n",
            "| kilman2y@fiu.edu...|    1|\n",
            "| darice@yoyo.cc.m...|   14|\n",
            "| kax@cs.nott.ac.u...|    2|\n",
            "| acooper@mac.cc.m...|    4|\n",
            "| pzimmerm@mail.sa...|    1|\n",
            "| ed@wente.llnl.go...|    1|\n",
            "| halat@pooh.bears...|   15|\n",
            "| magney@cco.calte...|    1|\n",
            "| dewey@risc.sps.m...|    3|\n",
            "| mikec@sail.LABS....|    2|\n",
            "| sbradley@scic.in...|    2|\n",
            "| adpeters@sunflow...|    3|\n",
            "| tgk@cs.toronto.e...|    2|\n",
            "| simon@dcs.warwic...|    3|\n",
            "+--------------------+-----+\n",
            "only showing top 20 rows\n",
            "\n"
          ]
        }
      ]
    }
  ]
}