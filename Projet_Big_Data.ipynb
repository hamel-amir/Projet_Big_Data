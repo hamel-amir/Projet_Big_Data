{
  "nbformat": 4,
  "nbformat_minor": 0,
  "metadata": {
    "colab": {
      "provenance": [],
      "include_colab_link": true
    },
    "kernelspec": {
      "name": "python3",
      "display_name": "Python 3"
    },
    "language_info": {
      "name": "python"
    }
  },
  "cells": [
    {
      "cell_type": "markdown",
      "metadata": {
        "id": "view-in-github",
        "colab_type": "text"
      },
      "source": [
        "<a href=\"https://colab.research.google.com/github/hamel-amir/Projet_Big_Data/blob/main/Projet_Big_Data.ipynb\" target=\"_parent\"><img src=\"https://colab.research.google.com/assets/colab-badge.svg\" alt=\"Open In Colab\"/></a>"
      ]
    },
    {
      "cell_type": "markdown",
      "source": [
        "# Projet Big Data : Apache Spark\n",
        "\n",
        "Réalisé par:\n",
        "\n",
        "* Amir  Hamel\n",
        "* Noor Khalal\n",
        "* Zahra Alliche"
      ],
      "metadata": {
        "id": "v2SIGKnLvWwq"
      }
    },
    {
      "cell_type": "markdown",
      "source": [
        "## Objectifs du TP\n",
        "Ce TP consiste à regrouper des documents textuels tels que les documents qui\n",
        "partagent le même thème se retrouvent dans le même groupe, et les documents qui\n",
        "portent sur des sujets très différents se trouvent dans des groupes différents."
      ],
      "metadata": {
        "id": "6iydR02cvmxN"
      }
    },
    {
      "cell_type": "markdown",
      "source": [
        "## 2 Mise en place de l'environnement de travail "
      ],
      "metadata": {
        "id": "hKIQ49q-vusK"
      }
    },
    {
      "cell_type": "markdown",
      "source": [
        "### 2.2 Installation de Spark"
      ],
      "metadata": {
        "id": "4TLXcnVJv7L7"
      }
    },
    {
      "cell_type": "markdown",
      "source": [
        "**Instalation de la bibliotheque Java**"
      ],
      "metadata": {
        "id": "o7EwvSUfUMPs"
      }
    },
    {
      "cell_type": "code",
      "execution_count": 1,
      "metadata": {
        "id": "80GmyDXDMDkT"
      },
      "outputs": [],
      "source": [
        "! apt-get install openjdk-8-jdk-headless -qq > /dev/null"
      ]
    },
    {
      "cell_type": "markdown",
      "source": [
        "**Instalation de Spark**"
      ],
      "metadata": {
        "id": "6LPzD234US-o"
      }
    },
    {
      "cell_type": "code",
      "source": [
        "! wget -q https://dlcdn.apache.org/spark/spark-3.3.2/spark-3.3.2-bin-hadoop3.tgz\n"
      ],
      "metadata": {
        "id": "Y1rF4IunvkGy"
      },
      "execution_count": 2,
      "outputs": []
    },
    {
      "cell_type": "code",
      "source": [
        "! tar xf spark-3.3.2-bin-hadoop3.tgz"
      ],
      "metadata": {
        "id": "RbbI0dlqvyJs"
      },
      "execution_count": 3,
      "outputs": []
    },
    {
      "cell_type": "markdown",
      "source": [
        "**Instalation de PySpark**"
      ],
      "metadata": {
        "id": "gwBBWDFiUZ9k"
      }
    },
    {
      "cell_type": "code",
      "source": [
        "# instalation de pyspark\n",
        "! pip install -q findspark\n",
        "! pip install pyspark"
      ],
      "metadata": {
        "id": "lFiWQgJdP_Re",
        "colab": {
          "base_uri": "https://localhost:8080/"
        },
        "outputId": "05515eb0-c57c-4756-eaae-321dd722e1af"
      },
      "execution_count": 4,
      "outputs": [
        {
          "output_type": "stream",
          "name": "stdout",
          "text": [
            "Looking in indexes: https://pypi.org/simple, https://us-python.pkg.dev/colab-wheels/public/simple/\n",
            "Requirement already satisfied: pyspark in /usr/local/lib/python3.8/dist-packages (3.3.2)\n",
            "Requirement already satisfied: py4j==0.10.9.5 in /usr/local/lib/python3.8/dist-packages (from pyspark) (0.10.9.5)\n"
          ]
        }
      ]
    },
    {
      "cell_type": "markdown",
      "source": [
        "### 2.3/4 Définir la vatiable d'environnement et créer l'objet SparkContext "
      ],
      "metadata": {
        "id": "v4UfhgnywKcP"
      }
    },
    {
      "cell_type": "code",
      "source": [
        "import os\n",
        "# definir deux variables d'environement\n",
        "os.environ[\"JAVA_HOME\"] = \"/usr/lib/jvm/java-8-openjdk-amd64\"  # l'endroit de java\n",
        "os.environ[\"SPARK_HOME\"] = \"/content/spark-3.3.2-bin-hadoop3\" # l'endroit de spark\n",
        "os.environ['PYSPARK_SUBMIT_ARGS'] = '--packages org.apache.spark:spark-avro_2.11:2.4.5 pyspark-shell' \n",
        "\n",
        "import findspark\n",
        "findspark.init(\"spark-3.3.2-bin-hadoop3\")\n",
        "\n",
        "from pyspark import SparkContext, SparkConf\n",
        "\n",
        "# lancement du spark en local (en une seule machine qui est la machine virtuelle de colab dans ce cas) avec 4 processus (workers node)\n",
        "configuration = SparkConf().setAppName(\"name\").setMaster(\"local[4]\").set('spark.jars.packages', 'org.apache.spark:spark-avro_2.11:2.4.5')\n",
        "# name: c'est le nom qu'on donne a notre app (code)\n",
        "sc = SparkContext(conf=configuration) # l'objet "
      ],
      "metadata": {
        "id": "XqJL73UxQb6q"
      },
      "execution_count": 5,
      "outputs": []
    },
    {
      "cell_type": "code",
      "source": [
        "sc"
      ],
      "metadata": {
        "id": "sLJc20MwVnsF",
        "colab": {
          "base_uri": "https://localhost:8080/",
          "height": 198
        },
        "outputId": "e333457c-77b2-486c-fbc8-e2a763d76fc1"
      },
      "execution_count": 6,
      "outputs": [
        {
          "output_type": "execute_result",
          "data": {
            "text/plain": [
              "<SparkContext master=local[4] appName=name>"
            ],
            "text/html": [
              "\n",
              "        <div>\n",
              "            <p><b>SparkContext</b></p>\n",
              "\n",
              "            <p><a href=\"http://50c33fcd0949:4040\">Spark UI</a></p>\n",
              "\n",
              "            <dl>\n",
              "              <dt>Version</dt>\n",
              "                <dd><code>v3.3.2</code></dd>\n",
              "              <dt>Master</dt>\n",
              "                <dd><code>local[4]</code></dd>\n",
              "              <dt>AppName</dt>\n",
              "                <dd><code>name</code></dd>\n",
              "            </dl>\n",
              "        </div>\n",
              "        "
            ]
          },
          "metadata": {},
          "execution_count": 6
        }
      ]
    },
    {
      "cell_type": "markdown",
      "source": [
        "**Création de l'objet sparkSession**"
      ],
      "metadata": {
        "id": "Ym1IV3Y7VJaz"
      }
    },
    {
      "cell_type": "code",
      "source": [
        "# L'objet sparkSession créé pour utiliser l'API Spark SQL\n",
        "from pyspark.sql import SparkSession\n",
        "spark = SparkSession.builder.config(conf=configuration).getOrCreate()"
      ],
      "metadata": {
        "id": "8CXmh37JVuoQ"
      },
      "execution_count": 7,
      "outputs": []
    },
    {
      "cell_type": "markdown",
      "source": [
        "## 3 Données"
      ],
      "metadata": {
        "id": "MThv3ncHwciX"
      }
    },
    {
      "cell_type": "markdown",
      "source": [
        "### 3.1 Téléchargement des données"
      ],
      "metadata": {
        "id": "HxJ4NfIDT6Jk"
      }
    },
    {
      "cell_type": "code",
      "source": [
        "# Téléchargement du dossier des documents\n",
        "! wget -q http://qwone.com/~jason/20Newsgroups/20news-19997.tar.gz"
      ],
      "metadata": {
        "id": "RwjFOBQ9WEIF"
      },
      "execution_count": 8,
      "outputs": []
    },
    {
      "cell_type": "markdown",
      "source": [
        "### 3.2 Decompression des données"
      ],
      "metadata": {
        "id": "lqfcBArSwr17"
      }
    },
    {
      "cell_type": "code",
      "source": [
        "# décompresser le dossier \n",
        "! tar xf /content/20news-19997.tar.gz"
      ],
      "metadata": {
        "id": "XMNChhuTWPvX"
      },
      "execution_count": 9,
      "outputs": []
    },
    {
      "cell_type": "markdown",
      "source": [
        "### 3.3 Chargement des données dans deux variables de type RDD\n",
        "\n"
      ],
      "metadata": {
        "id": "6UGGCxnFUDb5"
      }
    },
    {
      "cell_type": "code",
      "source": [
        "rdd1 = sc.wholeTextFiles(\"/content/20_newsgroups/alt.atheism\")\n",
        "rdd2 = sc.wholeTextFiles(\"/content/20_newsgroups/rec.sport.baseball\")"
      ],
      "metadata": {
        "id": "IqUNkQFbdAOG"
      },
      "execution_count": 10,
      "outputs": []
    },
    {
      "cell_type": "code",
      "source": [
        "x=rdd2.take(2)"
      ],
      "metadata": {
        "id": "_4_S17Z_dc0u"
      },
      "execution_count": 11,
      "outputs": []
    },
    {
      "cell_type": "markdown",
      "source": [
        "###3.4 Séparation de l’entête"
      ],
      "metadata": {
        "id": "c1PJy4DoV3oW"
      }
    },
    {
      "cell_type": "code",
      "source": [
        "def separateur(x):\n",
        "  l=x[1].split(\"\\n\\n\")\n",
        "  return (x[0],l)\n",
        "\n",
        "rdd1=rdd1.map(separateur)\n",
        "rdd2=rdd2.map(separateur)"
      ],
      "metadata": {
        "id": "kdS3yOh9d-wY"
      },
      "execution_count": 12,
      "outputs": []
    },
    {
      "cell_type": "code",
      "source": [
        "# tester le premier élément\n",
        "test=rdd1.take(1)\n",
        "test"
      ],
      "metadata": {
        "id": "8H3eWV5MkKB9",
        "colab": {
          "base_uri": "https://localhost:8080/"
        },
        "outputId": "e0f1c23e-0a3d-4add-f6a9-614961d73676"
      },
      "execution_count": 13,
      "outputs": [
        {
          "output_type": "execute_result",
          "data": {
            "text/plain": [
              "[('file:/content/20_newsgroups/alt.atheism/53791',\n",
              "  ['Xref: cantaloupe.srv.cs.cmu.edu alt.atheism:53791 talk.religion.misc:84109 talk.origins:41079\\nNewsgroups: alt.atheism,talk.religion.misc,talk.origins\\nPath: cantaloupe.srv.cs.cmu.edu!crabapple.srv.cs.cmu.edu!bb3.andrew.cmu.edu!news.sei.cmu.edu!fs7.ece.cmu.edu!europa.eng.gtefsd.com!howland.reston.ans.net!zaphod.mps.ohio-state.edu!swrinde!cs.utexas.edu!utnut!torn!nott!cunews!rjg\\nFrom: rjg@doe.carleton.ca (Richard Griffith)\\nSubject: Re: Burden of Proof\\nMessage-ID: <rjg.735427215@wesley>\\nSender: news@cunews.carleton.ca (News Administrator)\\nOrganization: Dept. of Electronics, Carleton University\\nReferences: <C5t5sF.8oz@mentor.cc.purdue.edu> <1r4b59$7hg@aurora.engr.LaTech.edu>\\nDate: Wed, 21 Apr 1993 21:20:15 GMT\\nLines: 23',\n",
              "   'In <1r4b59$7hg@aurora.engr.LaTech.edu> ray@engr.LaTech.edu (Bill Ray) writes:',\n",
              "   '>If I make a statement, \"That God exists, loves me, etc.\" but in no way\\n>insist that you believe it, does that place a burden of proof upon me.\\n>If you insist that God doesn\\'t exist, does that place a burden of proof \\n>upon you?  I give no proofs, I only give testimony to my beliefs.  I will\\n>respond to proofs that you attempt to disprove my beliefs.',\n",
              "   'What is your reaction to people who claim they were abducted by space aliens?',\n",
              "   'Some of these people say, \"I was abducted, experimented on, etc.\"\\nIf we insist that these aliens don\\'t exist is the burden of proof placed on\\nus. These people can give no hard facts but can give a lot of testimony to\\nback up their beliefs.',\n",
              "   'Replace <space aliens> with <elvis>, <big foot>, <blue unicorns>, \\nand we have a larger percentage of the population than I like to think\\nabout.',\n",
              "   'Sometimes I wonder if reality really is a different experience for everone.',\n",
              "   ''])]"
            ]
          },
          "metadata": {},
          "execution_count": 13
        }
      ]
    },
    {
      "cell_type": "markdown",
      "source": [
        "On voit ici qu'un document est représenté sous la forme d'un tuple `(Path, List)`,\n",
        "\n",
        " ou `List = [entête, contenu du document ]`"
      ],
      "metadata": {
        "id": "UQ4YbyySzNDZ"
      }
    },
    {
      "cell_type": "markdown",
      "source": [
        "### 3.5 Extraction des champs de l’entête"
      ],
      "metadata": {
        "id": "tgkstGvWxDyQ"
      }
    },
    {
      "cell_type": "markdown",
      "source": [
        "Création d'une fonction d'extraction des éléments de l’entête qui\n",
        "prend en parametre l’entête d'un document et\n",
        "retourne un dictionnaire (Intitulé_Champs, Contenu_Champs)"
      ],
      "metadata": {
        "id": "SZo0s4Bpl9_D"
      }
    },
    {
      "cell_type": "code",
      "source": [
        "\n",
        "\n",
        "def extraction_informations_entete(entete):\n",
        "  #chaque ligne représente un nouveau champs\n",
        "  l=entete.split(\"\\n\")\n",
        "  d=dict()\n",
        "\n",
        "  for x in l:\n",
        "    #l'intitulé du champs est séparé de son contenu par ':'\n",
        "    z=x.split(\":\")\n",
        "    #quelques lignes ne contiennent pas de ':'\n",
        "    if len(z)==2:\n",
        "       d[z[0]]=z[1]\n",
        "\n",
        "  return d"
      ],
      "metadata": {
        "id": "s_87u2qsn3Tc"
      },
      "execution_count": 14,
      "outputs": []
    },
    {
      "cell_type": "markdown",
      "source": [
        "#### Premier exemple d'extraction"
      ],
      "metadata": {
        "id": "zHcZknYryqRd"
      }
    },
    {
      "cell_type": "markdown",
      "source": [
        "Extraire des informations du premier document du rdd1 (alt.atheism)"
      ],
      "metadata": {
        "id": "8H8vHfABmRzc"
      }
    },
    {
      "cell_type": "code",
      "source": [
        "\n",
        "# par l'action first\n",
        "doc1=rdd1.first()\n",
        "entete=doc1[1][0]\n",
        "\n",
        "# Dictionnaire des informations de l'entete\n",
        "dict1_info=extraction_informations_entete(entete)\n",
        "dict1_info"
      ],
      "metadata": {
        "id": "jb3WmurZq4PR",
        "colab": {
          "base_uri": "https://localhost:8080/"
        },
        "outputId": "6a9d93c6-5c2e-4887-8424-85f958794244"
      },
      "execution_count": 15,
      "outputs": [
        {
          "output_type": "execute_result",
          "data": {
            "text/plain": [
              "{'Newsgroups': ' alt.atheism,talk.religion.misc,talk.origins',\n",
              " 'Path': ' cantaloupe.srv.cs.cmu.edu!crabapple.srv.cs.cmu.edu!bb3.andrew.cmu.edu!news.sei.cmu.edu!fs7.ece.cmu.edu!europa.eng.gtefsd.com!howland.reston.ans.net!zaphod.mps.ohio-state.edu!swrinde!cs.utexas.edu!utnut!torn!nott!cunews!rjg',\n",
              " 'From': ' rjg@doe.carleton.ca (Richard Griffith)',\n",
              " 'Message-ID': ' <rjg.735427215@wesley>',\n",
              " 'Sender': ' news@cunews.carleton.ca (News Administrator)',\n",
              " 'Organization': ' Dept. of Electronics, Carleton University',\n",
              " 'References': ' <C5t5sF.8oz@mentor.cc.purdue.edu> <1r4b59$7hg@aurora.engr.LaTech.edu>',\n",
              " 'Lines': ' 23'}"
            ]
          },
          "metadata": {},
          "execution_count": 15
        }
      ]
    },
    {
      "cell_type": "markdown",
      "source": [
        "On va extraire NewsGroups et Organisation de l'élément dict1_info"
      ],
      "metadata": {
        "id": "d1BefFysmhVR"
      }
    },
    {
      "cell_type": "code",
      "source": [
        "# selectionner Organization et Newsgroups\n",
        "print(dict1_info['Newsgroups'])\n",
        "print(dict1_info['Organization'])"
      ],
      "metadata": {
        "id": "1fy0wE-qtfTb",
        "colab": {
          "base_uri": "https://localhost:8080/"
        },
        "outputId": "c1a5a30f-762c-47d1-974b-232b66e9a425"
      },
      "execution_count": 16,
      "outputs": [
        {
          "output_type": "stream",
          "name": "stdout",
          "text": [
            " alt.atheism,talk.religion.misc,talk.origins\n",
            " Dept. of Electronics, Carleton University\n"
          ]
        }
      ]
    },
    {
      "cell_type": "markdown",
      "source": [
        "#### Deuxieme exemple d'extraction"
      ],
      "metadata": {
        "id": "ixAxKaLe0IRM"
      }
    },
    {
      "cell_type": "code",
      "source": [
        "# par l'action take\n",
        "doc2=rdd2.take(2)\n",
        "entete2=doc2[1][1][0]\n",
        "# Dictionnaire des informations de l'entete\n",
        "dict2_info=extraction_informations_entete(entete2)\n",
        "dict2_info"
      ],
      "metadata": {
        "id": "PRntxXwVsQYu",
        "colab": {
          "base_uri": "https://localhost:8080/"
        },
        "outputId": "b6b4e48b-f75f-413b-f3c7-8607e591ab7b"
      },
      "execution_count": 17,
      "outputs": [
        {
          "output_type": "execute_result",
          "data": {
            "text/plain": [
              "{'Newsgroups': ' rec.sport.baseball',\n",
              " 'Path': ' cantaloupe.srv.cs.cmu.edu!das-news.harvard.edu!noc.near.net!howland.reston.ans.net!usenet.ins.cwru.edu!wsu-cs!vela.acs.oakland.edu!cs.uiuc.edu!cs.uiuc.edu!steph',\n",
              " 'From': ' steph@cs.uiuc.edu (Dale Stephenson)',\n",
              " 'Subject': ' Defensive Averages 1988-1992, Third Base',\n",
              " 'Message-ID': ' <C5JJrJ.EM3@cs.uiuc.edu>',\n",
              " 'Summary': ' career defensive averages at third',\n",
              " 'Organization': ' University of Illinois, Dept. of Comp. Sci., Urbana, IL',\n",
              " 'Lines': ' 68'}"
            ]
          },
          "metadata": {},
          "execution_count": 17
        }
      ]
    },
    {
      "cell_type": "code",
      "source": [
        "# selectionner Organization et Newsgroups\n",
        "print(dict2_info['Newsgroups'])\n",
        "print(dict2_info['Organization'])"
      ],
      "metadata": {
        "id": "5vGSXmr8tM09",
        "colab": {
          "base_uri": "https://localhost:8080/"
        },
        "outputId": "ca6b5363-44f8-4fbb-8d18-05be9559ac34"
      },
      "execution_count": 18,
      "outputs": [
        {
          "output_type": "stream",
          "name": "stdout",
          "text": [
            " rec.sport.baseball\n",
            " University of Illinois, Dept. of Comp. Sci., Urbana, IL\n"
          ]
        }
      ]
    },
    {
      "cell_type": "markdown",
      "source": [
        "### 3.6 Fusion des deux new RDD"
      ],
      "metadata": {
        "id": "ARKuwSIW03VA"
      }
    },
    {
      "cell_type": "markdown",
      "source": [
        "Ici, nous allons créer une nouvelle fonction de séparation de document qui va créer un élément de RDD de la forme\n",
        "\n",
        "`(Path, [Dictionnaire de l'entete , le contenu du document])`\n",
        "\n",
        "Ceci rendra la transformation des élément en type pyspark.sql.Row plus facile durant le choix des colonnes car certains champs de l'entete n'éxistent pas dans tous les documents, le test d'éxistance sera plus facile grace au dictionnaire."
      ],
      "metadata": {
        "id": "ofHCO1re0PlH"
      }
    },
    {
      "cell_type": "code",
      "source": [
        "# cette fonction prend en entrée un élement du rdd (doc)\n",
        "# et retourne un tuple contenant ( path, [dictionnaire de l'entete , le contenu du document])\n",
        "def structuration_document(doc):\n",
        "  if  doc is not None:\n",
        "    l= doc[1][0].split(\"\\n\")\n",
        "    d=dict()\n",
        "    if len(l)!=0:\n",
        "      for x in l:\n",
        "        z=x.split(\":\",1)\n",
        "        if len(z)==2:\n",
        "          d[z[0]]=z[1]\n",
        "        if len(z)<2:\n",
        "           pass\n",
        "        \n",
        "\n",
        "      return (doc[0],[d,doc[1][1]])"
      ],
      "metadata": {
        "id": "iP2HOZSXCjuS"
      },
      "execution_count": 19,
      "outputs": []
    },
    {
      "cell_type": "code",
      "source": [
        "new_rdd1=rdd1.map(structuration_document)\n"
      ],
      "metadata": {
        "id": "GDfaOLzGCSwg"
      },
      "execution_count": 20,
      "outputs": []
    },
    {
      "cell_type": "code",
      "source": [
        "# affichage du resultat de new_rdd1\n",
        "new_rdd1.take(2)"
      ],
      "metadata": {
        "id": "6E0EShNhDahC",
        "colab": {
          "base_uri": "https://localhost:8080/"
        },
        "outputId": "90fc04e5-1308-4156-c38e-f33f87fbafdb"
      },
      "execution_count": 21,
      "outputs": [
        {
          "output_type": "execute_result",
          "data": {
            "text/plain": [
              "[('file:/content/20_newsgroups/alt.atheism/53791',\n",
              "  [{'Xref': ' cantaloupe.srv.cs.cmu.edu alt.atheism:53791 talk.religion.misc:84109 talk.origins:41079',\n",
              "    'Newsgroups': ' alt.atheism,talk.religion.misc,talk.origins',\n",
              "    'Path': ' cantaloupe.srv.cs.cmu.edu!crabapple.srv.cs.cmu.edu!bb3.andrew.cmu.edu!news.sei.cmu.edu!fs7.ece.cmu.edu!europa.eng.gtefsd.com!howland.reston.ans.net!zaphod.mps.ohio-state.edu!swrinde!cs.utexas.edu!utnut!torn!nott!cunews!rjg',\n",
              "    'From': ' rjg@doe.carleton.ca (Richard Griffith)',\n",
              "    'Subject': ' Re: Burden of Proof',\n",
              "    'Message-ID': ' <rjg.735427215@wesley>',\n",
              "    'Sender': ' news@cunews.carleton.ca (News Administrator)',\n",
              "    'Organization': ' Dept. of Electronics, Carleton University',\n",
              "    'References': ' <C5t5sF.8oz@mentor.cc.purdue.edu> <1r4b59$7hg@aurora.engr.LaTech.edu>',\n",
              "    'Date': ' Wed, 21 Apr 1993 21:20:15 GMT',\n",
              "    'Lines': ' 23'},\n",
              "   'In <1r4b59$7hg@aurora.engr.LaTech.edu> ray@engr.LaTech.edu (Bill Ray) writes:']),\n",
              " ('file:/content/20_newsgroups/alt.atheism/54220',\n",
              "  [{'Path': ' cantaloupe.srv.cs.cmu.edu!crabapple.srv.cs.cmu.edu!fs7.ece.cmu.edu!europa.eng.gtefsd.com!howland.reston.ans.net!usenet.ins.cwru.edu!po.CWRU.edu!kmr4',\n",
              "    'From': ' kmr4@po.CWRU.edu (Keith M. Ryan)',\n",
              "    'Newsgroups': ' alt.atheism',\n",
              "    'Subject': ' Re: free moral agency',\n",
              "    'Date': ' Thu, 22 Apr 1993 23:48:54 GMT',\n",
              "    'Organization': ' Case Western Reserve University',\n",
              "    'Lines': ' 29',\n",
              "    'Message-ID': ' <kmr4.1678.735522534@po.CWRU.edu>',\n",
              "    'References': ' <1993Apr19.161248.23708@welchgate.welch.jhu.edu> <C5uxJ9.pJ@darkside.osrhe.uoknor.edu>',\n",
              "    'NNTP-Posting-Host': ' b64635.student.cwru.edu'},\n",
              "   'In article <C5uxJ9.pJ@darkside.osrhe.uoknor.edu> bil@okcforum.osrhe.edu (Bill Conner) writes:'])]"
            ]
          },
          "metadata": {},
          "execution_count": 21
        }
      ]
    },
    {
      "cell_type": "code",
      "source": [
        "# en appliquant la meme fonction sur le rdd2\n",
        "new_rdd2=rdd2.map(structuration_document)"
      ],
      "metadata": {
        "id": "cf4484UdAjBv"
      },
      "execution_count": 22,
      "outputs": []
    },
    {
      "cell_type": "code",
      "source": [
        "new_rdd2.take(2)"
      ],
      "metadata": {
        "colab": {
          "base_uri": "https://localhost:8080/"
        },
        "id": "tkW5ltJxAska",
        "outputId": "903309ae-7868-4f44-c3b2-ed28a54c31b9"
      },
      "execution_count": 23,
      "outputs": [
        {
          "output_type": "execute_result",
          "data": {
            "text/plain": [
              "[('file:/content/20_newsgroups/rec.sport.baseball/104985',\n",
              "  [{'Newsgroups': ' rec.sport.baseball',\n",
              "    'Path': ' cantaloupe.srv.cs.cmu.edu!rochester!udel!gatech!howland.reston.ans.net!zaphod.mps.ohio-state.edu!magnus.acs.ohio-state.edu!dmoney',\n",
              "    'From': ' dmoney@magnus.acs.ohio-state.edu (Dean R Money)',\n",
              "    'Subject': ' The Braves will come around...',\n",
              "    'Message-ID': ' <1993Apr23.193027.26515@magnus.acs.ohio-state.edu>',\n",
              "    'Sender': ' news@magnus.acs.ohio-state.edu',\n",
              "    'Nntp-Posting-Host': ' bottom.magnus.acs.ohio-state.edu',\n",
              "    'Organization': ' The Ohio State University',\n",
              "    'Date': ' Fri, 23 Apr 1993 19:30:27 GMT',\n",
              "    'Lines': ' 28'},\n",
              "   'To all the Braves doubters:']),\n",
              " ('file:/content/20_newsgroups/rec.sport.baseball/104504',\n",
              "  [{'Newsgroups': ' rec.sport.baseball',\n",
              "    'Path': ' cantaloupe.srv.cs.cmu.edu!das-news.harvard.edu!noc.near.net!howland.reston.ans.net!usenet.ins.cwru.edu!wsu-cs!vela.acs.oakland.edu!cs.uiuc.edu!cs.uiuc.edu!steph',\n",
              "    'From': ' steph@cs.uiuc.edu (Dale Stephenson)',\n",
              "    'Subject': ' Defensive Averages 1988-1992, Third Base',\n",
              "    'Message-ID': ' <C5JJrJ.EM3@cs.uiuc.edu>',\n",
              "    'Summary': ' career defensive averages at third',\n",
              "    'Organization': ' University of Illinois, Dept. of Comp. Sci., Urbana, IL',\n",
              "    'Date': ' Thu, 15 Apr 1993 20:04:30 GMT',\n",
              "    'Lines': ' 68'},\n",
              "   'Compiled from the last five Defensive Average reports, here are the career\\nDAs for the individual players in the reports.  Stats are courtesy of\\nSherri Nichols.  Players are listed in descending order.'])]"
            ]
          },
          "metadata": {},
          "execution_count": 23
        }
      ]
    },
    {
      "cell_type": "markdown",
      "source": [
        "en faisant l'union des deux RDD"
      ],
      "metadata": {
        "id": "aXEvPSW2XPmW"
      }
    },
    {
      "cell_type": "code",
      "source": [
        "# Fusionner les deux RDD (union)\n",
        "fusion=new_rdd1.union(new_rdd2)"
      ],
      "metadata": {
        "id": "aRn8a57Du1py"
      },
      "execution_count": 24,
      "outputs": []
    },
    {
      "cell_type": "code",
      "source": [
        "fusion.take(2)"
      ],
      "metadata": {
        "id": "81NjmV3R8kxQ",
        "colab": {
          "base_uri": "https://localhost:8080/"
        },
        "outputId": "cb77229d-ad73-47fc-81cb-15dadfea2ccc"
      },
      "execution_count": 25,
      "outputs": [
        {
          "output_type": "execute_result",
          "data": {
            "text/plain": [
              "[('file:/content/20_newsgroups/alt.atheism/53791',\n",
              "  [{'Xref': ' cantaloupe.srv.cs.cmu.edu alt.atheism:53791 talk.religion.misc:84109 talk.origins:41079',\n",
              "    'Newsgroups': ' alt.atheism,talk.religion.misc,talk.origins',\n",
              "    'Path': ' cantaloupe.srv.cs.cmu.edu!crabapple.srv.cs.cmu.edu!bb3.andrew.cmu.edu!news.sei.cmu.edu!fs7.ece.cmu.edu!europa.eng.gtefsd.com!howland.reston.ans.net!zaphod.mps.ohio-state.edu!swrinde!cs.utexas.edu!utnut!torn!nott!cunews!rjg',\n",
              "    'From': ' rjg@doe.carleton.ca (Richard Griffith)',\n",
              "    'Subject': ' Re: Burden of Proof',\n",
              "    'Message-ID': ' <rjg.735427215@wesley>',\n",
              "    'Sender': ' news@cunews.carleton.ca (News Administrator)',\n",
              "    'Organization': ' Dept. of Electronics, Carleton University',\n",
              "    'References': ' <C5t5sF.8oz@mentor.cc.purdue.edu> <1r4b59$7hg@aurora.engr.LaTech.edu>',\n",
              "    'Date': ' Wed, 21 Apr 1993 21:20:15 GMT',\n",
              "    'Lines': ' 23'},\n",
              "   'In <1r4b59$7hg@aurora.engr.LaTech.edu> ray@engr.LaTech.edu (Bill Ray) writes:']),\n",
              " ('file:/content/20_newsgroups/alt.atheism/54220',\n",
              "  [{'Path': ' cantaloupe.srv.cs.cmu.edu!crabapple.srv.cs.cmu.edu!fs7.ece.cmu.edu!europa.eng.gtefsd.com!howland.reston.ans.net!usenet.ins.cwru.edu!po.CWRU.edu!kmr4',\n",
              "    'From': ' kmr4@po.CWRU.edu (Keith M. Ryan)',\n",
              "    'Newsgroups': ' alt.atheism',\n",
              "    'Subject': ' Re: free moral agency',\n",
              "    'Date': ' Thu, 22 Apr 1993 23:48:54 GMT',\n",
              "    'Organization': ' Case Western Reserve University',\n",
              "    'Lines': ' 29',\n",
              "    'Message-ID': ' <kmr4.1678.735522534@po.CWRU.edu>',\n",
              "    'References': ' <1993Apr19.161248.23708@welchgate.welch.jhu.edu> <C5uxJ9.pJ@darkside.osrhe.uoknor.edu>',\n",
              "    'NNTP-Posting-Host': ' b64635.student.cwru.edu'},\n",
              "   'In article <C5uxJ9.pJ@darkside.osrhe.uoknor.edu> bil@okcforum.osrhe.edu (Bill Conner) writes:'])]"
            ]
          },
          "metadata": {},
          "execution_count": 25
        }
      ]
    },
    {
      "cell_type": "markdown",
      "source": [
        "### 3.7 Transformation le nouveau RDD obtenu pour que chaque élément soit de type pyspark.sql.Row"
      ],
      "metadata": {
        "id": "gi0LvfR7u2iU"
      }
    },
    {
      "cell_type": "code",
      "source": [
        "from pyspark.sql import Row\n",
        "\n",
        "# cette fonction ToRow est utilisée pour manipuler la table sql et faire des requetes.\n",
        "def ToRow(x):\n",
        "  entete=x[1][0]\n",
        "  \n",
        "  #Certains éléments (comme Subject ou Date) n'éxistent pas dans tous les documents\n",
        "  #C'est pour cela que la création du dictionnaire avec la fonction structuration_document() nous aide dans les tests d'éxistance\n",
        "  row = Row(Path=x[0], Newsgroups=entete['Newsgroups'] if 'Newsgroups' in entete.keys() else None,\n",
        "            Organization=entete['Organization'] if 'Organization' in entete.keys() else None,\n",
        "            Subject=entete['Subject'] if 'Subject' in entete.keys() else None,\n",
        "            Date=entete['Date'] if 'Date' in entete.keys() else None,\n",
        "            Lines=entete['Lines'] if 'Lines' in entete.keys() else None,\n",
        "            From=entete['From'] if 'From' in entete.keys() else None,\n",
        "\n",
        "            Contenu=x[1][1])\n",
        "  \n",
        "  return row\n",
        "\n",
        "rddF=fusion.map(ToRow)\n"
      ],
      "metadata": {
        "id": "DcArLax4vGn3"
      },
      "execution_count": 26,
      "outputs": []
    },
    {
      "cell_type": "code",
      "source": [
        "rddF.take(2)"
      ],
      "metadata": {
        "id": "WMSB87g_x4DG",
        "colab": {
          "base_uri": "https://localhost:8080/"
        },
        "outputId": "030d3232-fa58-4eab-bf54-3cc042f02706"
      },
      "execution_count": 27,
      "outputs": [
        {
          "output_type": "execute_result",
          "data": {
            "text/plain": [
              "[Row(Path='file:/content/20_newsgroups/alt.atheism/53791', Newsgroups=' alt.atheism,talk.religion.misc,talk.origins', Organization=' Dept. of Electronics, Carleton University', Subject=' Re: Burden of Proof', Date=' Wed, 21 Apr 1993 21:20:15 GMT', Lines=' 23', From=' rjg@doe.carleton.ca (Richard Griffith)', Contenu='In <1r4b59$7hg@aurora.engr.LaTech.edu> ray@engr.LaTech.edu (Bill Ray) writes:'),\n",
              " Row(Path='file:/content/20_newsgroups/alt.atheism/54220', Newsgroups=' alt.atheism', Organization=' Case Western Reserve University', Subject=' Re: free moral agency', Date=' Thu, 22 Apr 1993 23:48:54 GMT', Lines=' 29', From=' kmr4@po.CWRU.edu (Keith M. Ryan)', Contenu='In article <C5uxJ9.pJ@darkside.osrhe.uoknor.edu> bil@okcforum.osrhe.edu (Bill Conner) writes:')]"
            ]
          },
          "metadata": {},
          "execution_count": 27
        }
      ]
    },
    {
      "cell_type": "markdown",
      "source": [
        "### 3.8 Création d'un objet de type DataFrame à partir du RDD fusionné"
      ],
      "metadata": {
        "id": "7OxFVFKbYNOt"
      }
    },
    {
      "cell_type": "code",
      "source": [
        "#Create dataframe spark\n",
        "df=spark.createDataFrame(rddF)\n",
        "df.printSchema()"
      ],
      "metadata": {
        "id": "dfMtTQZLoMqo",
        "outputId": "0f384f0b-d36b-4c83-84bf-e2aaaaaed2c1",
        "colab": {
          "base_uri": "https://localhost:8080/"
        }
      },
      "execution_count": 66,
      "outputs": [
        {
          "output_type": "stream",
          "name": "stdout",
          "text": [
            "root\n",
            " |-- Path: string (nullable = true)\n",
            " |-- Newsgroups: string (nullable = true)\n",
            " |-- Organization: string (nullable = true)\n",
            " |-- Subject: string (nullable = true)\n",
            " |-- Date: string (nullable = true)\n",
            " |-- Lines: string (nullable = true)\n",
            " |-- From: string (nullable = true)\n",
            " |-- Contenu: string (nullable = true)\n",
            "\n"
          ]
        }
      ]
    },
    {
      "cell_type": "code",
      "source": [
        "df.show()"
      ],
      "metadata": {
        "id": "4C1o494MoMci",
        "outputId": "1e8b730a-672d-4e5c-ddae-8951f9a7c5b4",
        "colab": {
          "base_uri": "https://localhost:8080/"
        }
      },
      "execution_count": 67,
      "outputs": [
        {
          "output_type": "stream",
          "name": "stdout",
          "text": [
            "+--------------------+--------------------+--------------------+--------------------+--------------------+-----+--------------------+--------------------+\n",
            "|                Path|          Newsgroups|        Organization|             Subject|                Date|Lines|                From|             Contenu|\n",
            "+--------------------+--------------------+--------------------+--------------------+--------------------+-----+--------------------+--------------------+\n",
            "|file:/content/20_...| alt.atheism,talk...| Dept. of Electro...| Re: Burden of Proof| Wed, 21 Apr 1993...|   23| rjg@doe.carleton...|In <1r4b59$7hg@au...|\n",
            "|file:/content/20_...|         alt.atheism| Case Western Res...| Re: free moral a...| Thu, 22 Apr 1993...|   29| kmr4@po.CWRU.edu...|In article <C5uxJ...|\n",
            "|file:/content/20_...|         alt.atheism| California Insti...| Re: >>>>>>Pompou...| 2 Apr 93 21:01:4...|   14| keith@cco.caltec...|livesey@solntze.w...|\n",
            "|file:/content/20_...|         alt.atheism| Decision Support...| Re: Yet more Rus...| 26 Apr 1993 11:0...|   28| perry@dsinc.com ...|In article <1993A...|\n",
            "|file:/content/20_...|         alt.atheism| Welch Medical Li...| Re: A Little Too...| Mon, 5 Apr 1993 ...|   21| davidk@welch.jhu...|In article 65934@...|\n",
            "|file:/content/20_...|         alt.atheism|                null| Re: Amusing athe...| 20 Apr 93 08:31:...|  117| timmbake@mcl.ucs...|mccullou@whipple....|\n",
            "|file:/content/20_...|         alt.atheism| Decision Support...| Re: Who Says the...| 20 Apr 1993 13:3...|   30| perry@dsinc.com ...|Another article t...|\n",
            "|file:/content/20_...|         alt.atheism|                null|    More Best of A.A| 24 Apr 93 00:01:...|  164| bobbe@vice (Robe...|                    |\n",
            "|file:/content/20_...| sci.skeptic,alt....| University of Ma...|    Re: Asimov stamp| Fri, 23 Apr 1993...|   23| rsrodger@wam.umd...|In article <schni...|\n",
            "|file:/content/20_...| alt.atheism,talk...|  Indiana University| Re: The Universe...| Wed, 21 Apr 1993...|   69| battin@cyclops.i...|On re-reading thi...|\n",
            "|file:/content/20_...|         alt.atheism|  Siemens-Nixdorf AG| Re: Societal bas...| 21 Apr 1993 10:3...|   49| frank@D012S658.u...|In article <1993A...|\n",
            "|file:/content/20_...|         alt.atheism|                 sgi| Re: Slavery (was...| 16 Apr 1993 05:5...|   37| livesey@solntze....|In article <1993A...|\n",
            "|file:/content/20_...|         alt.atheism|                 sgi| Re: Morality? (w...| 16 Apr 1993 06:0...|   93| livesey@solntze....|In article <1qlet...|\n",
            "|file:/content/20_...|         alt.atheism| Decision Support...| Re: Is Morality ...| 20 Apr 1993 13:2...|   99| perry@dsinc.com ...|My last response ...|\n",
            "|file:/content/20_...|         alt.atheism| Monash Universit...| Re: Yet more Rus...| Tue, 6 Apr 1993 ...|  131| darice@yoyo.cc.m...|In <2942956021.3....|\n",
            "|file:/content/20_...|         alt.atheism| California Insti...| Re: Is Keith as ...| 4 Apr 1993 08:33...|   16| keith@cco.caltec...|mam@mouse.cmhnet....|\n",
            "|file:/content/20_...|         alt.atheism| ITC, Griffith Un...| Re: Societally a...| 21 Apr 93 00:54:...|   49| ednclark@kraken....|cobb@alexia.lis.u...|\n",
            "|file:/content/20_...|         alt.atheism|                null| Re: Amusing athe...| 20 Apr 93 00:59:...|   66| timmbake@mcl.ucs...|\\nJames Hogan wri...|\n",
            "|file:/content/20_...|         alt.atheism| Technical Univer...|     Re: Yeah, Right| Tue, 6 Apr 1993 ...|   54| I3150101@dbstu1....|In article <66014...|\n",
            "|file:/content/20_...|         alt.atheism| Tektronix Inc., ...| Re: Yet more Rus...| 16 Apr 93 04:42:...|   25| bobbe@vice.ICO.T...|In article <11556...|\n",
            "+--------------------+--------------------+--------------------+--------------------+--------------------+-----+--------------------+--------------------+\n",
            "only showing top 20 rows\n",
            "\n"
          ]
        }
      ]
    },
    {
      "cell_type": "code",
      "source": [
        "df.count()"
      ],
      "metadata": {
        "id": "jkNhg-JGyrsE",
        "colab": {
          "base_uri": "https://localhost:8080/"
        },
        "outputId": "6da452ee-ba0a-4c5b-d7bd-d182c21b9fd9"
      },
      "execution_count": 68,
      "outputs": [
        {
          "output_type": "execute_result",
          "data": {
            "text/plain": [
              "2000"
            ]
          },
          "metadata": {},
          "execution_count": 68
        }
      ]
    },
    {
      "cell_type": "markdown",
      "source": [
        "### 3.9 Sauvegarde la DataFrame au format Avro"
      ],
      "metadata": {
        "id": "_ByCPIPHYd01"
      }
    },
    {
      "cell_type": "markdown",
      "source": [
        "❌ **Remarque:** Nous n'avons pas trouvé une solution de sauvegarde aux formats Avro et Parquet sans passer par pandas. Cependant, cette solution n'est pas optimale car toutes les données seront envoyées au Driver node.\n",
        "\n"
      ],
      "metadata": {
        "id": "_p1cLdoi18Sx"
      }
    },
    {
      "cell_type": "code",
      "source": [
        "!pip install pandavro"
      ],
      "metadata": {
        "id": "9j4F1Md60WZu",
        "colab": {
          "base_uri": "https://localhost:8080/"
        },
        "outputId": "61f4db1b-49df-4cfa-d5ff-4b26510d7ff7"
      },
      "execution_count": 29,
      "outputs": [
        {
          "output_type": "stream",
          "name": "stdout",
          "text": [
            "Looking in indexes: https://pypi.org/simple, https://us-python.pkg.dev/colab-wheels/public/simple/\n",
            "Requirement already satisfied: pandavro in /usr/local/lib/python3.8/dist-packages (1.7.1)\n",
            "Requirement already satisfied: pandas>=1.1 in /usr/local/lib/python3.8/dist-packages (from pandavro) (1.3.5)\n",
            "Requirement already satisfied: numpy>=1.15.4 in /usr/local/lib/python3.8/dist-packages (from pandavro) (1.22.4)\n",
            "Requirement already satisfied: fastavro==1.5.1 in /usr/local/lib/python3.8/dist-packages (from pandavro) (1.5.1)\n",
            "Requirement already satisfied: pytz>=2017.3 in /usr/local/lib/python3.8/dist-packages (from pandas>=1.1->pandavro) (2022.7.1)\n",
            "Requirement already satisfied: python-dateutil>=2.7.3 in /usr/local/lib/python3.8/dist-packages (from pandas>=1.1->pandavro) (2.8.2)\n",
            "Requirement already satisfied: six>=1.5 in /usr/local/lib/python3.8/dist-packages (from python-dateutil>=2.7.3->pandas>=1.1->pandavro) (1.15.0)\n"
          ]
        }
      ]
    },
    {
      "cell_type": "code",
      "source": [
        "import numpy as np\n",
        "import pandas as pd\n",
        "import pandavro as pdx\n",
        "from pyspark.sql.avro.functions import from_avro, to_avro\n",
        "filename = \"df.avro\"\n",
        "\n",
        "# on est passé par le dataframe pandas mais ça envoie tout au driver\n",
        "df2=df.toPandas()\n",
        "pdx.to_avro(filename, df2)\n"
      ],
      "metadata": {
        "id": "t2smBRf61WTP"
      },
      "execution_count": 30,
      "outputs": []
    },
    {
      "cell_type": "markdown",
      "source": [
        "### 3.10 Sauvegarder la DataFrame au format Parquet"
      ],
      "metadata": {
        "id": "SkHqZdwqYsFw"
      }
    },
    {
      "cell_type": "code",
      "source": [
        "# sauvgarder le dataframe au format parquet\n",
        "import pyarrow as pa\n",
        "import pyarrow.parquet as pq\n",
        "table = pa.Table.from_pandas(df2)\n",
        "pq.write_table(table, 'df.parquet')"
      ],
      "metadata": {
        "id": "ukrDrjxH4L0x"
      },
      "execution_count": 32,
      "outputs": []
    },
    {
      "cell_type": "markdown",
      "source": [
        "## 4 Analyse descriptive API SPARK SQL"
      ],
      "metadata": {
        "id": "I2y9zdHaY_2T"
      }
    },
    {
      "cell_type": "markdown",
      "source": [
        "### 4.1 Vérification de deux catégories différentes de documents"
      ],
      "metadata": {
        "id": "Dx2QZTJ9ZdpN"
      }
    },
    {
      "cell_type": "code",
      "source": [
        "# le nombre de documents par Newsgroups\n",
        "df.groupBy(\"Newsgroups\").count().show()"
      ],
      "metadata": {
        "id": "7hpRl_hC6xaT",
        "colab": {
          "base_uri": "https://localhost:8080/"
        },
        "outputId": "135db671-808b-4f81-d336-6c7070f3163d"
      },
      "execution_count": 34,
      "outputs": [
        {
          "output_type": "stream",
          "name": "stdout",
          "text": [
            "+--------------------+-----+\n",
            "|          Newsgroups|count|\n",
            "+--------------------+-----+\n",
            "| talk.religion.mi...|    2|\n",
            "| sci.skeptic,alt....|    7|\n",
            "| alt.atheism,soc....|    1|\n",
            "| talk.abortion,al...|    1|\n",
            "| alt.atheism,talk...|    3|\n",
            "| alt.atheism,rec....|    3|\n",
            "| alt.atheism,talk...|   92|\n",
            "| rec.scouting,soc...|    1|\n",
            "| soc.culture.arab...|    2|\n",
            "| alt.atheism,talk...|    5|\n",
            "| alt.atheism,alt....|    2|\n",
            "| alt.atheism,soc....|    8|\n",
            "|         alt.atheism|  734|\n",
            "| alt.atheism,alt....|    7|\n",
            "| talk.religion.mi...|    4|\n",
            "| alt.atheism,talk...|   20|\n",
            "| alt.slack,talk.r...|    1|\n",
            "| talk.religion.mi...|    4|\n",
            "| talk.abortion,al...|   94|\n",
            "| alt.atheism,soc....|    2|\n",
            "+--------------------+-----+\n",
            "only showing top 20 rows\n",
            "\n"
          ]
        }
      ]
    },
    {
      "cell_type": "markdown",
      "source": [
        "On remarque que le champ Newsgroups peut contenir des éléments en plus des deux catégories principales \"alt.atheism\" ou \"rec.sport.baseball\".\n",
        "\n",
        "Pour vérifier qu'on a bien ces deux catégories principales différentes, nous allons créer deux vues: \n",
        "\n",
        "* Une vue `sport` qui contient toutes les lignes où `rec.sport.baseball` apparait.\n",
        "* Une vue `religion` qui contient toutes les lignes où `alt.atheism` apparait.\n",
        "\n",
        "Puis nous allons compter le nombre d'éléments dans chaque liste, en plus de voir si l'intersectiondes deux vues est vide ou pas.\n",
        "\n",
        "Si l'intersection est vide, et que la somme des éléments des deux vues est égale au nombre total des éléments de la fusion, cela veut dire que les documents sont bien separés par deux catégories différentes  \"alt.atheism\" et \"rec.sport.baseball\"."
      ],
      "metadata": {
        "id": "-hLXilk-4ROA"
      }
    },
    {
      "cell_type": "code",
      "source": [
        "# Mettre le dataframe dans une table sql (Document)\n",
        "\n",
        "from pandas._libs.hashtable import value_count\n",
        "df.createOrReplaceTempView(\"Document\")"
      ],
      "metadata": {
        "id": "B4I4EBSRJAML"
      },
      "execution_count": 35,
      "outputs": []
    },
    {
      "cell_type": "markdown",
      "source": [
        "Si les vues sont déja créées, executer ces deux lignes:"
      ],
      "metadata": {
        "id": "C6Q634GMrVNs"
      }
    },
    {
      "cell_type": "code",
      "source": [
        "#Si les vues sont déja créées\n",
        "#spark.sql(\"DROP VIEW sport\")\n",
        "#spark.sql(\"DROP VIEW religion\")"
      ],
      "metadata": {
        "id": "q_Ba_aJ3ddv7"
      },
      "execution_count": 36,
      "outputs": []
    },
    {
      "cell_type": "code",
      "source": [
        "# Création d'une vue (sport) contennat tous les document de catégorie rec.sport.baseball\n",
        "sqlDF = spark.sql(\"CREATE TEMP VIEW sport AS SELECT Newsgroups FROM Document WHERE Newsgroups LIKE '%rec.sport.baseball%'\")"
      ],
      "metadata": {
        "id": "w-BQb23nnvFN"
      },
      "execution_count": 37,
      "outputs": []
    },
    {
      "cell_type": "code",
      "source": [
        "# Création d'une vue (religion) contennat tous les document de catégorie alt.atheism\n",
        "sqlDF = spark.sql(\"CREATE TEMP VIEW religion AS SELECT Newsgroups FROM Document WHERE Newsgroups LIKE '%alt.atheism%'\")"
      ],
      "metadata": {
        "id": "PidZcL3QcW1I"
      },
      "execution_count": 38,
      "outputs": []
    },
    {
      "cell_type": "code",
      "source": [
        "# affichage la vue Sport\n",
        "sqlDF2 = spark.sql(\"SELECT * FROM sport\")\n",
        "sqlDF2.show()"
      ],
      "metadata": {
        "id": "nu-RhzMfapKw",
        "colab": {
          "base_uri": "https://localhost:8080/"
        },
        "outputId": "ea447195-954d-4336-e60f-80c53220968a"
      },
      "execution_count": 39,
      "outputs": [
        {
          "output_type": "stream",
          "name": "stdout",
          "text": [
            "+--------------------+\n",
            "|          Newsgroups|\n",
            "+--------------------+\n",
            "|  rec.sport.baseball|\n",
            "|  rec.sport.baseball|\n",
            "|  rec.sport.baseball|\n",
            "|  rec.sport.baseball|\n",
            "|  rec.sport.baseball|\n",
            "|  rec.sport.baseball|\n",
            "|  rec.sport.baseball|\n",
            "|  rec.sport.baseball|\n",
            "|  rec.sport.baseball|\n",
            "|  rec.sport.baseball|\n",
            "|  rec.sport.baseball|\n",
            "|  rec.sport.baseball|\n",
            "|  rec.sport.baseball|\n",
            "|  rec.sport.baseball|\n",
            "| rec.sport.baseba...|\n",
            "|  rec.sport.baseball|\n",
            "|  rec.sport.baseball|\n",
            "|  rec.sport.baseball|\n",
            "|  rec.sport.baseball|\n",
            "|  rec.sport.baseball|\n",
            "+--------------------+\n",
            "only showing top 20 rows\n",
            "\n"
          ]
        }
      ]
    },
    {
      "cell_type": "code",
      "source": [
        "# Affichage la vue religion\n",
        "sqlDF3 = spark.sql(\"SELECT * FROM religion\")\n",
        "sqlDF3.show()"
      ],
      "metadata": {
        "colab": {
          "base_uri": "https://localhost:8080/"
        },
        "id": "apuqW9XR0gNw",
        "outputId": "d1c27f01-93f6-484b-bfc5-947162d6d9af"
      },
      "execution_count": 40,
      "outputs": [
        {
          "output_type": "stream",
          "name": "stdout",
          "text": [
            "+--------------------+\n",
            "|          Newsgroups|\n",
            "+--------------------+\n",
            "| alt.atheism,talk...|\n",
            "|         alt.atheism|\n",
            "|         alt.atheism|\n",
            "|         alt.atheism|\n",
            "|         alt.atheism|\n",
            "|         alt.atheism|\n",
            "|         alt.atheism|\n",
            "|         alt.atheism|\n",
            "| sci.skeptic,alt....|\n",
            "| alt.atheism,talk...|\n",
            "|         alt.atheism|\n",
            "|         alt.atheism|\n",
            "|         alt.atheism|\n",
            "|         alt.atheism|\n",
            "|         alt.atheism|\n",
            "|         alt.atheism|\n",
            "|         alt.atheism|\n",
            "|         alt.atheism|\n",
            "|         alt.atheism|\n",
            "|         alt.atheism|\n",
            "+--------------------+\n",
            "only showing top 20 rows\n",
            "\n"
          ]
        }
      ]
    },
    {
      "cell_type": "code",
      "source": [
        "# le nombre de documents dont la categorie contient rec_baseball\n",
        "sqlDF3 = spark.sql(\"SELECT count(s.Newsgroups) as nbr_rec_baseball FROM sport s \")\n",
        "sqlDF3.show()"
      ],
      "metadata": {
        "id": "OAUHkV1ne0-O",
        "colab": {
          "base_uri": "https://localhost:8080/"
        },
        "outputId": "f696e266-a618-414d-ba65-9119b7742c01"
      },
      "execution_count": 41,
      "outputs": [
        {
          "output_type": "stream",
          "name": "stdout",
          "text": [
            "+----------------+\n",
            "|nbr_rec_baseball|\n",
            "+----------------+\n",
            "|            1000|\n",
            "+----------------+\n",
            "\n"
          ]
        }
      ]
    },
    {
      "cell_type": "code",
      "source": [
        "# le nombre de documents dont la categorie contient alt.atheism\n",
        "sqlDF3 = spark.sql(\"SELECT count(Newsgroups) as nb_alt_atheism FROM religion\")\n",
        "sqlDF3.show()\n",
        " "
      ],
      "metadata": {
        "id": "y1Ks8dqpgrFN",
        "colab": {
          "base_uri": "https://localhost:8080/"
        },
        "outputId": "7bc93c8e-e6a7-4396-e6dc-1d54099385de"
      },
      "execution_count": 42,
      "outputs": [
        {
          "output_type": "stream",
          "name": "stdout",
          "text": [
            "+--------------+\n",
            "|nb_alt_atheism|\n",
            "+--------------+\n",
            "|          1000|\n",
            "+--------------+\n",
            "\n"
          ]
        }
      ]
    },
    {
      "cell_type": "code",
      "source": [
        "# Pour prouver qu'il n'y a pas d'intersection entre les deux catégories \n",
        "# de plus on a 1000 lignes dans la vue religion et 1000 dans la vue religion\n",
        "#(en sachant que le nombre total des lignes dans la table document est de 2000)\n",
        "sqlDF3 = spark.sql(\"SELECT * FROM religion INTERSECT (SELECT * FROM sport) \")\n",
        "sqlDF3.show()"
      ],
      "metadata": {
        "id": "t2Ef-PVLcvUj",
        "colab": {
          "base_uri": "https://localhost:8080/"
        },
        "outputId": "2e8f3794-1154-4700-eb50-4b29c8dd03a7"
      },
      "execution_count": 43,
      "outputs": [
        {
          "output_type": "stream",
          "name": "stdout",
          "text": [
            "+----------+\n",
            "|Newsgroups|\n",
            "+----------+\n",
            "+----------+\n",
            "\n"
          ]
        }
      ]
    },
    {
      "cell_type": "markdown",
      "source": [
        "**Conclusion:** on a bien deux catégories différentes de documents"
      ],
      "metadata": {
        "id": "SO3ky_686HRK"
      }
    },
    {
      "cell_type": "markdown",
      "source": [
        "### 4.2 Le nombre d'organisations différentes"
      ],
      "metadata": {
        "id": "U7nR0HplZqua"
      }
    },
    {
      "cell_type": "code",
      "source": [
        "#le nombre d'organisations différentes\n",
        "from pyspark.sql.functions import countDistinct\n",
        "df2=df.select(countDistinct(\"Organization\"))\n",
        "df2.show()"
      ],
      "metadata": {
        "id": "sBrfqeMXhbPv",
        "colab": {
          "base_uri": "https://localhost:8080/"
        },
        "outputId": "d385bb8f-cd00-4179-9005-a7336db82d05"
      },
      "execution_count": 44,
      "outputs": [
        {
          "output_type": "stream",
          "name": "stdout",
          "text": [
            "+----------------------------+\n",
            "|count(DISTINCT Organization)|\n",
            "+----------------------------+\n",
            "|                         485|\n",
            "+----------------------------+\n",
            "\n"
          ]
        }
      ]
    },
    {
      "cell_type": "markdown",
      "source": [
        "### 4.3 D’autres statistiques descriptives"
      ],
      "metadata": {
        "id": "1UCqke2mZ0H8"
      }
    },
    {
      "cell_type": "markdown",
      "source": [
        "Max, Min , Moyenne, écart type par rapport a l'attribut Lines"
      ],
      "metadata": {
        "id": "BOdoHH4j6ai_"
      }
    },
    {
      "cell_type": "code",
      "source": [
        "df.describe(\"Lines\").show()"
      ],
      "metadata": {
        "id": "JYV_xrQNjD80",
        "colab": {
          "base_uri": "https://localhost:8080/"
        },
        "outputId": "10873907-9ff1-4aa7-c1c6-6f2e71c1bcf3"
      },
      "execution_count": 45,
      "outputs": [
        {
          "output_type": "stream",
          "name": "stdout",
          "text": [
            "+-------+-----------------+\n",
            "|summary|            Lines|\n",
            "+-------+-----------------+\n",
            "|  count|             1994|\n",
            "|   mean|36.48294884653962|\n",
            "| stddev|48.79137273450094|\n",
            "|    min|                1|\n",
            "|    max|               99|\n",
            "+-------+-----------------+\n",
            "\n"
          ]
        }
      ]
    },
    {
      "cell_type": "markdown",
      "source": [
        "Le nombre de documents par organization"
      ],
      "metadata": {
        "id": "a6afe-ID6dxZ"
      }
    },
    {
      "cell_type": "code",
      "source": [
        "df.groupBy(\"Organization\").count().show()"
      ],
      "metadata": {
        "id": "sHfV1q3gkOt3",
        "colab": {
          "base_uri": "https://localhost:8080/"
        },
        "outputId": "cb84b312-75cc-45fa-d7d7-555aebc8febd"
      },
      "execution_count": 46,
      "outputs": [
        {
          "output_type": "stream",
          "name": "stdout",
          "text": [
            "+--------------------+-----+\n",
            "|        Organization|count|\n",
            "+--------------------+-----+\n",
            "|           SunSelect|    2|\n",
            "| Case Western Res...|   39|\n",
            "| Princeton Univer...|   24|\n",
            "| University of Ne...|    2|\n",
            "| S-CUBED, A Divis...|    1|\n",
            "| Harlequin Ltd. C...|    1|\n",
            "| University of Ne...|    7|\n",
            "|   Cured, discharged|    3|\n",
            "|   Augustana College|    1|\n",
            "| National Optical...|    2|\n",
            "| Dept. of Electro...|    1|\n",
            "| Cabletron System...|    6|\n",
            "| Welch Medical Li...|    2|\n",
            "| Red Wolfe @ The ...|    1|\n",
            "|  Indiana University|   17|\n",
            "| Johns Hopkins Un...|    7|\n",
            "| Okcforum Unix Us...|   32|\n",
            "| Iowa State Unive...|    2|\n",
            "| Wesleyan University|    7|\n",
            "| Tektronix, Inc.,...|   11|\n",
            "+--------------------+-----+\n",
            "only showing top 20 rows\n",
            "\n"
          ]
        }
      ]
    },
    {
      "cell_type": "markdown",
      "source": [
        "Le nombre de documents qui ont été créés par chaque auteur"
      ],
      "metadata": {
        "id": "l3GPYGJe6hFT"
      }
    },
    {
      "cell_type": "code",
      "source": [
        "df.groupBy(\"FROM\").count().show()"
      ],
      "metadata": {
        "id": "-E-v5GPmoOgg",
        "colab": {
          "base_uri": "https://localhost:8080/"
        },
        "outputId": "5018b594-bd88-48ee-c558-8954180423d3"
      },
      "execution_count": 47,
      "outputs": [
        {
          "output_type": "stream",
          "name": "stdout",
          "text": [
            "+--------------------+-----+\n",
            "|                FROM|count|\n",
            "+--------------------+-----+\n",
            "| dpw@sei.cmu.edu ...|    4|\n",
            "| mccullou@snake2....|    6|\n",
            "| livesey@solntze....|   70|\n",
            "| markp@avignon (M...|    1|\n",
            "| jvigneau@cs.ulow...|    1|\n",
            "| kilman2y@fiu.edu...|    1|\n",
            "| darice@yoyo.cc.m...|   14|\n",
            "| cust_ts@klaava.H...|    2|\n",
            "| kax@cs.nott.ac.u...|    2|\n",
            "| acooper@mac.cc.m...|    4|\n",
            "| \"James F. Tims\" ...|    1|\n",
            "| kutluk@ccl.umist...|    1|\n",
            "| <MVS104@psuvm.ps...|    1|\n",
            "| davec@silicon.cs...|    1|\n",
            "| halat@pooh.bears...|   15|\n",
            "| nancyo@shnext15....|    1|\n",
            "| David O Hunt <bl...|    1|\n",
            "| sbradley@scic.in...|    2|\n",
            "| mikec@sail.LABS....|    2|\n",
            "| adpeters@sunflow...|    3|\n",
            "+--------------------+-----+\n",
            "only showing top 20 rows\n",
            "\n"
          ]
        }
      ]
    },
    {
      "cell_type": "markdown",
      "source": [
        "##5.A. Transformation de texte : Tout le document\n",
        "Dans ce qui suit, nous allons créer un nouvel RDD de type pyspark.sql.Row puis un dataframe qui a une seule colonne contenant tout le document. Ceci est pour faire un premier test sur l'algorithme KMeans.\n"
      ],
      "metadata": {
        "id": "7AZiuZ0y0sv3"
      }
    },
    {
      "cell_type": "code",
      "source": [
        "def ToRow_all_document(x):\n",
        "  entete=x[1][0]\n",
        "  val=\" \".join(entete.values())\n",
        "\n",
        "  row = Row(document=val+x[1][1])\n",
        "  return row\n",
        "\n",
        "all_document=fusion.map(ToRow_all_document)"
      ],
      "metadata": {
        "id": "lye_X9uCv9AJ"
      },
      "execution_count": 48,
      "outputs": []
    },
    {
      "cell_type": "code",
      "source": [
        "# create spark dataframe contenant tout le document\n",
        "all_document_df=spark.createDataFrame(all_document)\n",
        "all_document_df.printSchema()"
      ],
      "metadata": {
        "colab": {
          "base_uri": "https://localhost:8080/"
        },
        "id": "pZP0R_NlxVK_",
        "outputId": "b837d816-9cd0-4982-d35b-4b0b9467b05f"
      },
      "execution_count": 49,
      "outputs": [
        {
          "output_type": "stream",
          "name": "stdout",
          "text": [
            "root\n",
            " |-- document: string (nullable = true)\n",
            "\n"
          ]
        }
      ]
    },
    {
      "cell_type": "code",
      "source": [
        "#Transformation du Texte\n",
        "from pyspark.ml.feature import HashingTF, IDF, Tokenizer"
      ],
      "metadata": {
        "id": "5ypsFYwSwBQt"
      },
      "execution_count": 50,
      "outputs": []
    },
    {
      "cell_type": "markdown",
      "source": [
        "###5.A.2 Découpage les documents en listes de mots à l’aide de Tokenizer"
      ],
      "metadata": {
        "id": "28pgScGqaCbV"
      }
    },
    {
      "cell_type": "code",
      "source": [
        "tokenizer = Tokenizer(inputCol=\"document\", outputCol=\"words\")\n",
        "#d=df.select(\"Contenu\")\n",
        "wordsData = tokenizer.transform(all_document_df)\n",
        "wordsData.show()"
      ],
      "metadata": {
        "id": "UK5E3PKY1PWk",
        "colab": {
          "base_uri": "https://localhost:8080/"
        },
        "outputId": "df6a875f-f28e-429e-b4c9-35005e15cb31"
      },
      "execution_count": 51,
      "outputs": [
        {
          "output_type": "stream",
          "name": "stdout",
          "text": [
            "+--------------------+--------------------+\n",
            "|            document|               words|\n",
            "+--------------------+--------------------+\n",
            "| cantaloupe.srv.c...|[, cantaloupe.srv...|\n",
            "| cantaloupe.srv.c...|[, cantaloupe.srv...|\n",
            "| cantaloupe.srv.c...|[, cantaloupe.srv...|\n",
            "| cantaloupe.srv.c...|[, cantaloupe.srv...|\n",
            "| alt.atheism  can...|[, alt.atheism, ,...|\n",
            "| cantaloupe.srv.c...|[, cantaloupe.srv...|\n",
            "| cantaloupe.srv.c...|[, cantaloupe.srv...|\n",
            "| cantaloupe.srv.c...|[, cantaloupe.srv...|\n",
            "| cantaloupe.srv.c...|[, cantaloupe.srv...|\n",
            "| cantaloupe.srv.c...|[, cantaloupe.srv...|\n",
            "| cantaloupe.srv.c...|[, cantaloupe.srv...|\n",
            "| cantaloupe.srv.c...|[, cantaloupe.srv...|\n",
            "| cantaloupe.srv.c...|[, cantaloupe.srv...|\n",
            "| cantaloupe.srv.c...|[, cantaloupe.srv...|\n",
            "| alt.atheism  can...|[, alt.atheism, ,...|\n",
            "| cantaloupe.srv.c...|[, cantaloupe.srv...|\n",
            "| alt.atheism  can...|[, alt.atheism, ,...|\n",
            "| cantaloupe.srv.c...|[, cantaloupe.srv...|\n",
            "| alt.atheism  can...|[, alt.atheism, ,...|\n",
            "| cantaloupe.srv.c...|[, cantaloupe.srv...|\n",
            "+--------------------+--------------------+\n",
            "only showing top 20 rows\n",
            "\n"
          ]
        }
      ]
    },
    {
      "cell_type": "markdown",
      "source": [
        "###5.A.3 Création d'une représentation vectorielle des documents à l’aide de HashingTF"
      ],
      "metadata": {
        "id": "GuOk1oW9aHEe"
      }
    },
    {
      "cell_type": "code",
      "source": [
        "#Création d'une représentation vectorielle des documents à l’aide de HashingTF\n",
        "hashingTF = HashingTF(inputCol=\"words\", outputCol=\"features\", numFeatures=20)\n",
        "featurizedData = hashingTF.transform(wordsData)\n",
        "featurizedData.show()"
      ],
      "metadata": {
        "id": "AN7U4yd4-noE",
        "colab": {
          "base_uri": "https://localhost:8080/"
        },
        "outputId": "5ec75a72-a94c-494b-93f8-727d65e69e34"
      },
      "execution_count": 107,
      "outputs": [
        {
          "output_type": "stream",
          "name": "stdout",
          "text": [
            "+--------------------+--------------------+--------------------+\n",
            "|            document|               words|            features|\n",
            "+--------------------+--------------------+--------------------+\n",
            "| cantaloupe.srv.c...|[, cantaloupe.srv...|(20,[0,1,2,3,5,6,...|\n",
            "| cantaloupe.srv.c...|[, cantaloupe.srv...|(20,[0,2,3,4,5,6,...|\n",
            "| cantaloupe.srv.c...|[, cantaloupe.srv...|(20,[0,1,2,3,4,5,...|\n",
            "| cantaloupe.srv.c...|[, cantaloupe.srv...|(20,[0,1,2,3,4,5,...|\n",
            "| alt.atheism  can...|[, alt.atheism, ,...|(20,[0,1,2,3,4,5,...|\n",
            "| cantaloupe.srv.c...|[, cantaloupe.srv...|(20,[1,2,5,6,7,9,...|\n",
            "| cantaloupe.srv.c...|[, cantaloupe.srv...|(20,[0,2,3,4,5,6,...|\n",
            "| cantaloupe.srv.c...|[, cantaloupe.srv...|(20,[0,2,3,4,5,6,...|\n",
            "| cantaloupe.srv.c...|[, cantaloupe.srv...|(20,[0,1,2,3,4,5,...|\n",
            "| cantaloupe.srv.c...|[, cantaloupe.srv...|(20,[0,1,2,3,4,5,...|\n",
            "| cantaloupe.srv.c...|[, cantaloupe.srv...|(20,[2,4,5,7,8,9,...|\n",
            "| cantaloupe.srv.c...|[, cantaloupe.srv...|(20,[0,1,2,3,4,5,...|\n",
            "| cantaloupe.srv.c...|[, cantaloupe.srv...|(20,[0,1,2,3,4,5,...|\n",
            "| cantaloupe.srv.c...|[, cantaloupe.srv...|(20,[0,1,2,3,4,5,...|\n",
            "| alt.atheism  can...|[, alt.atheism, ,...|(20,[0,1,2,3,5,6,...|\n",
            "| cantaloupe.srv.c...|[, cantaloupe.srv...|(20,[0,2,3,5,6,7,...|\n",
            "| alt.atheism  can...|[, alt.atheism, ,...|(20,[1,2,4,5,6,7,...|\n",
            "| cantaloupe.srv.c...|[, cantaloupe.srv...|(20,[1,2,4,5,9,10...|\n",
            "| alt.atheism  can...|[, alt.atheism, ,...|(20,[0,1,2,3,4,5,...|\n",
            "| cantaloupe.srv.c...|[, cantaloupe.srv...|(20,[0,1,2,3,4,5,...|\n",
            "+--------------------+--------------------+--------------------+\n",
            "only showing top 20 rows\n",
            "\n"
          ]
        }
      ]
    },
    {
      "cell_type": "markdown",
      "source": [
        "##6.A. Groupement des documents ayants des représentations vectorielles proches\n",
        "\n"
      ],
      "metadata": {
        "id": "64x2h5gset1i"
      }
    },
    {
      "cell_type": "markdown",
      "source": [
        "Comme nous allons tester l'algorithme de KMeans dans plusieurs cas (document entier/entete et Tf-Idf/normalisation), nous allons créer une fonction K_means qui prend un vecteur et applique l'algorithme de clustering dessus, puis affiche le Silhouette score, le nombre de clusters, leurs centres et la taille de chaque cluster."
      ],
      "metadata": {
        "id": "pCbsG5lSkBd0"
      }
    },
    {
      "cell_type": "code",
      "source": [
        "# Kmeans  \n",
        "from pyspark.ml.clustering import KMeans\n",
        "from pyspark.ml.evaluation import ClusteringEvaluator\n",
        "import seaborn as sns\n",
        "import pandas as pd\n",
        "import matplotlib as plt\n",
        "\n",
        "\n",
        "def K_means(Datavector):\n",
        "    # Trains a k-means model.\n",
        "    kmeans = KMeans().setK(2).setSeed(5)\n",
        "    model = kmeans.fit(Datavector)\n",
        "    # make prediction\n",
        "    predictions = model.transform(Datavector)\n",
        "    # Evaluate clustering by computing Silhouette score\n",
        "    evaluator = ClusteringEvaluator()\n",
        "\n",
        "    # Le Silhouette score est une mesure utilisée pour calculer la qualité technique du clustering , sa valeur est comprise entre 1 et -1\n",
        "    # 1: un bon clustering\n",
        "    # 0: Signifie que les clusters sont indifférents, ou nous pouvons dire que la distance entre les clusters n'est pas significative.\n",
        "    # -1: Signifie que les clusters sont affectés dans le mauvais sens.\n",
        "    # s=(ba)/max(a,b) ou a est la distance intra-cluster moyenne et b est la distance inter-cluster moyenne\n",
        "\n",
        "    print(\"\\n\\n*********************************************************************************\\n\\n\")\n",
        "    silhouette = evaluator.evaluate(predictions)\n",
        "    print(\"Silhouette with squared euclidean distance = \" + str(silhouette))\n",
        "    print(\"\\n\\n*********************************************************************************\\n\\n\")\n",
        "    # Shows the result.\n",
        "    centers = model.clusterCenters()\n",
        "    print(\"Cluster Centers: \", len(centers))\n",
        "    for center in centers:\n",
        "      print(center)\n",
        "\n",
        "    print(\"\\n\\n*********************************************************************************\\n\\n\")\n",
        "    #Affichage du résultat du clustering\n",
        "    predictions.groupBy('prediction').count().show()\n",
        "    \n",
        "    print(\"\\n\\n*********************************************************************************\\n\\n\")\n"
      ],
      "metadata": {
        "id": "C_fPxQAN2lIJ"
      },
      "execution_count": 131,
      "outputs": []
    },
    {
      "cell_type": "code",
      "source": [
        "K_means(featurizedData)"
      ],
      "metadata": {
        "id": "c9r9_j7gv_5K",
        "outputId": "9ee7e4ab-b8b0-4c0a-fdf0-11fd2e09754a",
        "colab": {
          "base_uri": "https://localhost:8080/"
        }
      },
      "execution_count": 114,
      "outputs": [
        {
          "output_type": "stream",
          "name": "stdout",
          "text": [
            "\n",
            "\n",
            "**********************************************************\n",
            "\n",
            "\n",
            "Silhouette with squared euclidean distance = 0.99887352132776\n",
            "\n",
            "\n",
            "**********************************************************\n",
            "\n",
            "\n",
            "Cluster Centers:  2\n",
            "[ 6.12306153  3.85342671  4.4062031   6.21810905  4.62031016  4.75437719\n",
            "  4.49174587  4.60130065  4.981991    5.92796398  3.51375688  3.96948474\n",
            " 21.94147074  4.09154577  4.21310655  5.87693847  4.34667334  5.97898949\n",
            "  3.14507254  3.64482241]\n",
            "[  83.  111.   55.  110.   84.   78.   83.  123.  116.  117.   75.  145.\n",
            " 2836.   93.   41.  141.   68.  157.   45.   71.]\n",
            "\n",
            "\n",
            "**********************************************************\n",
            "\n",
            "\n",
            "+----------+-----+\n",
            "|prediction|count|\n",
            "+----------+-----+\n",
            "|         1|    1|\n",
            "|         0| 1999|\n",
            "+----------+-----+\n",
            "\n",
            "\n",
            "\n",
            "**********************************************************\n",
            "\n",
            "\n"
          ]
        }
      ]
    },
    {
      "cell_type": "markdown",
      "source": [
        "\n",
        "  Le Silhouette score est une mesure utilisée pour calculer la qualité technique du clustering , sa valeur est comprise entre 1 et -1 :\n",
        "\n",
        "     1: un bon clustering\n",
        "     0: Signifie que les clusters sont indifférents, ou nous pouvons dire\n",
        "      que la distance entre les clusters n'est pas significative.\n",
        "     -1: Signifie que les clusters sont affectés dans le mauvais sens.\n",
        "     s=(ba)/max(a,b) ou a est la distance intra-cluster moyenne et b est la distance inter-cluster moyenne\n",
        "\n",
        "\n",
        "Notre score obtenu est donc quasi maximal.\n",
        "\n",
        "Le modèle a trouvé deux clusters bien espacés mais la quasi totalité des prédictions (99,95%) a été assigné au cluster 0."
      ],
      "metadata": {
        "id": "1YygRvfbgtbf"
      }
    },
    {
      "cell_type": "markdown",
      "source": [
        "##7.A. Pour aller plus loin "
      ],
      "metadata": {
        "id": "sOUaHIA2x8hA"
      }
    },
    {
      "cell_type": "markdown",
      "source": [
        "###A.1. KMeans avec la pondération Tf-Idf"
      ],
      "metadata": {
        "id": "mHo24suplrmP"
      }
    },
    {
      "cell_type": "markdown",
      "source": [
        "On renomme la colonne `features` en `features_hache` pour la donner ensuite a la fonction IDF\n",
        "\n",
        "\n"
      ],
      "metadata": {
        "id": "TbbZpGHIyJ9N"
      }
    },
    {
      "cell_type": "code",
      "source": [
        " featurizedData = featurizedData.selectExpr(\"document as document\",\"words as words\",\" features as features_hache\")\n",
        " featurizedData.show()"
      ],
      "metadata": {
        "id": "8TSg_C3FuNEb",
        "outputId": "5eb7ee90-5059-4281-8313-86ef06721dff",
        "colab": {
          "base_uri": "https://localhost:8080/"
        }
      },
      "execution_count": 115,
      "outputs": [
        {
          "output_type": "stream",
          "name": "stdout",
          "text": [
            "+--------------------+--------------------+--------------------+\n",
            "|            document|               words|      features_hache|\n",
            "+--------------------+--------------------+--------------------+\n",
            "| cantaloupe.srv.c...|[, cantaloupe.srv...|(20,[0,1,2,3,5,6,...|\n",
            "| cantaloupe.srv.c...|[, cantaloupe.srv...|(20,[0,2,3,4,5,6,...|\n",
            "| cantaloupe.srv.c...|[, cantaloupe.srv...|(20,[0,1,2,3,4,5,...|\n",
            "| cantaloupe.srv.c...|[, cantaloupe.srv...|(20,[0,1,2,3,4,5,...|\n",
            "| alt.atheism  can...|[, alt.atheism, ,...|(20,[0,1,2,3,4,5,...|\n",
            "| cantaloupe.srv.c...|[, cantaloupe.srv...|(20,[1,2,5,6,7,9,...|\n",
            "| cantaloupe.srv.c...|[, cantaloupe.srv...|(20,[0,2,3,4,5,6,...|\n",
            "| cantaloupe.srv.c...|[, cantaloupe.srv...|(20,[0,2,3,4,5,6,...|\n",
            "| cantaloupe.srv.c...|[, cantaloupe.srv...|(20,[0,1,2,3,4,5,...|\n",
            "| cantaloupe.srv.c...|[, cantaloupe.srv...|(20,[0,1,2,3,4,5,...|\n",
            "| cantaloupe.srv.c...|[, cantaloupe.srv...|(20,[2,4,5,7,8,9,...|\n",
            "| cantaloupe.srv.c...|[, cantaloupe.srv...|(20,[0,1,2,3,4,5,...|\n",
            "| cantaloupe.srv.c...|[, cantaloupe.srv...|(20,[0,1,2,3,4,5,...|\n",
            "| cantaloupe.srv.c...|[, cantaloupe.srv...|(20,[0,1,2,3,4,5,...|\n",
            "| alt.atheism  can...|[, alt.atheism, ,...|(20,[0,1,2,3,5,6,...|\n",
            "| cantaloupe.srv.c...|[, cantaloupe.srv...|(20,[0,2,3,5,6,7,...|\n",
            "| alt.atheism  can...|[, alt.atheism, ,...|(20,[1,2,4,5,6,7,...|\n",
            "| cantaloupe.srv.c...|[, cantaloupe.srv...|(20,[1,2,4,5,9,10...|\n",
            "| alt.atheism  can...|[, alt.atheism, ,...|(20,[0,1,2,3,4,5,...|\n",
            "| cantaloupe.srv.c...|[, cantaloupe.srv...|(20,[0,1,2,3,4,5,...|\n",
            "+--------------------+--------------------+--------------------+\n",
            "only showing top 20 rows\n",
            "\n"
          ]
        }
      ]
    },
    {
      "cell_type": "markdown",
      "source": [
        "#### Pondération des mots avec la formule Tf-*Idf*"
      ],
      "metadata": {
        "id": "-w3WH3fRfcip"
      }
    },
    {
      "cell_type": "code",
      "source": [
        "\n",
        "idf = IDF(inputCol=\"features_hache\", outputCol=\"features\")\n",
        "idfModel = idf.fit(featurizedData)\n",
        "rescaledData = idfModel.transform(featurizedData)\n",
        "rescaledData.show()"
      ],
      "metadata": {
        "id": "fN4gfyADC4Q3",
        "colab": {
          "base_uri": "https://localhost:8080/"
        },
        "outputId": "8716fda0-a4f3-4c7b-af04-f2ef6fb8dbef"
      },
      "execution_count": 116,
      "outputs": [
        {
          "output_type": "stream",
          "name": "stdout",
          "text": [
            "+--------------------+--------------------+--------------------+--------------------+\n",
            "|            document|               words|      features_hache|            features|\n",
            "+--------------------+--------------------+--------------------+--------------------+\n",
            "| cantaloupe.srv.c...|[, cantaloupe.srv...|(20,[0,1,2,3,5,6,...|(20,[0,1,2,3,5,6,...|\n",
            "| cantaloupe.srv.c...|[, cantaloupe.srv...|(20,[0,2,3,4,5,6,...|(20,[0,2,3,4,5,6,...|\n",
            "| cantaloupe.srv.c...|[, cantaloupe.srv...|(20,[0,1,2,3,4,5,...|(20,[0,1,2,3,4,5,...|\n",
            "| cantaloupe.srv.c...|[, cantaloupe.srv...|(20,[0,1,2,3,4,5,...|(20,[0,1,2,3,4,5,...|\n",
            "| alt.atheism  can...|[, alt.atheism, ,...|(20,[0,1,2,3,4,5,...|(20,[0,1,2,3,4,5,...|\n",
            "| cantaloupe.srv.c...|[, cantaloupe.srv...|(20,[1,2,5,6,7,9,...|(20,[1,2,5,6,7,9,...|\n",
            "| cantaloupe.srv.c...|[, cantaloupe.srv...|(20,[0,2,3,4,5,6,...|(20,[0,2,3,4,5,6,...|\n",
            "| cantaloupe.srv.c...|[, cantaloupe.srv...|(20,[0,2,3,4,5,6,...|(20,[0,2,3,4,5,6,...|\n",
            "| cantaloupe.srv.c...|[, cantaloupe.srv...|(20,[0,1,2,3,4,5,...|(20,[0,1,2,3,4,5,...|\n",
            "| cantaloupe.srv.c...|[, cantaloupe.srv...|(20,[0,1,2,3,4,5,...|(20,[0,1,2,3,4,5,...|\n",
            "| cantaloupe.srv.c...|[, cantaloupe.srv...|(20,[2,4,5,7,8,9,...|(20,[2,4,5,7,8,9,...|\n",
            "| cantaloupe.srv.c...|[, cantaloupe.srv...|(20,[0,1,2,3,4,5,...|(20,[0,1,2,3,4,5,...|\n",
            "| cantaloupe.srv.c...|[, cantaloupe.srv...|(20,[0,1,2,3,4,5,...|(20,[0,1,2,3,4,5,...|\n",
            "| cantaloupe.srv.c...|[, cantaloupe.srv...|(20,[0,1,2,3,4,5,...|(20,[0,1,2,3,4,5,...|\n",
            "| alt.atheism  can...|[, alt.atheism, ,...|(20,[0,1,2,3,5,6,...|(20,[0,1,2,3,5,6,...|\n",
            "| cantaloupe.srv.c...|[, cantaloupe.srv...|(20,[0,2,3,5,6,7,...|(20,[0,2,3,5,6,7,...|\n",
            "| alt.atheism  can...|[, alt.atheism, ,...|(20,[1,2,4,5,6,7,...|(20,[1,2,4,5,6,7,...|\n",
            "| cantaloupe.srv.c...|[, cantaloupe.srv...|(20,[1,2,4,5,9,10...|(20,[1,2,4,5,9,10...|\n",
            "| alt.atheism  can...|[, alt.atheism, ,...|(20,[0,1,2,3,4,5,...|(20,[0,1,2,3,4,5,...|\n",
            "| cantaloupe.srv.c...|[, cantaloupe.srv...|(20,[0,1,2,3,4,5,...|(20,[0,1,2,3,4,5,...|\n",
            "+--------------------+--------------------+--------------------+--------------------+\n",
            "only showing top 20 rows\n",
            "\n"
          ]
        }
      ]
    },
    {
      "cell_type": "markdown",
      "source": [
        "#### KMeans avec ponderation Tf-Idf"
      ],
      "metadata": {
        "id": "oM4fMHZvfobR"
      }
    },
    {
      "cell_type": "code",
      "source": [
        "#Kmeans pour idf\n",
        "K_means(rescaledData)"
      ],
      "metadata": {
        "id": "gZlipbA59Dmi",
        "outputId": "43337613-7f81-4ad5-87aa-3d47b4c2b985",
        "colab": {
          "base_uri": "https://localhost:8080/"
        }
      },
      "execution_count": 117,
      "outputs": [
        {
          "output_type": "stream",
          "name": "stdout",
          "text": [
            "\n",
            "\n",
            "**********************************************************\n",
            "\n",
            "\n",
            "Silhouette with squared euclidean distance = 0.9623326690517743\n",
            "\n",
            "\n",
            "**********************************************************\n",
            "\n",
            "\n",
            "Cluster Centers:  2\n",
            "[0.52177119 0.42035305 0.08003252 0.4234517  0.30674603 0.09228534\n",
            " 0.3031003  0.19459049 0.56466917 0.14244486 0.43699812 0.50382377\n",
            " 0.         0.41363826 0.         0.2196208  0.45930965 0.34303403\n",
            " 0.48683752 0.46279729]\n",
            "[4.11124739 3.93626956 0.39830653 3.53307424 2.32339827 0.69523624\n",
            " 2.4229135  1.63503913 5.47359685 1.11692855 3.46075883 5.02721268\n",
            " 0.         3.16354209 0.         1.89814007 4.20413497 3.4083718\n",
            " 4.18614601 3.77357244]\n",
            "\n",
            "\n",
            "**********************************************************\n",
            "\n",
            "\n",
            "+----------+-----+\n",
            "|prediction|count|\n",
            "+----------+-----+\n",
            "|         1|   31|\n",
            "|         0| 1969|\n",
            "+----------+-----+\n",
            "\n",
            "\n",
            "\n",
            "**********************************************************\n",
            "\n",
            "\n"
          ]
        }
      ]
    },
    {
      "cell_type": "markdown",
      "source": [
        "Ici nous avons un Silhouette score qui diminue légèrement baisse, mais nous remarquons que les données sont un peu plus séparées qu'auparavant."
      ],
      "metadata": {
        "id": "7zngAaHvy4Cx"
      }
    },
    {
      "cell_type": "markdown",
      "source": [
        "###A.2 Normalisation des vecteurs représentant les documents"
      ],
      "metadata": {
        "id": "kLFACEoR6Xb3"
      }
    },
    {
      "cell_type": "markdown",
      "source": [
        "#### Normalisation"
      ],
      "metadata": {
        "id": "l7qv303Dl96b"
      }
    },
    {
      "cell_type": "code",
      "source": [
        "# normalisation\n",
        "from pyspark.ml.feature import Normalizer\n",
        "from pyspark.ml.linalg import Vectors\n",
        "normalizer = Normalizer(inputCol=\"features_hache\", outputCol=\"features\", p=1.0)\n",
        "l1NormData = normalizer.transform(featurizedData)\n",
        "l1NormData.show()"
      ],
      "metadata": {
        "id": "WDl5V4oRPm7C",
        "outputId": "a871f728-22c3-46c4-e19c-566d441526ad",
        "colab": {
          "base_uri": "https://localhost:8080/"
        }
      },
      "execution_count": 118,
      "outputs": [
        {
          "output_type": "stream",
          "name": "stdout",
          "text": [
            "+--------------------+--------------------+--------------------+--------------------+\n",
            "|            document|               words|      features_hache|            features|\n",
            "+--------------------+--------------------+--------------------+--------------------+\n",
            "| cantaloupe.srv.c...|[, cantaloupe.srv...|(20,[0,1,2,3,5,6,...|(20,[0,1,2,3,5,6,...|\n",
            "| cantaloupe.srv.c...|[, cantaloupe.srv...|(20,[0,2,3,4,5,6,...|(20,[0,2,3,4,5,6,...|\n",
            "| cantaloupe.srv.c...|[, cantaloupe.srv...|(20,[0,1,2,3,4,5,...|(20,[0,1,2,3,4,5,...|\n",
            "| cantaloupe.srv.c...|[, cantaloupe.srv...|(20,[0,1,2,3,4,5,...|(20,[0,1,2,3,4,5,...|\n",
            "| alt.atheism  can...|[, alt.atheism, ,...|(20,[0,1,2,3,4,5,...|(20,[0,1,2,3,4,5,...|\n",
            "| cantaloupe.srv.c...|[, cantaloupe.srv...|(20,[1,2,5,6,7,9,...|(20,[1,2,5,6,7,9,...|\n",
            "| cantaloupe.srv.c...|[, cantaloupe.srv...|(20,[0,2,3,4,5,6,...|(20,[0,2,3,4,5,6,...|\n",
            "| cantaloupe.srv.c...|[, cantaloupe.srv...|(20,[0,2,3,4,5,6,...|(20,[0,2,3,4,5,6,...|\n",
            "| cantaloupe.srv.c...|[, cantaloupe.srv...|(20,[0,1,2,3,4,5,...|(20,[0,1,2,3,4,5,...|\n",
            "| cantaloupe.srv.c...|[, cantaloupe.srv...|(20,[0,1,2,3,4,5,...|(20,[0,1,2,3,4,5,...|\n",
            "| cantaloupe.srv.c...|[, cantaloupe.srv...|(20,[2,4,5,7,8,9,...|(20,[2,4,5,7,8,9,...|\n",
            "| cantaloupe.srv.c...|[, cantaloupe.srv...|(20,[0,1,2,3,4,5,...|(20,[0,1,2,3,4,5,...|\n",
            "| cantaloupe.srv.c...|[, cantaloupe.srv...|(20,[0,1,2,3,4,5,...|(20,[0,1,2,3,4,5,...|\n",
            "| cantaloupe.srv.c...|[, cantaloupe.srv...|(20,[0,1,2,3,4,5,...|(20,[0,1,2,3,4,5,...|\n",
            "| alt.atheism  can...|[, alt.atheism, ,...|(20,[0,1,2,3,5,6,...|(20,[0,1,2,3,5,6,...|\n",
            "| cantaloupe.srv.c...|[, cantaloupe.srv...|(20,[0,2,3,5,6,7,...|(20,[0,2,3,5,6,7,...|\n",
            "| alt.atheism  can...|[, alt.atheism, ,...|(20,[1,2,4,5,6,7,...|(20,[1,2,4,5,6,7,...|\n",
            "| cantaloupe.srv.c...|[, cantaloupe.srv...|(20,[1,2,4,5,9,10...|(20,[1,2,4,5,9,10...|\n",
            "| alt.atheism  can...|[, alt.atheism, ,...|(20,[0,1,2,3,4,5,...|(20,[0,1,2,3,4,5,...|\n",
            "| cantaloupe.srv.c...|[, cantaloupe.srv...|(20,[0,1,2,3,4,5,...|(20,[0,1,2,3,4,5,...|\n",
            "+--------------------+--------------------+--------------------+--------------------+\n",
            "only showing top 20 rows\n",
            "\n"
          ]
        }
      ]
    },
    {
      "cell_type": "markdown",
      "source": [
        "#### KMeans avec normalisation"
      ],
      "metadata": {
        "id": "Fd4Ibmo-hNmA"
      }
    },
    {
      "cell_type": "code",
      "source": [
        "# Kmeans avec normalisation\n",
        "K_means(l1NormData)"
      ],
      "metadata": {
        "id": "loOCJZS__EE4",
        "outputId": "396910f8-ca67-425f-8186-c2c154f0e1bb",
        "colab": {
          "base_uri": "https://localhost:8080/"
        }
      },
      "execution_count": 119,
      "outputs": [
        {
          "output_type": "stream",
          "name": "stdout",
          "text": [
            "\n",
            "\n",
            "**********************************************************\n",
            "\n",
            "\n",
            "Silhouette with squared euclidean distance = 0.36088894915766156\n",
            "\n",
            "\n",
            "**********************************************************\n",
            "\n",
            "\n",
            "Cluster Centers:  2\n",
            "[0.05715686 0.03530914 0.04203459 0.05956944 0.04395482 0.0440991\n",
            " 0.04184161 0.04350036 0.04790209 0.05462928 0.03328339 0.0376798\n",
            " 0.16346395 0.03881574 0.03894001 0.05650259 0.04165701 0.05594521\n",
            " 0.02954618 0.03416884]\n",
            "[0.03716904 0.03033171 0.0488685  0.03864226 0.04151782 0.04578196\n",
            " 0.03885956 0.04090615 0.03071138 0.0532178  0.02839841 0.02648926\n",
            " 0.28733672 0.03151724 0.05086917 0.04626162 0.02925748 0.04107195\n",
            " 0.02368617 0.02910581]\n",
            "\n",
            "\n",
            "**********************************************************\n",
            "\n",
            "\n",
            "+----------+-----+\n",
            "|prediction|count|\n",
            "+----------+-----+\n",
            "|         1|  847|\n",
            "|         0| 1153|\n",
            "+----------+-----+\n",
            "\n",
            "\n",
            "\n",
            "**********************************************************\n",
            "\n",
            "\n"
          ]
        }
      ]
    },
    {
      "cell_type": "markdown",
      "source": [
        "Nous pouvons voir ici que les predictions sont mieux separées mais que le Silhouette score est plus proche de 0, ce qui signigie que la distance entre les clusters n'est pas significative."
      ],
      "metadata": {
        "id": "la_BXmjI7MBF"
      }
    },
    {
      "cell_type": "markdown",
      "source": [
        "##5.B. Transformation de texte : Entête seulement\n",
        "\n",
        "\n",
        "Comme le résultat du clustering n'a pas donné des résultats satisfaisants, nous allons essayer les meme étapes sur l'entete des documents.\n",
        "\n",
        "Nous allons commencer par créer un nouvel RDD de type pyspark.sql.Row puis un dataframe qui a une seule colonne ne contenant que l'eentete. Ceci est pour faire un deuxieme test sur l'algorithme KMeans."
      ],
      "metadata": {
        "id": "RAaWnL0x6skN"
      }
    },
    {
      "cell_type": "code",
      "source": [
        "def ToRow_entete(x):\n",
        "  entete=x[1][0]\n",
        "  val=\" \".join(entete.values())\n",
        "  row = Row(entete=val)\n",
        "  return row\n",
        "\n",
        "entete_document_row=fusion.map(ToRow_entete)"
      ],
      "metadata": {
        "id": "x00n2EgYvmih"
      },
      "execution_count": 132,
      "outputs": []
    },
    {
      "cell_type": "code",
      "source": [
        "Entete_df=spark.createDataFrame(entete_document_row)\n",
        "Entete_df.printSchema()"
      ],
      "metadata": {
        "id": "oj4rLiASxluu",
        "outputId": "2c5c934d-e51c-4fbc-9138-38e8646f6d43",
        "colab": {
          "base_uri": "https://localhost:8080/"
        }
      },
      "execution_count": 133,
      "outputs": [
        {
          "output_type": "stream",
          "name": "stdout",
          "text": [
            "root\n",
            " |-- entete: string (nullable = true)\n",
            "\n"
          ]
        }
      ]
    },
    {
      "cell_type": "markdown",
      "source": [
        "###5.B.2 Découpage les documents en listes de mots à l’aide de Tokenizer"
      ],
      "metadata": {
        "id": "Z8_vL6ZManSr"
      }
    },
    {
      "cell_type": "code",
      "source": [
        "tokenizer2 = Tokenizer(inputCol=\"entete\", outputCol=\"words\")\n",
        "\n",
        "wordsData_entete = tokenizer2.transform(Entete_df)\n",
        "wordsData_entete.show()"
      ],
      "metadata": {
        "id": "W-uJzqmN6xb7",
        "outputId": "acc68479-64c5-4b90-8353-cc436029db7a",
        "colab": {
          "base_uri": "https://localhost:8080/"
        }
      },
      "execution_count": 134,
      "outputs": [
        {
          "output_type": "stream",
          "name": "stdout",
          "text": [
            "+--------------------+--------------------+\n",
            "|              entete|               words|\n",
            "+--------------------+--------------------+\n",
            "| cantaloupe.srv.c...|[, cantaloupe.srv...|\n",
            "| cantaloupe.srv.c...|[, cantaloupe.srv...|\n",
            "| cantaloupe.srv.c...|[, cantaloupe.srv...|\n",
            "| cantaloupe.srv.c...|[, cantaloupe.srv...|\n",
            "| alt.atheism  can...|[, alt.atheism, ,...|\n",
            "| cantaloupe.srv.c...|[, cantaloupe.srv...|\n",
            "| cantaloupe.srv.c...|[, cantaloupe.srv...|\n",
            "| cantaloupe.srv.c...|[, cantaloupe.srv...|\n",
            "| cantaloupe.srv.c...|[, cantaloupe.srv...|\n",
            "| cantaloupe.srv.c...|[, cantaloupe.srv...|\n",
            "| cantaloupe.srv.c...|[, cantaloupe.srv...|\n",
            "| cantaloupe.srv.c...|[, cantaloupe.srv...|\n",
            "| cantaloupe.srv.c...|[, cantaloupe.srv...|\n",
            "| cantaloupe.srv.c...|[, cantaloupe.srv...|\n",
            "| alt.atheism  can...|[, alt.atheism, ,...|\n",
            "| cantaloupe.srv.c...|[, cantaloupe.srv...|\n",
            "| alt.atheism  can...|[, alt.atheism, ,...|\n",
            "| cantaloupe.srv.c...|[, cantaloupe.srv...|\n",
            "| alt.atheism  can...|[, alt.atheism, ,...|\n",
            "| cantaloupe.srv.c...|[, cantaloupe.srv...|\n",
            "+--------------------+--------------------+\n",
            "only showing top 20 rows\n",
            "\n"
          ]
        }
      ]
    },
    {
      "cell_type": "markdown",
      "source": [
        "###5.B.3 Création d'une représentation vectorielle des documents à l’aide de HashingTF"
      ],
      "metadata": {
        "id": "mpAYldfPaw8q"
      }
    },
    {
      "cell_type": "code",
      "source": [
        "#Création d'une représentation vectorielle des documents à l’aide de HashingTF\n",
        "hashingTF = HashingTF(inputCol=\"words\", outputCol=\"features\", numFeatures=20)\n",
        "featurizedData_entete = hashingTF.transform(wordsData_entete)\n",
        "featurizedData_entete.show()"
      ],
      "metadata": {
        "id": "15Fo1jdb76YM",
        "outputId": "82d05e04-d68d-4ee8-f2ed-03f889021c12",
        "colab": {
          "base_uri": "https://localhost:8080/"
        }
      },
      "execution_count": 135,
      "outputs": [
        {
          "output_type": "stream",
          "name": "stdout",
          "text": [
            "+--------------------+--------------------+--------------------+\n",
            "|              entete|               words|            features|\n",
            "+--------------------+--------------------+--------------------+\n",
            "| cantaloupe.srv.c...|[, cantaloupe.srv...|(20,[0,1,2,3,5,6,...|\n",
            "| cantaloupe.srv.c...|[, cantaloupe.srv...|(20,[0,2,3,4,5,6,...|\n",
            "| cantaloupe.srv.c...|[, cantaloupe.srv...|(20,[0,1,2,3,4,5,...|\n",
            "| cantaloupe.srv.c...|[, cantaloupe.srv...|(20,[0,1,2,3,4,5,...|\n",
            "| alt.atheism  can...|[, alt.atheism, ,...|(20,[1,2,3,4,5,6,...|\n",
            "| cantaloupe.srv.c...|[, cantaloupe.srv...|(20,[1,2,5,6,7,9,...|\n",
            "| cantaloupe.srv.c...|[, cantaloupe.srv...|(20,[0,2,3,4,5,6,...|\n",
            "| cantaloupe.srv.c...|[, cantaloupe.srv...|(20,[0,2,3,4,5,6,...|\n",
            "| cantaloupe.srv.c...|[, cantaloupe.srv...|(20,[1,2,3,4,5,6,...|\n",
            "| cantaloupe.srv.c...|[, cantaloupe.srv...|(20,[0,1,2,3,4,5,...|\n",
            "| cantaloupe.srv.c...|[, cantaloupe.srv...|(20,[2,4,5,7,8,10...|\n",
            "| cantaloupe.srv.c...|[, cantaloupe.srv...|(20,[0,2,3,4,5,6,...|\n",
            "| cantaloupe.srv.c...|[, cantaloupe.srv...|(20,[0,2,3,5,6,7,...|\n",
            "| cantaloupe.srv.c...|[, cantaloupe.srv...|(20,[0,2,3,4,5,7,...|\n",
            "| alt.atheism  can...|[, alt.atheism, ,...|(20,[0,1,2,3,5,6,...|\n",
            "| cantaloupe.srv.c...|[, cantaloupe.srv...|(20,[2,3,5,6,7,8,...|\n",
            "| alt.atheism  can...|[, alt.atheism, ,...|(20,[1,2,4,5,6,7,...|\n",
            "| cantaloupe.srv.c...|[, cantaloupe.srv...|(20,[1,2,4,5,9,10...|\n",
            "| alt.atheism  can...|[, alt.atheism, ,...|(20,[0,2,3,4,5,6,...|\n",
            "| cantaloupe.srv.c...|[, cantaloupe.srv...|(20,[0,1,2,3,5,6,...|\n",
            "+--------------------+--------------------+--------------------+\n",
            "only showing top 20 rows\n",
            "\n"
          ]
        }
      ]
    },
    {
      "cell_type": "markdown",
      "source": [
        "##6.B. Groupement des documents ayants des représentations vectorielles proches"
      ],
      "metadata": {
        "id": "X-fzLRBX-ANC"
      }
    },
    {
      "cell_type": "code",
      "source": [
        "K_means(featurizedData_entete)"
      ],
      "metadata": {
        "id": "3Z5MU6aG9EkO",
        "outputId": "9069800f-f26e-4a3e-b050-6f642d183c53",
        "colab": {
          "base_uri": "https://localhost:8080/"
        }
      },
      "execution_count": 136,
      "outputs": [
        {
          "output_type": "stream",
          "name": "stdout",
          "text": [
            "\n",
            "\n",
            "*********************************************************************************\n",
            "\n",
            "\n",
            "Silhouette with squared euclidean distance = 0.23252379882689977\n",
            "\n",
            "\n",
            "*********************************************************************************\n",
            "\n",
            "\n",
            "Cluster Centers:  2\n",
            "[ 1.12418301  1.05954975  1.74001452  1.43718228  1.54901961  1.92302106\n",
            "  1.37109659  1.54901961  1.13870733  1.47204067  1.02251271  0.9557008\n",
            " 10.94553377  1.13943355  2.10384895  1.92084241  1.0087146   1.42701525\n",
            "  0.89251997  0.96877269]\n",
            "[ 1.3964687   1.47672552  2.19101124  1.21187801  1.77046549  2.31139647\n",
            "  2.05457464  2.08025682  1.12841091  1.62760835  1.38202247  1.01605136\n",
            " 14.12199037  1.87800963  2.00160514  1.83627608  1.2600321   1.61637239\n",
            "  0.97913323  1.28410915]\n",
            "\n",
            "\n",
            "*********************************************************************************\n",
            "\n",
            "\n",
            "+----------+-----+\n",
            "|prediction|count|\n",
            "+----------+-----+\n",
            "|         1|  623|\n",
            "|         0| 1377|\n",
            "+----------+-----+\n",
            "\n",
            "\n",
            "\n",
            "*********************************************************************************\n",
            "\n",
            "\n"
          ]
        }
      ]
    },
    {
      "cell_type": "markdown",
      "source": [
        "Nous pouvons voir ici que les predictions sont plus separées que dans le cas des docu ents entiers. \n",
        "\n",
        "Mais le Silhouette score est plus proche de 0, ce qui signigie que la distance entre les clusters n'est pas significative."
      ],
      "metadata": {
        "id": "iiMQxM3Z_MY3"
      }
    },
    {
      "cell_type": "markdown",
      "source": [
        "##7.B. Pour aller plus loin"
      ],
      "metadata": {
        "id": "d1BUs3se9Uyr"
      }
    },
    {
      "cell_type": "markdown",
      "source": [
        "###B.1. KMeans avec ponderation Tf-Idf"
      ],
      "metadata": {
        "id": "oXrbH-zTjLQt"
      }
    },
    {
      "cell_type": "markdown",
      "source": [
        "#### Pondération des mots avec la formule Tf-*Idf*"
      ],
      "metadata": {
        "id": "3FdT0LDai216"
      }
    },
    {
      "cell_type": "markdown",
      "source": [
        "Renommer la colonne `features` en `features_hache`"
      ],
      "metadata": {
        "id": "Ri7f8nCz91QN"
      }
    },
    {
      "cell_type": "code",
      "source": [
        " featurizedData_entete = featurizedData_entete.selectExpr(\"entete as entete\",\"words as words\",\" features as features_hache\")"
      ],
      "metadata": {
        "id": "Yi7lvi5P9wq5"
      },
      "execution_count": 137,
      "outputs": []
    },
    {
      "cell_type": "code",
      "source": [
        "idf = IDF(inputCol=\"features_hache\", outputCol=\"features\")\n",
        "idfModel = idf.fit(featurizedData)\n",
        "rescaledData_entete = idfModel.transform(featurizedData_entete)\n",
        "rescaledData_entete.show()"
      ],
      "metadata": {
        "id": "60Lb6dKk9pVZ",
        "outputId": "6980dfa1-448f-425b-8851-cbc21bc09e5d",
        "colab": {
          "base_uri": "https://localhost:8080/"
        }
      },
      "execution_count": 138,
      "outputs": [
        {
          "output_type": "stream",
          "name": "stdout",
          "text": [
            "+--------------------+--------------------+--------------------+--------------------+\n",
            "|              entete|               words|      features_hache|            features|\n",
            "+--------------------+--------------------+--------------------+--------------------+\n",
            "| cantaloupe.srv.c...|[, cantaloupe.srv...|(20,[0,1,2,3,5,6,...|(20,[0,1,2,3,5,6,...|\n",
            "| cantaloupe.srv.c...|[, cantaloupe.srv...|(20,[0,2,3,4,5,6,...|(20,[0,2,3,4,5,6,...|\n",
            "| cantaloupe.srv.c...|[, cantaloupe.srv...|(20,[0,1,2,3,4,5,...|(20,[0,1,2,3,4,5,...|\n",
            "| cantaloupe.srv.c...|[, cantaloupe.srv...|(20,[0,1,2,3,4,5,...|(20,[0,1,2,3,4,5,...|\n",
            "| alt.atheism  can...|[, alt.atheism, ,...|(20,[1,2,3,4,5,6,...|(20,[1,2,3,4,5,6,...|\n",
            "| cantaloupe.srv.c...|[, cantaloupe.srv...|(20,[1,2,5,6,7,9,...|(20,[1,2,5,6,7,9,...|\n",
            "| cantaloupe.srv.c...|[, cantaloupe.srv...|(20,[0,2,3,4,5,6,...|(20,[0,2,3,4,5,6,...|\n",
            "| cantaloupe.srv.c...|[, cantaloupe.srv...|(20,[0,2,3,4,5,6,...|(20,[0,2,3,4,5,6,...|\n",
            "| cantaloupe.srv.c...|[, cantaloupe.srv...|(20,[1,2,3,4,5,6,...|(20,[1,2,3,4,5,6,...|\n",
            "| cantaloupe.srv.c...|[, cantaloupe.srv...|(20,[0,1,2,3,4,5,...|(20,[0,1,2,3,4,5,...|\n",
            "| cantaloupe.srv.c...|[, cantaloupe.srv...|(20,[2,4,5,7,8,10...|(20,[2,4,5,7,8,10...|\n",
            "| cantaloupe.srv.c...|[, cantaloupe.srv...|(20,[0,2,3,4,5,6,...|(20,[0,2,3,4,5,6,...|\n",
            "| cantaloupe.srv.c...|[, cantaloupe.srv...|(20,[0,2,3,5,6,7,...|(20,[0,2,3,5,6,7,...|\n",
            "| cantaloupe.srv.c...|[, cantaloupe.srv...|(20,[0,2,3,4,5,7,...|(20,[0,2,3,4,5,7,...|\n",
            "| alt.atheism  can...|[, alt.atheism, ,...|(20,[0,1,2,3,5,6,...|(20,[0,1,2,3,5,6,...|\n",
            "| cantaloupe.srv.c...|[, cantaloupe.srv...|(20,[2,3,5,6,7,8,...|(20,[2,3,5,6,7,8,...|\n",
            "| alt.atheism  can...|[, alt.atheism, ,...|(20,[1,2,4,5,6,7,...|(20,[1,2,4,5,6,7,...|\n",
            "| cantaloupe.srv.c...|[, cantaloupe.srv...|(20,[1,2,4,5,9,10...|(20,[1,2,4,5,9,10...|\n",
            "| alt.atheism  can...|[, alt.atheism, ,...|(20,[0,2,3,4,5,6,...|(20,[0,2,3,4,5,6,...|\n",
            "| cantaloupe.srv.c...|[, cantaloupe.srv...|(20,[0,1,2,3,5,6,...|(20,[0,1,2,3,5,6,...|\n",
            "+--------------------+--------------------+--------------------+--------------------+\n",
            "only showing top 20 rows\n",
            "\n"
          ]
        }
      ]
    },
    {
      "cell_type": "markdown",
      "source": [
        "#### KMeans avec ponderation Tf-Idf"
      ],
      "metadata": {
        "id": "QcofiQ5YjCqA"
      }
    },
    {
      "cell_type": "code",
      "source": [
        "K_means(rescaledData_entete)"
      ],
      "metadata": {
        "id": "_ppFIBsW9z3e",
        "outputId": "d835e4c6-06c0-4fde-81d7-79853df08d3d",
        "colab": {
          "base_uri": "https://localhost:8080/"
        }
      },
      "execution_count": 139,
      "outputs": [
        {
          "output_type": "stream",
          "name": "stdout",
          "text": [
            "\n",
            "\n",
            "*********************************************************************************\n",
            "\n",
            "\n",
            "Silhouette with squared euclidean distance = 0.2154110917054862\n",
            "\n",
            "\n",
            "*********************************************************************************\n",
            "\n",
            "\n",
            "Cluster Centers:  2\n",
            "[0.11410959 0.14774254 0.03984234 0.10781509 0.1112571  0.04342768\n",
            " 0.11692905 0.07808274 0.15253256 0.04022586 0.16291172 0.1385629\n",
            " 0.         0.1540329  0.         0.08400134 0.13586948 0.09841349\n",
            " 0.40446856 0.14349275]\n",
            "[0.11303693 0.14354843 0.03483606 0.10122597 0.11932243 0.04333716\n",
            " 0.11761493 0.08035191 0.14182566 0.03997453 0.1519968  0.13840153\n",
            " 0.         0.15012429 0.         0.07644409 0.12604553 0.09503113\n",
            " 0.07872695 0.1509392 ]\n",
            "\n",
            "\n",
            "*********************************************************************************\n",
            "\n",
            "\n",
            "+----------+-----+\n",
            "|prediction|count|\n",
            "+----------+-----+\n",
            "|         1| 1513|\n",
            "|         0|  487|\n",
            "+----------+-----+\n",
            "\n",
            "\n",
            "\n",
            "*********************************************************************************\n",
            "\n",
            "\n"
          ]
        }
      ]
    },
    {
      "cell_type": "markdown",
      "source": [
        "Comme l'entete est courte, et que les mots qui se repetent sont des mots qui correspondent aux catégories, le Tf-Idf ne fonctionne pas tres bien (car il considere que les mots les plus répétés comme non pertinents)."
      ],
      "metadata": {
        "id": "ZnLYqNeD_mtP"
      }
    },
    {
      "cell_type": "markdown",
      "source": [
        "###B.2. KMeans avec  normalisation"
      ],
      "metadata": {
        "id": "a5uMb9_g-dx4"
      }
    },
    {
      "cell_type": "markdown",
      "source": [
        "####Normalisation"
      ],
      "metadata": {
        "id": "YSPI-C0Ejg7f"
      }
    },
    {
      "cell_type": "code",
      "source": [
        "# normalisation\n",
        "from pyspark.ml.feature import Normalizer\n",
        "from pyspark.ml.linalg import Vectors\n",
        "normalizer = Normalizer(inputCol=\"features_hache\", outputCol=\"features\", p=1.0)\n",
        "l1NormData_entete = normalizer.transform(featurizedData_entete)\n",
        "l1NormData_entete.show()"
      ],
      "metadata": {
        "id": "EbG54bua-hav",
        "outputId": "177dba84-c45d-4f81-9fa6-55d88f6f7cba",
        "colab": {
          "base_uri": "https://localhost:8080/"
        }
      },
      "execution_count": 140,
      "outputs": [
        {
          "output_type": "stream",
          "name": "stdout",
          "text": [
            "+--------------------+--------------------+--------------------+--------------------+\n",
            "|              entete|               words|      features_hache|            features|\n",
            "+--------------------+--------------------+--------------------+--------------------+\n",
            "| cantaloupe.srv.c...|[, cantaloupe.srv...|(20,[0,1,2,3,5,6,...|(20,[0,1,2,3,5,6,...|\n",
            "| cantaloupe.srv.c...|[, cantaloupe.srv...|(20,[0,2,3,4,5,6,...|(20,[0,2,3,4,5,6,...|\n",
            "| cantaloupe.srv.c...|[, cantaloupe.srv...|(20,[0,1,2,3,4,5,...|(20,[0,1,2,3,4,5,...|\n",
            "| cantaloupe.srv.c...|[, cantaloupe.srv...|(20,[0,1,2,3,4,5,...|(20,[0,1,2,3,4,5,...|\n",
            "| alt.atheism  can...|[, alt.atheism, ,...|(20,[1,2,3,4,5,6,...|(20,[1,2,3,4,5,6,...|\n",
            "| cantaloupe.srv.c...|[, cantaloupe.srv...|(20,[1,2,5,6,7,9,...|(20,[1,2,5,6,7,9,...|\n",
            "| cantaloupe.srv.c...|[, cantaloupe.srv...|(20,[0,2,3,4,5,6,...|(20,[0,2,3,4,5,6,...|\n",
            "| cantaloupe.srv.c...|[, cantaloupe.srv...|(20,[0,2,3,4,5,6,...|(20,[0,2,3,4,5,6,...|\n",
            "| cantaloupe.srv.c...|[, cantaloupe.srv...|(20,[1,2,3,4,5,6,...|(20,[1,2,3,4,5,6,...|\n",
            "| cantaloupe.srv.c...|[, cantaloupe.srv...|(20,[0,1,2,3,4,5,...|(20,[0,1,2,3,4,5,...|\n",
            "| cantaloupe.srv.c...|[, cantaloupe.srv...|(20,[2,4,5,7,8,10...|(20,[2,4,5,7,8,10...|\n",
            "| cantaloupe.srv.c...|[, cantaloupe.srv...|(20,[0,2,3,4,5,6,...|(20,[0,2,3,4,5,6,...|\n",
            "| cantaloupe.srv.c...|[, cantaloupe.srv...|(20,[0,2,3,5,6,7,...|(20,[0,2,3,5,6,7,...|\n",
            "| cantaloupe.srv.c...|[, cantaloupe.srv...|(20,[0,2,3,4,5,7,...|(20,[0,2,3,4,5,7,...|\n",
            "| alt.atheism  can...|[, alt.atheism, ,...|(20,[0,1,2,3,5,6,...|(20,[0,1,2,3,5,6,...|\n",
            "| cantaloupe.srv.c...|[, cantaloupe.srv...|(20,[2,3,5,6,7,8,...|(20,[2,3,5,6,7,8,...|\n",
            "| alt.atheism  can...|[, alt.atheism, ,...|(20,[1,2,4,5,6,7,...|(20,[1,2,4,5,6,7,...|\n",
            "| cantaloupe.srv.c...|[, cantaloupe.srv...|(20,[1,2,4,5,9,10...|(20,[1,2,4,5,9,10...|\n",
            "| alt.atheism  can...|[, alt.atheism, ,...|(20,[0,2,3,4,5,6,...|(20,[0,2,3,4,5,6,...|\n",
            "| cantaloupe.srv.c...|[, cantaloupe.srv...|(20,[0,1,2,3,5,6,...|(20,[0,1,2,3,5,6,...|\n",
            "+--------------------+--------------------+--------------------+--------------------+\n",
            "only showing top 20 rows\n",
            "\n"
          ]
        }
      ]
    },
    {
      "cell_type": "markdown",
      "source": [
        "####KMeans avec normalisation"
      ],
      "metadata": {
        "id": "fBUrD6oVjknX"
      }
    },
    {
      "cell_type": "code",
      "source": [
        "K_means(l1NormData_entete)"
      ],
      "metadata": {
        "id": "pZ9GboE6-5as",
        "outputId": "5316c86f-3443-42a6-db2f-938578b487ac",
        "colab": {
          "base_uri": "https://localhost:8080/"
        }
      },
      "execution_count": 141,
      "outputs": [
        {
          "output_type": "stream",
          "name": "stdout",
          "text": [
            "\n",
            "\n",
            "*********************************************************************************\n",
            "\n",
            "\n",
            "Silhouette with squared euclidean distance = 0.14966867843973244\n",
            "\n",
            "\n",
            "*********************************************************************************\n",
            "\n",
            "\n",
            "Cluster Centers:  2\n",
            "[0.02983836 0.03289355 0.04984843 0.03849039 0.04015886 0.05369461\n",
            " 0.0442604  0.04458531 0.03263492 0.039472   0.03001639 0.02471977\n",
            " 0.27494399 0.03771288 0.05253869 0.0516627  0.03136576 0.03781053\n",
            " 0.02456342 0.02878904]\n",
            "[0.03198619 0.02624152 0.044923   0.03064597 0.04358449 0.05008385\n",
            " 0.03382938 0.04185756 0.02348745 0.03859332 0.02672645 0.02514087\n",
            " 0.34780869 0.02961522 0.054876   0.04423896 0.02199324 0.03815162\n",
            " 0.02190107 0.02431513]\n",
            "\n",
            "\n",
            "*********************************************************************************\n",
            "\n",
            "\n",
            "+----------+-----+\n",
            "|prediction|count|\n",
            "+----------+-----+\n",
            "|         1|  896|\n",
            "|         0| 1104|\n",
            "+----------+-----+\n",
            "\n",
            "\n",
            "\n",
            "*********************************************************************************\n",
            "\n",
            "\n"
          ]
        }
      ]
    },
    {
      "cell_type": "markdown",
      "source": [
        "La séparation des documents semble plus ou moins équilibrées, mais le Silhouette score est quasiment nul."
      ],
      "metadata": {
        "id": "yLTJlcaTAn3E"
      }
    },
    {
      "cell_type": "markdown",
      "source": [
        "***Conclusion du clustering:***\n",
        "Nos résultats de clustering ne sont donc pas tres satisfaisants. \n",
        "\n",
        "On pourrait envisager de nettoyer un peu plus nos données ou de prendre en considérations d'autres scores tel que la NMI entre le partitionnement trouvé et les vraies classes et qui peut être un meilleur indicateur. \n"
      ],
      "metadata": {
        "id": "FNKOfQuuBY9s"
      }
    }
  ]
}