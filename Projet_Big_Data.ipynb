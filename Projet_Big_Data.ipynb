{
  "nbformat": 4,
  "nbformat_minor": 0,
  "metadata": {
    "colab": {
      "provenance": [],
      "include_colab_link": true
    },
    "kernelspec": {
      "name": "python3",
      "display_name": "Python 3"
    },
    "language_info": {
      "name": "python"
    }
  },
  "cells": [
    {
      "cell_type": "markdown",
      "metadata": {
        "id": "view-in-github",
        "colab_type": "text"
      },
      "source": [
        "<a href=\"https://colab.research.google.com/github/amir-10/Projet_Big_Data/blob/main/Projet_Big_Data.ipynb\" target=\"_parent\"><img src=\"https://colab.research.google.com/assets/colab-badge.svg\" alt=\"Open In Colab\"/></a>"
      ]
    },
    {
      "cell_type": "code",
      "execution_count": null,
      "metadata": {
        "id": "80GmyDXDMDkT"
      },
      "outputs": [],
      "source": [
        "# instalation de la bibliotheque java\n",
        "! apt-get install openjdk-8-jdk-headless -qq > /dev/null"
      ]
    },
    {
      "cell_type": "code",
      "source": [
        "# instalation de spark\n",
        "! wget -q https://dlcdn.apache.org/spark/spark-3.3.1/spark-3.3.1-bin-hadoop3.tgz"
      ],
      "metadata": {
        "id": "gEi02TPvOnHm"
      },
      "execution_count": null,
      "outputs": []
    },
    {
      "cell_type": "code",
      "source": [
        "# décompresser le dossier \n",
        "! tar xf /content/spark-3.3.1-bin-hadoop3.tgz\n"
      ],
      "metadata": {
        "id": "xxfE2rYvP7K2"
      },
      "execution_count": null,
      "outputs": []
    },
    {
      "cell_type": "code",
      "source": [
        "# instalation de pyspark\n",
        "! pip install -q findspark\n",
        "! pip install pyspark"
      ],
      "metadata": {
        "colab": {
          "base_uri": "https://localhost:8080/"
        },
        "id": "lFiWQgJdP_Re",
        "outputId": "7be8aee3-44d1-4c5c-bb7c-523c622953ab"
      },
      "execution_count": null,
      "outputs": [
        {
          "output_type": "stream",
          "name": "stdout",
          "text": [
            "Looking in indexes: https://pypi.org/simple, https://us-python.pkg.dev/colab-wheels/public/simple/\n",
            "Requirement already satisfied: pyspark in /usr/local/lib/python3.8/dist-packages (3.3.1)\n",
            "Requirement already satisfied: py4j==0.10.9.5 in /usr/local/lib/python3.8/dist-packages (from pyspark) (0.10.9.5)\n"
          ]
        }
      ]
    },
    {
      "cell_type": "code",
      "source": [
        "import os\n",
        "# definir deux variables d'environement\n",
        "\n",
        "os.environ[\"JAVA_HOME\"] = \"/usr/lib/jvm/java-8-openjdk-amd64\"  # l'endroit de java\n",
        "os.environ[\"SPARK_HOME\"] = \"/content/spark-3.3.1-bin-hadoop3\" # l'endroit de spark\n",
        "os.environ['PYSPARK_SUBMIT_ARGS'] = '--packages org.apache.spark:spark-avro_2.11:2.4.5 pyspark-shell' \n",
        "import findspark\n",
        "\n",
        "findspark.init(\"spark-3.3.1-bin-hadoop3\")\n",
        "\n",
        "\n",
        "from pyspark import SparkContext, SparkConf\n",
        "\n",
        "# lancement du spark en local (en une seule machine qui est la machine virtuelle de colab dans ce cas) avec 4 processus (workers node)\n",
        "configuration = SparkConf().setAppName(\"name\").setMaster(\"local[4]\").set('spark.jars.packages', 'org.apache.spark:spark-avro_2.11:2.4.5')\n",
        "# name: c'est le nom qu'on donne a notre app (code)\n",
        "sc = SparkContext(conf=configuration) # l'objet "
      ],
      "metadata": {
        "id": "XqJL73UxQb6q"
      },
      "execution_count": null,
      "outputs": []
    },
    {
      "cell_type": "code",
      "source": [
        "sc"
      ],
      "metadata": {
        "colab": {
          "base_uri": "https://localhost:8080/",
          "height": 196
        },
        "id": "sLJc20MwVnsF",
        "outputId": "cf393f75-3839-4cdb-ecf7-6fdbab32b906"
      },
      "execution_count": null,
      "outputs": [
        {
          "output_type": "execute_result",
          "data": {
            "text/plain": [
              "<SparkContext master=local[4] appName=name>"
            ],
            "text/html": [
              "\n",
              "        <div>\n",
              "            <p><b>SparkContext</b></p>\n",
              "\n",
              "            <p><a href=\"http://348fa37ac5e7:4040\">Spark UI</a></p>\n",
              "\n",
              "            <dl>\n",
              "              <dt>Version</dt>\n",
              "                <dd><code>v3.3.1</code></dd>\n",
              "              <dt>Master</dt>\n",
              "                <dd><code>local[4]</code></dd>\n",
              "              <dt>AppName</dt>\n",
              "                <dd><code>name</code></dd>\n",
              "            </dl>\n",
              "        </div>\n",
              "        "
            ]
          },
          "metadata": {},
          "execution_count": 6
        }
      ]
    },
    {
      "cell_type": "code",
      "source": [
        "# L'objet sparkSession créé pour utiliser l'API Spark SQL\n",
        "from pyspark.sql import SparkSession\n",
        "spark = SparkSession.builder.config(conf=configuration).getOrCreate()"
      ],
      "metadata": {
        "id": "8CXmh37JVuoQ"
      },
      "execution_count": null,
      "outputs": []
    },
    {
      "cell_type": "code",
      "source": [
        "! wget -q http://qwone.com/~jason/20Newsgroups/20news-19997.tar.gz"
      ],
      "metadata": {
        "id": "RwjFOBQ9WEIF"
      },
      "execution_count": null,
      "outputs": []
    },
    {
      "cell_type": "code",
      "source": [
        "# décompresser le dossier \n",
        "! tar xf /content/20news-19997.tar.gz"
      ],
      "metadata": {
        "id": "XMNChhuTWPvX"
      },
      "execution_count": null,
      "outputs": []
    },
    {
      "cell_type": "code",
      "source": [
        "rdd1 = sc.wholeTextFiles(\"/content/20_newsgroups/alt.atheism\")\n",
        "rdd2 = sc.wholeTextFiles(\"/content/20_newsgroups/rec.sport.baseball\")"
      ],
      "metadata": {
        "id": "IqUNkQFbdAOG"
      },
      "execution_count": null,
      "outputs": []
    },
    {
      "cell_type": "code",
      "source": [
        "x=rdd2.take(2)"
      ],
      "metadata": {
        "id": "_4_S17Z_dc0u"
      },
      "execution_count": null,
      "outputs": []
    },
    {
      "cell_type": "code",
      "source": [
        "def separateur(x):\n",
        "  l=x[1].split(\"\\n\\n\")\n",
        "  return (x[0],l)\n",
        "\n",
        "#separateur(x[1])\n",
        "\n",
        "rdd1=rdd1.map(separateur)\n",
        "rdd2=rdd2.map(separateur)\n",
        "\n",
        "\n",
        "\n",
        "\n"
      ],
      "metadata": {
        "id": "kdS3yOh9d-wY"
      },
      "execution_count": null,
      "outputs": []
    },
    {
      "cell_type": "code",
      "source": [
        "# extraction des infos de l'entete \n",
        "test=rdd1.take(1)"
      ],
      "metadata": {
        "id": "8H3eWV5MkKB9"
      },
      "execution_count": null,
      "outputs": []
    },
    {
      "cell_type": "code",
      "source": [
        "noor=test[0][1][0]\n",
        "l=noor.split(\"\\n\")\n",
        "d=dict()\n",
        "for x in l:\n",
        "  z=x.split(\":\")\n",
        "  d[z[0]]=z[1]\n",
        "print(d)"
      ],
      "metadata": {
        "colab": {
          "base_uri": "https://localhost:8080/"
        },
        "id": "pN5yt-KhlivY",
        "outputId": "0d2f11df-c729-4fc4-8bd6-68b2b6a0f4cf"
      },
      "execution_count": null,
      "outputs": [
        {
          "output_type": "stream",
          "name": "stdout",
          "text": [
            "{'Newsgroups': ' alt.atheism', 'Path': ' cantaloupe.srv.cs.cmu.edu!magnesium.club.cc.cmu.edu!news.sei.cmu.edu!cis.ohio-state.edu!magnus.acs.ohio-state.edu!zaphod.mps.ohio-state.edu!cs.utexas.edu!newsfeed.rice.edu!rice!spac-at1-59.rice.edu!user', 'From': ' pww@spacsun.rice.edu (Peter Walker)', 'Subject': ' Re', 'Message-ID': ' <pww-210493002420@spac-at1-59.rice.edu>', 'Followup-To': ' alt.atheism,talk.religion.misc,talk.origins', 'Sender': ' news@rice.edu (News)', 'Organization': \" I didn't do it, nobody saw me, you can't prove a thing.\", 'References': ' <C5pr7q.56n@news.cso.uiuc.edu> <19APR93.14322063.0243@VM1.MCGILL.CA> <1qvmk2$csk@morrow.stanford.edu> <lt8d3bINNj1g@exodus.Eng.Sun.COM> <1993Apr20.154658@IASTATE.EDU>', 'Date': ' Wed, 21 Apr 1993 05', 'Lines': ' 24'}\n"
          ]
        }
      ]
    },
    {
      "cell_type": "code",
      "source": [
        "def extraction_informations_entete(entete):\n",
        "  l=entete.split(\"\\n\")\n",
        "  d=dict()\n",
        "  for x in l:\n",
        "    z=x.split(\":\")\n",
        "    d[z[0]]=z[1]\n",
        "\n",
        "  return d"
      ],
      "metadata": {
        "id": "s_87u2qsn3Tc"
      },
      "execution_count": null,
      "outputs": []
    },
    {
      "cell_type": "code",
      "source": [
        "# extraire l'organisation du premier document du rdd1 (alt.atheism)\n",
        "# par l'action first\n",
        "doc1=rdd1.first()\n",
        "entete=doc1[1][0]\n",
        "# Dictionnaire des informations de l'entete\n",
        "dict1_info=extraction_informations_entete(entete)\n",
        "dict1_info"
      ],
      "metadata": {
        "colab": {
          "base_uri": "https://localhost:8080/"
        },
        "id": "jb3WmurZq4PR",
        "outputId": "585a057c-be91-40e4-f343-b132ee11d852"
      },
      "execution_count": null,
      "outputs": [
        {
          "output_type": "execute_result",
          "data": {
            "text/plain": [
              "{'Newsgroups': ' alt.atheism',\n",
              " 'Path': ' cantaloupe.srv.cs.cmu.edu!magnesium.club.cc.cmu.edu!news.sei.cmu.edu!cis.ohio-state.edu!magnus.acs.ohio-state.edu!zaphod.mps.ohio-state.edu!cs.utexas.edu!newsfeed.rice.edu!rice!spac-at1-59.rice.edu!user',\n",
              " 'From': ' pww@spacsun.rice.edu (Peter Walker)',\n",
              " 'Subject': ' Re',\n",
              " 'Message-ID': ' <pww-210493002420@spac-at1-59.rice.edu>',\n",
              " 'Followup-To': ' alt.atheism,talk.religion.misc,talk.origins',\n",
              " 'Sender': ' news@rice.edu (News)',\n",
              " 'Organization': \" I didn't do it, nobody saw me, you can't prove a thing.\",\n",
              " 'References': ' <C5pr7q.56n@news.cso.uiuc.edu> <19APR93.14322063.0243@VM1.MCGILL.CA> <1qvmk2$csk@morrow.stanford.edu> <lt8d3bINNj1g@exodus.Eng.Sun.COM> <1993Apr20.154658@IASTATE.EDU>',\n",
              " 'Date': ' Wed, 21 Apr 1993 05',\n",
              " 'Lines': ' 24'}"
            ]
          },
          "metadata": {},
          "execution_count": 41
        }
      ]
    },
    {
      "cell_type": "code",
      "source": [
        "# selectionner Organization et Newsgroups\n",
        "print(dict1_info['Newsgroups'])\n",
        "print(dict1_info['Organization'])"
      ],
      "metadata": {
        "colab": {
          "base_uri": "https://localhost:8080/"
        },
        "id": "1fy0wE-qtfTb",
        "outputId": "f42f9f12-2337-4377-a6d4-9399895bfdb9"
      },
      "execution_count": null,
      "outputs": [
        {
          "output_type": "stream",
          "name": "stdout",
          "text": [
            " alt.atheism\n",
            " I didn't do it, nobody saw me, you can't prove a thing.\n"
          ]
        }
      ]
    },
    {
      "cell_type": "code",
      "source": [
        "# par l'action take\n",
        "doc2=rdd2.take(2)\n",
        "entete2=doc2[1][1][0]\n",
        "# Dictionnaire des informations de l'entete\n",
        "dict2_info=extraction_informations_entete(entete2)\n",
        "dict2_info"
      ],
      "metadata": {
        "colab": {
          "base_uri": "https://localhost:8080/"
        },
        "id": "PRntxXwVsQYu",
        "outputId": "3006bfce-b55a-411a-e9d6-43d1bb014936"
      },
      "execution_count": null,
      "outputs": [
        {
          "output_type": "execute_result",
          "data": {
            "text/plain": [
              "{'Newsgroups': ' rec.sport.baseball',\n",
              " 'Path': ' cantaloupe.srv.cs.cmu.edu!crabapple.srv.cs.cmu.edu!fs7.ece.cmu.edu!europa.eng.gtefsd.com!gatech!usenet.ins.cwru.edu!agate!spool.mu.edu!uwm.edu!caen!uvaarpa!murdoch!delmarva.evsc.Virginia.EDU!drw3l',\n",
              " 'From': ' drw3l@delmarva.evsc.Virginia.EDU (David Robert Walker)',\n",
              " 'Subject': ' Re',\n",
              " 'Message-ID': ' <C5L40C.9LC@murdoch.acc.Virginia.EDU>',\n",
              " 'Sender': ' usenet@murdoch.acc.Virginia.EDU',\n",
              " 'Organization': ' University of Virginia',\n",
              " 'References': ' <1993Apr14.200649.12578@pts.mot.com> <8994@blue.cis.pitt.edu>',\n",
              " 'Date': ' Fri, 16 Apr 1993 16',\n",
              " 'Lines': ' 34'}"
            ]
          },
          "metadata": {},
          "execution_count": 37
        }
      ]
    },
    {
      "cell_type": "code",
      "source": [
        "# selectionner Organization et Newsgroups\n",
        "print(dict2_info['Newsgroups'])\n",
        "print(dict2_info['Organization'])\n",
        "print(dict2_info['Subject'])\n",
        "print(dict2_info['References'])"
      ],
      "metadata": {
        "colab": {
          "base_uri": "https://localhost:8080/"
        },
        "id": "5vGSXmr8tM09",
        "outputId": "0815916f-56df-4cd3-fe9d-609e4feda8bc"
      },
      "execution_count": null,
      "outputs": [
        {
          "output_type": "stream",
          "name": "stdout",
          "text": [
            " rec.sport.baseball\n",
            " University of Virginia\n",
            " Re\n",
            " <1993Apr14.200649.12578@pts.mot.com> <8994@blue.cis.pitt.edu>\n"
          ]
        }
      ]
    },
    {
      "cell_type": "code",
      "source": [
        "def extraction_informations_entete2(entete):\n",
        "  if entete is not None:\n",
        "    l=entete[1][0].split(\"\\n\")\n",
        "    d=dict()\n",
        "    if len(l)!=0:\n",
        "      for x in l:\n",
        "        z=x.split(\":\",1)\n",
        "        if len(z)==2:\n",
        "          d[z[0]]=z[1]\n",
        "        if len(z)<2:\n",
        "           pass\n",
        "        \n",
        "\n",
        "      return (entete[0],[d,entete[1][1]])"
      ],
      "metadata": {
        "id": "iP2HOZSXCjuS"
      },
      "execution_count": 142,
      "outputs": []
    },
    {
      "cell_type": "code",
      "source": [
        "new_rdd1=rdd1.map(extraction_informations_entete2)\n",
        "#rdd1.take(3)"
      ],
      "metadata": {
        "id": "GDfaOLzGCSwg"
      },
      "execution_count": 143,
      "outputs": []
    },
    {
      "cell_type": "code",
      "source": [
        "new_rdd1.take(8)"
      ],
      "metadata": {
        "colab": {
          "base_uri": "https://localhost:8080/"
        },
        "id": "6E0EShNhDahC",
        "outputId": "87fd1222-7283-4c55-8e4e-1b884c98c229"
      },
      "execution_count": 145,
      "outputs": [
        {
          "output_type": "execute_result",
          "data": {
            "text/plain": [
              "[('file:/content/20_newsgroups/alt.atheism/53411',\n",
              "  [{'Newsgroups': ' alt.atheism',\n",
              "    'Path': ' cantaloupe.srv.cs.cmu.edu!magnesium.club.cc.cmu.edu!news.sei.cmu.edu!cis.ohio-state.edu!magnus.acs.ohio-state.edu!zaphod.mps.ohio-state.edu!cs.utexas.edu!newsfeed.rice.edu!rice!spac-at1-59.rice.edu!user',\n",
              "    'From': ' pww@spacsun.rice.edu (Peter Walker)',\n",
              "    'Subject': ' Re: The Universe and Black Holes, was Re: 2000 years.....',\n",
              "    'Message-ID': ' <pww-210493002420@spac-at1-59.rice.edu>',\n",
              "    'Followup-To': ' alt.atheism,talk.religion.misc,talk.origins',\n",
              "    'Sender': ' news@rice.edu (News)',\n",
              "    'Organization': \" I didn't do it, nobody saw me, you can't prove a thing.\",\n",
              "    'References': ' <C5pr7q.56n@news.cso.uiuc.edu> <19APR93.14322063.0243@VM1.MCGILL.CA> <1qvmk2$csk@morrow.stanford.edu> <lt8d3bINNj1g@exodus.Eng.Sun.COM> <1993Apr20.154658@IASTATE.EDU>',\n",
              "    'Date': ' Wed, 21 Apr 1993 05:28:18 GMT',\n",
              "    'Lines': ' 24'},\n",
              "   \"In article <1993Apr20.154658@IASTATE.EDU>, kv07@IASTATE.EDU (Warren\\nVonroeschlaub) wrote:\\n> \\n>   Let's say that we drop a marble into the black hole.  It races, ever faster,\\n> towards the even horizon.  But, thanks to the curving of space caused by the\\n> excessive gravity, as the object approaches the event horizon it has further to\\n> travel.  Integrating the curve gives a time to reach the event horizon of . . \\n> infinity.  So the math says that nothing can enter a black hole.\"]),\n",
              " ('file:/content/20_newsgroups/alt.atheism/51172',\n",
              "  [{'Path': ' cantaloupe.srv.cs.cmu.edu!crabapple.srv.cs.cmu.edu!bb3.andrew.cmu.edu!andrew.cmu.edu!nm0w+',\n",
              "    'From': ' Nanci Ann Miller <nm0w+@andrew.cmu.edu>',\n",
              "    'Newsgroups': ' alt.atheism',\n",
              "    'Subject': \" Re: Concerning God's Morality (long)\",\n",
              "    'Date': ' Mon,  5 Apr 1993 20:15:34 -0400',\n",
              "    'Organization': ' Sponsored account, School of Computer Science, Carnegie Mellon, Pittsburgh, PA',\n",
              "    'Lines': ' 56',\n",
              "    'Message-ID': ' <0fkAiaK00VpdQKDFEL@andrew.cmu.edu>',\n",
              "    'References': ' <1993Mar29.165428@IASTATE.EDU><1993Mar31.194921.941@news.wesleyan.edu><1993Apr <1993Apr3.095220.24632@leland.Stanford.EDU>',\n",
              "    'NNTP-Posting-Host': ' po5.andrew.cmu.edu',\n",
              "    'In-Reply-To': ' <1993Apr5.084042.822@batman.bmd.trw.com>'},\n",
              "   '\\njbrown@batman.bmd.trw.com writes:\\n> > Sorry, but there are no supernatural\\n> > forces necessary to create a pathogen.  You are saying, \"Since\\n> > diseases are bad, the bad entity must have created it.\"  So\\n> > what would you say about acid rain, meteors falling from the\\n> > sky, volcanoes, earthquakes, and other QUOTE UNQUOTE \"Acts\\n> > of God?\" \\n> \\n> I would say that they are not \"acts of God\" but natural\\n> occurrences.']),\n",
              " ('file:/content/20_newsgroups/alt.atheism/53803',\n",
              "  [{'Path': ' cantaloupe.srv.cs.cmu.edu!crabapple.srv.cs.cmu.edu!bb3.andrew.cmu.edu!news.sei.cmu.edu!cis.ohio-state.edu!pacific.mps.ohio-state.edu!zaphod.mps.ohio-state.edu!howland.reston.ans.net!noc.near.net!uunet!gumby!yale!news.wesleyan.edu!news.wesleyan.edu!news',\n",
              "    'Newsgroups': ' alt.atheism',\n",
              "    'Subject': \" Re: Age of Reason Was: Who has read Rushdie's\",\n",
              "    'Message-ID': ' <1993Apr21.172206.984@news.wesleyan.edu>',\n",
              "    'From': ' SSAUYET@eagle.wesleyan.edu (Scott D. Sauyet)',\n",
              "    'Date': ' 21 Apr 93 17:22:06 -0400',\n",
              "    'References': ' <1qn6csINN99v@bozo.dsinc.com> <1r1cl7INNknk@bozo.dsinc.com> ',\n",
              "    'Distribution': ' world',\n",
              "    'Nntp-Posting-Host': ' wesleyan.edu',\n",
              "    'X-News-Reader': \" VMS NEWS 1.20In-Reply-To: sandvik@newton.apple.com's message of Wed, 21 Apr 1993 06:38:30 GMTLines: 29\",\n",
              "    'Lines': ' 29'},\n",
              "   'sandvik@newton.apple.com (Kent Sandvik) writes:']),\n",
              " ('file:/content/20_newsgroups/alt.atheism/53298',\n",
              "  [{'Path': ' cantaloupe.srv.cs.cmu.edu!das-news.harvard.edu!noc.near.net!howland.reston.ans.net!zaphod.mps.ohio-state.edu!uwm.edu!psuvax1!psuvm!tan102',\n",
              "    'Organization': ' Penn State University',\n",
              "    'Date': ' Tue, 20 Apr 1993 03:10:29 EDT',\n",
              "    'From': ' Andrew Newell <TAN102@psuvm.psu.edu>',\n",
              "    'Message-ID': ' <93110.031029TAN102@psuvm.psu.edu>',\n",
              "    'Newsgroups': ' alt.atheism',\n",
              "    'Subject': ' Re: free moral agency',\n",
              "    'Distribution': ' na',\n",
              "    'References': ' <1993Apr15.130334.27380@cbnewsj.cb.att.com>',\n",
              "    'Lines': ' 119'},\n",
              "   \"In article <C5pxqs.LM5@darkside.osrhe.uoknor.edu>, bil@okcforum.osrhe.edu (Bill\\nConner) says:\\n>\\n>dean.kaflowitz (decay@cbnewsj.cb.att.com) wrote:\\n>\\n>: Now, what I am interested in is the original notion you were discussing\\n>: on moral free agency.  That is, how can a god punish a person for\\n>: not believing in him when that person is only following his or her\\n>: nature and it is not possible for that person to deny what his or\\n>: her reason tells him or her, which is that there is no god?\\n>\\n>I think you're letting atheist mythology confuse you on the issue of\"]),\n",
              " ('file:/content/20_newsgroups/alt.atheism/53116',\n",
              "  [{'Xref': ' cantaloupe.srv.cs.cmu.edu talk.abortion:120561 alt.atheism:53116 talk.religion.misc:83574',\n",
              "    'Path': ' cantaloupe.srv.cs.cmu.edu!crabapple.srv.cs.cmu.edu!fs7.ece.cmu.edu!europa.eng.gtefsd.com!howland.reston.ans.net!usc!cs.utexas.edu!sun-barr!west.West.Sun.COM!news2me.EBay.Sun.COM!exodus.Eng.Sun.COM!hernes-sun!emarsh',\n",
              "    'From': ' emarsh@hernes-sun.Eng.Sun.COM (Eric Marsh)',\n",
              "    'Newsgroups': ' talk.abortion,alt.atheism,talk.religion.misc',\n",
              "    'Subject': ' Re: After 2000 years, can we say that Christian Morality is',\n",
              "    'Date': ' 15 Apr 1993 18:40:59 GMT',\n",
              "    'Organization': ' Sun',\n",
              "    'Lines': ' 27',\n",
              "    'Message-ID': ' <lsrb1rINN14t@exodus.Eng.Sun.COM>',\n",
              "    'References': ' <1qgouk$rln@horus.ap.mchp.sni.de> <lsojdjINNq12@exodus.Eng.Sun.COM> <C5Hr5M.KH2@ux1.cso.uiuc.edu>',\n",
              "    'NNTP-Posting-Host': ' hernes-sun'},\n",
              "   \"In article <C5Hr5M.KH2@ux1.cso.uiuc.edu> lis450bw@ux1.cso.uiuc.edu (lis450 Student) writes:\\n>Eric, you bring up a point that I hadn't heard before, and would like\\n>explanation on.  Did I understand you correctly when you said that\\n>the idea that Christianity has an objective morality is absurd? I read\\n>it as saying that Christians don't claim any sense of abolute morality.\"]),\n",
              " ('file:/content/20_newsgroups/alt.atheism/53486',\n",
              "  [{'Newsgroups': ' alt.atheism',\n",
              "    'Path': ' cantaloupe.srv.cs.cmu.edu!magnesium.club.cc.cmu.edu!news.sei.cmu.edu!cis.ohio-state.edu!zaphod.mps.ohio-state.edu!howland.reston.ans.net!ira.uka.de!news.dfn.de!tubsibr!dbstu1.rz.tu-bs.de!I3150101',\n",
              "    'From': ' I3150101@dbstu1.rz.tu-bs.de (Benedikt Rosenau)',\n",
              "    'Subject': ' Re: Islam And Scientific Predictions (was Re: Genocide is Caused by Atheism)',\n",
              "    'Message-ID': ' <16BB7AF87.I3150101@dbstu1.rz.tu-bs.de>',\n",
              "    'Sender': ' postnntp@ibr.cs.tu-bs.de (Mr. Nntp Inews Entry)',\n",
              "    'Organization': ' Technical University Braunschweig, Germany',\n",
              "    'References': ' <2943841351.0.p00261@psilink.com> <1993Apr14.170757.14221@cs.nott.ac.uk> <1993Apr17.122329.21438@monu6.cc.monash.edu.au> <16BB4C522.I3150101@dbstu1.rz.tu-bs.de> <1993Apr19.231641.21652@monu6.cc.monash.edu.au>',\n",
              "    'Date': ' Wed, 21 Apr 1993 11:28:54 GMT',\n",
              "    'Lines': ' 20'},\n",
              "   'In article <1993Apr19.231641.21652@monu6.cc.monash.edu.au>\\ndarice@yoyo.cc.monash.edu.au (Fred Rice) writes:\\n \\n(Deletion)\\n>\"(God is) the One Who created the night, the day, the sun and the moon.\\n>Each is travelling in an orbit with its own motion.\" (Qur\\'an :33)\\n>\\n>The positive aspect of this verse noted by Dr. Maurice Bucaille is that\\n>while geocentrism was the commonly accepted notion at the time (and for\\n>a long time afterwards), there is no notion of geocentrism in this verse\\n>(or anywhere in the Qur\\'an).\\n>\\n \\nWell, that is certainly different, but it looks as if there is a translation\\nfound for everything. By the way, I am most surprised to hear that night and\\nday move in an orbit.\\n \\nAnd that the sun travels in an orbit without saying that earth does, too,\\nsounds geocentric to me.\\n   Benedikt\\n']),\n",
              " ('file:/content/20_newsgroups/alt.atheism/53105',\n",
              "  [{'Xref': ' cantaloupe.srv.cs.cmu.edu talk.abortion:120552 alt.atheism:53105 talk.religion.misc:83569',\n",
              "    'Path': ' cantaloupe.srv.cs.cmu.edu!das-news.harvard.edu!noc.near.net!howland.reston.ans.net!usenet.ins.cwru.edu!po.CWRU.edu!kmr4',\n",
              "    'From': ' kmr4@po.CWRU.edu (Keith M. Ryan)',\n",
              "    'Newsgroups': ' talk.abortion,alt.atheism,talk.religion.misc',\n",
              "    'Subject': ' Re: After 2000 years, can we say that Christian Morality is',\n",
              "    'Date': ' Thu, 15 Apr 1993 22:54:23 GMT',\n",
              "    'Organization': ' Case Western Reserve University',\n",
              "    'Lines': ' 20',\n",
              "    'Message-ID': ' <kmr4.1588.734914463@po.CWRU.edu>',\n",
              "    'References': ' <pww-140493214334@spac-at1-59.rice.edu> <1qjahh$mrs@horus.ap.mchp.sni.de> <kmr4.1577.734879611@po.CWRU.edu> <1qkhsa$43q@horus.ap.mchp.sni.de>',\n",
              "    'NNTP-Posting-Host': ' b64635.student.cwru.edu'},\n",
              "   \"In article <1qkhsa$43q@horus.ap.mchp.sni.de> frank@D012S658.uucp (Frank O'Dwyer) writes:\"]),\n",
              " ('file:/content/20_newsgroups/alt.atheism/51222',\n",
              "  [{'Path': ' cantaloupe.srv.cs.cmu.edu!crabapple.srv.cs.cmu.edu!fs7.ece.cmu.edu!europa.eng.gtefsd.com!paladin.american.edu!howland.reston.ans.net!ux1.cso.uiuc.edu!news.cs.indiana.edu!arizona.edu!skyblu.ccit.arizona.edu!lippard',\n",
              "    'Newsgroups': ' alt.atheism',\n",
              "    'Subject': \" Re: A visit from the Jehovah's Witnesses\",\n",
              "    'Message-ID': ' <5APR199322025972@skyblu.ccit.arizona.edu>',\n",
              "    'From': ' lippard@skyblu.ccit.arizona.edu (James J. Lippard)',\n",
              "    'Date': ' 5 Apr 1993 22:02 MST  ',\n",
              "    'References': ' <bskendigC4KD1z.CDC@netcom.com> <1p8v1aINN9e9@matt.ksu.ksu.edu> ',\n",
              "    'Distribution': ' world,local',\n",
              "    'Organization': ' University of Arizona',\n",
              "    'Nntp-Posting-Host': ' skyblu.ccit.arizona.edu',\n",
              "    'News-Software': ' VAX/VMS VNEWS 1.41    ',\n",
              "    'Lines': ' 26'},\n",
              "   'In article <kmr4.1444.734058912@po.CWRU.edu>, kmr4@po.CWRU.edu (Keith M. Ryan) writes...\\n>In article <SUOPANKI.93Apr6024902@stekt6.oulu.fi> suopanki@stekt6.oulu.fi (Heikki T. Suopanki) writes:\\n>>:> God is eternal.    [A = B]\\n>>:> Jesus is God.      [C = A]\\n>>:> Therefore, Jesus is eternal.  [C = B]\\n>>\\n>>:> This works both logically and mathematically.  God is of the set of\\n>>:> things which are eternal.  Jesus is a subset of God.   Therefore\\n>>:> Jesus belongs to the set of things which are eternal.'])]"
            ]
          },
          "metadata": {},
          "execution_count": 145
        }
      ]
    },
    {
      "cell_type": "code",
      "source": [
        "# Fusionner les deux RDD (union)\n",
        "fusion=rdd1.union(rdd2)\n"
      ],
      "metadata": {
        "id": "aRn8a57Du1py"
      },
      "execution_count": null,
      "outputs": []
    },
    {
      "cell_type": "code",
      "source": [
        "doc1=fusion.first()\n",
        "entete=doc1[1][0]\n",
        "# Dictionnaire des informations de l'entete\n",
        "dict1_info=extraction_informations_entete(entete)\n",
        "dict1_info"
      ],
      "metadata": {
        "colab": {
          "base_uri": "https://localhost:8080/"
        },
        "id": "81NjmV3R8kxQ",
        "outputId": "2ecb9bc1-32f3-4f50-cba7-673c805acbff"
      },
      "execution_count": null,
      "outputs": [
        {
          "output_type": "execute_result",
          "data": {
            "text/plain": [
              "{'Newsgroups': ' alt.atheism',\n",
              " 'Path': ' cantaloupe.srv.cs.cmu.edu!magnesium.club.cc.cmu.edu!news.sei.cmu.edu!cis.ohio-state.edu!magnus.acs.ohio-state.edu!zaphod.mps.ohio-state.edu!cs.utexas.edu!newsfeed.rice.edu!rice!spac-at1-59.rice.edu!user',\n",
              " 'From': ' pww@spacsun.rice.edu (Peter Walker)',\n",
              " 'Subject': ' Re',\n",
              " 'Message-ID': ' <pww-210493002420@spac-at1-59.rice.edu>',\n",
              " 'Followup-To': ' alt.atheism,talk.religion.misc,talk.origins',\n",
              " 'Sender': ' news@rice.edu (News)',\n",
              " 'Organization': \" I didn't do it, nobody saw me, you can't prove a thing.\",\n",
              " 'References': ' <C5pr7q.56n@news.cso.uiuc.edu> <19APR93.14322063.0243@VM1.MCGILL.CA> <1qvmk2$csk@morrow.stanford.edu> <lt8d3bINNj1g@exodus.Eng.Sun.COM> <1993Apr20.154658@IASTATE.EDU>',\n",
              " 'Date': ' Wed, 21 Apr 1993 05',\n",
              " 'Lines': ' 24'}"
            ]
          },
          "metadata": {},
          "execution_count": 80
        }
      ]
    },
    {
      "cell_type": "code",
      "source": [
        "from pyspark.sql import Row\n",
        "def ToRow(x):\n",
        "  entete=x[1][0]\n",
        "  #dict1_info=extraction_informations_entete(entete)\n",
        "  row = Row(Path=x[0], \n",
        "            Contenu=x[1][1])\n",
        "  return row\n",
        "\n",
        "#fusion.take(1)\n",
        "rddF=fusion.map(ToRow)\n"
      ],
      "metadata": {
        "id": "DcArLax4vGn3"
      },
      "execution_count": null,
      "outputs": []
    },
    {
      "cell_type": "code",
      "source": [
        "rddF.take(5)"
      ],
      "metadata": {
        "colab": {
          "base_uri": "https://localhost:8080/"
        },
        "id": "WMSB87g_x4DG",
        "outputId": "4a364a24-667c-4609-85e2-a8f7ec062361"
      },
      "execution_count": null,
      "outputs": [
        {
          "output_type": "execute_result",
          "data": {
            "text/plain": [
              "[Row(Path='file:/content/20_newsgroups/alt.atheism/53411', Contenu=\"In article <1993Apr20.154658@IASTATE.EDU>, kv07@IASTATE.EDU (Warren\\nVonroeschlaub) wrote:\\n> \\n>   Let's say that we drop a marble into the black hole.  It races, ever faster,\\n> towards the even horizon.  But, thanks to the curving of space caused by the\\n> excessive gravity, as the object approaches the event horizon it has further to\\n> travel.  Integrating the curve gives a time to reach the event horizon of . . \\n> infinity.  So the math says that nothing can enter a black hole.\"),\n",
              " Row(Path='file:/content/20_newsgroups/alt.atheism/51172', Contenu='\\njbrown@batman.bmd.trw.com writes:\\n> > Sorry, but there are no supernatural\\n> > forces necessary to create a pathogen.  You are saying, \"Since\\n> > diseases are bad, the bad entity must have created it.\"  So\\n> > what would you say about acid rain, meteors falling from the\\n> > sky, volcanoes, earthquakes, and other QUOTE UNQUOTE \"Acts\\n> > of God?\" \\n> \\n> I would say that they are not \"acts of God\" but natural\\n> occurrences.'),\n",
              " Row(Path='file:/content/20_newsgroups/alt.atheism/53803', Contenu='sandvik@newton.apple.com (Kent Sandvik) writes:'),\n",
              " Row(Path='file:/content/20_newsgroups/alt.atheism/53298', Contenu=\"In article <C5pxqs.LM5@darkside.osrhe.uoknor.edu>, bil@okcforum.osrhe.edu (Bill\\nConner) says:\\n>\\n>dean.kaflowitz (decay@cbnewsj.cb.att.com) wrote:\\n>\\n>: Now, what I am interested in is the original notion you were discussing\\n>: on moral free agency.  That is, how can a god punish a person for\\n>: not believing in him when that person is only following his or her\\n>: nature and it is not possible for that person to deny what his or\\n>: her reason tells him or her, which is that there is no god?\\n>\\n>I think you're letting atheist mythology confuse you on the issue of\"),\n",
              " Row(Path='file:/content/20_newsgroups/alt.atheism/53116', Contenu=\"In article <C5Hr5M.KH2@ux1.cso.uiuc.edu> lis450bw@ux1.cso.uiuc.edu (lis450 Student) writes:\\n>Eric, you bring up a point that I hadn't heard before, and would like\\n>explanation on.  Did I understand you correctly when you said that\\n>the idea that Christianity has an objective morality is absurd? I read\\n>it as saying that Christians don't claim any sense of abolute morality.\")]"
            ]
          },
          "metadata": {},
          "execution_count": 111
        }
      ]
    },
    {
      "cell_type": "code",
      "source": [
        "#Create dataframe\n",
        "df=spark.createDataFrame(rddF)\n",
        "df.printSchema()\n",
        "df.show()\n",
        "#df.count()"
      ],
      "metadata": {
        "colab": {
          "base_uri": "https://localhost:8080/",
          "height": 1000
        },
        "id": "jkNhg-JGyrsE",
        "outputId": "7c62ba1d-9a47-4965-e87f-ee077a731a1f"
      },
      "execution_count": null,
      "outputs": [
        {
          "output_type": "stream",
          "name": "stdout",
          "text": [
            "root\n",
            " |-- Path: string (nullable = true)\n",
            " |-- Newsgroups: string (nullable = true)\n",
            " |-- Organization: string (nullable = true)\n",
            " |-- Contenu: string (nullable = true)\n",
            "\n"
          ]
        },
        {
          "output_type": "error",
          "ename": "Py4JJavaError",
          "evalue": "ignored",
          "traceback": [
            "\u001b[0;31m---------------------------------------------------------------------------\u001b[0m",
            "\u001b[0;31mPy4JJavaError\u001b[0m                             Traceback (most recent call last)",
            "\u001b[0;32m<ipython-input-97-45af87a0135c>\u001b[0m in \u001b[0;36m<module>\u001b[0;34m\u001b[0m\n\u001b[1;32m      2\u001b[0m \u001b[0mdf\u001b[0m\u001b[0;34m=\u001b[0m\u001b[0mspark\u001b[0m\u001b[0;34m.\u001b[0m\u001b[0mcreateDataFrame\u001b[0m\u001b[0;34m(\u001b[0m\u001b[0mrddF\u001b[0m\u001b[0;34m)\u001b[0m\u001b[0;34m\u001b[0m\u001b[0;34m\u001b[0m\u001b[0m\n\u001b[1;32m      3\u001b[0m \u001b[0mdf\u001b[0m\u001b[0;34m.\u001b[0m\u001b[0mprintSchema\u001b[0m\u001b[0;34m(\u001b[0m\u001b[0;34m)\u001b[0m\u001b[0;34m\u001b[0m\u001b[0;34m\u001b[0m\u001b[0m\n\u001b[0;32m----> 4\u001b[0;31m \u001b[0mdf\u001b[0m\u001b[0;34m.\u001b[0m\u001b[0mshow\u001b[0m\u001b[0;34m(\u001b[0m\u001b[0;34m)\u001b[0m\u001b[0;34m\u001b[0m\u001b[0;34m\u001b[0m\u001b[0m\n\u001b[0m\u001b[1;32m      5\u001b[0m \u001b[0;31m#df.count()\u001b[0m\u001b[0;34m\u001b[0m\u001b[0;34m\u001b[0m\u001b[0;34m\u001b[0m\u001b[0m\n",
            "\u001b[0;32m/content/spark-3.3.1-bin-hadoop3/python/pyspark/sql/dataframe.py\u001b[0m in \u001b[0;36mshow\u001b[0;34m(self, n, truncate, vertical)\u001b[0m\n\u001b[1;32m    604\u001b[0m \u001b[0;34m\u001b[0m\u001b[0m\n\u001b[1;32m    605\u001b[0m         \u001b[0;32mif\u001b[0m \u001b[0misinstance\u001b[0m\u001b[0;34m(\u001b[0m\u001b[0mtruncate\u001b[0m\u001b[0;34m,\u001b[0m \u001b[0mbool\u001b[0m\u001b[0;34m)\u001b[0m \u001b[0;32mand\u001b[0m \u001b[0mtruncate\u001b[0m\u001b[0;34m:\u001b[0m\u001b[0;34m\u001b[0m\u001b[0;34m\u001b[0m\u001b[0m\n\u001b[0;32m--> 606\u001b[0;31m             \u001b[0mprint\u001b[0m\u001b[0;34m(\u001b[0m\u001b[0mself\u001b[0m\u001b[0;34m.\u001b[0m\u001b[0m_jdf\u001b[0m\u001b[0;34m.\u001b[0m\u001b[0mshowString\u001b[0m\u001b[0;34m(\u001b[0m\u001b[0mn\u001b[0m\u001b[0;34m,\u001b[0m \u001b[0;36m20\u001b[0m\u001b[0;34m,\u001b[0m \u001b[0mvertical\u001b[0m\u001b[0;34m)\u001b[0m\u001b[0;34m)\u001b[0m\u001b[0;34m\u001b[0m\u001b[0;34m\u001b[0m\u001b[0m\n\u001b[0m\u001b[1;32m    607\u001b[0m         \u001b[0;32melse\u001b[0m\u001b[0;34m:\u001b[0m\u001b[0;34m\u001b[0m\u001b[0;34m\u001b[0m\u001b[0m\n\u001b[1;32m    608\u001b[0m             \u001b[0;32mtry\u001b[0m\u001b[0;34m:\u001b[0m\u001b[0;34m\u001b[0m\u001b[0;34m\u001b[0m\u001b[0m\n",
            "\u001b[0;32mspark-3.3.1-bin-hadoop3/python/lib/py4j-0.10.9.5-src.zip/py4j/java_gateway.py\u001b[0m in \u001b[0;36m__call__\u001b[0;34m(self, *args)\u001b[0m\n\u001b[1;32m   1319\u001b[0m \u001b[0;34m\u001b[0m\u001b[0m\n\u001b[1;32m   1320\u001b[0m         \u001b[0manswer\u001b[0m \u001b[0;34m=\u001b[0m \u001b[0mself\u001b[0m\u001b[0;34m.\u001b[0m\u001b[0mgateway_client\u001b[0m\u001b[0;34m.\u001b[0m\u001b[0msend_command\u001b[0m\u001b[0;34m(\u001b[0m\u001b[0mcommand\u001b[0m\u001b[0;34m)\u001b[0m\u001b[0;34m\u001b[0m\u001b[0;34m\u001b[0m\u001b[0m\n\u001b[0;32m-> 1321\u001b[0;31m         return_value = get_return_value(\n\u001b[0m\u001b[1;32m   1322\u001b[0m             answer, self.gateway_client, self.target_id, self.name)\n\u001b[1;32m   1323\u001b[0m \u001b[0;34m\u001b[0m\u001b[0m\n",
            "\u001b[0;32m/content/spark-3.3.1-bin-hadoop3/python/pyspark/sql/utils.py\u001b[0m in \u001b[0;36mdeco\u001b[0;34m(*a, **kw)\u001b[0m\n\u001b[1;32m    188\u001b[0m     \u001b[0;32mdef\u001b[0m \u001b[0mdeco\u001b[0m\u001b[0;34m(\u001b[0m\u001b[0;34m*\u001b[0m\u001b[0ma\u001b[0m\u001b[0;34m:\u001b[0m \u001b[0mAny\u001b[0m\u001b[0;34m,\u001b[0m \u001b[0;34m**\u001b[0m\u001b[0mkw\u001b[0m\u001b[0;34m:\u001b[0m \u001b[0mAny\u001b[0m\u001b[0;34m)\u001b[0m \u001b[0;34m->\u001b[0m \u001b[0mAny\u001b[0m\u001b[0;34m:\u001b[0m\u001b[0;34m\u001b[0m\u001b[0;34m\u001b[0m\u001b[0m\n\u001b[1;32m    189\u001b[0m         \u001b[0;32mtry\u001b[0m\u001b[0;34m:\u001b[0m\u001b[0;34m\u001b[0m\u001b[0;34m\u001b[0m\u001b[0m\n\u001b[0;32m--> 190\u001b[0;31m             \u001b[0;32mreturn\u001b[0m \u001b[0mf\u001b[0m\u001b[0;34m(\u001b[0m\u001b[0;34m*\u001b[0m\u001b[0ma\u001b[0m\u001b[0;34m,\u001b[0m \u001b[0;34m**\u001b[0m\u001b[0mkw\u001b[0m\u001b[0;34m)\u001b[0m\u001b[0;34m\u001b[0m\u001b[0;34m\u001b[0m\u001b[0m\n\u001b[0m\u001b[1;32m    191\u001b[0m         \u001b[0;32mexcept\u001b[0m \u001b[0mPy4JJavaError\u001b[0m \u001b[0;32mas\u001b[0m \u001b[0me\u001b[0m\u001b[0;34m:\u001b[0m\u001b[0;34m\u001b[0m\u001b[0;34m\u001b[0m\u001b[0m\n\u001b[1;32m    192\u001b[0m             \u001b[0mconverted\u001b[0m \u001b[0;34m=\u001b[0m \u001b[0mconvert_exception\u001b[0m\u001b[0;34m(\u001b[0m\u001b[0me\u001b[0m\u001b[0;34m.\u001b[0m\u001b[0mjava_exception\u001b[0m\u001b[0;34m)\u001b[0m\u001b[0;34m\u001b[0m\u001b[0;34m\u001b[0m\u001b[0m\n",
            "\u001b[0;32mspark-3.3.1-bin-hadoop3/python/lib/py4j-0.10.9.5-src.zip/py4j/protocol.py\u001b[0m in \u001b[0;36mget_return_value\u001b[0;34m(answer, gateway_client, target_id, name)\u001b[0m\n\u001b[1;32m    324\u001b[0m             \u001b[0mvalue\u001b[0m \u001b[0;34m=\u001b[0m \u001b[0mOUTPUT_CONVERTER\u001b[0m\u001b[0;34m[\u001b[0m\u001b[0mtype\u001b[0m\u001b[0;34m]\u001b[0m\u001b[0;34m(\u001b[0m\u001b[0manswer\u001b[0m\u001b[0;34m[\u001b[0m\u001b[0;36m2\u001b[0m\u001b[0;34m:\u001b[0m\u001b[0;34m]\u001b[0m\u001b[0;34m,\u001b[0m \u001b[0mgateway_client\u001b[0m\u001b[0;34m)\u001b[0m\u001b[0;34m\u001b[0m\u001b[0;34m\u001b[0m\u001b[0m\n\u001b[1;32m    325\u001b[0m             \u001b[0;32mif\u001b[0m \u001b[0manswer\u001b[0m\u001b[0;34m[\u001b[0m\u001b[0;36m1\u001b[0m\u001b[0;34m]\u001b[0m \u001b[0;34m==\u001b[0m \u001b[0mREFERENCE_TYPE\u001b[0m\u001b[0;34m:\u001b[0m\u001b[0;34m\u001b[0m\u001b[0;34m\u001b[0m\u001b[0m\n\u001b[0;32m--> 326\u001b[0;31m                 raise Py4JJavaError(\n\u001b[0m\u001b[1;32m    327\u001b[0m                     \u001b[0;34m\"An error occurred while calling {0}{1}{2}.\\n\"\u001b[0m\u001b[0;34m.\u001b[0m\u001b[0;34m\u001b[0m\u001b[0;34m\u001b[0m\u001b[0m\n\u001b[1;32m    328\u001b[0m                     format(target_id, \".\", name), value)\n",
            "\u001b[0;31mPy4JJavaError\u001b[0m: An error occurred while calling o848.showString.\n: org.apache.spark.SparkException: Job aborted due to stage failure: Task 0 in stage 74.0 failed 1 times, most recent failure: Lost task 0.0 in stage 74.0 (TID 99) (348fa37ac5e7 executor driver): org.apache.spark.api.python.PythonException: Traceback (most recent call last):\n  File \"/content/spark-3.3.1-bin-hadoop3/python/lib/pyspark.zip/pyspark/worker.py\", line 686, in main\n    process()\n  File \"/content/spark-3.3.1-bin-hadoop3/python/lib/pyspark.zip/pyspark/worker.py\", line 678, in process\n    serializer.dump_stream(out_iter, outfile)\n  File \"/content/spark-3.3.1-bin-hadoop3/python/lib/pyspark.zip/pyspark/serializers.py\", line 273, in dump_stream\n    vs = list(itertools.islice(iterator, batch))\n  File \"/content/spark-3.3.1-bin-hadoop3/python/lib/pyspark.zip/pyspark/util.py\", line 81, in wrapper\n    return f(*args, **kwargs)\n  File \"<ipython-input-95-d9b5a41daf1e>\", line 4, in ToRow\n  File \"<ipython-input-28-5f024fecb866>\", line 6, in extraction_informations_entete\nIndexError: list index out of range\n\n\tat org.apache.spark.api.python.BasePythonRunner$ReaderIterator.handlePythonException(PythonRunner.scala:559)\n\tat org.apache.spark.api.python.PythonRunner$$anon$3.read(PythonRunner.scala:765)\n\tat org.apache.spark.api.python.PythonRunner$$anon$3.read(PythonRunner.scala:747)\n\tat org.apache.spark.api.python.BasePythonRunner$ReaderIterator.hasNext(PythonRunner.scala:512)\n\tat org.apache.spark.InterruptibleIterator.hasNext(InterruptibleIterator.scala:37)\n\tat scala.collection.Iterator$$anon$11.hasNext(Iterator.scala:491)\n\tat scala.collection.Iterator$$anon$10.hasNext(Iterator.scala:460)\n\tat scala.collection.Iterator$$anon$10.hasNext(Iterator.scala:460)\n\tat org.apache.spark.sql.catalyst.expressions.GeneratedClass$GeneratedIteratorForCodegenStage1.processNext(Unknown Source)\n\tat org.apache.spark.sql.execution.BufferedRowIterator.hasNext(BufferedRowIterator.java:43)\n\tat org.apache.spark.sql.execution.WholeStageCodegenExec$$anon$1.hasNext(WholeStageCodegenExec.scala:760)\n\tat org.apache.spark.sql.execution.SparkPlan.$anonfun$getByteArrayRdd$1(SparkPlan.scala:364)\n\tat org.apache.spark.rdd.RDD.$anonfun$mapPartitionsInternal$2(RDD.scala:890)\n\tat org.apache.spark.rdd.RDD.$anonfun$mapPartitionsInternal$2$adapted(RDD.scala:890)\n\tat org.apache.spark.rdd.MapPartitionsRDD.compute(MapPartitionsRDD.scala:52)\n\tat org.apache.spark.rdd.RDD.computeOrReadCheckpoint(RDD.scala:365)\n\tat org.apache.spark.rdd.RDD.iterator(RDD.scala:329)\n\tat org.apache.spark.scheduler.ResultTask.runTask(ResultTask.scala:90)\n\tat org.apache.spark.scheduler.Task.run(Task.scala:136)\n\tat org.apache.spark.executor.Executor$TaskRunner.$anonfun$run$3(Executor.scala:548)\n\tat org.apache.spark.util.Utils$.tryWithSafeFinally(Utils.scala:1504)\n\tat org.apache.spark.executor.Executor$TaskRunner.run(Executor.scala:551)\n\tat java.util.concurrent.ThreadPoolExecutor.runWorker(ThreadPoolExecutor.java:1149)\n\tat java.util.concurrent.ThreadPoolExecutor$Worker.run(ThreadPoolExecutor.java:624)\n\tat java.lang.Thread.run(Thread.java:750)\n\nDriver stacktrace:\n\tat org.apache.spark.scheduler.DAGScheduler.failJobAndIndependentStages(DAGScheduler.scala:2672)\n\tat org.apache.spark.scheduler.DAGScheduler.$anonfun$abortStage$2(DAGScheduler.scala:2608)\n\tat org.apache.spark.scheduler.DAGScheduler.$anonfun$abortStage$2$adapted(DAGScheduler.scala:2607)\n\tat scala.collection.mutable.ResizableArray.foreach(ResizableArray.scala:62)\n\tat scala.collection.mutable.ResizableArray.foreach$(ResizableArray.scala:55)\n\tat scala.collection.mutable.ArrayBuffer.foreach(ArrayBuffer.scala:49)\n\tat org.apache.spark.scheduler.DAGScheduler.abortStage(DAGScheduler.scala:2607)\n\tat org.apache.spark.scheduler.DAGScheduler.$anonfun$handleTaskSetFailed$1(DAGScheduler.scala:1182)\n\tat org.apache.spark.scheduler.DAGScheduler.$anonfun$handleTaskSetFailed$1$adapted(DAGScheduler.scala:1182)\n\tat scala.Option.foreach(Option.scala:407)\n\tat org.apache.spark.scheduler.DAGScheduler.handleTaskSetFailed(DAGScheduler.scala:1182)\n\tat org.apache.spark.scheduler.DAGSchedulerEventProcessLoop.doOnReceive(DAGScheduler.scala:2860)\n\tat org.apache.spark.scheduler.DAGSchedulerEventProcessLoop.onReceive(DAGScheduler.scala:2802)\n\tat org.apache.spark.scheduler.DAGSchedulerEventProcessLoop.onReceive(DAGScheduler.scala:2791)\n\tat org.apache.spark.util.EventLoop$$anon$1.run(EventLoop.scala:49)\n\tat org.apache.spark.scheduler.DAGScheduler.runJob(DAGScheduler.scala:952)\n\tat org.apache.spark.SparkContext.runJob(SparkContext.scala:2228)\n\tat org.apache.spark.SparkContext.runJob(SparkContext.scala:2249)\n\tat org.apache.spark.SparkContext.runJob(SparkContext.scala:2268)\n\tat org.apache.spark.sql.execution.SparkPlan.executeTake(SparkPlan.scala:506)\n\tat org.apache.spark.sql.execution.SparkPlan.executeTake(SparkPlan.scala:459)\n\tat org.apache.spark.sql.execution.CollectLimitExec.executeCollect(limit.scala:48)\n\tat org.apache.spark.sql.Dataset.collectFromPlan(Dataset.scala:3868)\n\tat org.apache.spark.sql.Dataset.$anonfun$head$1(Dataset.scala:2863)\n\tat org.apache.spark.sql.Dataset.$anonfun$withAction$2(Dataset.scala:3858)\n\tat org.apache.spark.sql.execution.QueryExecution$.withInternalError(QueryExecution.scala:510)\n\tat org.apache.spark.sql.Dataset.$anonfun$withAction$1(Dataset.scala:3856)\n\tat org.apache.spark.sql.execution.SQLExecution$.$anonfun$withNewExecutionId$6(SQLExecution.scala:109)\n\tat org.apache.spark.sql.execution.SQLExecution$.withSQLConfPropagated(SQLExecution.scala:169)\n\tat org.apache.spark.sql.execution.SQLExecution$.$anonfun$withNewExecutionId$1(SQLExecution.scala:95)\n\tat org.apache.spark.sql.SparkSession.withActive(SparkSession.scala:779)\n\tat org.apache.spark.sql.execution.SQLExecution$.withNewExecutionId(SQLExecution.scala:64)\n\tat org.apache.spark.sql.Dataset.withAction(Dataset.scala:3856)\n\tat org.apache.spark.sql.Dataset.head(Dataset.scala:2863)\n\tat org.apache.spark.sql.Dataset.take(Dataset.scala:3084)\n\tat org.apache.spark.sql.Dataset.getRows(Dataset.scala:288)\n\tat org.apache.spark.sql.Dataset.showString(Dataset.scala:327)\n\tat sun.reflect.NativeMethodAccessorImpl.invoke0(Native Method)\n\tat sun.reflect.NativeMethodAccessorImpl.invoke(NativeMethodAccessorImpl.java:62)\n\tat sun.reflect.DelegatingMethodAccessorImpl.invoke(DelegatingMethodAccessorImpl.java:43)\n\tat java.lang.reflect.Method.invoke(Method.java:498)\n\tat py4j.reflection.MethodInvoker.invoke(MethodInvoker.java:244)\n\tat py4j.reflection.ReflectionEngine.invoke(ReflectionEngine.java:357)\n\tat py4j.Gateway.invoke(Gateway.java:282)\n\tat py4j.commands.AbstractCommand.invokeMethod(AbstractCommand.java:132)\n\tat py4j.commands.CallCommand.execute(CallCommand.java:79)\n\tat py4j.ClientServerConnection.waitForCommands(ClientServerConnection.java:182)\n\tat py4j.ClientServerConnection.run(ClientServerConnection.java:106)\n\tat java.lang.Thread.run(Thread.java:750)\nCaused by: org.apache.spark.api.python.PythonException: Traceback (most recent call last):\n  File \"/content/spark-3.3.1-bin-hadoop3/python/lib/pyspark.zip/pyspark/worker.py\", line 686, in main\n    process()\n  File \"/content/spark-3.3.1-bin-hadoop3/python/lib/pyspark.zip/pyspark/worker.py\", line 678, in process\n    serializer.dump_stream(out_iter, outfile)\n  File \"/content/spark-3.3.1-bin-hadoop3/python/lib/pyspark.zip/pyspark/serializers.py\", line 273, in dump_stream\n    vs = list(itertools.islice(iterator, batch))\n  File \"/content/spark-3.3.1-bin-hadoop3/python/lib/pyspark.zip/pyspark/util.py\", line 81, in wrapper\n    return f(*args, **kwargs)\n  File \"<ipython-input-95-d9b5a41daf1e>\", line 4, in ToRow\n  File \"<ipython-input-28-5f024fecb866>\", line 6, in extraction_informations_entete\nIndexError: list index out of range\n\n\tat org.apache.spark.api.python.BasePythonRunner$ReaderIterator.handlePythonException(PythonRunner.scala:559)\n\tat org.apache.spark.api.python.PythonRunner$$anon$3.read(PythonRunner.scala:765)\n\tat org.apache.spark.api.python.PythonRunner$$anon$3.read(PythonRunner.scala:747)\n\tat org.apache.spark.api.python.BasePythonRunner$ReaderIterator.hasNext(PythonRunner.scala:512)\n\tat org.apache.spark.InterruptibleIterator.hasNext(InterruptibleIterator.scala:37)\n\tat scala.collection.Iterator$$anon$11.hasNext(Iterator.scala:491)\n\tat scala.collection.Iterator$$anon$10.hasNext(Iterator.scala:460)\n\tat scala.collection.Iterator$$anon$10.hasNext(Iterator.scala:460)\n\tat org.apache.spark.sql.catalyst.expressions.GeneratedClass$GeneratedIteratorForCodegenStage1.processNext(Unknown Source)\n\tat org.apache.spark.sql.execution.BufferedRowIterator.hasNext(BufferedRowIterator.java:43)\n\tat org.apache.spark.sql.execution.WholeStageCodegenExec$$anon$1.hasNext(WholeStageCodegenExec.scala:760)\n\tat org.apache.spark.sql.execution.SparkPlan.$anonfun$getByteArrayRdd$1(SparkPlan.scala:364)\n\tat org.apache.spark.rdd.RDD.$anonfun$mapPartitionsInternal$2(RDD.scala:890)\n\tat org.apache.spark.rdd.RDD.$anonfun$mapPartitionsInternal$2$adapted(RDD.scala:890)\n\tat org.apache.spark.rdd.MapPartitionsRDD.compute(MapPartitionsRDD.scala:52)\n\tat org.apache.spark.rdd.RDD.computeOrReadCheckpoint(RDD.scala:365)\n\tat org.apache.spark.rdd.RDD.iterator(RDD.scala:329)\n\tat org.apache.spark.scheduler.ResultTask.runTask(ResultTask.scala:90)\n\tat org.apache.spark.scheduler.Task.run(Task.scala:136)\n\tat org.apache.spark.executor.Executor$TaskRunner.$anonfun$run$3(Executor.scala:548)\n\tat org.apache.spark.util.Utils$.tryWithSafeFinally(Utils.scala:1504)\n\tat org.apache.spark.executor.Executor$TaskRunner.run(Executor.scala:551)\n\tat java.util.concurrent.ThreadPoolExecutor.runWorker(ThreadPoolExecutor.java:1149)\n\tat java.util.concurrent.ThreadPoolExecutor$Worker.run(ThreadPoolExecutor.java:624)\n\t... 1 more\n"
          ]
        }
      ]
    },
    {
      "cell_type": "code",
      "source": [
        "!pip install pandavro"
      ],
      "metadata": {
        "colab": {
          "base_uri": "https://localhost:8080/"
        },
        "id": "9j4F1Md60WZu",
        "outputId": "3a344bb8-8fed-47b2-bd5a-2cadf0cc246e"
      },
      "execution_count": null,
      "outputs": [
        {
          "output_type": "stream",
          "name": "stdout",
          "text": [
            "Looking in indexes: https://pypi.org/simple, https://us-python.pkg.dev/colab-wheels/public/simple/\n",
            "Requirement already satisfied: pandavro in /usr/local/lib/python3.8/dist-packages (1.7.1)\n",
            "Requirement already satisfied: fastavro==1.5.1 in /usr/local/lib/python3.8/dist-packages (from pandavro) (1.5.1)\n",
            "Requirement already satisfied: numpy>=1.15.4 in /usr/local/lib/python3.8/dist-packages (from pandavro) (1.21.6)\n",
            "Requirement already satisfied: pandas>=1.1 in /usr/local/lib/python3.8/dist-packages (from pandavro) (1.3.5)\n",
            "Requirement already satisfied: pytz>=2017.3 in /usr/local/lib/python3.8/dist-packages (from pandas>=1.1->pandavro) (2022.7.1)\n",
            "Requirement already satisfied: python-dateutil>=2.7.3 in /usr/local/lib/python3.8/dist-packages (from pandas>=1.1->pandavro) (2.8.2)\n",
            "Requirement already satisfied: six>=1.5 in /usr/local/lib/python3.8/dist-packages (from python-dateutil>=2.7.3->pandas>=1.1->pandavro) (1.15.0)\n"
          ]
        }
      ]
    },
    {
      "cell_type": "code",
      "source": [
        "import numpy as np\n",
        "import pandas as pd\n",
        "import pandavro as pdx\n",
        "filename = \"df.avro\"\n",
        "df2=df.toPandas()\n",
        "pdx.to_avro(filename, df2)"
      ],
      "metadata": {
        "colab": {
          "base_uri": "https://localhost:8080/",
          "height": 1000
        },
        "id": "t2smBRf61WTP",
        "outputId": "2e2035aa-6236-4da0-d959-a9da372b9088"
      },
      "execution_count": null,
      "outputs": [
        {
          "output_type": "error",
          "ename": "Py4JJavaError",
          "evalue": "ignored",
          "traceback": [
            "\u001b[0;31m---------------------------------------------------------------------------\u001b[0m",
            "\u001b[0;31mPy4JJavaError\u001b[0m                             Traceback (most recent call last)",
            "\u001b[0;32m<ipython-input-92-c4f3ad40523d>\u001b[0m in \u001b[0;36m<module>\u001b[0;34m\u001b[0m\n\u001b[1;32m      3\u001b[0m \u001b[0;32mimport\u001b[0m \u001b[0mpandavro\u001b[0m \u001b[0;32mas\u001b[0m \u001b[0mpdx\u001b[0m\u001b[0;34m\u001b[0m\u001b[0;34m\u001b[0m\u001b[0m\n\u001b[1;32m      4\u001b[0m \u001b[0mfilename\u001b[0m \u001b[0;34m=\u001b[0m \u001b[0;34m\"df.avro\"\u001b[0m\u001b[0;34m\u001b[0m\u001b[0;34m\u001b[0m\u001b[0m\n\u001b[0;32m----> 5\u001b[0;31m \u001b[0mdf2\u001b[0m\u001b[0;34m=\u001b[0m\u001b[0mdf\u001b[0m\u001b[0;34m.\u001b[0m\u001b[0mtoPandas\u001b[0m\u001b[0;34m(\u001b[0m\u001b[0;34m)\u001b[0m\u001b[0;34m\u001b[0m\u001b[0;34m\u001b[0m\u001b[0m\n\u001b[0m\u001b[1;32m      6\u001b[0m \u001b[0mpdx\u001b[0m\u001b[0;34m.\u001b[0m\u001b[0mto_avro\u001b[0m\u001b[0;34m(\u001b[0m\u001b[0mfilename\u001b[0m\u001b[0;34m,\u001b[0m \u001b[0mdf2\u001b[0m\u001b[0;34m)\u001b[0m\u001b[0;34m\u001b[0m\u001b[0;34m\u001b[0m\u001b[0m\n",
            "\u001b[0;32m/content/spark-3.3.1-bin-hadoop3/python/pyspark/sql/pandas/conversion.py\u001b[0m in \u001b[0;36mtoPandas\u001b[0;34m(self)\u001b[0m\n\u001b[1;32m    203\u001b[0m \u001b[0;34m\u001b[0m\u001b[0m\n\u001b[1;32m    204\u001b[0m         \u001b[0;31m# Below is toPandas without Arrow optimization.\u001b[0m\u001b[0;34m\u001b[0m\u001b[0;34m\u001b[0m\u001b[0;34m\u001b[0m\u001b[0m\n\u001b[0;32m--> 205\u001b[0;31m         \u001b[0mpdf\u001b[0m \u001b[0;34m=\u001b[0m \u001b[0mpd\u001b[0m\u001b[0;34m.\u001b[0m\u001b[0mDataFrame\u001b[0m\u001b[0;34m.\u001b[0m\u001b[0mfrom_records\u001b[0m\u001b[0;34m(\u001b[0m\u001b[0mself\u001b[0m\u001b[0;34m.\u001b[0m\u001b[0mcollect\u001b[0m\u001b[0;34m(\u001b[0m\u001b[0;34m)\u001b[0m\u001b[0;34m,\u001b[0m \u001b[0mcolumns\u001b[0m\u001b[0;34m=\u001b[0m\u001b[0mself\u001b[0m\u001b[0;34m.\u001b[0m\u001b[0mcolumns\u001b[0m\u001b[0;34m)\u001b[0m\u001b[0;34m\u001b[0m\u001b[0;34m\u001b[0m\u001b[0m\n\u001b[0m\u001b[1;32m    206\u001b[0m         \u001b[0mcolumn_counter\u001b[0m \u001b[0;34m=\u001b[0m \u001b[0mCounter\u001b[0m\u001b[0;34m(\u001b[0m\u001b[0mself\u001b[0m\u001b[0;34m.\u001b[0m\u001b[0mcolumns\u001b[0m\u001b[0;34m)\u001b[0m\u001b[0;34m\u001b[0m\u001b[0;34m\u001b[0m\u001b[0m\n\u001b[1;32m    207\u001b[0m \u001b[0;34m\u001b[0m\u001b[0m\n",
            "\u001b[0;32m/content/spark-3.3.1-bin-hadoop3/python/pyspark/sql/dataframe.py\u001b[0m in \u001b[0;36mcollect\u001b[0;34m(self)\u001b[0m\n\u001b[1;32m    815\u001b[0m         \"\"\"\n\u001b[1;32m    816\u001b[0m         \u001b[0;32mwith\u001b[0m \u001b[0mSCCallSiteSync\u001b[0m\u001b[0;34m(\u001b[0m\u001b[0mself\u001b[0m\u001b[0;34m.\u001b[0m\u001b[0m_sc\u001b[0m\u001b[0;34m)\u001b[0m\u001b[0;34m:\u001b[0m\u001b[0;34m\u001b[0m\u001b[0;34m\u001b[0m\u001b[0m\n\u001b[0;32m--> 817\u001b[0;31m             \u001b[0msock_info\u001b[0m \u001b[0;34m=\u001b[0m \u001b[0mself\u001b[0m\u001b[0;34m.\u001b[0m\u001b[0m_jdf\u001b[0m\u001b[0;34m.\u001b[0m\u001b[0mcollectToPython\u001b[0m\u001b[0;34m(\u001b[0m\u001b[0;34m)\u001b[0m\u001b[0;34m\u001b[0m\u001b[0;34m\u001b[0m\u001b[0m\n\u001b[0m\u001b[1;32m    818\u001b[0m         \u001b[0;32mreturn\u001b[0m \u001b[0mlist\u001b[0m\u001b[0;34m(\u001b[0m\u001b[0m_load_from_socket\u001b[0m\u001b[0;34m(\u001b[0m\u001b[0msock_info\u001b[0m\u001b[0;34m,\u001b[0m \u001b[0mBatchedSerializer\u001b[0m\u001b[0;34m(\u001b[0m\u001b[0mCPickleSerializer\u001b[0m\u001b[0;34m(\u001b[0m\u001b[0;34m)\u001b[0m\u001b[0;34m)\u001b[0m\u001b[0;34m)\u001b[0m\u001b[0;34m)\u001b[0m\u001b[0;34m\u001b[0m\u001b[0;34m\u001b[0m\u001b[0m\n\u001b[1;32m    819\u001b[0m \u001b[0;34m\u001b[0m\u001b[0m\n",
            "\u001b[0;32mspark-3.3.1-bin-hadoop3/python/lib/py4j-0.10.9.5-src.zip/py4j/java_gateway.py\u001b[0m in \u001b[0;36m__call__\u001b[0;34m(self, *args)\u001b[0m\n\u001b[1;32m   1319\u001b[0m \u001b[0;34m\u001b[0m\u001b[0m\n\u001b[1;32m   1320\u001b[0m         \u001b[0manswer\u001b[0m \u001b[0;34m=\u001b[0m \u001b[0mself\u001b[0m\u001b[0;34m.\u001b[0m\u001b[0mgateway_client\u001b[0m\u001b[0;34m.\u001b[0m\u001b[0msend_command\u001b[0m\u001b[0;34m(\u001b[0m\u001b[0mcommand\u001b[0m\u001b[0;34m)\u001b[0m\u001b[0;34m\u001b[0m\u001b[0;34m\u001b[0m\u001b[0m\n\u001b[0;32m-> 1321\u001b[0;31m         return_value = get_return_value(\n\u001b[0m\u001b[1;32m   1322\u001b[0m             answer, self.gateway_client, self.target_id, self.name)\n\u001b[1;32m   1323\u001b[0m \u001b[0;34m\u001b[0m\u001b[0m\n",
            "\u001b[0;32m/content/spark-3.3.1-bin-hadoop3/python/pyspark/sql/utils.py\u001b[0m in \u001b[0;36mdeco\u001b[0;34m(*a, **kw)\u001b[0m\n\u001b[1;32m    188\u001b[0m     \u001b[0;32mdef\u001b[0m \u001b[0mdeco\u001b[0m\u001b[0;34m(\u001b[0m\u001b[0;34m*\u001b[0m\u001b[0ma\u001b[0m\u001b[0;34m:\u001b[0m \u001b[0mAny\u001b[0m\u001b[0;34m,\u001b[0m \u001b[0;34m**\u001b[0m\u001b[0mkw\u001b[0m\u001b[0;34m:\u001b[0m \u001b[0mAny\u001b[0m\u001b[0;34m)\u001b[0m \u001b[0;34m->\u001b[0m \u001b[0mAny\u001b[0m\u001b[0;34m:\u001b[0m\u001b[0;34m\u001b[0m\u001b[0;34m\u001b[0m\u001b[0m\n\u001b[1;32m    189\u001b[0m         \u001b[0;32mtry\u001b[0m\u001b[0;34m:\u001b[0m\u001b[0;34m\u001b[0m\u001b[0;34m\u001b[0m\u001b[0m\n\u001b[0;32m--> 190\u001b[0;31m             \u001b[0;32mreturn\u001b[0m \u001b[0mf\u001b[0m\u001b[0;34m(\u001b[0m\u001b[0;34m*\u001b[0m\u001b[0ma\u001b[0m\u001b[0;34m,\u001b[0m \u001b[0;34m**\u001b[0m\u001b[0mkw\u001b[0m\u001b[0;34m)\u001b[0m\u001b[0;34m\u001b[0m\u001b[0;34m\u001b[0m\u001b[0m\n\u001b[0m\u001b[1;32m    191\u001b[0m         \u001b[0;32mexcept\u001b[0m \u001b[0mPy4JJavaError\u001b[0m \u001b[0;32mas\u001b[0m \u001b[0me\u001b[0m\u001b[0;34m:\u001b[0m\u001b[0;34m\u001b[0m\u001b[0;34m\u001b[0m\u001b[0m\n\u001b[1;32m    192\u001b[0m             \u001b[0mconverted\u001b[0m \u001b[0;34m=\u001b[0m \u001b[0mconvert_exception\u001b[0m\u001b[0;34m(\u001b[0m\u001b[0me\u001b[0m\u001b[0;34m.\u001b[0m\u001b[0mjava_exception\u001b[0m\u001b[0;34m)\u001b[0m\u001b[0;34m\u001b[0m\u001b[0;34m\u001b[0m\u001b[0m\n",
            "\u001b[0;32mspark-3.3.1-bin-hadoop3/python/lib/py4j-0.10.9.5-src.zip/py4j/protocol.py\u001b[0m in \u001b[0;36mget_return_value\u001b[0;34m(answer, gateway_client, target_id, name)\u001b[0m\n\u001b[1;32m    324\u001b[0m             \u001b[0mvalue\u001b[0m \u001b[0;34m=\u001b[0m \u001b[0mOUTPUT_CONVERTER\u001b[0m\u001b[0;34m[\u001b[0m\u001b[0mtype\u001b[0m\u001b[0;34m]\u001b[0m\u001b[0;34m(\u001b[0m\u001b[0manswer\u001b[0m\u001b[0;34m[\u001b[0m\u001b[0;36m2\u001b[0m\u001b[0;34m:\u001b[0m\u001b[0;34m]\u001b[0m\u001b[0;34m,\u001b[0m \u001b[0mgateway_client\u001b[0m\u001b[0;34m)\u001b[0m\u001b[0;34m\u001b[0m\u001b[0;34m\u001b[0m\u001b[0m\n\u001b[1;32m    325\u001b[0m             \u001b[0;32mif\u001b[0m \u001b[0manswer\u001b[0m\u001b[0;34m[\u001b[0m\u001b[0;36m1\u001b[0m\u001b[0;34m]\u001b[0m \u001b[0;34m==\u001b[0m \u001b[0mREFERENCE_TYPE\u001b[0m\u001b[0;34m:\u001b[0m\u001b[0;34m\u001b[0m\u001b[0;34m\u001b[0m\u001b[0m\n\u001b[0;32m--> 326\u001b[0;31m                 raise Py4JJavaError(\n\u001b[0m\u001b[1;32m    327\u001b[0m                     \u001b[0;34m\"An error occurred while calling {0}{1}{2}.\\n\"\u001b[0m\u001b[0;34m.\u001b[0m\u001b[0;34m\u001b[0m\u001b[0;34m\u001b[0m\u001b[0m\n\u001b[1;32m    328\u001b[0m                     format(target_id, \".\", name), value)\n",
            "\u001b[0;31mPy4JJavaError\u001b[0m: An error occurred while calling o769.collectToPython.\n: org.apache.spark.SparkException: Job aborted due to stage failure: Task 0 in stage 70.0 failed 1 times, most recent failure: Lost task 0.0 in stage 70.0 (TID 92) (348fa37ac5e7 executor driver): org.apache.spark.api.python.PythonException: Traceback (most recent call last):\n  File \"/content/spark-3.3.1-bin-hadoop3/python/lib/pyspark.zip/pyspark/worker.py\", line 686, in main\n    process()\n  File \"/content/spark-3.3.1-bin-hadoop3/python/lib/pyspark.zip/pyspark/worker.py\", line 678, in process\n    serializer.dump_stream(out_iter, outfile)\n  File \"/content/spark-3.3.1-bin-hadoop3/python/lib/pyspark.zip/pyspark/serializers.py\", line 273, in dump_stream\n    vs = list(itertools.islice(iterator, batch))\n  File \"/content/spark-3.3.1-bin-hadoop3/python/lib/pyspark.zip/pyspark/util.py\", line 81, in wrapper\n    return f(*args, **kwargs)\n  File \"<ipython-input-85-37a004af0536>\", line 4, in ToRow\n  File \"<ipython-input-28-5f024fecb866>\", line 6, in extraction_informations_entete\nIndexError: list index out of range\n\n\tat org.apache.spark.api.python.BasePythonRunner$ReaderIterator.handlePythonException(PythonRunner.scala:559)\n\tat org.apache.spark.api.python.PythonRunner$$anon$3.read(PythonRunner.scala:765)\n\tat org.apache.spark.api.python.PythonRunner$$anon$3.read(PythonRunner.scala:747)\n\tat org.apache.spark.api.python.BasePythonRunner$ReaderIterator.hasNext(PythonRunner.scala:512)\n\tat org.apache.spark.InterruptibleIterator.hasNext(InterruptibleIterator.scala:37)\n\tat scala.collection.Iterator$$anon$11.hasNext(Iterator.scala:491)\n\tat scala.collection.Iterator$$anon$10.hasNext(Iterator.scala:460)\n\tat scala.collection.Iterator$$anon$10.hasNext(Iterator.scala:460)\n\tat org.apache.spark.sql.catalyst.expressions.GeneratedClass$GeneratedIteratorForCodegenStage1.processNext(Unknown Source)\n\tat org.apache.spark.sql.execution.BufferedRowIterator.hasNext(BufferedRowIterator.java:43)\n\tat org.apache.spark.sql.execution.WholeStageCodegenExec$$anon$1.hasNext(WholeStageCodegenExec.scala:760)\n\tat org.apache.spark.sql.execution.SparkPlan.$anonfun$getByteArrayRdd$1(SparkPlan.scala:364)\n\tat org.apache.spark.rdd.RDD.$anonfun$mapPartitionsInternal$2(RDD.scala:890)\n\tat org.apache.spark.rdd.RDD.$anonfun$mapPartitionsInternal$2$adapted(RDD.scala:890)\n\tat org.apache.spark.rdd.MapPartitionsRDD.compute(MapPartitionsRDD.scala:52)\n\tat org.apache.spark.rdd.RDD.computeOrReadCheckpoint(RDD.scala:365)\n\tat org.apache.spark.rdd.RDD.iterator(RDD.scala:329)\n\tat org.apache.spark.scheduler.ResultTask.runTask(ResultTask.scala:90)\n\tat org.apache.spark.scheduler.Task.run(Task.scala:136)\n\tat org.apache.spark.executor.Executor$TaskRunner.$anonfun$run$3(Executor.scala:548)\n\tat org.apache.spark.util.Utils$.tryWithSafeFinally(Utils.scala:1504)\n\tat org.apache.spark.executor.Executor$TaskRunner.run(Executor.scala:551)\n\tat java.util.concurrent.ThreadPoolExecutor.runWorker(ThreadPoolExecutor.java:1149)\n\tat java.util.concurrent.ThreadPoolExecutor$Worker.run(ThreadPoolExecutor.java:624)\n\tat java.lang.Thread.run(Thread.java:750)\n\nDriver stacktrace:\n\tat org.apache.spark.scheduler.DAGScheduler.failJobAndIndependentStages(DAGScheduler.scala:2672)\n\tat org.apache.spark.scheduler.DAGScheduler.$anonfun$abortStage$2(DAGScheduler.scala:2608)\n\tat org.apache.spark.scheduler.DAGScheduler.$anonfun$abortStage$2$adapted(DAGScheduler.scala:2607)\n\tat scala.collection.mutable.ResizableArray.foreach(ResizableArray.scala:62)\n\tat scala.collection.mutable.ResizableArray.foreach$(ResizableArray.scala:55)\n\tat scala.collection.mutable.ArrayBuffer.foreach(ArrayBuffer.scala:49)\n\tat org.apache.spark.scheduler.DAGScheduler.abortStage(DAGScheduler.scala:2607)\n\tat org.apache.spark.scheduler.DAGScheduler.$anonfun$handleTaskSetFailed$1(DAGScheduler.scala:1182)\n\tat org.apache.spark.scheduler.DAGScheduler.$anonfun$handleTaskSetFailed$1$adapted(DAGScheduler.scala:1182)\n\tat scala.Option.foreach(Option.scala:407)\n\tat org.apache.spark.scheduler.DAGScheduler.handleTaskSetFailed(DAGScheduler.scala:1182)\n\tat org.apache.spark.scheduler.DAGSchedulerEventProcessLoop.doOnReceive(DAGScheduler.scala:2860)\n\tat org.apache.spark.scheduler.DAGSchedulerEventProcessLoop.onReceive(DAGScheduler.scala:2802)\n\tat org.apache.spark.scheduler.DAGSchedulerEventProcessLoop.onReceive(DAGScheduler.scala:2791)\n\tat org.apache.spark.util.EventLoop$$anon$1.run(EventLoop.scala:49)\n\tat org.apache.spark.scheduler.DAGScheduler.runJob(DAGScheduler.scala:952)\n\tat org.apache.spark.SparkContext.runJob(SparkContext.scala:2228)\n\tat org.apache.spark.SparkContext.runJob(SparkContext.scala:2249)\n\tat org.apache.spark.SparkContext.runJob(SparkContext.scala:2268)\n\tat org.apache.spark.SparkContext.runJob(SparkContext.scala:2293)\n\tat org.apache.spark.rdd.RDD.$anonfun$collect$1(RDD.scala:1021)\n\tat org.apache.spark.rdd.RDDOperationScope$.withScope(RDDOperationScope.scala:151)\n\tat org.apache.spark.rdd.RDDOperationScope$.withScope(RDDOperationScope.scala:112)\n\tat org.apache.spark.rdd.RDD.withScope(RDD.scala:406)\n\tat org.apache.spark.rdd.RDD.collect(RDD.scala:1020)\n\tat org.apache.spark.sql.execution.SparkPlan.executeCollect(SparkPlan.scala:424)\n\tat org.apache.spark.sql.Dataset.$anonfun$collectToPython$1(Dataset.scala:3688)\n\tat org.apache.spark.sql.Dataset.$anonfun$withAction$2(Dataset.scala:3858)\n\tat org.apache.spark.sql.execution.QueryExecution$.withInternalError(QueryExecution.scala:510)\n\tat org.apache.spark.sql.Dataset.$anonfun$withAction$1(Dataset.scala:3856)\n\tat org.apache.spark.sql.execution.SQLExecution$.$anonfun$withNewExecutionId$6(SQLExecution.scala:109)\n\tat org.apache.spark.sql.execution.SQLExecution$.withSQLConfPropagated(SQLExecution.scala:169)\n\tat org.apache.spark.sql.execution.SQLExecution$.$anonfun$withNewExecutionId$1(SQLExecution.scala:95)\n\tat org.apache.spark.sql.SparkSession.withActive(SparkSession.scala:779)\n\tat org.apache.spark.sql.execution.SQLExecution$.withNewExecutionId(SQLExecution.scala:64)\n\tat org.apache.spark.sql.Dataset.withAction(Dataset.scala:3856)\n\tat org.apache.spark.sql.Dataset.collectToPython(Dataset.scala:3685)\n\tat sun.reflect.NativeMethodAccessorImpl.invoke0(Native Method)\n\tat sun.reflect.NativeMethodAccessorImpl.invoke(NativeMethodAccessorImpl.java:62)\n\tat sun.reflect.DelegatingMethodAccessorImpl.invoke(DelegatingMethodAccessorImpl.java:43)\n\tat java.lang.reflect.Method.invoke(Method.java:498)\n\tat py4j.reflection.MethodInvoker.invoke(MethodInvoker.java:244)\n\tat py4j.reflection.ReflectionEngine.invoke(ReflectionEngine.java:357)\n\tat py4j.Gateway.invoke(Gateway.java:282)\n\tat py4j.commands.AbstractCommand.invokeMethod(AbstractCommand.java:132)\n\tat py4j.commands.CallCommand.execute(CallCommand.java:79)\n\tat py4j.ClientServerConnection.waitForCommands(ClientServerConnection.java:182)\n\tat py4j.ClientServerConnection.run(ClientServerConnection.java:106)\n\tat java.lang.Thread.run(Thread.java:750)\nCaused by: org.apache.spark.api.python.PythonException: Traceback (most recent call last):\n  File \"/content/spark-3.3.1-bin-hadoop3/python/lib/pyspark.zip/pyspark/worker.py\", line 686, in main\n    process()\n  File \"/content/spark-3.3.1-bin-hadoop3/python/lib/pyspark.zip/pyspark/worker.py\", line 678, in process\n    serializer.dump_stream(out_iter, outfile)\n  File \"/content/spark-3.3.1-bin-hadoop3/python/lib/pyspark.zip/pyspark/serializers.py\", line 273, in dump_stream\n    vs = list(itertools.islice(iterator, batch))\n  File \"/content/spark-3.3.1-bin-hadoop3/python/lib/pyspark.zip/pyspark/util.py\", line 81, in wrapper\n    return f(*args, **kwargs)\n  File \"<ipython-input-85-37a004af0536>\", line 4, in ToRow\n  File \"<ipython-input-28-5f024fecb866>\", line 6, in extraction_informations_entete\nIndexError: list index out of range\n\n\tat org.apache.spark.api.python.BasePythonRunner$ReaderIterator.handlePythonException(PythonRunner.scala:559)\n\tat org.apache.spark.api.python.PythonRunner$$anon$3.read(PythonRunner.scala:765)\n\tat org.apache.spark.api.python.PythonRunner$$anon$3.read(PythonRunner.scala:747)\n\tat org.apache.spark.api.python.BasePythonRunner$ReaderIterator.hasNext(PythonRunner.scala:512)\n\tat org.apache.spark.InterruptibleIterator.hasNext(InterruptibleIterator.scala:37)\n\tat scala.collection.Iterator$$anon$11.hasNext(Iterator.scala:491)\n\tat scala.collection.Iterator$$anon$10.hasNext(Iterator.scala:460)\n\tat scala.collection.Iterator$$anon$10.hasNext(Iterator.scala:460)\n\tat org.apache.spark.sql.catalyst.expressions.GeneratedClass$GeneratedIteratorForCodegenStage1.processNext(Unknown Source)\n\tat org.apache.spark.sql.execution.BufferedRowIterator.hasNext(BufferedRowIterator.java:43)\n\tat org.apache.spark.sql.execution.WholeStageCodegenExec$$anon$1.hasNext(WholeStageCodegenExec.scala:760)\n\tat org.apache.spark.sql.execution.SparkPlan.$anonfun$getByteArrayRdd$1(SparkPlan.scala:364)\n\tat org.apache.spark.rdd.RDD.$anonfun$mapPartitionsInternal$2(RDD.scala:890)\n\tat org.apache.spark.rdd.RDD.$anonfun$mapPartitionsInternal$2$adapted(RDD.scala:890)\n\tat org.apache.spark.rdd.MapPartitionsRDD.compute(MapPartitionsRDD.scala:52)\n\tat org.apache.spark.rdd.RDD.computeOrReadCheckpoint(RDD.scala:365)\n\tat org.apache.spark.rdd.RDD.iterator(RDD.scala:329)\n\tat org.apache.spark.scheduler.ResultTask.runTask(ResultTask.scala:90)\n\tat org.apache.spark.scheduler.Task.run(Task.scala:136)\n\tat org.apache.spark.executor.Executor$TaskRunner.$anonfun$run$3(Executor.scala:548)\n\tat org.apache.spark.util.Utils$.tryWithSafeFinally(Utils.scala:1504)\n\tat org.apache.spark.executor.Executor$TaskRunner.run(Executor.scala:551)\n\tat java.util.concurrent.ThreadPoolExecutor.runWorker(ThreadPoolExecutor.java:1149)\n\tat java.util.concurrent.ThreadPoolExecutor$Worker.run(ThreadPoolExecutor.java:624)\n\t... 1 more\n"
          ]
        }
      ]
    },
    {
      "cell_type": "code",
      "source": [
        "#lecture du fichier avro créé\n",
        "saved = pdx.read_avro(filename)\n",
        "print(saved)"
      ],
      "metadata": {
        "colab": {
          "base_uri": "https://localhost:8080/"
        },
        "id": "45jc0cIg44-4",
        "outputId": "b83db760-8f5e-4ac7-9392-40f3aa887975"
      },
      "execution_count": null,
      "outputs": [
        {
          "output_type": "stream",
          "name": "stdout",
          "text": [
            "                                                   Path  \\\n",
            "0         file:/content/20_newsgroups/alt.atheism/53411   \n",
            "1         file:/content/20_newsgroups/alt.atheism/51172   \n",
            "2         file:/content/20_newsgroups/alt.atheism/53803   \n",
            "3         file:/content/20_newsgroups/alt.atheism/53298   \n",
            "4         file:/content/20_newsgroups/alt.atheism/53116   \n",
            "...                                                 ...   \n",
            "1995  file:/content/20_newsgroups/rec.sport.baseball...   \n",
            "1996  file:/content/20_newsgroups/rec.sport.baseball...   \n",
            "1997  file:/content/20_newsgroups/rec.sport.baseball...   \n",
            "1998  file:/content/20_newsgroups/rec.sport.baseball...   \n",
            "1999  file:/content/20_newsgroups/rec.sport.baseball...   \n",
            "\n",
            "                                                 Entete  \\\n",
            "0     Newsgroups: alt.atheism\\nPath: cantaloupe.srv....   \n",
            "1     Path: cantaloupe.srv.cs.cmu.edu!crabapple.srv....   \n",
            "2     Path: cantaloupe.srv.cs.cmu.edu!crabapple.srv....   \n",
            "3     Path: cantaloupe.srv.cs.cmu.edu!das-news.harva...   \n",
            "4     Xref: cantaloupe.srv.cs.cmu.edu talk.abortion:...   \n",
            "...                                                 ...   \n",
            "1995  Path: cantaloupe.srv.cs.cmu.edu!das-news.harva...   \n",
            "1996  Path: cantaloupe.srv.cs.cmu.edu!das-news.harva...   \n",
            "1997  Path: cantaloupe.srv.cs.cmu.edu!das-news.harva...   \n",
            "1998  Path: cantaloupe.srv.cs.cmu.edu!rochester!udel...   \n",
            "1999  Newsgroups: rec.sport.baseball\\nPath: cantalou...   \n",
            "\n",
            "                                                Contenu  \n",
            "0     In article <1993Apr20.154658@IASTATE.EDU>, kv0...  \n",
            "1     \\njbrown@batman.bmd.trw.com writes:\\n> > Sorry...  \n",
            "2       sandvik@newton.apple.com (Kent Sandvik) writes:  \n",
            "3     In article <C5pxqs.LM5@darkside.osrhe.uoknor.e...  \n",
            "4     In article <C5Hr5M.KH2@ux1.cso.uiuc.edu> lis45...  \n",
            "...                                                 ...  \n",
            "1995  \\n\\t     MLB Standings and Scores for Satruday...  \n",
            "1996  In article <1993Apr13.150904.25249@alchemy.che...  \n",
            "1997  Here is the OPI (Offensive Production Index) f...  \n",
            "1998  In article <GRABINER.93Apr23112924@germain.har...  \n",
            "1999  In article <1r93di$car@apple.com> chuq@apple.c...  \n",
            "\n",
            "[2000 rows x 3 columns]\n"
          ]
        }
      ]
    },
    {
      "cell_type": "code",
      "source": [],
      "metadata": {
        "id": "8LMgxR5L6v1Z"
      },
      "execution_count": null,
      "outputs": []
    },
    {
      "cell_type": "code",
      "source": [
        "# sauvgarder le dataframe au format parquet\n",
        "import pyarrow as pa\n",
        "import pyarrow.parquet as pq\n",
        "table = pa.Table.from_pandas(df2)\n",
        "pq.write_table(table, 'df.parquet')"
      ],
      "metadata": {
        "id": "ukrDrjxH4L0x"
      },
      "execution_count": null,
      "outputs": []
    },
    {
      "cell_type": "code",
      "source": [
        "# lecture du df a partir du fichier parquet\n",
        "table2 = pq.read_table('df.parquet')\n",
        "table2.to_pandas()"
      ],
      "metadata": {
        "colab": {
          "base_uri": "https://localhost:8080/",
          "height": 423
        },
        "id": "BVWBv2Tk4pRG",
        "outputId": "6493132d-4b0b-4603-f311-ebd7c581dd49"
      },
      "execution_count": null,
      "outputs": [
        {
          "output_type": "execute_result",
          "data": {
            "text/plain": [
              "                                                   Path  \\\n",
              "0         file:/content/20_newsgroups/alt.atheism/53411   \n",
              "1         file:/content/20_newsgroups/alt.atheism/51172   \n",
              "2         file:/content/20_newsgroups/alt.atheism/53803   \n",
              "3         file:/content/20_newsgroups/alt.atheism/53298   \n",
              "4         file:/content/20_newsgroups/alt.atheism/53116   \n",
              "...                                                 ...   \n",
              "1995  file:/content/20_newsgroups/rec.sport.baseball...   \n",
              "1996  file:/content/20_newsgroups/rec.sport.baseball...   \n",
              "1997  file:/content/20_newsgroups/rec.sport.baseball...   \n",
              "1998  file:/content/20_newsgroups/rec.sport.baseball...   \n",
              "1999  file:/content/20_newsgroups/rec.sport.baseball...   \n",
              "\n",
              "                                                 Entete  \\\n",
              "0     Newsgroups: alt.atheism\\nPath: cantaloupe.srv....   \n",
              "1     Path: cantaloupe.srv.cs.cmu.edu!crabapple.srv....   \n",
              "2     Path: cantaloupe.srv.cs.cmu.edu!crabapple.srv....   \n",
              "3     Path: cantaloupe.srv.cs.cmu.edu!das-news.harva...   \n",
              "4     Xref: cantaloupe.srv.cs.cmu.edu talk.abortion:...   \n",
              "...                                                 ...   \n",
              "1995  Path: cantaloupe.srv.cs.cmu.edu!das-news.harva...   \n",
              "1996  Path: cantaloupe.srv.cs.cmu.edu!das-news.harva...   \n",
              "1997  Path: cantaloupe.srv.cs.cmu.edu!das-news.harva...   \n",
              "1998  Path: cantaloupe.srv.cs.cmu.edu!rochester!udel...   \n",
              "1999  Newsgroups: rec.sport.baseball\\nPath: cantalou...   \n",
              "\n",
              "                                                Contenu  \n",
              "0     In article <1993Apr20.154658@IASTATE.EDU>, kv0...  \n",
              "1     \\njbrown@batman.bmd.trw.com writes:\\n> > Sorry...  \n",
              "2       sandvik@newton.apple.com (Kent Sandvik) writes:  \n",
              "3     In article <C5pxqs.LM5@darkside.osrhe.uoknor.e...  \n",
              "4     In article <C5Hr5M.KH2@ux1.cso.uiuc.edu> lis45...  \n",
              "...                                                 ...  \n",
              "1995  \\n\\t     MLB Standings and Scores for Satruday...  \n",
              "1996  In article <1993Apr13.150904.25249@alchemy.che...  \n",
              "1997  Here is the OPI (Offensive Production Index) f...  \n",
              "1998  In article <GRABINER.93Apr23112924@germain.har...  \n",
              "1999  In article <1r93di$car@apple.com> chuq@apple.c...  \n",
              "\n",
              "[2000 rows x 3 columns]"
            ],
            "text/html": [
              "\n",
              "  <div id=\"df-fc891954-8edd-4679-a912-29c9ee445210\">\n",
              "    <div class=\"colab-df-container\">\n",
              "      <div>\n",
              "<style scoped>\n",
              "    .dataframe tbody tr th:only-of-type {\n",
              "        vertical-align: middle;\n",
              "    }\n",
              "\n",
              "    .dataframe tbody tr th {\n",
              "        vertical-align: top;\n",
              "    }\n",
              "\n",
              "    .dataframe thead th {\n",
              "        text-align: right;\n",
              "    }\n",
              "</style>\n",
              "<table border=\"1\" class=\"dataframe\">\n",
              "  <thead>\n",
              "    <tr style=\"text-align: right;\">\n",
              "      <th></th>\n",
              "      <th>Path</th>\n",
              "      <th>Entete</th>\n",
              "      <th>Contenu</th>\n",
              "    </tr>\n",
              "  </thead>\n",
              "  <tbody>\n",
              "    <tr>\n",
              "      <th>0</th>\n",
              "      <td>file:/content/20_newsgroups/alt.atheism/53411</td>\n",
              "      <td>Newsgroups: alt.atheism\\nPath: cantaloupe.srv....</td>\n",
              "      <td>In article &lt;1993Apr20.154658@IASTATE.EDU&gt;, kv0...</td>\n",
              "    </tr>\n",
              "    <tr>\n",
              "      <th>1</th>\n",
              "      <td>file:/content/20_newsgroups/alt.atheism/51172</td>\n",
              "      <td>Path: cantaloupe.srv.cs.cmu.edu!crabapple.srv....</td>\n",
              "      <td>\\njbrown@batman.bmd.trw.com writes:\\n&gt; &gt; Sorry...</td>\n",
              "    </tr>\n",
              "    <tr>\n",
              "      <th>2</th>\n",
              "      <td>file:/content/20_newsgroups/alt.atheism/53803</td>\n",
              "      <td>Path: cantaloupe.srv.cs.cmu.edu!crabapple.srv....</td>\n",
              "      <td>sandvik@newton.apple.com (Kent Sandvik) writes:</td>\n",
              "    </tr>\n",
              "    <tr>\n",
              "      <th>3</th>\n",
              "      <td>file:/content/20_newsgroups/alt.atheism/53298</td>\n",
              "      <td>Path: cantaloupe.srv.cs.cmu.edu!das-news.harva...</td>\n",
              "      <td>In article &lt;C5pxqs.LM5@darkside.osrhe.uoknor.e...</td>\n",
              "    </tr>\n",
              "    <tr>\n",
              "      <th>4</th>\n",
              "      <td>file:/content/20_newsgroups/alt.atheism/53116</td>\n",
              "      <td>Xref: cantaloupe.srv.cs.cmu.edu talk.abortion:...</td>\n",
              "      <td>In article &lt;C5Hr5M.KH2@ux1.cso.uiuc.edu&gt; lis45...</td>\n",
              "    </tr>\n",
              "    <tr>\n",
              "      <th>...</th>\n",
              "      <td>...</td>\n",
              "      <td>...</td>\n",
              "      <td>...</td>\n",
              "    </tr>\n",
              "    <tr>\n",
              "      <th>1995</th>\n",
              "      <td>file:/content/20_newsgroups/rec.sport.baseball...</td>\n",
              "      <td>Path: cantaloupe.srv.cs.cmu.edu!das-news.harva...</td>\n",
              "      <td>\\n\\t     MLB Standings and Scores for Satruday...</td>\n",
              "    </tr>\n",
              "    <tr>\n",
              "      <th>1996</th>\n",
              "      <td>file:/content/20_newsgroups/rec.sport.baseball...</td>\n",
              "      <td>Path: cantaloupe.srv.cs.cmu.edu!das-news.harva...</td>\n",
              "      <td>In article &lt;1993Apr13.150904.25249@alchemy.che...</td>\n",
              "    </tr>\n",
              "    <tr>\n",
              "      <th>1997</th>\n",
              "      <td>file:/content/20_newsgroups/rec.sport.baseball...</td>\n",
              "      <td>Path: cantaloupe.srv.cs.cmu.edu!das-news.harva...</td>\n",
              "      <td>Here is the OPI (Offensive Production Index) f...</td>\n",
              "    </tr>\n",
              "    <tr>\n",
              "      <th>1998</th>\n",
              "      <td>file:/content/20_newsgroups/rec.sport.baseball...</td>\n",
              "      <td>Path: cantaloupe.srv.cs.cmu.edu!rochester!udel...</td>\n",
              "      <td>In article &lt;GRABINER.93Apr23112924@germain.har...</td>\n",
              "    </tr>\n",
              "    <tr>\n",
              "      <th>1999</th>\n",
              "      <td>file:/content/20_newsgroups/rec.sport.baseball...</td>\n",
              "      <td>Newsgroups: rec.sport.baseball\\nPath: cantalou...</td>\n",
              "      <td>In article &lt;1r93di$car@apple.com&gt; chuq@apple.c...</td>\n",
              "    </tr>\n",
              "  </tbody>\n",
              "</table>\n",
              "<p>2000 rows × 3 columns</p>\n",
              "</div>\n",
              "      <button class=\"colab-df-convert\" onclick=\"convertToInteractive('df-fc891954-8edd-4679-a912-29c9ee445210')\"\n",
              "              title=\"Convert this dataframe to an interactive table.\"\n",
              "              style=\"display:none;\">\n",
              "        \n",
              "  <svg xmlns=\"http://www.w3.org/2000/svg\" height=\"24px\"viewBox=\"0 0 24 24\"\n",
              "       width=\"24px\">\n",
              "    <path d=\"M0 0h24v24H0V0z\" fill=\"none\"/>\n",
              "    <path d=\"M18.56 5.44l.94 2.06.94-2.06 2.06-.94-2.06-.94-.94-2.06-.94 2.06-2.06.94zm-11 1L8.5 8.5l.94-2.06 2.06-.94-2.06-.94L8.5 2.5l-.94 2.06-2.06.94zm10 10l.94 2.06.94-2.06 2.06-.94-2.06-.94-.94-2.06-.94 2.06-2.06.94z\"/><path d=\"M17.41 7.96l-1.37-1.37c-.4-.4-.92-.59-1.43-.59-.52 0-1.04.2-1.43.59L10.3 9.45l-7.72 7.72c-.78.78-.78 2.05 0 2.83L4 21.41c.39.39.9.59 1.41.59.51 0 1.02-.2 1.41-.59l7.78-7.78 2.81-2.81c.8-.78.8-2.07 0-2.86zM5.41 20L4 18.59l7.72-7.72 1.47 1.35L5.41 20z\"/>\n",
              "  </svg>\n",
              "      </button>\n",
              "      \n",
              "  <style>\n",
              "    .colab-df-container {\n",
              "      display:flex;\n",
              "      flex-wrap:wrap;\n",
              "      gap: 12px;\n",
              "    }\n",
              "\n",
              "    .colab-df-convert {\n",
              "      background-color: #E8F0FE;\n",
              "      border: none;\n",
              "      border-radius: 50%;\n",
              "      cursor: pointer;\n",
              "      display: none;\n",
              "      fill: #1967D2;\n",
              "      height: 32px;\n",
              "      padding: 0 0 0 0;\n",
              "      width: 32px;\n",
              "    }\n",
              "\n",
              "    .colab-df-convert:hover {\n",
              "      background-color: #E2EBFA;\n",
              "      box-shadow: 0px 1px 2px rgba(60, 64, 67, 0.3), 0px 1px 3px 1px rgba(60, 64, 67, 0.15);\n",
              "      fill: #174EA6;\n",
              "    }\n",
              "\n",
              "    [theme=dark] .colab-df-convert {\n",
              "      background-color: #3B4455;\n",
              "      fill: #D2E3FC;\n",
              "    }\n",
              "\n",
              "    [theme=dark] .colab-df-convert:hover {\n",
              "      background-color: #434B5C;\n",
              "      box-shadow: 0px 1px 3px 1px rgba(0, 0, 0, 0.15);\n",
              "      filter: drop-shadow(0px 1px 2px rgba(0, 0, 0, 0.3));\n",
              "      fill: #FFFFFF;\n",
              "    }\n",
              "  </style>\n",
              "\n",
              "      <script>\n",
              "        const buttonEl =\n",
              "          document.querySelector('#df-fc891954-8edd-4679-a912-29c9ee445210 button.colab-df-convert');\n",
              "        buttonEl.style.display =\n",
              "          google.colab.kernel.accessAllowed ? 'block' : 'none';\n",
              "\n",
              "        async function convertToInteractive(key) {\n",
              "          const element = document.querySelector('#df-fc891954-8edd-4679-a912-29c9ee445210');\n",
              "          const dataTable =\n",
              "            await google.colab.kernel.invokeFunction('convertToInteractive',\n",
              "                                                     [key], {});\n",
              "          if (!dataTable) return;\n",
              "\n",
              "          const docLinkHtml = 'Like what you see? Visit the ' +\n",
              "            '<a target=\"_blank\" href=https://colab.research.google.com/notebooks/data_table.ipynb>data table notebook</a>'\n",
              "            + ' to learn more about interactive tables.';\n",
              "          element.innerHTML = '';\n",
              "          dataTable['output_type'] = 'display_data';\n",
              "          await google.colab.output.renderOutput(dataTable, element);\n",
              "          const docLink = document.createElement('div');\n",
              "          docLink.innerHTML = docLinkHtml;\n",
              "          element.appendChild(docLink);\n",
              "        }\n",
              "      </script>\n",
              "    </div>\n",
              "  </div>\n",
              "  "
            ]
          },
          "metadata": {},
          "execution_count": 74
        }
      ]
    },
    {
      "cell_type": "code",
      "source": [
        "df.select(\"Entete\").show()"
      ],
      "metadata": {
        "colab": {
          "base_uri": "https://localhost:8080/"
        },
        "id": "7hpRl_hC6xaT",
        "outputId": "2fd271b7-db0e-4a4a-ebfd-3629d10c9c0a"
      },
      "execution_count": null,
      "outputs": [
        {
          "output_type": "stream",
          "name": "stdout",
          "text": [
            "+--------------------+\n",
            "|              Entete|\n",
            "+--------------------+\n",
            "|Newsgroups: alt.a...|\n",
            "|Path: cantaloupe....|\n",
            "|Path: cantaloupe....|\n",
            "|Path: cantaloupe....|\n",
            "|Xref: cantaloupe....|\n",
            "|Newsgroups: alt.a...|\n",
            "|Xref: cantaloupe....|\n",
            "|Path: cantaloupe....|\n",
            "|Newsgroups: alt.a...|\n",
            "|Path: cantaloupe....|\n",
            "|Newsgroups: alt.a...|\n",
            "|Xref: cantaloupe....|\n",
            "|Newsgroups: alt.a...|\n",
            "|Path: cantaloupe....|\n",
            "|Path: cantaloupe....|\n",
            "|Path: cantaloupe....|\n",
            "|Xref: cantaloupe....|\n",
            "|Path: cantaloupe....|\n",
            "|Path: cantaloupe....|\n",
            "|Path: cantaloupe....|\n",
            "+--------------------+\n",
            "only showing top 20 rows\n",
            "\n"
          ]
        }
      ]
    }
  ]
}