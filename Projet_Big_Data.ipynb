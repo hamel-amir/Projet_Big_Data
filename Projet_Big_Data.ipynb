{
  "nbformat": 4,
  "nbformat_minor": 0,
  "metadata": {
    "colab": {
      "provenance": [],
      "include_colab_link": true
    },
    "kernelspec": {
      "name": "python3",
      "display_name": "Python 3"
    },
    "language_info": {
      "name": "python"
    }
  },
  "cells": [
    {
      "cell_type": "markdown",
      "metadata": {
        "id": "view-in-github",
        "colab_type": "text"
      },
      "source": [
        "<a href=\"https://colab.research.google.com/github/hamel-amir/Projet_Big_Data/blob/main/Projet_Big_Data.ipynb\" target=\"_parent\"><img src=\"https://colab.research.google.com/assets/colab-badge.svg\" alt=\"Open In Colab\"/></a>"
      ]
    },
    {
      "cell_type": "markdown",
      "source": [
        "# Projet Big Data : Apache Spark\n",
        "\n",
        "Réalisé par:\n",
        "\n",
        "* Amir  Hamel\n",
        "* Noor Khalal\n",
        "* Zahra Alliche"
      ],
      "metadata": {
        "id": "v2SIGKnLvWwq"
      }
    },
    {
      "cell_type": "markdown",
      "source": [
        "## Objectifs du TP\n",
        "Ce TP consiste à regrouper des documents textuels tels que les documents qui\n",
        "partagent le même thème se retrouvent dans le même groupe, et les documents qui\n",
        "portent sur des sujets très différents se trouvent dans des groupes différents."
      ],
      "metadata": {
        "id": "6iydR02cvmxN"
      }
    },
    {
      "cell_type": "markdown",
      "source": [
        "## 2 Mise en place de l'environnement de travail "
      ],
      "metadata": {
        "id": "hKIQ49q-vusK"
      }
    },
    {
      "cell_type": "markdown",
      "source": [
        "### 2.2 Installation de Spark"
      ],
      "metadata": {
        "id": "4TLXcnVJv7L7"
      }
    },
    {
      "cell_type": "markdown",
      "source": [
        "**Instalation de la bibliotheque Java**"
      ],
      "metadata": {
        "id": "o7EwvSUfUMPs"
      }
    },
    {
      "cell_type": "code",
      "execution_count": null,
      "metadata": {
        "id": "80GmyDXDMDkT"
      },
      "outputs": [],
      "source": [
        "! apt-get install openjdk-8-jdk-headless -qq > /dev/null"
      ]
    },
    {
      "cell_type": "markdown",
      "source": [
        "**Instalation de Spark**"
      ],
      "metadata": {
        "id": "6LPzD234US-o"
      }
    },
    {
      "cell_type": "code",
      "source": [
        "! wget -q https://dlcdn.apache.org/spark/spark-3.3.2/spark-3.3.2-bin-hadoop3.tgz\n"
      ],
      "metadata": {
        "id": "Y1rF4IunvkGy"
      },
      "execution_count": null,
      "outputs": []
    },
    {
      "cell_type": "code",
      "source": [
        "! tar xf spark-3.3.2-bin-hadoop3.tgz"
      ],
      "metadata": {
        "id": "RbbI0dlqvyJs"
      },
      "execution_count": null,
      "outputs": []
    },
    {
      "cell_type": "markdown",
      "source": [
        "**Instalation de PySpark**"
      ],
      "metadata": {
        "id": "gwBBWDFiUZ9k"
      }
    },
    {
      "cell_type": "code",
      "source": [
        "# instalation de pyspark\n",
        "! pip install -q findspark\n",
        "! pip install pyspark"
      ],
      "metadata": {
        "id": "lFiWQgJdP_Re",
        "colab": {
          "base_uri": "https://localhost:8080/"
        },
        "outputId": "50a06584-313a-4135-c855-a3a69f968ba3"
      },
      "execution_count": null,
      "outputs": [
        {
          "output_type": "stream",
          "name": "stdout",
          "text": [
            "Looking in indexes: https://pypi.org/simple, https://us-python.pkg.dev/colab-wheels/public/simple/\n",
            "Requirement already satisfied: pyspark in /usr/local/lib/python3.8/dist-packages (3.3.2)\n",
            "Requirement already satisfied: py4j==0.10.9.5 in /usr/local/lib/python3.8/dist-packages (from pyspark) (0.10.9.5)\n"
          ]
        }
      ]
    },
    {
      "cell_type": "markdown",
      "source": [
        "### 2.3/4 Définir la vatiable d'environnement et créer l'objet SparkContext "
      ],
      "metadata": {
        "id": "v4UfhgnywKcP"
      }
    },
    {
      "cell_type": "code",
      "source": [
        "import os\n",
        "# definir deux variables d'environement\n",
        "os.environ[\"JAVA_HOME\"] = \"/usr/lib/jvm/java-8-openjdk-amd64\"  # l'endroit de java\n",
        "os.environ[\"SPARK_HOME\"] = \"/content/spark-3.3.2-bin-hadoop3\" # l'endroit de spark\n",
        "os.environ['PYSPARK_SUBMIT_ARGS'] = '--packages org.apache.spark:spark-avro_2.11:2.4.5 pyspark-shell' \n",
        "\n",
        "import findspark\n",
        "findspark.init(\"spark-3.3.2-bin-hadoop3\")\n",
        "\n",
        "from pyspark import SparkContext, SparkConf\n",
        "\n",
        "# lancement du spark en local (en une seule machine qui est la machine virtuelle de colab dans ce cas) avec 4 processus (workers node)\n",
        "configuration = SparkConf().setAppName(\"name\").setMaster(\"local[4]\").set('spark.jars.packages', 'org.apache.spark:spark-avro_2.11:2.4.5')\n",
        "# name: c'est le nom qu'on donne a notre app (code)\n",
        "sc = SparkContext(conf=configuration) # l'objet "
      ],
      "metadata": {
        "id": "XqJL73UxQb6q"
      },
      "execution_count": null,
      "outputs": []
    },
    {
      "cell_type": "code",
      "source": [
        "sc"
      ],
      "metadata": {
        "id": "sLJc20MwVnsF",
        "colab": {
          "base_uri": "https://localhost:8080/",
          "height": 196
        },
        "outputId": "b63f5a27-6af7-4398-c30b-fd00408462bc"
      },
      "execution_count": null,
      "outputs": [
        {
          "output_type": "execute_result",
          "data": {
            "text/plain": [
              "<SparkContext master=local[4] appName=name>"
            ],
            "text/html": [
              "\n",
              "        <div>\n",
              "            <p><b>SparkContext</b></p>\n",
              "\n",
              "            <p><a href=\"http://943be9fd954a:4040\">Spark UI</a></p>\n",
              "\n",
              "            <dl>\n",
              "              <dt>Version</dt>\n",
              "                <dd><code>v3.3.2</code></dd>\n",
              "              <dt>Master</dt>\n",
              "                <dd><code>local[4]</code></dd>\n",
              "              <dt>AppName</dt>\n",
              "                <dd><code>name</code></dd>\n",
              "            </dl>\n",
              "        </div>\n",
              "        "
            ]
          },
          "metadata": {},
          "execution_count": 7
        }
      ]
    },
    {
      "cell_type": "markdown",
      "source": [
        "**Création de l'objet sparkSession**"
      ],
      "metadata": {
        "id": "Ym1IV3Y7VJaz"
      }
    },
    {
      "cell_type": "code",
      "source": [
        "# L'objet sparkSession créé pour utiliser l'API Spark SQL\n",
        "from pyspark.sql import SparkSession\n",
        "spark = SparkSession.builder.config(conf=configuration).getOrCreate()"
      ],
      "metadata": {
        "id": "8CXmh37JVuoQ"
      },
      "execution_count": null,
      "outputs": []
    },
    {
      "cell_type": "markdown",
      "source": [
        "## 3 Données"
      ],
      "metadata": {
        "id": "MThv3ncHwciX"
      }
    },
    {
      "cell_type": "markdown",
      "source": [
        "### 3.1 Téléchargement des données"
      ],
      "metadata": {
        "id": "HxJ4NfIDT6Jk"
      }
    },
    {
      "cell_type": "code",
      "source": [
        "# Téléchargement du dossier des documents\n",
        "! wget -q http://qwone.com/~jason/20Newsgroups/20news-19997.tar.gz"
      ],
      "metadata": {
        "id": "RwjFOBQ9WEIF"
      },
      "execution_count": null,
      "outputs": []
    },
    {
      "cell_type": "markdown",
      "source": [
        "### 3.2 Decompression des données"
      ],
      "metadata": {
        "id": "lqfcBArSwr17"
      }
    },
    {
      "cell_type": "code",
      "source": [
        "# décompresser le dossier \n",
        "! tar xf /content/20news-19997.tar.gz"
      ],
      "metadata": {
        "id": "XMNChhuTWPvX"
      },
      "execution_count": null,
      "outputs": []
    },
    {
      "cell_type": "markdown",
      "source": [
        "### 3.3 Chargement des données dans deux variables de type RDD\n",
        "\n"
      ],
      "metadata": {
        "id": "6UGGCxnFUDb5"
      }
    },
    {
      "cell_type": "code",
      "source": [
        "rdd1 = sc.wholeTextFiles(\"/content/20_newsgroups/alt.atheism\")\n",
        "rdd2 = sc.wholeTextFiles(\"/content/20_newsgroups/rec.sport.baseball\")"
      ],
      "metadata": {
        "id": "IqUNkQFbdAOG"
      },
      "execution_count": null,
      "outputs": []
    },
    {
      "cell_type": "code",
      "source": [
        "x=rdd2.take(2)"
      ],
      "metadata": {
        "id": "_4_S17Z_dc0u"
      },
      "execution_count": null,
      "outputs": []
    },
    {
      "cell_type": "markdown",
      "source": [
        "###3.4 Séparation de l’entête"
      ],
      "metadata": {
        "id": "c1PJy4DoV3oW"
      }
    },
    {
      "cell_type": "code",
      "source": [
        "def separateur(x):\n",
        "  l=x[1].split(\"\\n\\n\")\n",
        "  return (x[0],l)\n",
        "\n",
        "#separateur(x[1])\n",
        "\n",
        "rdd1=rdd1.map(separateur)\n",
        "rdd2=rdd2.map(separateur)"
      ],
      "metadata": {
        "id": "kdS3yOh9d-wY"
      },
      "execution_count": null,
      "outputs": []
    },
    {
      "cell_type": "code",
      "source": [
        "# tester le premier élément\n",
        "test=rdd1.take(1)\n",
        "test"
      ],
      "metadata": {
        "id": "8H3eWV5MkKB9",
        "colab": {
          "base_uri": "https://localhost:8080/"
        },
        "outputId": "121abb5f-27e5-4bf5-ba23-dbc82e1a558e"
      },
      "execution_count": null,
      "outputs": [
        {
          "output_type": "execute_result",
          "data": {
            "text/plain": [
              "[('file:/content/20_newsgroups/alt.atheism/53179',\n",
              "  ['Path: cantaloupe.srv.cs.cmu.edu!das-news.harvard.edu!noc.near.net!uunet!news.claremont.edu!nntp-server.caltech.edu!keith\\nFrom: keith@cco.caltech.edu (Keith Allan Schneider)\\nNewsgroups: alt.atheism\\nSubject: Re: <<Pompous ass\\nDate: 16 Apr 1993 02:45:05 GMT\\nOrganization: California Institute of Technology, Pasadena\\nLines: 28\\nMessage-ID: <1ql6jiINN5df@gap.caltech.edu>\\nReferences: <1q0e4iINNa30@gap.caltech.edu> <1q52q8INN6pi@gap.caltech.edu> <93099.234144MVS104@psuvm.psu.edu> <1q8lk3INNitq@gap.caltech.edu> <C5CFLo.FzH@blaze.cs.jhu.edu>\\nNNTP-Posting-Host: punisher.caltech.edu',\n",
              "   'arromdee@jyusenkyou.cs.jhu.edu (Ken Arromdee) writes:',\n",
              "   '>>Look, I\\'m not the one that made those Nazi comparisons.  Other people\\n>>compared what the religious people are doing now to Nazi Germany.  They\\n>>have said that it started out with little things (but no one really knew\\n>>about any of these \"little\" things, strangely enough) and grew to bigger\\n>>things.  They said that the motto is but one of the little things \\n>You just contradicted yourself.  The motto is one of those little things that\\n>nobody has bothered mentiopning to you, huh?',\n",
              "   'The \"`little\\' things\" above were in reference to Germany, clearly.  People\\nsaid that there were similar things in Germany, but no one could name any.\\nThey said that these were things that everyone should know, and that they\\nweren\\'t going to waste their time repeating them.  Sounds to me like no one\\nknew, either.  I looked in some books, but to no avail.',\n",
              "   '>>that is\\n>>going to pave the way for other \"intrusions.\"  Of course, if the motto\\n>>hasn\\'t caused problems in its 40 year history, then I doubt it is going to...\\n>It *has* caused problems.  You just ignore every instance when someone\\n>describes one to you.',\n",
              "   \"It has *caused* problems?  Again, no one has shown that things were better\\nbefore the motto, or that they'd likely be better after.  I don't think\\nthe motto initiates any sort of harassment.  Harassment will occur whether\\nor not the motto is present.\",\n",
              "   'keith\\n'])]"
            ]
          },
          "metadata": {},
          "execution_count": 14
        }
      ]
    },
    {
      "cell_type": "markdown",
      "source": [
        "On voit ici qu'un document est représenté sous la forme d'un tuple `(Path, List)`,\n",
        "\n",
        " ou `List = [entête, contenu du document ]`"
      ],
      "metadata": {
        "id": "UQ4YbyySzNDZ"
      }
    },
    {
      "cell_type": "markdown",
      "source": [
        "### 3.5 Extraction des champs de l’entête"
      ],
      "metadata": {
        "id": "tgkstGvWxDyQ"
      }
    },
    {
      "cell_type": "code",
      "source": [
        "#fonction d'ectraction des éléments de l’entête\n",
        "#prend en prametre l’entête d'un document\n",
        "#retourne un dictionnaire (Intitulé_Champs, Contenu_Champs)\n",
        "\n",
        "def extraction_informations_entete(entete):\n",
        "  #chaque ligne représente un nouveau champs\n",
        "  l=entete.split(\"\\n\")\n",
        "  d=dict()\n",
        "\n",
        "  for x in l:\n",
        "    #l'intitulé du champs est séparé de son contenu par ':'\n",
        "    z=x.split(\":\")\n",
        "    #quelques lignes ne contiennent pas de ':'\n",
        "    if len(z)==2:\n",
        "       d[z[0]]=z[1]\n",
        "\n",
        "  return d"
      ],
      "metadata": {
        "id": "s_87u2qsn3Tc"
      },
      "execution_count": null,
      "outputs": []
    },
    {
      "cell_type": "markdown",
      "source": [
        "#### Premier example d'extraction"
      ],
      "metadata": {
        "id": "zHcZknYryqRd"
      }
    },
    {
      "cell_type": "code",
      "source": [
        "# extraire des informations du premier document du rdd1 (alt.atheism)\n",
        "\n",
        "# par l'action first\n",
        "doc1=rdd1.first()\n",
        "entete=doc1[1][0]\n",
        "\n",
        "# Dictionnaire des informations de l'entete\n",
        "dict1_info=extraction_informations_entete(entete)\n",
        "dict1_info"
      ],
      "metadata": {
        "id": "jb3WmurZq4PR",
        "colab": {
          "base_uri": "https://localhost:8080/"
        },
        "outputId": "905eaf04-451c-4720-e725-273195e3f654"
      },
      "execution_count": null,
      "outputs": [
        {
          "output_type": "execute_result",
          "data": {
            "text/plain": [
              "{'Path': ' cantaloupe.srv.cs.cmu.edu!das-news.harvard.edu!noc.near.net!uunet!news.claremont.edu!nntp-server.caltech.edu!keith',\n",
              " 'From': ' keith@cco.caltech.edu (Keith Allan Schneider)',\n",
              " 'Newsgroups': ' alt.atheism',\n",
              " 'Organization': ' California Institute of Technology, Pasadena',\n",
              " 'Lines': ' 28',\n",
              " 'Message-ID': ' <1ql6jiINN5df@gap.caltech.edu>',\n",
              " 'References': ' <1q0e4iINNa30@gap.caltech.edu> <1q52q8INN6pi@gap.caltech.edu> <93099.234144MVS104@psuvm.psu.edu> <1q8lk3INNitq@gap.caltech.edu> <C5CFLo.FzH@blaze.cs.jhu.edu>',\n",
              " 'NNTP-Posting-Host': ' punisher.caltech.edu'}"
            ]
          },
          "metadata": {},
          "execution_count": 16
        }
      ]
    },
    {
      "cell_type": "code",
      "source": [
        "# selectionner Organization et Newsgroups\n",
        "print(dict1_info['Newsgroups'])\n",
        "print(dict1_info['Organization'])"
      ],
      "metadata": {
        "id": "1fy0wE-qtfTb",
        "colab": {
          "base_uri": "https://localhost:8080/"
        },
        "outputId": "31d1c09c-d0c6-4145-ecd8-b94723b143d6"
      },
      "execution_count": null,
      "outputs": [
        {
          "output_type": "stream",
          "name": "stdout",
          "text": [
            " alt.atheism\n",
            " California Institute of Technology, Pasadena\n"
          ]
        }
      ]
    },
    {
      "cell_type": "markdown",
      "source": [
        "#### Deuxieme example d'extraction"
      ],
      "metadata": {
        "id": "ixAxKaLe0IRM"
      }
    },
    {
      "cell_type": "code",
      "source": [
        "# par l'action take\n",
        "doc2=rdd2.take(2)\n",
        "entete2=doc2[1][1][0]\n",
        "# Dictionnaire des informations de l'entete\n",
        "dict2_info=extraction_informations_entete(entete2)\n",
        "dict2_info"
      ],
      "metadata": {
        "id": "PRntxXwVsQYu",
        "colab": {
          "base_uri": "https://localhost:8080/"
        },
        "outputId": "b6ce9e97-0ac3-4364-e37a-71df15a5d077"
      },
      "execution_count": null,
      "outputs": [
        {
          "output_type": "execute_result",
          "data": {
            "text/plain": [
              "{'Newsgroups': ' rec.sport.baseball',\n",
              " 'Path': ' cantaloupe.srv.cs.cmu.edu!das-news.harvard.edu!noc.near.net!howland.reston.ans.net!usc!cs.utexas.edu!utnut!torn!newshub.ccs.yorku.ca!newshub.ariel.yorku.ca!cs902060',\n",
              " 'From': ' cs902060@ariel.yorku.ca (GEOFFREY E DIAS)',\n",
              " 'Subject': ' How does a pitcher get a save?',\n",
              " 'Message-ID': ' <1993Apr23.135139.18749@newshub.ariel.yorku.ca>',\n",
              " 'Sender': ' news@newshub.ariel.yorku.ca (USENET News System)',\n",
              " 'Organization': ' York University, Toronto, Canada',\n",
              " 'Lines': ' 4'}"
            ]
          },
          "metadata": {},
          "execution_count": 18
        }
      ]
    },
    {
      "cell_type": "code",
      "source": [
        "# selectionner Organization et Newsgroups\n",
        "print(dict2_info['Newsgroups'])\n",
        "print(dict2_info['Organization'])"
      ],
      "metadata": {
        "id": "5vGSXmr8tM09",
        "colab": {
          "base_uri": "https://localhost:8080/"
        },
        "outputId": "d393a3aa-ead3-4d62-e28d-c6c4f422f8bb"
      },
      "execution_count": null,
      "outputs": [
        {
          "output_type": "stream",
          "name": "stdout",
          "text": [
            " rec.sport.baseball\n",
            " York University, Toronto, Canada\n"
          ]
        }
      ]
    },
    {
      "cell_type": "markdown",
      "source": [
        "Ici, nous allons créer une nouvelle fonction de séparation de document qui va créer un élément de RDD de la forme \n",
        "`(Path, [Dictionnaire de l'entete , le contenu du document])`\n",
        "\n",
        "Ceci rendra la transformation des élément en type pyspark.sql.Row plus facile durant le choix des colonnes car certains champs de l,entete n'e=éxistent pas dans tous les documents, le test d'éxistance sera plus facile grace au dictionnaire."
      ],
      "metadata": {
        "id": "ofHCO1re0PlH"
      }
    },
    {
      "cell_type": "code",
      "source": [
        "# cette fonction prend en entrée un élement du rdd (doc)\n",
        "# et retourne un tuple contenant ( path, [dictionnaire de l'entete , le contenu du document])\n",
        "def structuration_document(doc):\n",
        "  if  doc is not None:\n",
        "    l= doc[1][0].split(\"\\n\")\n",
        "    d=dict()\n",
        "    if len(l)!=0:\n",
        "      for x in l:\n",
        "        z=x.split(\":\",1)\n",
        "        if len(z)==2:\n",
        "          d[z[0]]=z[1]\n",
        "        if len(z)<2:\n",
        "           pass\n",
        "        \n",
        "\n",
        "      return (doc[0],[d,doc[1][1]])"
      ],
      "metadata": {
        "id": "iP2HOZSXCjuS"
      },
      "execution_count": null,
      "outputs": []
    },
    {
      "cell_type": "code",
      "source": [
        "new_rdd1=rdd1.map(structuration_document)\n"
      ],
      "metadata": {
        "id": "GDfaOLzGCSwg"
      },
      "execution_count": null,
      "outputs": []
    },
    {
      "cell_type": "code",
      "source": [
        "# affichage du resultat de new_rdd1\n",
        "new_rdd1.take(2)"
      ],
      "metadata": {
        "id": "6E0EShNhDahC",
        "colab": {
          "base_uri": "https://localhost:8080/"
        },
        "outputId": "f6114fe4-af43-4779-bb7d-9d9203ca7661"
      },
      "execution_count": null,
      "outputs": [
        {
          "output_type": "execute_result",
          "data": {
            "text/plain": [
              "[('file:/content/20_newsgroups/alt.atheism/53179',\n",
              "  [{'Path': ' cantaloupe.srv.cs.cmu.edu!das-news.harvard.edu!noc.near.net!uunet!news.claremont.edu!nntp-server.caltech.edu!keith',\n",
              "    'From': ' keith@cco.caltech.edu (Keith Allan Schneider)',\n",
              "    'Newsgroups': ' alt.atheism',\n",
              "    'Subject': ' Re: <<Pompous ass',\n",
              "    'Date': ' 16 Apr 1993 02:45:05 GMT',\n",
              "    'Organization': ' California Institute of Technology, Pasadena',\n",
              "    'Lines': ' 28',\n",
              "    'Message-ID': ' <1ql6jiINN5df@gap.caltech.edu>',\n",
              "    'References': ' <1q0e4iINNa30@gap.caltech.edu> <1q52q8INN6pi@gap.caltech.edu> <93099.234144MVS104@psuvm.psu.edu> <1q8lk3INNitq@gap.caltech.edu> <C5CFLo.FzH@blaze.cs.jhu.edu>',\n",
              "    'NNTP-Posting-Host': ' punisher.caltech.edu'},\n",
              "   'arromdee@jyusenkyou.cs.jhu.edu (Ken Arromdee) writes:']),\n",
              " ('file:/content/20_newsgroups/alt.atheism/54164',\n",
              "  [{'Xref': ' cantaloupe.srv.cs.cmu.edu alt.atheism:54164 alt.atheism.moderated:786 news.answers:7924 alt.answers:228',\n",
              "    'Path': ' cantaloupe.srv.cs.cmu.edu!rochester!udel!darwin.sura.net!zaphod.mps.ohio-state.edu!cs.utexas.edu!uunet!pipex!ibmpcug!mantis!mathew',\n",
              "    'From': ' mathew <mathew@mantis.co.uk>',\n",
              "    'Newsgroups': ' alt.atheism,alt.atheism.moderated,news.answers,alt.answers',\n",
              "    'Subject': ' Alt.Atheism FAQ: Overview for New Readers',\n",
              "    'Summary': ' Hi.  Please read this before you post.',\n",
              "    'Keywords': ' FAQ, atheism',\n",
              "    'Message-ID': ' <19930426140803@mantis.co.uk>',\n",
              "    'Date': ' Mon, 26 Apr 1993 14:08:03 GMT',\n",
              "    'Expires': ' Thu, 27 May 1993 14:08:03 GMT',\n",
              "    'Followup-To': ' alt.atheism',\n",
              "    'Distribution': ' world',\n",
              "    'Organization': ' Mantis Consultants, Cambridge. UK.',\n",
              "    'Approved': ' news-answers-request@mit.edu',\n",
              "    'Supersedes': ' <19930419105253@mantis.co.uk>',\n",
              "    'Lines': ' 146'},\n",
              "   'Archive-name: atheism/overview\\nAlt-atheism-archive-name: overview\\nLast-modified: 20 April 1993\\nVersion: 1.3'])]"
            ]
          },
          "metadata": {},
          "execution_count": 22
        }
      ]
    },
    {
      "cell_type": "code",
      "source": [
        "# en appliquant la meme fonction sur le rdd2\n",
        "new_rdd2=rdd2.map(structuration_document)"
      ],
      "metadata": {
        "id": "cf4484UdAjBv"
      },
      "execution_count": null,
      "outputs": []
    },
    {
      "cell_type": "code",
      "source": [
        "new_rdd2.take(2)"
      ],
      "metadata": {
        "colab": {
          "base_uri": "https://localhost:8080/"
        },
        "id": "tkW5ltJxAska",
        "outputId": "bf67c8cf-1f93-4b99-ddde-cb91722d2193"
      },
      "execution_count": null,
      "outputs": [
        {
          "output_type": "execute_result",
          "data": {
            "text/plain": [
              "[('file:/content/20_newsgroups/rec.sport.baseball/104373',\n",
              "  [{'Newsgroups': ' rec.sport.baseball',\n",
              "    'Path': ' cantaloupe.srv.cs.cmu.edu!das-news.harvard.edu!noc.near.net!howland.reston.ans.net!zaphod.mps.ohio-state.edu!malgudi.oar.net!news.ans.net!newsgate.watson.ibm.com!yktnews.watson.ibm.com!bones!kja',\n",
              "    'From': ' kja@watson.ibm.com ( Kenneth J. Arbeitman)',\n",
              "    'Subject': ' Missing subject header',\n",
              "    'Sender': ' news@watson.ibm.com (NNTP News Poster)',\n",
              "    'Message-ID': ' <1993Apr15.175316.15300@watson.ibm.com>',\n",
              "    'Date': ' Thu, 15 Apr 1993 17:53:16 GMT',\n",
              "    'Reply-To': ' kja@bones.fishkill.ibm.com ( Kenneth J. Arbeitman)',\n",
              "    'Disclaimer': \" This posting represents the poster's views, not necessarily those of IBM\",\n",
              "    'References': '  <93095@hydra.gatech.EDU>',\n",
              "    'Nntp-Posting-Host': ' bones.fishkill.ibm.com',\n",
              "    'Organization': ' IBM East Fishkill                                                        Subject: Re: Torre: The worst manager?',\n",
              "    'Lines': ' 39'},\n",
              "   \"\\nIn article <93095@hydra.gatech.EDU>, gt7469a@prism.gatech.EDU (Brian R.\\nLandmann) writes:\\n|> Joe Torre has to be the worst manager in baseball.\\n|> \\n|> For anyone who didn't see Sunday's game,\\n|> \\n|> With a right hander pitching he decides to bench Lankform, a left handed\\n|> hitter and play jordan and gilkey, both right handers.\\n  \\n    That's because Lankford had a minor injury from a couple of games\\nbefore that\\n    and was day-to-day... only available as a pinchrunner. \"]),\n",
              " ('file:/content/20_newsgroups/rec.sport.baseball/104941',\n",
              "  [{'Newsgroups': ' rec.sport.baseball',\n",
              "    'Path': ' cantaloupe.srv.cs.cmu.edu!das-news.harvard.edu!noc.near.net!howland.reston.ans.net!usc!cs.utexas.edu!utnut!torn!newshub.ccs.yorku.ca!newshub.ariel.yorku.ca!cs902060',\n",
              "    'From': ' cs902060@ariel.yorku.ca (GEOFFREY E DIAS)',\n",
              "    'Subject': ' How does a pitcher get a save?',\n",
              "    'Message-ID': ' <1993Apr23.135139.18749@newshub.ariel.yorku.ca>',\n",
              "    'Sender': ' news@newshub.ariel.yorku.ca (USENET News System)',\n",
              "    'Organization': ' York University, Toronto, Canada',\n",
              "    'Date': ' Fri, 23 Apr 1993 13:51:39 GMT',\n",
              "    'Lines': ' 4'},\n",
              "   '\\n\\tThe subject line says it all. What is the rule that qualifies\\na pitcher as making a save?'])]"
            ]
          },
          "metadata": {},
          "execution_count": 24
        }
      ]
    },
    {
      "cell_type": "markdown",
      "source": [
        "### 3.6 Fusion des deux new RDD"
      ],
      "metadata": {
        "id": "ARKuwSIW03VA"
      }
    },
    {
      "cell_type": "markdown",
      "source": [
        "en faisant l'union des deux RDD"
      ],
      "metadata": {
        "id": "aXEvPSW2XPmW"
      }
    },
    {
      "cell_type": "code",
      "source": [
        "# Fusionner les deux RDD (union)\n",
        "fusion=new_rdd1.union(new_rdd2)"
      ],
      "metadata": {
        "id": "aRn8a57Du1py"
      },
      "execution_count": null,
      "outputs": []
    },
    {
      "cell_type": "code",
      "source": [
        "fusion.take(2)"
      ],
      "metadata": {
        "id": "81NjmV3R8kxQ",
        "colab": {
          "base_uri": "https://localhost:8080/"
        },
        "outputId": "0866f77b-70fd-42f3-870e-483ca78a32ce"
      },
      "execution_count": null,
      "outputs": [
        {
          "output_type": "execute_result",
          "data": {
            "text/plain": [
              "[('file:/content/20_newsgroups/alt.atheism/53179',\n",
              "  [{'Path': ' cantaloupe.srv.cs.cmu.edu!das-news.harvard.edu!noc.near.net!uunet!news.claremont.edu!nntp-server.caltech.edu!keith',\n",
              "    'From': ' keith@cco.caltech.edu (Keith Allan Schneider)',\n",
              "    'Newsgroups': ' alt.atheism',\n",
              "    'Subject': ' Re: <<Pompous ass',\n",
              "    'Date': ' 16 Apr 1993 02:45:05 GMT',\n",
              "    'Organization': ' California Institute of Technology, Pasadena',\n",
              "    'Lines': ' 28',\n",
              "    'Message-ID': ' <1ql6jiINN5df@gap.caltech.edu>',\n",
              "    'References': ' <1q0e4iINNa30@gap.caltech.edu> <1q52q8INN6pi@gap.caltech.edu> <93099.234144MVS104@psuvm.psu.edu> <1q8lk3INNitq@gap.caltech.edu> <C5CFLo.FzH@blaze.cs.jhu.edu>',\n",
              "    'NNTP-Posting-Host': ' punisher.caltech.edu'},\n",
              "   'arromdee@jyusenkyou.cs.jhu.edu (Ken Arromdee) writes:']),\n",
              " ('file:/content/20_newsgroups/alt.atheism/54164',\n",
              "  [{'Xref': ' cantaloupe.srv.cs.cmu.edu alt.atheism:54164 alt.atheism.moderated:786 news.answers:7924 alt.answers:228',\n",
              "    'Path': ' cantaloupe.srv.cs.cmu.edu!rochester!udel!darwin.sura.net!zaphod.mps.ohio-state.edu!cs.utexas.edu!uunet!pipex!ibmpcug!mantis!mathew',\n",
              "    'From': ' mathew <mathew@mantis.co.uk>',\n",
              "    'Newsgroups': ' alt.atheism,alt.atheism.moderated,news.answers,alt.answers',\n",
              "    'Subject': ' Alt.Atheism FAQ: Overview for New Readers',\n",
              "    'Summary': ' Hi.  Please read this before you post.',\n",
              "    'Keywords': ' FAQ, atheism',\n",
              "    'Message-ID': ' <19930426140803@mantis.co.uk>',\n",
              "    'Date': ' Mon, 26 Apr 1993 14:08:03 GMT',\n",
              "    'Expires': ' Thu, 27 May 1993 14:08:03 GMT',\n",
              "    'Followup-To': ' alt.atheism',\n",
              "    'Distribution': ' world',\n",
              "    'Organization': ' Mantis Consultants, Cambridge. UK.',\n",
              "    'Approved': ' news-answers-request@mit.edu',\n",
              "    'Supersedes': ' <19930419105253@mantis.co.uk>',\n",
              "    'Lines': ' 146'},\n",
              "   'Archive-name: atheism/overview\\nAlt-atheism-archive-name: overview\\nLast-modified: 20 April 1993\\nVersion: 1.3'])]"
            ]
          },
          "metadata": {},
          "execution_count": 26
        }
      ]
    },
    {
      "cell_type": "markdown",
      "source": [
        "### 3.7 Transformation le nouveau RDD obtenu pour que chaque élément soit de type pyspark.sql.Row"
      ],
      "metadata": {
        "id": "gi0LvfR7u2iU"
      }
    },
    {
      "cell_type": "code",
      "source": [
        "from pyspark.sql import Row\n",
        "\n",
        "# cette fonction ToRow est utilisée pour manipuler la table sql et faire des requetes.\n",
        "def ToRow(x):\n",
        "  entete=x[1][0]\n",
        "  \n",
        "  #Certains éléments (comme Subject ou Date) n'éxistent pas dans tous les documents\n",
        "  #C'est pour cela que la création du dictionnaire avec la fonction structuration_document() va nous aider dans les tests d'éxistance\n",
        "  row = Row(Path=x[0], Newsgroups=entete['Newsgroups'] if 'Newsgroups' in entete.keys() else None,\n",
        "            Organization=entete['Organization'] if 'Organization' in entete.keys() else None,\n",
        "            Subject=entete['Subject'] if 'Subject' in entete.keys() else None,\n",
        "            Date=entete['Date'] if 'Date' in entete.keys() else None,\n",
        "            Lines=entete['Lines'] if 'Lines' in entete.keys() else None,\n",
        "            From=entete['From'] if 'From' in entete.keys() else None,\n",
        "\n",
        "            Contenu=x[1][1])\n",
        "  \n",
        "  return row\n",
        "\n",
        "rddF=fusion.map(ToRow)\n"
      ],
      "metadata": {
        "id": "DcArLax4vGn3"
      },
      "execution_count": null,
      "outputs": []
    },
    {
      "cell_type": "code",
      "source": [
        "rddF.take(2)"
      ],
      "metadata": {
        "id": "WMSB87g_x4DG",
        "colab": {
          "base_uri": "https://localhost:8080/"
        },
        "outputId": "9317622e-856d-415e-95f2-828af95d1a72"
      },
      "execution_count": null,
      "outputs": [
        {
          "output_type": "execute_result",
          "data": {
            "text/plain": [
              "[Row(Path='file:/content/20_newsgroups/alt.atheism/53179', Newsgroups=' alt.atheism', Organization=' California Institute of Technology, Pasadena', Subject=' Re: <<Pompous ass', Date=' 16 Apr 1993 02:45:05 GMT', Lines=' 28', From=' keith@cco.caltech.edu (Keith Allan Schneider)', Contenu='arromdee@jyusenkyou.cs.jhu.edu (Ken Arromdee) writes:'),\n",
              " Row(Path='file:/content/20_newsgroups/alt.atheism/54164', Newsgroups=' alt.atheism,alt.atheism.moderated,news.answers,alt.answers', Organization=' Mantis Consultants, Cambridge. UK.', Subject=' Alt.Atheism FAQ: Overview for New Readers', Date=' Mon, 26 Apr 1993 14:08:03 GMT', Lines=' 146', From=' mathew <mathew@mantis.co.uk>', Contenu='Archive-name: atheism/overview\\nAlt-atheism-archive-name: overview\\nLast-modified: 20 April 1993\\nVersion: 1.3')]"
            ]
          },
          "metadata": {},
          "execution_count": 28
        }
      ]
    },
    {
      "cell_type": "markdown",
      "source": [
        "### 3.8 Création d'unobjet de type DataFrame à partir du RDD fusionné"
      ],
      "metadata": {
        "id": "7OxFVFKbYNOt"
      }
    },
    {
      "cell_type": "code",
      "source": [
        "#Create dataframe spark\n",
        "df=spark.createDataFrame(rddF)\n",
        "df.printSchema()\n",
        "df.show()\n",
        "df.count()"
      ],
      "metadata": {
        "id": "jkNhg-JGyrsE",
        "colab": {
          "base_uri": "https://localhost:8080/"
        },
        "outputId": "57977a9e-09a7-4a79-a24a-9dcebb8cbf82"
      },
      "execution_count": null,
      "outputs": [
        {
          "output_type": "stream",
          "name": "stdout",
          "text": [
            "root\n",
            " |-- Path: string (nullable = true)\n",
            " |-- Newsgroups: string (nullable = true)\n",
            " |-- Organization: string (nullable = true)\n",
            " |-- Subject: string (nullable = true)\n",
            " |-- Date: string (nullable = true)\n",
            " |-- Lines: string (nullable = true)\n",
            " |-- From: string (nullable = true)\n",
            " |-- Contenu: string (nullable = true)\n",
            "\n",
            "+--------------------+--------------------+--------------------+--------------------+--------------------+-----+--------------------+--------------------+\n",
            "|                Path|          Newsgroups|        Organization|             Subject|                Date|Lines|                From|             Contenu|\n",
            "+--------------------+--------------------+--------------------+--------------------+--------------------+-----+--------------------+--------------------+\n",
            "|file:/content/20_...|         alt.atheism| California Insti...|   Re: <<Pompous ass| 16 Apr 1993 02:4...|   28| keith@cco.caltec...|arromdee@jyusenky...|\n",
            "|file:/content/20_...| alt.atheism,alt....| Mantis Consultan...| Alt.Atheism FAQ:...| Mon, 26 Apr 1993...|  146| mathew <mathew@m...|Archive-name: ath...|\n",
            "|file:/content/20_...|         alt.atheism| Technical Univer...| Re: Yet more Rus...| Wed, 21 Apr 1993...|   32| I3150101@dbstu1....|In article <11617...|\n",
            "|file:/content/20_...|         alt.atheism| IBM Advanced Wor...|  Re: some thoughts.| Wed, 21 Apr 1993...|   21| karner@austin.ib...|\\nIn article <199...|\n",
            "|file:/content/20_...|         alt.atheism|                AT&T|  Re: some thoughts.| Mon, 26 Apr 1993...|   26| decay@cbnewsj.cb...|In article <kmr4....|\n",
            "|file:/content/20_...|         alt.atheism| Technical Univer...|   Re: Biblical Rape| Tue, 6 Apr 1993 ...|   14| I3150101@dbstu1....|In article <1993A...|\n",
            "|file:/content/20_...|         alt.atheism| Cookamunga Touri...|  Re: some thoughts.| Thu, 15 Apr 1993...|   24| sandvik@newton.a...|In article <bissd...|\n",
            "|file:/content/20_...|         alt.atheism|                 sgi| Re: >>>>>>Pompou...| 6 Apr 93 00:36:0...|   20| livesey@solntze....|In article <1pi9b...|\n",
            "|file:/content/20_...| talk.abortion,al...| Decision Support...| Re: After 2000 y...| 22 Apr 1993 15:5...|   27| perry@dsinc.com ...|In article <1r39k...|\n",
            "|file:/content/20_...|         alt.atheism| ITC, Griffith Un...| Re: Societally a...| 21 Apr 93 00:54:...|   49| ednclark@kraken....|cobb@alexia.lis.u...|\n",
            "|file:/content/20_...|         alt.atheism| Simon Fraser Uni...| Re: Amusing athe...| Tue, 20 Apr 1993...|   11| nancyo@fraser.sf...|timmbake@mcl.ucsb...|\n",
            "|file:/content/20_...|         alt.atheism| DSG, Stanford Un...| Re: *** The list...| Tue, 6 Apr 93 00...|   26| cfairman@leland....|joslin@pogo.isp.p...|\n",
            "|file:/content/20_...| talk.abortion,al...| Mantis Consultan...| Re: After 2000 y...| Fri, 16 Apr 1993...|    8| mathew <mathew@m...|livesey@solntze.w...|\n",
            "|file:/content/20_...|         alt.atheism| Software Enginee...|   Re: Gospel Dating| Mon, 5 Apr 1993 ...|   33| dpw@sei.cmu.edu ...|                    |\n",
            "|file:/content/20_...| alt.atheism,talk...| University of Il...| Re: After 2000 y...| Fri, 16 Apr 1993...|   26| cobb@alexia.lis....|In <1qlapk$d7v@mo...|\n",
            "|file:/content/20_...|         alt.atheism| Mantis Consultan...| Re: <Political A...| Tue, 6 Apr 1993 ...|   22| mathew <mathew@m...|kmr4@po.CWRU.edu ...|\n",
            "|file:/content/20_...|         alt.atheism| Department of Co...| Re: Death Penalt...| 23 Apr 1993 11:1...|   18| aaron@minster.yo...|Mark McCullough (...|\n",
            "|file:/content/20_...| talk.abortion,al...|                 sgi| Re: After 2000 y...| 21 Apr 1993 05:2...|   74| livesey@solntze....|In article <1993A...|\n",
            "|file:/content/20_...|         alt.atheism|                null| Omnipotence (was...| 6 Apr 93 00:11:4...|   55| jbrown@batman.bm...|In article <29429...|\n",
            "|file:/content/20_...|         alt.atheism| Cookamunga Touri...|       Re: Nicknames| Mon, 19 Apr 1993...|   21| sandvik@newton.a...|In article <1993A...|\n",
            "+--------------------+--------------------+--------------------+--------------------+--------------------+-----+--------------------+--------------------+\n",
            "only showing top 20 rows\n",
            "\n"
          ]
        },
        {
          "output_type": "execute_result",
          "data": {
            "text/plain": [
              "2000"
            ]
          },
          "metadata": {},
          "execution_count": 29
        }
      ]
    },
    {
      "cell_type": "markdown",
      "source": [
        "### 3.9 Sauvegarde la DataFrame au format Avro"
      ],
      "metadata": {
        "id": "_ByCPIPHYd01"
      }
    },
    {
      "cell_type": "markdown",
      "source": [],
      "metadata": {
        "id": "_p1cLdoi18Sx"
      }
    },
    {
      "cell_type": "code",
      "source": [
        "!pip install pandavro"
      ],
      "metadata": {
        "id": "9j4F1Md60WZu",
        "colab": {
          "base_uri": "https://localhost:8080/"
        },
        "outputId": "d2bddeb5-7de9-45e6-d3b3-7461a5168330"
      },
      "execution_count": null,
      "outputs": [
        {
          "output_type": "stream",
          "name": "stdout",
          "text": [
            "Looking in indexes: https://pypi.org/simple, https://us-python.pkg.dev/colab-wheels/public/simple/\n",
            "Requirement already satisfied: pandavro in /usr/local/lib/python3.8/dist-packages (1.7.1)\n",
            "Requirement already satisfied: pandas>=1.1 in /usr/local/lib/python3.8/dist-packages (from pandavro) (1.3.5)\n",
            "Requirement already satisfied: numpy>=1.15.4 in /usr/local/lib/python3.8/dist-packages (from pandavro) (1.22.4)\n",
            "Requirement already satisfied: fastavro==1.5.1 in /usr/local/lib/python3.8/dist-packages (from pandavro) (1.5.1)\n",
            "Requirement already satisfied: pytz>=2017.3 in /usr/local/lib/python3.8/dist-packages (from pandas>=1.1->pandavro) (2022.7.1)\n",
            "Requirement already satisfied: python-dateutil>=2.7.3 in /usr/local/lib/python3.8/dist-packages (from pandas>=1.1->pandavro) (2.8.2)\n",
            "Requirement already satisfied: six>=1.5 in /usr/local/lib/python3.8/dist-packages (from python-dateutil>=2.7.3->pandas>=1.1->pandavro) (1.15.0)\n"
          ]
        }
      ]
    },
    {
      "cell_type": "code",
      "source": [
        "import numpy as np\n",
        "import pandas as pd\n",
        "import pandavro as pdx\n",
        "from pyspark.sql.avro.functions import from_avro, to_avro\n",
        "filename = \"df.avro\"\n",
        "# on a passé par le dataframe pandas mais ça envoie tout au driver\n",
        "df2=df.toPandas()\n",
        "pdx.to_avro(filename, df2)\n",
        "#df.write.partitionBy(\"Path\",).avro(\"output_dir\")\n",
        "#avroDf = df.select(to_avro(df.Path).alias(\"avro\"))\n",
        "#avroDf.collect()"
      ],
      "metadata": {
        "id": "t2smBRf61WTP"
      },
      "execution_count": null,
      "outputs": []
    },
    {
      "cell_type": "code",
      "source": [
        "#lecture du fichier avro créé\n",
        "saved = pdx.read_avro(filename)\n"
      ],
      "metadata": {
        "id": "45jc0cIg44-4"
      },
      "execution_count": null,
      "outputs": []
    },
    {
      "cell_type": "markdown",
      "source": [
        "### 3.10 Sauvegarder la DataFrame au format Parquet"
      ],
      "metadata": {
        "id": "SkHqZdwqYsFw"
      }
    },
    {
      "cell_type": "code",
      "source": [
        "# sauvgarder le dataframe au format parquet\n",
        "import pyarrow as pa\n",
        "import pyarrow.parquet as pq\n",
        "table = pa.Table.from_pandas(df2)\n",
        "pq.write_table(table, 'df.parquet')"
      ],
      "metadata": {
        "id": "ukrDrjxH4L0x"
      },
      "execution_count": null,
      "outputs": []
    },
    {
      "cell_type": "code",
      "source": [
        "# test: lecture du df a partir du fichier parquet\n",
        "table2 = pq.read_table('df.parquet')\n",
        "table2.to_pandas()"
      ],
      "metadata": {
        "id": "BVWBv2Tk4pRG",
        "colab": {
          "base_uri": "https://localhost:8080/",
          "height": 1000
        },
        "outputId": "c35a97a8-82fc-4d70-b8bb-ae8fc62c1afb"
      },
      "execution_count": null,
      "outputs": [
        {
          "output_type": "execute_result",
          "data": {
            "text/plain": [
              "                                                   Path  \\\n",
              "0         file:/content/20_newsgroups/alt.atheism/53179   \n",
              "1         file:/content/20_newsgroups/alt.atheism/54164   \n",
              "2         file:/content/20_newsgroups/alt.atheism/53589   \n",
              "3         file:/content/20_newsgroups/alt.atheism/53657   \n",
              "4         file:/content/20_newsgroups/alt.atheism/54137   \n",
              "...                                                 ...   \n",
              "1995  file:/content/20_newsgroups/rec.sport.baseball...   \n",
              "1996  file:/content/20_newsgroups/rec.sport.baseball...   \n",
              "1997  file:/content/20_newsgroups/rec.sport.baseball...   \n",
              "1998  file:/content/20_newsgroups/rec.sport.baseball...   \n",
              "1999  file:/content/20_newsgroups/rec.sport.baseball...   \n",
              "\n",
              "                                             Newsgroups  \\\n",
              "0                                           alt.atheism   \n",
              "1      alt.atheism,alt.atheism.moderated,news.answer...   \n",
              "2                                           alt.atheism   \n",
              "3                                           alt.atheism   \n",
              "4                                           alt.atheism   \n",
              "...                                                 ...   \n",
              "1995                                 rec.sport.baseball   \n",
              "1996                                 rec.sport.baseball   \n",
              "1997                                 rec.sport.baseball   \n",
              "1998                                 rec.sport.baseball   \n",
              "1999                                 rec.sport.baseball   \n",
              "\n",
              "                                           Organization  \\\n",
              "0          California Institute of Technology, Pasadena   \n",
              "1                    Mantis Consultants, Cambridge. UK.   \n",
              "2            Technical University Braunschweig, Germany   \n",
              "3                     IBM Advanced Workstation Division   \n",
              "4                                                  AT&T   \n",
              "...                                                 ...   \n",
              "1995                                  Informix Software   \n",
              "1996                    University of Colorado, Boulder   \n",
              "1997   Computer Science & Engineering, U. of Washing...   \n",
              "1998                                     Pomona College   \n",
              "1999   University of Notre Dame - Office of Univ. Co...   \n",
              "\n",
              "                                               Subject  \\\n",
              "0                                    Re: <<Pompous ass   \n",
              "1            Alt.Atheism FAQ: Overview for New Readers   \n",
              "2               Re: Yet more Rushdie [Re: ISLAMIC LAW]   \n",
              "3                                   Re: some thoughts.   \n",
              "4                                   Re: some thoughts.   \n",
              "...                                                ...   \n",
              "1995                        Seeking All Star game Info   \n",
              "1996   Re: Bosox go down in smoke II (Seattle 7-0) ...   \n",
              "1997                          Mea Culpa -- Bosio no-no   \n",
              "1998                               Dodgers newsletter?   \n",
              "1999                                    Re: NL vs. AL?   \n",
              "\n",
              "                                Date Lines  \\\n",
              "0           16 Apr 1993 02:45:05 GMT    28   \n",
              "1      Mon, 26 Apr 1993 14:08:03 GMT   146   \n",
              "2      Wed, 21 Apr 1993 11:41:07 GMT    32   \n",
              "3      Wed, 21 Apr 1993 15:46:14 GMT    21   \n",
              "4      Mon, 26 Apr 1993 13:28:52 GMT    26   \n",
              "...                              ...   ...   \n",
              "1995          20 Apr 93 17:00:45 GMT    10   \n",
              "1996   Fri, 23 Apr 1993 19:25:16 GMT    10   \n",
              "1997     Fri, 23 Apr 93 17:08:59 GMT    46   \n",
              "1998           6 Apr 93 02:03:00 GMT     3   \n",
              "1999   Wed, 14 Apr 1993 16:14:14 EST    23   \n",
              "\n",
              "                                                 From  \\\n",
              "0       keith@cco.caltech.edu (Keith Allan Schneider)   \n",
              "1                        mathew <mathew@mantis.co.uk>   \n",
              "2      I3150101@dbstu1.rz.tu-bs.de (Benedikt Rosenau)   \n",
              "3                   karner@austin.ibm.com (F. Karner)   \n",
              "4           decay@cbnewsj.cb.att.com (dean.kaflowitz)   \n",
              "...                                               ...   \n",
              "1995           mcole@miracle.informix.com (Mary Cole)   \n",
              "1996      franjion@spot.Colorado.EDU (John Franjione)   \n",
              "1997     barring@cs.washington.edu (David Barrington)   \n",
              "1998                   jaufrecht@pomona.claremont.edu   \n",
              "1999                         <RVESTERM@vma.cc.nd.edu>   \n",
              "\n",
              "                                                Contenu  \n",
              "0     arromdee@jyusenkyou.cs.jhu.edu (Ken Arromdee) ...  \n",
              "1     Archive-name: atheism/overview\\nAlt-atheism-ar...  \n",
              "2     In article <116172@bu.edu>\\njaeger@buphy.bu.ed...  \n",
              "3     \\nIn article <1993Apr20.195907.10765@mks.com>,...  \n",
              "4     In article <kmr4.1718.735827952@po.CWRU.edu>, ...  \n",
              "...                                                 ...  \n",
              "1995  \\nOK, OK, OK. First, my apologies for perhaps ...  \n",
              "1996      dietz@parody.Data-IO.COM (Kent Dietz) writes:  \n",
              "1997  Like Clinton and Reno, I accept full responsib...  \n",
              "1998  Could somebody please tell me if there is a Do...  \n",
              "1999  In article <1993Apr13.184311.16351@news.yale.e...  \n",
              "\n",
              "[2000 rows x 8 columns]"
            ],
            "text/html": [
              "\n",
              "  <div id=\"df-5a250910-135d-433a-aa5b-4778a3319566\">\n",
              "    <div class=\"colab-df-container\">\n",
              "      <div>\n",
              "<style scoped>\n",
              "    .dataframe tbody tr th:only-of-type {\n",
              "        vertical-align: middle;\n",
              "    }\n",
              "\n",
              "    .dataframe tbody tr th {\n",
              "        vertical-align: top;\n",
              "    }\n",
              "\n",
              "    .dataframe thead th {\n",
              "        text-align: right;\n",
              "    }\n",
              "</style>\n",
              "<table border=\"1\" class=\"dataframe\">\n",
              "  <thead>\n",
              "    <tr style=\"text-align: right;\">\n",
              "      <th></th>\n",
              "      <th>Path</th>\n",
              "      <th>Newsgroups</th>\n",
              "      <th>Organization</th>\n",
              "      <th>Subject</th>\n",
              "      <th>Date</th>\n",
              "      <th>Lines</th>\n",
              "      <th>From</th>\n",
              "      <th>Contenu</th>\n",
              "    </tr>\n",
              "  </thead>\n",
              "  <tbody>\n",
              "    <tr>\n",
              "      <th>0</th>\n",
              "      <td>file:/content/20_newsgroups/alt.atheism/53179</td>\n",
              "      <td>alt.atheism</td>\n",
              "      <td>California Institute of Technology, Pasadena</td>\n",
              "      <td>Re: &lt;&lt;Pompous ass</td>\n",
              "      <td>16 Apr 1993 02:45:05 GMT</td>\n",
              "      <td>28</td>\n",
              "      <td>keith@cco.caltech.edu (Keith Allan Schneider)</td>\n",
              "      <td>arromdee@jyusenkyou.cs.jhu.edu (Ken Arromdee) ...</td>\n",
              "    </tr>\n",
              "    <tr>\n",
              "      <th>1</th>\n",
              "      <td>file:/content/20_newsgroups/alt.atheism/54164</td>\n",
              "      <td>alt.atheism,alt.atheism.moderated,news.answer...</td>\n",
              "      <td>Mantis Consultants, Cambridge. UK.</td>\n",
              "      <td>Alt.Atheism FAQ: Overview for New Readers</td>\n",
              "      <td>Mon, 26 Apr 1993 14:08:03 GMT</td>\n",
              "      <td>146</td>\n",
              "      <td>mathew &lt;mathew@mantis.co.uk&gt;</td>\n",
              "      <td>Archive-name: atheism/overview\\nAlt-atheism-ar...</td>\n",
              "    </tr>\n",
              "    <tr>\n",
              "      <th>2</th>\n",
              "      <td>file:/content/20_newsgroups/alt.atheism/53589</td>\n",
              "      <td>alt.atheism</td>\n",
              "      <td>Technical University Braunschweig, Germany</td>\n",
              "      <td>Re: Yet more Rushdie [Re: ISLAMIC LAW]</td>\n",
              "      <td>Wed, 21 Apr 1993 11:41:07 GMT</td>\n",
              "      <td>32</td>\n",
              "      <td>I3150101@dbstu1.rz.tu-bs.de (Benedikt Rosenau)</td>\n",
              "      <td>In article &lt;116172@bu.edu&gt;\\njaeger@buphy.bu.ed...</td>\n",
              "    </tr>\n",
              "    <tr>\n",
              "      <th>3</th>\n",
              "      <td>file:/content/20_newsgroups/alt.atheism/53657</td>\n",
              "      <td>alt.atheism</td>\n",
              "      <td>IBM Advanced Workstation Division</td>\n",
              "      <td>Re: some thoughts.</td>\n",
              "      <td>Wed, 21 Apr 1993 15:46:14 GMT</td>\n",
              "      <td>21</td>\n",
              "      <td>karner@austin.ibm.com (F. Karner)</td>\n",
              "      <td>\\nIn article &lt;1993Apr20.195907.10765@mks.com&gt;,...</td>\n",
              "    </tr>\n",
              "    <tr>\n",
              "      <th>4</th>\n",
              "      <td>file:/content/20_newsgroups/alt.atheism/54137</td>\n",
              "      <td>alt.atheism</td>\n",
              "      <td>AT&amp;T</td>\n",
              "      <td>Re: some thoughts.</td>\n",
              "      <td>Mon, 26 Apr 1993 13:28:52 GMT</td>\n",
              "      <td>26</td>\n",
              "      <td>decay@cbnewsj.cb.att.com (dean.kaflowitz)</td>\n",
              "      <td>In article &lt;kmr4.1718.735827952@po.CWRU.edu&gt;, ...</td>\n",
              "    </tr>\n",
              "    <tr>\n",
              "      <th>...</th>\n",
              "      <td>...</td>\n",
              "      <td>...</td>\n",
              "      <td>...</td>\n",
              "      <td>...</td>\n",
              "      <td>...</td>\n",
              "      <td>...</td>\n",
              "      <td>...</td>\n",
              "      <td>...</td>\n",
              "    </tr>\n",
              "    <tr>\n",
              "      <th>1995</th>\n",
              "      <td>file:/content/20_newsgroups/rec.sport.baseball...</td>\n",
              "      <td>rec.sport.baseball</td>\n",
              "      <td>Informix Software</td>\n",
              "      <td>Seeking All Star game Info</td>\n",
              "      <td>20 Apr 93 17:00:45 GMT</td>\n",
              "      <td>10</td>\n",
              "      <td>mcole@miracle.informix.com (Mary Cole)</td>\n",
              "      <td>\\nOK, OK, OK. First, my apologies for perhaps ...</td>\n",
              "    </tr>\n",
              "    <tr>\n",
              "      <th>1996</th>\n",
              "      <td>file:/content/20_newsgroups/rec.sport.baseball...</td>\n",
              "      <td>rec.sport.baseball</td>\n",
              "      <td>University of Colorado, Boulder</td>\n",
              "      <td>Re: Bosox go down in smoke II (Seattle 7-0) ...</td>\n",
              "      <td>Fri, 23 Apr 1993 19:25:16 GMT</td>\n",
              "      <td>10</td>\n",
              "      <td>franjion@spot.Colorado.EDU (John Franjione)</td>\n",
              "      <td>dietz@parody.Data-IO.COM (Kent Dietz) writes:</td>\n",
              "    </tr>\n",
              "    <tr>\n",
              "      <th>1997</th>\n",
              "      <td>file:/content/20_newsgroups/rec.sport.baseball...</td>\n",
              "      <td>rec.sport.baseball</td>\n",
              "      <td>Computer Science &amp; Engineering, U. of Washing...</td>\n",
              "      <td>Mea Culpa -- Bosio no-no</td>\n",
              "      <td>Fri, 23 Apr 93 17:08:59 GMT</td>\n",
              "      <td>46</td>\n",
              "      <td>barring@cs.washington.edu (David Barrington)</td>\n",
              "      <td>Like Clinton and Reno, I accept full responsib...</td>\n",
              "    </tr>\n",
              "    <tr>\n",
              "      <th>1998</th>\n",
              "      <td>file:/content/20_newsgroups/rec.sport.baseball...</td>\n",
              "      <td>rec.sport.baseball</td>\n",
              "      <td>Pomona College</td>\n",
              "      <td>Dodgers newsletter?</td>\n",
              "      <td>6 Apr 93 02:03:00 GMT</td>\n",
              "      <td>3</td>\n",
              "      <td>jaufrecht@pomona.claremont.edu</td>\n",
              "      <td>Could somebody please tell me if there is a Do...</td>\n",
              "    </tr>\n",
              "    <tr>\n",
              "      <th>1999</th>\n",
              "      <td>file:/content/20_newsgroups/rec.sport.baseball...</td>\n",
              "      <td>rec.sport.baseball</td>\n",
              "      <td>University of Notre Dame - Office of Univ. Co...</td>\n",
              "      <td>Re: NL vs. AL?</td>\n",
              "      <td>Wed, 14 Apr 1993 16:14:14 EST</td>\n",
              "      <td>23</td>\n",
              "      <td>&lt;RVESTERM@vma.cc.nd.edu&gt;</td>\n",
              "      <td>In article &lt;1993Apr13.184311.16351@news.yale.e...</td>\n",
              "    </tr>\n",
              "  </tbody>\n",
              "</table>\n",
              "<p>2000 rows × 8 columns</p>\n",
              "</div>\n",
              "      <button class=\"colab-df-convert\" onclick=\"convertToInteractive('df-5a250910-135d-433a-aa5b-4778a3319566')\"\n",
              "              title=\"Convert this dataframe to an interactive table.\"\n",
              "              style=\"display:none;\">\n",
              "        \n",
              "  <svg xmlns=\"http://www.w3.org/2000/svg\" height=\"24px\"viewBox=\"0 0 24 24\"\n",
              "       width=\"24px\">\n",
              "    <path d=\"M0 0h24v24H0V0z\" fill=\"none\"/>\n",
              "    <path d=\"M18.56 5.44l.94 2.06.94-2.06 2.06-.94-2.06-.94-.94-2.06-.94 2.06-2.06.94zm-11 1L8.5 8.5l.94-2.06 2.06-.94-2.06-.94L8.5 2.5l-.94 2.06-2.06.94zm10 10l.94 2.06.94-2.06 2.06-.94-2.06-.94-.94-2.06-.94 2.06-2.06.94z\"/><path d=\"M17.41 7.96l-1.37-1.37c-.4-.4-.92-.59-1.43-.59-.52 0-1.04.2-1.43.59L10.3 9.45l-7.72 7.72c-.78.78-.78 2.05 0 2.83L4 21.41c.39.39.9.59 1.41.59.51 0 1.02-.2 1.41-.59l7.78-7.78 2.81-2.81c.8-.78.8-2.07 0-2.86zM5.41 20L4 18.59l7.72-7.72 1.47 1.35L5.41 20z\"/>\n",
              "  </svg>\n",
              "      </button>\n",
              "      \n",
              "  <style>\n",
              "    .colab-df-container {\n",
              "      display:flex;\n",
              "      flex-wrap:wrap;\n",
              "      gap: 12px;\n",
              "    }\n",
              "\n",
              "    .colab-df-convert {\n",
              "      background-color: #E8F0FE;\n",
              "      border: none;\n",
              "      border-radius: 50%;\n",
              "      cursor: pointer;\n",
              "      display: none;\n",
              "      fill: #1967D2;\n",
              "      height: 32px;\n",
              "      padding: 0 0 0 0;\n",
              "      width: 32px;\n",
              "    }\n",
              "\n",
              "    .colab-df-convert:hover {\n",
              "      background-color: #E2EBFA;\n",
              "      box-shadow: 0px 1px 2px rgba(60, 64, 67, 0.3), 0px 1px 3px 1px rgba(60, 64, 67, 0.15);\n",
              "      fill: #174EA6;\n",
              "    }\n",
              "\n",
              "    [theme=dark] .colab-df-convert {\n",
              "      background-color: #3B4455;\n",
              "      fill: #D2E3FC;\n",
              "    }\n",
              "\n",
              "    [theme=dark] .colab-df-convert:hover {\n",
              "      background-color: #434B5C;\n",
              "      box-shadow: 0px 1px 3px 1px rgba(0, 0, 0, 0.15);\n",
              "      filter: drop-shadow(0px 1px 2px rgba(0, 0, 0, 0.3));\n",
              "      fill: #FFFFFF;\n",
              "    }\n",
              "  </style>\n",
              "\n",
              "      <script>\n",
              "        const buttonEl =\n",
              "          document.querySelector('#df-5a250910-135d-433a-aa5b-4778a3319566 button.colab-df-convert');\n",
              "        buttonEl.style.display =\n",
              "          google.colab.kernel.accessAllowed ? 'block' : 'none';\n",
              "\n",
              "        async function convertToInteractive(key) {\n",
              "          const element = document.querySelector('#df-5a250910-135d-433a-aa5b-4778a3319566');\n",
              "          const dataTable =\n",
              "            await google.colab.kernel.invokeFunction('convertToInteractive',\n",
              "                                                     [key], {});\n",
              "          if (!dataTable) return;\n",
              "\n",
              "          const docLinkHtml = 'Like what you see? Visit the ' +\n",
              "            '<a target=\"_blank\" href=https://colab.research.google.com/notebooks/data_table.ipynb>data table notebook</a>'\n",
              "            + ' to learn more about interactive tables.';\n",
              "          element.innerHTML = '';\n",
              "          dataTable['output_type'] = 'display_data';\n",
              "          await google.colab.output.renderOutput(dataTable, element);\n",
              "          const docLink = document.createElement('div');\n",
              "          docLink.innerHTML = docLinkHtml;\n",
              "          element.appendChild(docLink);\n",
              "        }\n",
              "      </script>\n",
              "    </div>\n",
              "  </div>\n",
              "  "
            ]
          },
          "metadata": {},
          "execution_count": 41
        }
      ]
    },
    {
      "cell_type": "markdown",
      "source": [
        "## 4 Analyse descriptive API SPARK SQL"
      ],
      "metadata": {
        "id": "I2y9zdHaY_2T"
      }
    },
    {
      "cell_type": "markdown",
      "source": [
        "### 4.1 Vérification de deux catégories différentes de documents"
      ],
      "metadata": {
        "id": "Dx2QZTJ9ZdpN"
      }
    },
    {
      "cell_type": "code",
      "source": [
        "# le nombre de documents par Newsgroups\n",
        "df.groupBy(\"Newsgroups\").count().show()"
      ],
      "metadata": {
        "id": "7hpRl_hC6xaT",
        "colab": {
          "base_uri": "https://localhost:8080/"
        },
        "outputId": "3b3ed0df-5a66-47d6-88ff-4a4a09a115d8"
      },
      "execution_count": null,
      "outputs": [
        {
          "output_type": "stream",
          "name": "stdout",
          "text": [
            "+--------------------+-----+\n",
            "|          Newsgroups|count|\n",
            "+--------------------+-----+\n",
            "| talk.religion.mi...|    2|\n",
            "| sci.skeptic,alt....|    7|\n",
            "| alt.atheism,soc....|    1|\n",
            "| alt.atheism,rec....|    3|\n",
            "| alt.atheism,talk...|   92|\n",
            "| rec.scouting,soc...|    1|\n",
            "| soc.culture.arab...|    2|\n",
            "| alt.atheism,talk...|    5|\n",
            "| alt.drugs,alt.at...|    2|\n",
            "| alt.atheism,alt....|    1|\n",
            "| alt.atheism,talk...|    1|\n",
            "| alt.atheism,talk...|    2|\n",
            "| alt.atheism,soc....|    8|\n",
            "|         alt.atheism|  734|\n",
            "| alt.atheism,alt....|    7|\n",
            "| alt.atheism,talk...|   20|\n",
            "| alt.slack,talk.r...|    1|\n",
            "| talk.religion.mi...|    4|\n",
            "| talk.abortion,al...|   94|\n",
            "| alt.atheism,soc....|    2|\n",
            "+--------------------+-----+\n",
            "only showing top 20 rows\n",
            "\n"
          ]
        }
      ]
    },
    {
      "cell_type": "markdown",
      "source": [
        "On remarque que le champ Newsgroups peut contenir des éléments en plus des deux catégories principales \"alt.atheism\" ou \"rec.sport.baseball\".\n",
        "\n",
        "Pour vérifier qu'on a bien ces deux catégories principales différentes, nous allons créer deux vues: \n",
        "\n",
        "* Une vue `sport` qui contient toutes les lignes ou `rec.sport.baseball` apparait.\n",
        "* Une vue `religion` qui contient toutes les lignes ou `alt.atheism` apparait.\n",
        "\n",
        "Puis nous allons compter le nombre d'éléments dans chaque liste, en plus de voir si l'intersectiondes deux vues est vide ou pas.\n",
        "\n",
        "Si l'intersection est vide, et que la somme des éléments des deux vues est égales au nombre total des éléments de la fusion, cela veut dire que les documents sont bien separés par deux catégories principales  \"alt.atheism\" et \"rec.sport.baseball\"."
      ],
      "metadata": {
        "id": "-hLXilk-4ROA"
      }
    },
    {
      "cell_type": "code",
      "source": [
        "# Mettre le dataframe dans une table sql (Document)\n",
        "\n",
        "from pandas._libs.hashtable import value_count\n",
        "df.createOrReplaceTempView(\"Document\")"
      ],
      "metadata": {
        "id": "B4I4EBSRJAML"
      },
      "execution_count": null,
      "outputs": []
    },
    {
      "cell_type": "code",
      "source": [
        "#Si les vues sont déja crées\n",
        "#spark.sql(\"DROP VIEW sport\")\n",
        "#spark.sql(\"DROP VIEW religion\")"
      ],
      "metadata": {
        "id": "q_Ba_aJ3ddv7"
      },
      "execution_count": null,
      "outputs": []
    },
    {
      "cell_type": "code",
      "source": [
        "# Création d'une vue (sport) contennat tous les document de catégorie rec.sport.baseball\n",
        "sqlDF = spark.sql(\"CREATE TEMP VIEW sport AS SELECT Newsgroups FROM Document WHERE Newsgroups LIKE '%rec.sport.baseball%'\")"
      ],
      "metadata": {
        "id": "w-BQb23nnvFN",
        "colab": {
          "base_uri": "https://localhost:8080/"
        },
        "outputId": "8474a246-5330-4e47-ebcb-1e18e8719148"
      },
      "execution_count": null,
      "outputs": [
        {
          "output_type": "stream",
          "name": "stdout",
          "text": [
            "++\n",
            "||\n",
            "++\n",
            "++\n",
            "\n"
          ]
        }
      ]
    },
    {
      "cell_type": "code",
      "source": [
        "# Création d'une vue (religion) contennat tous les document de catégorie alt.atheism\n",
        "sqlDF = spark.sql(\"CREATE TEMP VIEW religion AS SELECT Newsgroups FROM Document WHERE Newsgroups LIKE '%alt.atheism%'\")"
      ],
      "metadata": {
        "id": "PidZcL3QcW1I",
        "colab": {
          "base_uri": "https://localhost:8080/"
        },
        "outputId": "a7d3647b-1ce8-4acf-ebcb-274c44c2a084"
      },
      "execution_count": null,
      "outputs": [
        {
          "output_type": "stream",
          "name": "stdout",
          "text": [
            "++\n",
            "||\n",
            "++\n",
            "++\n",
            "\n"
          ]
        }
      ]
    },
    {
      "cell_type": "code",
      "source": [
        "# affichage la vue Sport\n",
        "sqlDF2 = spark.sql(\"SELECT * FROM sport\")\n",
        "sqlDF2.show()"
      ],
      "metadata": {
        "id": "nu-RhzMfapKw",
        "colab": {
          "base_uri": "https://localhost:8080/"
        },
        "outputId": "5aa4d214-0fff-44bc-e22c-82faf8e4c0c5"
      },
      "execution_count": null,
      "outputs": [
        {
          "output_type": "stream",
          "name": "stdout",
          "text": [
            "+-------------------+\n",
            "|         Newsgroups|\n",
            "+-------------------+\n",
            "| rec.sport.baseball|\n",
            "| rec.sport.baseball|\n",
            "| rec.sport.baseball|\n",
            "| rec.sport.baseball|\n",
            "| rec.sport.baseball|\n",
            "| rec.sport.baseball|\n",
            "| rec.sport.baseball|\n",
            "| rec.sport.baseball|\n",
            "| rec.sport.baseball|\n",
            "| rec.sport.baseball|\n",
            "| rec.sport.baseball|\n",
            "| rec.sport.baseball|\n",
            "| rec.sport.baseball|\n",
            "| rec.sport.baseball|\n",
            "| rec.sport.baseball|\n",
            "| rec.sport.baseball|\n",
            "| rec.sport.baseball|\n",
            "| rec.sport.baseball|\n",
            "| rec.sport.baseball|\n",
            "| rec.sport.baseball|\n",
            "+-------------------+\n",
            "only showing top 20 rows\n",
            "\n"
          ]
        }
      ]
    },
    {
      "cell_type": "code",
      "source": [
        "# Affichage la vue religion\n",
        "sqlDF3 = spark.sql(\"SELECT * FROM religion\")\n",
        "sqlDF3.show()"
      ],
      "metadata": {
        "colab": {
          "base_uri": "https://localhost:8080/"
        },
        "id": "apuqW9XR0gNw",
        "outputId": "4b760a64-b38e-4566-9d7e-94f3eefcf114"
      },
      "execution_count": null,
      "outputs": [
        {
          "output_type": "stream",
          "name": "stdout",
          "text": [
            "+--------------------+\n",
            "|          Newsgroups|\n",
            "+--------------------+\n",
            "|         alt.atheism|\n",
            "| alt.atheism,alt....|\n",
            "|         alt.atheism|\n",
            "|         alt.atheism|\n",
            "|         alt.atheism|\n",
            "|         alt.atheism|\n",
            "|         alt.atheism|\n",
            "|         alt.atheism|\n",
            "| talk.abortion,al...|\n",
            "|         alt.atheism|\n",
            "|         alt.atheism|\n",
            "|         alt.atheism|\n",
            "| talk.abortion,al...|\n",
            "|         alt.atheism|\n",
            "| alt.atheism,talk...|\n",
            "|         alt.atheism|\n",
            "|         alt.atheism|\n",
            "| talk.abortion,al...|\n",
            "|         alt.atheism|\n",
            "|         alt.atheism|\n",
            "+--------------------+\n",
            "only showing top 20 rows\n",
            "\n"
          ]
        }
      ]
    },
    {
      "cell_type": "code",
      "source": [
        "# le nombre de documents dont la categorie contient rec_baseball\n",
        "sqlDF3 = spark.sql(\"SELECT count(s.Newsgroups) as nbr_rec_baseball FROM sport s \")\n",
        "sqlDF3.show()"
      ],
      "metadata": {
        "id": "OAUHkV1ne0-O",
        "colab": {
          "base_uri": "https://localhost:8080/"
        },
        "outputId": "45de2b9c-0ecf-48df-884e-9bf7c2c36178"
      },
      "execution_count": null,
      "outputs": [
        {
          "output_type": "stream",
          "name": "stdout",
          "text": [
            "+----------------+\n",
            "|nbr_rec_baseball|\n",
            "+----------------+\n",
            "|            1000|\n",
            "+----------------+\n",
            "\n"
          ]
        }
      ]
    },
    {
      "cell_type": "code",
      "source": [
        "# le nombre de documents dont la categorie contient alt.atheism\n",
        "sqlDF3 = spark.sql(\"SELECT count(Newsgroups) as nb_alt_atheism FROM religion\")\n",
        "sqlDF3.show()\n",
        " "
      ],
      "metadata": {
        "id": "y1Ks8dqpgrFN",
        "colab": {
          "base_uri": "https://localhost:8080/"
        },
        "outputId": "a417b6b7-8953-40ab-f060-7e980a63c0d9"
      },
      "execution_count": null,
      "outputs": [
        {
          "output_type": "stream",
          "name": "stdout",
          "text": [
            "+--------------+\n",
            "|nb_alt_atheism|\n",
            "+--------------+\n",
            "|          1000|\n",
            "+--------------+\n",
            "\n"
          ]
        }
      ]
    },
    {
      "cell_type": "code",
      "source": [
        "# Pour prouver qu'il n'y a pas d'intersection entre les deux catégories \n",
        "# de plus on a 1000 lignes dans la vue religion et 1000 dans la vue religion\n",
        "#(en sachant que le nombre total des lignes dans la table document est de 2000)\n",
        "sqlDF3 = spark.sql(\"SELECT * FROM religion INTERSECT (SELECT * FROM sport) \")\n",
        "sqlDF3.show()"
      ],
      "metadata": {
        "id": "t2Ef-PVLcvUj",
        "colab": {
          "base_uri": "https://localhost:8080/"
        },
        "outputId": "0ac69a77-0ae5-41ba-c0f9-3caddb84c34f"
      },
      "execution_count": null,
      "outputs": [
        {
          "output_type": "stream",
          "name": "stdout",
          "text": [
            "+----------+\n",
            "|Newsgroups|\n",
            "+----------+\n",
            "+----------+\n",
            "\n"
          ]
        }
      ]
    },
    {
      "cell_type": "markdown",
      "source": [
        "**Conclusion:** on a bien deux catégories différentes de documents"
      ],
      "metadata": {
        "id": "SO3ky_686HRK"
      }
    },
    {
      "cell_type": "markdown",
      "source": [
        "### 4.2 le nombre d'organisations différentes"
      ],
      "metadata": {
        "id": "U7nR0HplZqua"
      }
    },
    {
      "cell_type": "code",
      "source": [
        "#le nombre d'organisations différentes\n",
        "from pyspark.sql.functions import countDistinct\n",
        "df2=df.select(countDistinct(\"Organization\"))\n",
        "df2.show()"
      ],
      "metadata": {
        "id": "sBrfqeMXhbPv",
        "colab": {
          "base_uri": "https://localhost:8080/"
        },
        "outputId": "c76b6cf7-e26f-474f-d267-d39e37bde93c"
      },
      "execution_count": null,
      "outputs": [
        {
          "output_type": "stream",
          "name": "stdout",
          "text": [
            "+----------------------------+\n",
            "|count(DISTINCT Organization)|\n",
            "+----------------------------+\n",
            "|                         485|\n",
            "+----------------------------+\n",
            "\n"
          ]
        }
      ]
    },
    {
      "cell_type": "markdown",
      "source": [
        "### 4.3 D’autres statistiques descriptives"
      ],
      "metadata": {
        "id": "1UCqke2mZ0H8"
      }
    },
    {
      "cell_type": "markdown",
      "source": [
        "Max, Min , Moyenne par rapport a l'attribut Lines"
      ],
      "metadata": {
        "id": "BOdoHH4j6ai_"
      }
    },
    {
      "cell_type": "code",
      "source": [
        "df.describe(\"Lines\").show()"
      ],
      "metadata": {
        "id": "JYV_xrQNjD80",
        "colab": {
          "base_uri": "https://localhost:8080/"
        },
        "outputId": "77308ab1-38e1-4284-aa3e-ccba3ffbb4bd"
      },
      "execution_count": null,
      "outputs": [
        {
          "output_type": "stream",
          "name": "stdout",
          "text": [
            "+-------+-----------------+\n",
            "|summary|            Lines|\n",
            "+-------+-----------------+\n",
            "|  count|             1994|\n",
            "|   mean|36.48294884653962|\n",
            "| stddev|48.79137273450092|\n",
            "|    min|                1|\n",
            "|    max|               99|\n",
            "+-------+-----------------+\n",
            "\n"
          ]
        }
      ]
    },
    {
      "cell_type": "markdown",
      "source": [
        "Le nombre de documents par organization"
      ],
      "metadata": {
        "id": "a6afe-ID6dxZ"
      }
    },
    {
      "cell_type": "code",
      "source": [
        "df.groupBy(\"Organization\").count().show()"
      ],
      "metadata": {
        "id": "sHfV1q3gkOt3",
        "colab": {
          "base_uri": "https://localhost:8080/"
        },
        "outputId": "c516c488-cccb-4b7b-9e81-3ba47688facc"
      },
      "execution_count": null,
      "outputs": [
        {
          "output_type": "stream",
          "name": "stdout",
          "text": [
            "+--------------------+-----+\n",
            "|        Organization|count|\n",
            "+--------------------+-----+\n",
            "|           SunSelect|    2|\n",
            "| NASA Goddard Spa...|    2|\n",
            "| Case Western Res...|   39|\n",
            "| Princeton Univer...|   24|\n",
            "| University of Ne...|    2|\n",
            "| S-CUBED, A Divis...|    1|\n",
            "| Harlequin Ltd. C...|    1|\n",
            "| IBM T.J. Watson ...|    1|\n",
            "| Penn State Engin...|    1|\n",
            "|   Cured, discharged|    3|\n",
            "| University of Ne...|    7|\n",
            "| National Optical...|    2|\n",
            "| Dept. of Electro...|    1|\n",
            "| Cabletron System...|    6|\n",
            "| Welch Medical Li...|    2|\n",
            "| Johns Hopkins Un...|    7|\n",
            "|  Indiana University|   17|\n",
            "| Okcforum Unix Us...|   32|\n",
            "| Wesleyan University|    7|\n",
            "| Tektronix, Inc.,...|   11|\n",
            "+--------------------+-----+\n",
            "only showing top 20 rows\n",
            "\n"
          ]
        }
      ]
    },
    {
      "cell_type": "markdown",
      "source": [
        "Le nombre de documents qui ont été créés pour chaque auteur"
      ],
      "metadata": {
        "id": "l3GPYGJe6hFT"
      }
    },
    {
      "cell_type": "code",
      "source": [
        "df.groupBy(\"FROM\").count().show()"
      ],
      "metadata": {
        "id": "-E-v5GPmoOgg",
        "colab": {
          "base_uri": "https://localhost:8080/"
        },
        "outputId": "14ea014a-e636-4015-c145-66afd4ffd193"
      },
      "execution_count": null,
      "outputs": [
        {
          "output_type": "stream",
          "name": "stdout",
          "text": [
            "+--------------------+-----+\n",
            "|                FROM|count|\n",
            "+--------------------+-----+\n",
            "| dpw@sei.cmu.edu ...|    4|\n",
            "| mccullou@snake2....|    6|\n",
            "| livesey@solntze....|   70|\n",
            "| darice@yoyo.cc.m...|   14|\n",
            "| kax@cs.nott.ac.u...|    2|\n",
            "| cust_ts@klaava.H...|    2|\n",
            "| acooper@mac.cc.m...|    4|\n",
            "| pzimmerm@mail.sa...|    1|\n",
            "| \"James F. Tims\" ...|    1|\n",
            "| kutluk@ccl.umist...|    1|\n",
            "| <MVS104@psuvm.ps...|    1|\n",
            "| halat@pooh.bears...|   15|\n",
            "| davec@silicon.cs...|    1|\n",
            "| magney@cco.calte...|    1|\n",
            "| nancyo@shnext15....|    1|\n",
            "| David O Hunt <bl...|    1|\n",
            "| mikec@sail.LABS....|    2|\n",
            "| sbradley@scic.in...|    2|\n",
            "| dewey@risc.sps.m...|    3|\n",
            "| adpeters@sunflow...|    3|\n",
            "+--------------------+-----+\n",
            "only showing top 20 rows\n",
            "\n"
          ]
        }
      ]
    },
    {
      "cell_type": "markdown",
      "source": [
        "##5.A. Transformation de texte : Tout le document\n",
        "Dans ce qui suit, nous allons créer un nouvel RDD de type pyspark.sql.Row puis un dataframe qui a une seule colonne contenant tout le document. Ceci est pour faire un premier test sur l'algorithme KMeans.\n"
      ],
      "metadata": {
        "id": "7AZiuZ0y0sv3"
      }
    },
    {
      "cell_type": "code",
      "source": [
        "def ToRow_all_document(x):\n",
        "  entete=x[1][0]\n",
        "  val=\" \".join(entete.values())\n",
        "\n",
        "  row = Row(document=val+x[1][1])\n",
        "  return row\n",
        "\n",
        "all_document=fusion.map(ToRow_all_document)"
      ],
      "metadata": {
        "id": "lye_X9uCv9AJ"
      },
      "execution_count": null,
      "outputs": []
    },
    {
      "cell_type": "code",
      "source": [
        "# create spark dataframe contenant tout le document\n",
        "all_document_df=spark.createDataFrame(all_document)\n",
        "all_document_df.printSchema()"
      ],
      "metadata": {
        "colab": {
          "base_uri": "https://localhost:8080/"
        },
        "id": "pZP0R_NlxVK_",
        "outputId": "3e430b1c-f8d1-4271-8b11-bc4201a5f7ab"
      },
      "execution_count": null,
      "outputs": [
        {
          "output_type": "stream",
          "name": "stdout",
          "text": [
            "root\n",
            " |-- document: string (nullable = true)\n",
            "\n"
          ]
        }
      ]
    },
    {
      "cell_type": "code",
      "source": [
        "#Transformation du Texte\n",
        "from pyspark.ml.feature import HashingTF, IDF, Tokenizer"
      ],
      "metadata": {
        "id": "5ypsFYwSwBQt"
      },
      "execution_count": null,
      "outputs": []
    },
    {
      "cell_type": "markdown",
      "source": [
        "###5.A.2 Découpage les documents en listes de mots à l’aide de Tokenizer"
      ],
      "metadata": {
        "id": "28pgScGqaCbV"
      }
    },
    {
      "cell_type": "code",
      "source": [
        "tokenizer = Tokenizer(inputCol=\"document\", outputCol=\"words\")\n",
        "#d=df.select(\"Contenu\")\n",
        "wordsData = tokenizer.transform(all_document_df)\n",
        "wordsData.show()"
      ],
      "metadata": {
        "id": "UK5E3PKY1PWk",
        "colab": {
          "base_uri": "https://localhost:8080/"
        },
        "outputId": "c38e35ed-c656-4e9e-bc1b-ec5fea0c8217"
      },
      "execution_count": null,
      "outputs": [
        {
          "output_type": "stream",
          "name": "stdout",
          "text": [
            "+--------------------+--------------------+\n",
            "|            document|               words|\n",
            "+--------------------+--------------------+\n",
            "| cantaloupe.srv.c...|[, cantaloupe.srv...|\n",
            "| cantaloupe.srv.c...|[, cantaloupe.srv...|\n",
            "| alt.atheism  can...|[, alt.atheism, ,...|\n",
            "| alt.atheism  can...|[, alt.atheism, ,...|\n",
            "| alt.atheism  can...|[, alt.atheism, ,...|\n",
            "| alt.atheism  can...|[, alt.atheism, ,...|\n",
            "| alt.atheism  can...|[, alt.atheism, ,...|\n",
            "| cantaloupe.srv.c...|[, cantaloupe.srv...|\n",
            "| cantaloupe.srv.c...|[, cantaloupe.srv...|\n",
            "| alt.atheism  can...|[, alt.atheism, ,...|\n",
            "| alt.atheism  can...|[, alt.atheism, ,...|\n",
            "| alt.atheism  can...|[, alt.atheism, ,...|\n",
            "| cantaloupe.srv.c...|[, cantaloupe.srv...|\n",
            "| alt.atheism  can...|[, alt.atheism, ,...|\n",
            "| cantaloupe.srv.c...|[, cantaloupe.srv...|\n",
            "| cantaloupe.srv.c...|[, cantaloupe.srv...|\n",
            "| cantaloupe.srv.c...|[, cantaloupe.srv...|\n",
            "| cantaloupe.srv.c...|[, cantaloupe.srv...|\n",
            "| cantaloupe.srv.c...|[, cantaloupe.srv...|\n",
            "| alt.atheism  can...|[, alt.atheism, ,...|\n",
            "+--------------------+--------------------+\n",
            "only showing top 20 rows\n",
            "\n"
          ]
        }
      ]
    },
    {
      "cell_type": "markdown",
      "source": [
        "###5.A.3 Création d'une représentation vectorielle des documents à l’aide de HashingTF"
      ],
      "metadata": {
        "id": "GuOk1oW9aHEe"
      }
    },
    {
      "cell_type": "code",
      "source": [
        "#Création d'une représentation vectorielle des documents à l’aide de HashingTF\n",
        "hashingTF = HashingTF(inputCol=\"words\", outputCol=\"features_hache\", numFeatures=20)\n",
        "featurizedData = hashingTF.transform(wordsData)\n",
        "featurizedData.show()"
      ],
      "metadata": {
        "id": "AN7U4yd4-noE",
        "colab": {
          "base_uri": "https://localhost:8080/"
        },
        "outputId": "8add59b9-d386-42d9-d2a9-5d764cf90371"
      },
      "execution_count": null,
      "outputs": [
        {
          "output_type": "stream",
          "name": "stdout",
          "text": [
            "+--------------------+--------------------+--------------------+\n",
            "|            document|               words|      features_hache|\n",
            "+--------------------+--------------------+--------------------+\n",
            "| cantaloupe.srv.c...|[, cantaloupe.srv...|(20,[0,1,2,3,5,6,...|\n",
            "| cantaloupe.srv.c...|[, cantaloupe.srv...|(20,[0,2,3,4,5,6,...|\n",
            "| alt.atheism  can...|[, alt.atheism, ,...|(20,[0,1,2,3,4,5,...|\n",
            "| alt.atheism  can...|[, alt.atheism, ,...|(20,[0,1,2,3,4,5,...|\n",
            "| alt.atheism  can...|[, alt.atheism, ,...|(20,[0,1,2,3,4,5,...|\n",
            "| alt.atheism  can...|[, alt.atheism, ,...|(20,[0,1,2,3,4,5,...|\n",
            "| alt.atheism  can...|[, alt.atheism, ,...|(20,[0,1,2,3,4,5,...|\n",
            "| cantaloupe.srv.c...|[, cantaloupe.srv...|(20,[0,1,2,3,4,5,...|\n",
            "| cantaloupe.srv.c...|[, cantaloupe.srv...|(20,[0,1,2,3,4,5,...|\n",
            "| alt.atheism  can...|[, alt.atheism, ,...|(20,[1,2,4,5,6,7,...|\n",
            "| alt.atheism  can...|[, alt.atheism, ,...|(20,[0,1,2,4,5,6,...|\n",
            "| alt.atheism  can...|[, alt.atheism, ,...|(20,[0,1,2,4,5,6,...|\n",
            "| cantaloupe.srv.c...|[, cantaloupe.srv...|(20,[0,1,2,3,4,5,...|\n",
            "| alt.atheism  can...|[, alt.atheism, ,...|(20,[1,2,3,4,5,6,...|\n",
            "| cantaloupe.srv.c...|[, cantaloupe.srv...|(20,[0,1,2,3,4,5,...|\n",
            "| cantaloupe.srv.c...|[, cantaloupe.srv...|(20,[0,1,2,3,4,5,...|\n",
            "| cantaloupe.srv.c...|[, cantaloupe.srv...|(20,[0,1,2,3,4,5,...|\n",
            "| cantaloupe.srv.c...|[, cantaloupe.srv...|(20,[0,1,2,3,4,5,...|\n",
            "| cantaloupe.srv.c...|[, cantaloupe.srv...|(20,[0,1,2,3,4,5,...|\n",
            "| alt.atheism  can...|[, alt.atheism, ,...|(20,[0,1,2,3,4,5,...|\n",
            "+--------------------+--------------------+--------------------+\n",
            "only showing top 20 rows\n",
            "\n"
          ]
        }
      ]
    },
    {
      "cell_type": "markdown",
      "source": [
        "##6-7.A. Groupement des documents ayants des représentations vectorielles proches"
      ],
      "metadata": {
        "id": "64x2h5gset1i"
      }
    },
    {
      "cell_type": "markdown",
      "source": [
        "###A.1. KMeans avec la pondération Tf-Idf"
      ],
      "metadata": {
        "id": "mHo24suplrmP"
      }
    },
    {
      "cell_type": "markdown",
      "source": [
        "#### Pondération des mots avec la formule Tf-*Idf*"
      ],
      "metadata": {
        "id": "-w3WH3fRfcip"
      }
    },
    {
      "cell_type": "code",
      "source": [
        "\n",
        "idf = IDF(inputCol=\"features_hache\", outputCol=\"features\")\n",
        "idfModel = idf.fit(featurizedData)\n",
        "rescaledData = idfModel.transform(featurizedData)\n",
        "rescaledData.show()"
      ],
      "metadata": {
        "id": "fN4gfyADC4Q3",
        "colab": {
          "base_uri": "https://localhost:8080/"
        },
        "outputId": "975aa491-0040-4b50-aacc-f51088aae630"
      },
      "execution_count": null,
      "outputs": [
        {
          "output_type": "stream",
          "name": "stdout",
          "text": [
            "+--------------------+--------------------+--------------------+--------------------+\n",
            "|            document|               words|      features_hache|            features|\n",
            "+--------------------+--------------------+--------------------+--------------------+\n",
            "| cantaloupe.srv.c...|[, cantaloupe.srv...|(20,[0,1,2,3,5,6,...|(20,[0,1,2,3,5,6,...|\n",
            "| cantaloupe.srv.c...|[, cantaloupe.srv...|(20,[0,2,3,4,5,6,...|(20,[0,2,3,4,5,6,...|\n",
            "| alt.atheism  can...|[, alt.atheism, ,...|(20,[0,1,2,3,4,5,...|(20,[0,1,2,3,4,5,...|\n",
            "| alt.atheism  can...|[, alt.atheism, ,...|(20,[0,1,2,3,4,5,...|(20,[0,1,2,3,4,5,...|\n",
            "| alt.atheism  can...|[, alt.atheism, ,...|(20,[0,1,2,3,4,5,...|(20,[0,1,2,3,4,5,...|\n",
            "| alt.atheism  can...|[, alt.atheism, ,...|(20,[0,1,2,3,4,5,...|(20,[0,1,2,3,4,5,...|\n",
            "| alt.atheism  can...|[, alt.atheism, ,...|(20,[0,1,2,3,4,5,...|(20,[0,1,2,3,4,5,...|\n",
            "| cantaloupe.srv.c...|[, cantaloupe.srv...|(20,[0,1,2,3,4,5,...|(20,[0,1,2,3,4,5,...|\n",
            "| cantaloupe.srv.c...|[, cantaloupe.srv...|(20,[0,1,2,3,4,5,...|(20,[0,1,2,3,4,5,...|\n",
            "| alt.atheism  can...|[, alt.atheism, ,...|(20,[1,2,4,5,6,7,...|(20,[1,2,4,5,6,7,...|\n",
            "| alt.atheism  can...|[, alt.atheism, ,...|(20,[0,1,2,4,5,6,...|(20,[0,1,2,4,5,6,...|\n",
            "| alt.atheism  can...|[, alt.atheism, ,...|(20,[0,1,2,4,5,6,...|(20,[0,1,2,4,5,6,...|\n",
            "| cantaloupe.srv.c...|[, cantaloupe.srv...|(20,[0,1,2,3,4,5,...|(20,[0,1,2,3,4,5,...|\n",
            "| alt.atheism  can...|[, alt.atheism, ,...|(20,[1,2,3,4,5,6,...|(20,[1,2,3,4,5,6,...|\n",
            "| cantaloupe.srv.c...|[, cantaloupe.srv...|(20,[0,1,2,3,4,5,...|(20,[0,1,2,3,4,5,...|\n",
            "| cantaloupe.srv.c...|[, cantaloupe.srv...|(20,[0,1,2,3,4,5,...|(20,[0,1,2,3,4,5,...|\n",
            "| cantaloupe.srv.c...|[, cantaloupe.srv...|(20,[0,1,2,3,4,5,...|(20,[0,1,2,3,4,5,...|\n",
            "| cantaloupe.srv.c...|[, cantaloupe.srv...|(20,[0,1,2,3,4,5,...|(20,[0,1,2,3,4,5,...|\n",
            "| cantaloupe.srv.c...|[, cantaloupe.srv...|(20,[0,1,2,3,4,5,...|(20,[0,1,2,3,4,5,...|\n",
            "| alt.atheism  can...|[, alt.atheism, ,...|(20,[0,1,2,3,4,5,...|(20,[0,1,2,3,4,5,...|\n",
            "+--------------------+--------------------+--------------------+--------------------+\n",
            "only showing top 20 rows\n",
            "\n"
          ]
        }
      ]
    },
    {
      "cell_type": "markdown",
      "source": [
        "#### KMeans avec ponderation Tf-Idf"
      ],
      "metadata": {
        "id": "oM4fMHZvfobR"
      }
    },
    {
      "cell_type": "markdown",
      "source": [
        "Comme nous allons tester l'algorithme de KMeans dans plusieurs cas (document entier/entete et Tf-Idf/normalisation), nous allons créer une fonction K_means qui prend un vecteur et applique l'algorithme de clustering dessus, puis affiche le Silhouette score, le nombre de clusters, leurs centres et la taille de chaque cluster."
      ],
      "metadata": {
        "id": "pCbsG5lSkBd0"
      }
    },
    {
      "cell_type": "code",
      "source": [
        "# Kmeans  \n",
        "from pyspark.ml.clustering import KMeans\n",
        "from pyspark.ml.evaluation import ClusteringEvaluator\n",
        "import seaborn as sns\n",
        "import pandas as pd\n",
        "import matplotlib as plt\n",
        "\n",
        "\n",
        "def K_means(Datavector):\n",
        "    # Trains a k-means model.\n",
        "    kmeans = KMeans().setK(2).setSeed(5)\n",
        "    model = kmeans.fit(Datavector)\n",
        "    # make prediction\n",
        "    predictions = model.transform(Datavector)\n",
        "    # Evaluate clustering by computing Silhouette score\n",
        "    evaluator = ClusteringEvaluator()\n",
        "\n",
        "    # Le Silhouette score est une mesure utilisée pour calculer la qualité technique du clustering , sa valeur est comprise entre 1 et -1\n",
        "    # 1: un bon clustering\n",
        "    # 0: Signifie que les clusters sont indifférents, ou nous pouvons dire que la distance entre les clusters n'est pas significative.\n",
        "    # -1: Signifie que les clusters sont affectés dans le mauvais sens.\n",
        "    # s=(ba)/max(a,b) ou a est la distance intra-cluster moyenne et b est la distance inter-cluster moyenne\n",
        "\n",
        "    silhouette = evaluator.evaluate(predictions)\n",
        "    print(\"Silhouette with squared euclidean distance = \" + str(silhouette))\n",
        "    # Shows the result.\n",
        "    centers = model.clusterCenters()\n",
        "    print(\"Cluster Centers: \", len(centers))\n",
        "     for center in centers:\n",
        "        print(center)\n",
        "\n",
        "    #Affichage du résultat du clustering\n",
        "    predictions.groupBy('prediction').count().show()"
      ],
      "metadata": {
        "id": "C_fPxQAN2lIJ"
      },
      "execution_count": null,
      "outputs": []
    },
    {
      "cell_type": "code",
      "source": [
        "#Kmeans pour idf\n",
        "K_means(rescaledData)"
      ],
      "metadata": {
        "colab": {
          "base_uri": "https://localhost:8080/"
        },
        "id": "gZlipbA59Dmi",
        "outputId": "0488521d-9185-458c-b010-88ac68c21726"
      },
      "execution_count": null,
      "outputs": [
        {
          "output_type": "stream",
          "name": "stdout",
          "text": [
            "Silhouette with squared euclidean distance = 0.9613129638840032\n",
            "Cluster Centers:  2\n"
          ]
        }
      ]
    },
    {
      "cell_type": "markdown",
      "source": [
        "***A REVOIR CETTE PARTIE***\n",
        "\n",
        "Le Silhouette score est une métrique allant de -1 à 1. Le score obtenu est donc quasi maximal.\n",
        "\n",
        "Le modèle a trouvé deux clusters bien espacés mais la quasi totalité des prédictions (99,75%) a été assigné au cluster 0."
      ],
      "metadata": {
        "id": "1YygRvfbgtbf"
      }
    },
    {
      "cell_type": "markdown",
      "source": [
        "###A.2 Normalisation des vecteurs représentant les documents"
      ],
      "metadata": {
        "id": "kLFACEoR6Xb3"
      }
    },
    {
      "cell_type": "markdown",
      "source": [
        "#### Normalisation"
      ],
      "metadata": {
        "id": "l7qv303Dl96b"
      }
    },
    {
      "cell_type": "code",
      "source": [
        "# normalisation\n",
        "from pyspark.ml.feature import Normalizer\n",
        "from pyspark.ml.linalg import Vectors\n",
        "normalizer = Normalizer(inputCol=\"features_hache\", outputCol=\"features\", p=1.0)\n",
        "l1NormData = normalizer.transform(featurizedData)\n",
        "l1NormData.show()"
      ],
      "metadata": {
        "id": "WDl5V4oRPm7C",
        "colab": {
          "base_uri": "https://localhost:8080/"
        },
        "outputId": "a5fa9179-4de8-4294-bf1d-0209eac0b873"
      },
      "execution_count": null,
      "outputs": [
        {
          "output_type": "stream",
          "name": "stdout",
          "text": [
            "+--------------------+--------------------+--------------------+--------------------+\n",
            "|            document|               words|      features_hache|            features|\n",
            "+--------------------+--------------------+--------------------+--------------------+\n",
            "| cantaloupe.srv.c...|[, cantaloupe.srv...|(20,[0,1,2,3,5,6,...|(20,[0,1,2,3,5,6,...|\n",
            "| cantaloupe.srv.c...|[, cantaloupe.srv...|(20,[0,2,3,4,5,6,...|(20,[0,2,3,4,5,6,...|\n",
            "| alt.atheism  can...|[, alt.atheism, ,...|(20,[0,1,2,3,4,5,...|(20,[0,1,2,3,4,5,...|\n",
            "| alt.atheism  can...|[, alt.atheism, ,...|(20,[0,1,2,3,4,5,...|(20,[0,1,2,3,4,5,...|\n",
            "| alt.atheism  can...|[, alt.atheism, ,...|(20,[0,1,2,3,4,5,...|(20,[0,1,2,3,4,5,...|\n",
            "| alt.atheism  can...|[, alt.atheism, ,...|(20,[0,1,2,3,4,5,...|(20,[0,1,2,3,4,5,...|\n",
            "| alt.atheism  can...|[, alt.atheism, ,...|(20,[0,1,2,3,4,5,...|(20,[0,1,2,3,4,5,...|\n",
            "| cantaloupe.srv.c...|[, cantaloupe.srv...|(20,[0,1,2,3,4,5,...|(20,[0,1,2,3,4,5,...|\n",
            "| cantaloupe.srv.c...|[, cantaloupe.srv...|(20,[0,1,2,3,4,5,...|(20,[0,1,2,3,4,5,...|\n",
            "| alt.atheism  can...|[, alt.atheism, ,...|(20,[1,2,4,5,6,7,...|(20,[1,2,4,5,6,7,...|\n",
            "| alt.atheism  can...|[, alt.atheism, ,...|(20,[0,1,2,4,5,6,...|(20,[0,1,2,4,5,6,...|\n",
            "| alt.atheism  can...|[, alt.atheism, ,...|(20,[0,1,2,4,5,6,...|(20,[0,1,2,4,5,6,...|\n",
            "| cantaloupe.srv.c...|[, cantaloupe.srv...|(20,[0,1,2,3,4,5,...|(20,[0,1,2,3,4,5,...|\n",
            "| alt.atheism  can...|[, alt.atheism, ,...|(20,[1,2,3,4,5,6,...|(20,[1,2,3,4,5,6,...|\n",
            "| cantaloupe.srv.c...|[, cantaloupe.srv...|(20,[0,1,2,3,4,5,...|(20,[0,1,2,3,4,5,...|\n",
            "| cantaloupe.srv.c...|[, cantaloupe.srv...|(20,[0,1,2,3,4,5,...|(20,[0,1,2,3,4,5,...|\n",
            "| cantaloupe.srv.c...|[, cantaloupe.srv...|(20,[0,1,2,3,4,5,...|(20,[0,1,2,3,4,5,...|\n",
            "| cantaloupe.srv.c...|[, cantaloupe.srv...|(20,[0,1,2,3,4,5,...|(20,[0,1,2,3,4,5,...|\n",
            "| cantaloupe.srv.c...|[, cantaloupe.srv...|(20,[0,1,2,3,4,5,...|(20,[0,1,2,3,4,5,...|\n",
            "| alt.atheism  can...|[, alt.atheism, ,...|(20,[0,1,2,3,4,5,...|(20,[0,1,2,3,4,5,...|\n",
            "+--------------------+--------------------+--------------------+--------------------+\n",
            "only showing top 20 rows\n",
            "\n"
          ]
        }
      ]
    },
    {
      "cell_type": "markdown",
      "source": [
        "#### KMeans avec normalisation"
      ],
      "metadata": {
        "id": "Fd4Ibmo-hNmA"
      }
    },
    {
      "cell_type": "code",
      "source": [
        "# Kmeans avec normalisation\n",
        "K_means(l1NormData)"
      ],
      "metadata": {
        "id": "loOCJZS__EE4",
        "colab": {
          "base_uri": "https://localhost:8080/"
        },
        "outputId": "6d929101-7ff7-462c-982a-6ef4752b882b"
      },
      "execution_count": null,
      "outputs": [
        {
          "output_type": "stream",
          "name": "stdout",
          "text": [
            "Silhouette with squared euclidean distance = 0.3599999179688524\n",
            "Cluster Centers:  2\n"
          ]
        }
      ]
    },
    {
      "cell_type": "markdown",
      "source": [
        "##5.B. Transformation de texte : En tete seulement\n",
        "\n",
        "Comme le résultat du clustering n'a pas donné des résultats satisfaisants, nous allons essayer les meme étapes sur l'entete des documents.\n",
        "\n",
        "Nous allons commencer par créer un nouvel RDD de type pyspark.sql.Row puis un dataframe qui a une seule colonne ne contenant que l'eentete. Ceci est pour faire un deuxieme test sur l'algorithme KMeans."
      ],
      "metadata": {
        "id": "RAaWnL0x6skN"
      }
    },
    {
      "cell_type": "code",
      "source": [
        "def ToRow_entete(x):\n",
        "  entete=x[1][0]\n",
        "  val=\" \".join(entete.values())\n",
        "  row = Row(entete=val)\n",
        "  return row\n",
        "\n",
        "entete_document_row=fusion.map(ToRow_entete)"
      ],
      "metadata": {
        "id": "x00n2EgYvmih"
      },
      "execution_count": null,
      "outputs": []
    },
    {
      "cell_type": "code",
      "source": [
        "Entete_df=spark.createDataFrame(entete_document_row)\n",
        "Entete_df.printSchema()"
      ],
      "metadata": {
        "colab": {
          "base_uri": "https://localhost:8080/"
        },
        "id": "oj4rLiASxluu",
        "outputId": "b54df5f3-8fe0-47e0-da45-0fff63281260"
      },
      "execution_count": null,
      "outputs": [
        {
          "output_type": "stream",
          "name": "stdout",
          "text": [
            "root\n",
            " |-- entete: string (nullable = true)\n",
            "\n"
          ]
        }
      ]
    },
    {
      "cell_type": "markdown",
      "source": [
        "###5.B.2 Découpage les documents en listes de mots à l’aide de Tokenizer"
      ],
      "metadata": {
        "id": "Z8_vL6ZManSr"
      }
    },
    {
      "cell_type": "code",
      "source": [
        "tokenizer2 = Tokenizer(inputCol=\"entete\", outputCol=\"words\")\n",
        "#d=df.select(\"Contenu\")\n",
        "wordsData_entete = tokenizer2.transform(Entete_df)\n",
        "wordsData_entete.show()"
      ],
      "metadata": {
        "id": "W-uJzqmN6xb7",
        "colab": {
          "base_uri": "https://localhost:8080/"
        },
        "outputId": "b6658a1d-2b5e-45e9-e024-96945b7508fe"
      },
      "execution_count": null,
      "outputs": [
        {
          "output_type": "stream",
          "name": "stdout",
          "text": [
            "+--------------------+--------------------+\n",
            "|              entete|               words|\n",
            "+--------------------+--------------------+\n",
            "| cantaloupe.srv.c...|[, cantaloupe.srv...|\n",
            "| cantaloupe.srv.c...|[, cantaloupe.srv...|\n",
            "| alt.atheism  can...|[, alt.atheism, ,...|\n",
            "| alt.atheism  can...|[, alt.atheism, ,...|\n",
            "| alt.atheism  can...|[, alt.atheism, ,...|\n",
            "| alt.atheism  can...|[, alt.atheism, ,...|\n",
            "| alt.atheism  can...|[, alt.atheism, ,...|\n",
            "| cantaloupe.srv.c...|[, cantaloupe.srv...|\n",
            "| cantaloupe.srv.c...|[, cantaloupe.srv...|\n",
            "| alt.atheism  can...|[, alt.atheism, ,...|\n",
            "| alt.atheism  can...|[, alt.atheism, ,...|\n",
            "| alt.atheism  can...|[, alt.atheism, ,...|\n",
            "| cantaloupe.srv.c...|[, cantaloupe.srv...|\n",
            "| alt.atheism  can...|[, alt.atheism, ,...|\n",
            "| cantaloupe.srv.c...|[, cantaloupe.srv...|\n",
            "| cantaloupe.srv.c...|[, cantaloupe.srv...|\n",
            "| cantaloupe.srv.c...|[, cantaloupe.srv...|\n",
            "| cantaloupe.srv.c...|[, cantaloupe.srv...|\n",
            "| cantaloupe.srv.c...|[, cantaloupe.srv...|\n",
            "| alt.atheism  can...|[, alt.atheism, ,...|\n",
            "+--------------------+--------------------+\n",
            "only showing top 20 rows\n",
            "\n"
          ]
        }
      ]
    },
    {
      "cell_type": "markdown",
      "source": [
        "###5.B.3 Création d'une représentation vectorielle des documents à l’aide de HashingTF"
      ],
      "metadata": {
        "id": "mpAYldfPaw8q"
      }
    },
    {
      "cell_type": "code",
      "source": [
        "#Création d'une représentation vectorielle des documents à l’aide de HashingTF\n",
        "hashingTF = HashingTF(inputCol=\"words\", outputCol=\"features_hache\", numFeatures=20)\n",
        "featurizedData_entete = hashingTF.transform(wordsData_entete)\n",
        "featurizedData_entete.show()"
      ],
      "metadata": {
        "colab": {
          "base_uri": "https://localhost:8080/"
        },
        "id": "15Fo1jdb76YM",
        "outputId": "00ee52b9-9e1a-44e5-fbd2-9390af41a3f5"
      },
      "execution_count": null,
      "outputs": [
        {
          "output_type": "stream",
          "name": "stdout",
          "text": [
            "+--------------------+--------------------+--------------------+\n",
            "|              entete|               words|      features_hache|\n",
            "+--------------------+--------------------+--------------------+\n",
            "| cantaloupe.srv.c...|[, cantaloupe.srv...|(20,[0,2,3,5,6,7,...|\n",
            "| cantaloupe.srv.c...|[, cantaloupe.srv...|(20,[0,2,3,4,5,6,...|\n",
            "| alt.atheism  can...|[, alt.atheism, ,...|(20,[0,1,2,3,4,5,...|\n",
            "| alt.atheism  can...|[, alt.atheism, ,...|(20,[0,2,3,4,5,6,...|\n",
            "| alt.atheism  can...|[, alt.atheism, ,...|(20,[0,2,4,5,6,7,...|\n",
            "| alt.atheism  can...|[, alt.atheism, ,...|(20,[0,1,2,3,4,5,...|\n",
            "| alt.atheism  can...|[, alt.atheism, ,...|(20,[0,2,3,4,5,7,...|\n",
            "| cantaloupe.srv.c...|[, cantaloupe.srv...|(20,[1,2,3,5,6,9,...|\n",
            "| cantaloupe.srv.c...|[, cantaloupe.srv...|(20,[0,2,3,4,5,6,...|\n",
            "| alt.atheism  can...|[, alt.atheism, ,...|(20,[1,2,4,5,6,7,...|\n",
            "| alt.atheism  can...|[, alt.atheism, ,...|(20,[0,1,2,4,5,6,...|\n",
            "| alt.atheism  can...|[, alt.atheism, ,...|(20,[0,1,2,4,5,6,...|\n",
            "| cantaloupe.srv.c...|[, cantaloupe.srv...|(20,[0,1,2,3,4,5,...|\n",
            "| alt.atheism  can...|[, alt.atheism, ,...|(20,[1,2,3,4,5,6,...|\n",
            "| cantaloupe.srv.c...|[, cantaloupe.srv...|(20,[0,1,2,3,4,5,...|\n",
            "| cantaloupe.srv.c...|[, cantaloupe.srv...|(20,[0,2,3,5,6,7,...|\n",
            "| cantaloupe.srv.c...|[, cantaloupe.srv...|(20,[0,2,3,4,5,7,...|\n",
            "| cantaloupe.srv.c...|[, cantaloupe.srv...|(20,[0,1,2,3,5,6,...|\n",
            "| cantaloupe.srv.c...|[, cantaloupe.srv...|(20,[2,5,6,9,12,1...|\n",
            "| alt.atheism  can...|[, alt.atheism, ,...|(20,[1,2,3,4,5,6,...|\n",
            "+--------------------+--------------------+--------------------+\n",
            "only showing top 20 rows\n",
            "\n"
          ]
        }
      ]
    },
    {
      "cell_type": "markdown",
      "source": [
        "##6-7.B. Groupement des documents ayants des représentations vectorielles proches"
      ],
      "metadata": {
        "id": "X-fzLRBX-ANC"
      }
    },
    {
      "cell_type": "markdown",
      "source": [
        "###B.1. KMeans avec ponderation Tf-Idf"
      ],
      "metadata": {
        "id": "oXrbH-zTjLQt"
      }
    },
    {
      "cell_type": "markdown",
      "source": [
        "#### Pondération des mots avec la formule Tf-*Idf*"
      ],
      "metadata": {
        "id": "3FdT0LDai216"
      }
    },
    {
      "cell_type": "code",
      "source": [
        "idf = IDF(inputCol=\"features_hache\", outputCol=\"features\")\n",
        "idfModel = idf.fit(featurizedData)\n",
        "rescaledData_entete = idfModel.transform(featurizedData_entete)\n",
        "rescaledData_entete.show()"
      ],
      "metadata": {
        "colab": {
          "base_uri": "https://localhost:8080/"
        },
        "id": "60Lb6dKk9pVZ",
        "outputId": "e37be477-538c-4e2f-86f8-3d9efee77690"
      },
      "execution_count": null,
      "outputs": [
        {
          "output_type": "stream",
          "name": "stdout",
          "text": [
            "+--------------------+--------------------+--------------------+--------------------+\n",
            "|              entete|               words|      features_hache|            features|\n",
            "+--------------------+--------------------+--------------------+--------------------+\n",
            "| cantaloupe.srv.c...|[, cantaloupe.srv...|(20,[0,2,3,5,6,7,...|(20,[0,2,3,5,6,7,...|\n",
            "| cantaloupe.srv.c...|[, cantaloupe.srv...|(20,[0,2,3,4,5,6,...|(20,[0,2,3,4,5,6,...|\n",
            "| alt.atheism  can...|[, alt.atheism, ,...|(20,[0,1,2,3,4,5,...|(20,[0,1,2,3,4,5,...|\n",
            "| alt.atheism  can...|[, alt.atheism, ,...|(20,[0,2,3,4,5,6,...|(20,[0,2,3,4,5,6,...|\n",
            "| alt.atheism  can...|[, alt.atheism, ,...|(20,[0,2,4,5,6,7,...|(20,[0,2,4,5,6,7,...|\n",
            "| alt.atheism  can...|[, alt.atheism, ,...|(20,[0,1,2,3,4,5,...|(20,[0,1,2,3,4,5,...|\n",
            "| alt.atheism  can...|[, alt.atheism, ,...|(20,[0,2,3,4,5,7,...|(20,[0,2,3,4,5,7,...|\n",
            "| cantaloupe.srv.c...|[, cantaloupe.srv...|(20,[1,2,3,5,6,9,...|(20,[1,2,3,5,6,9,...|\n",
            "| cantaloupe.srv.c...|[, cantaloupe.srv...|(20,[0,2,3,4,5,6,...|(20,[0,2,3,4,5,6,...|\n",
            "| alt.atheism  can...|[, alt.atheism, ,...|(20,[1,2,4,5,6,7,...|(20,[1,2,4,5,6,7,...|\n",
            "| alt.atheism  can...|[, alt.atheism, ,...|(20,[0,1,2,4,5,6,...|(20,[0,1,2,4,5,6,...|\n",
            "| alt.atheism  can...|[, alt.atheism, ,...|(20,[0,1,2,4,5,6,...|(20,[0,1,2,4,5,6,...|\n",
            "| cantaloupe.srv.c...|[, cantaloupe.srv...|(20,[0,1,2,3,4,5,...|(20,[0,1,2,3,4,5,...|\n",
            "| alt.atheism  can...|[, alt.atheism, ,...|(20,[1,2,3,4,5,6,...|(20,[1,2,3,4,5,6,...|\n",
            "| cantaloupe.srv.c...|[, cantaloupe.srv...|(20,[0,1,2,3,4,5,...|(20,[0,1,2,3,4,5,...|\n",
            "| cantaloupe.srv.c...|[, cantaloupe.srv...|(20,[0,2,3,5,6,7,...|(20,[0,2,3,5,6,7,...|\n",
            "| cantaloupe.srv.c...|[, cantaloupe.srv...|(20,[0,2,3,4,5,7,...|(20,[0,2,3,4,5,7,...|\n",
            "| cantaloupe.srv.c...|[, cantaloupe.srv...|(20,[0,1,2,3,5,6,...|(20,[0,1,2,3,5,6,...|\n",
            "| cantaloupe.srv.c...|[, cantaloupe.srv...|(20,[2,5,6,9,12,1...|(20,[2,5,6,9,12,1...|\n",
            "| alt.atheism  can...|[, alt.atheism, ,...|(20,[1,2,3,4,5,6,...|(20,[1,2,3,4,5,6,...|\n",
            "+--------------------+--------------------+--------------------+--------------------+\n",
            "only showing top 20 rows\n",
            "\n"
          ]
        }
      ]
    },
    {
      "cell_type": "markdown",
      "source": [
        "#### KMeans avec ponderation Tf-Idf"
      ],
      "metadata": {
        "id": "QcofiQ5YjCqA"
      }
    },
    {
      "cell_type": "code",
      "source": [
        "K_means(rescaledData_entete)"
      ],
      "metadata": {
        "colab": {
          "base_uri": "https://localhost:8080/"
        },
        "id": "_ppFIBsW9z3e",
        "outputId": "44ad1762-4c07-4c11-bb91-868b3e8a6d15"
      },
      "execution_count": null,
      "outputs": [
        {
          "output_type": "stream",
          "name": "stdout",
          "text": [
            "Silhouette with squared euclidean distance = 0.20173668245025458\n",
            "Cluster Centers:  2\n"
          ]
        }
      ]
    },
    {
      "cell_type": "markdown",
      "source": [
        "###B.2. KMeans avec  normalisation"
      ],
      "metadata": {
        "id": "a5uMb9_g-dx4"
      }
    },
    {
      "cell_type": "markdown",
      "source": [
        "####Normalisation"
      ],
      "metadata": {
        "id": "YSPI-C0Ejg7f"
      }
    },
    {
      "cell_type": "code",
      "source": [
        "# normalisation\n",
        "from pyspark.ml.feature import Normalizer\n",
        "from pyspark.ml.linalg import Vectors\n",
        "normalizer = Normalizer(inputCol=\"features_hache\", outputCol=\"features\", p=1.0)\n",
        "l1NormData_entete = normalizer.transform(featurizedData_entete)\n",
        "l1NormData_entete.show()"
      ],
      "metadata": {
        "colab": {
          "base_uri": "https://localhost:8080/"
        },
        "id": "EbG54bua-hav",
        "outputId": "dd00e6f1-bfd7-4167-cb4b-31bd23e5b43b"
      },
      "execution_count": null,
      "outputs": [
        {
          "output_type": "stream",
          "name": "stdout",
          "text": [
            "+--------------------+--------------------+--------------------+--------------------+\n",
            "|              entete|               words|      features_hache|            features|\n",
            "+--------------------+--------------------+--------------------+--------------------+\n",
            "| cantaloupe.srv.c...|[, cantaloupe.srv...|(20,[0,2,3,5,6,7,...|(20,[0,2,3,5,6,7,...|\n",
            "| cantaloupe.srv.c...|[, cantaloupe.srv...|(20,[0,2,3,4,5,6,...|(20,[0,2,3,4,5,6,...|\n",
            "| alt.atheism  can...|[, alt.atheism, ,...|(20,[0,1,2,3,4,5,...|(20,[0,1,2,3,4,5,...|\n",
            "| alt.atheism  can...|[, alt.atheism, ,...|(20,[0,2,3,4,5,6,...|(20,[0,2,3,4,5,6,...|\n",
            "| alt.atheism  can...|[, alt.atheism, ,...|(20,[0,2,4,5,6,7,...|(20,[0,2,4,5,6,7,...|\n",
            "| alt.atheism  can...|[, alt.atheism, ,...|(20,[0,1,2,3,4,5,...|(20,[0,1,2,3,4,5,...|\n",
            "| alt.atheism  can...|[, alt.atheism, ,...|(20,[0,2,3,4,5,7,...|(20,[0,2,3,4,5,7,...|\n",
            "| cantaloupe.srv.c...|[, cantaloupe.srv...|(20,[1,2,3,5,6,9,...|(20,[1,2,3,5,6,9,...|\n",
            "| cantaloupe.srv.c...|[, cantaloupe.srv...|(20,[0,2,3,4,5,6,...|(20,[0,2,3,4,5,6,...|\n",
            "| alt.atheism  can...|[, alt.atheism, ,...|(20,[1,2,4,5,6,7,...|(20,[1,2,4,5,6,7,...|\n",
            "| alt.atheism  can...|[, alt.atheism, ,...|(20,[0,1,2,4,5,6,...|(20,[0,1,2,4,5,6,...|\n",
            "| alt.atheism  can...|[, alt.atheism, ,...|(20,[0,1,2,4,5,6,...|(20,[0,1,2,4,5,6,...|\n",
            "| cantaloupe.srv.c...|[, cantaloupe.srv...|(20,[0,1,2,3,4,5,...|(20,[0,1,2,3,4,5,...|\n",
            "| alt.atheism  can...|[, alt.atheism, ,...|(20,[1,2,3,4,5,6,...|(20,[1,2,3,4,5,6,...|\n",
            "| cantaloupe.srv.c...|[, cantaloupe.srv...|(20,[0,1,2,3,4,5,...|(20,[0,1,2,3,4,5,...|\n",
            "| cantaloupe.srv.c...|[, cantaloupe.srv...|(20,[0,2,3,5,6,7,...|(20,[0,2,3,5,6,7,...|\n",
            "| cantaloupe.srv.c...|[, cantaloupe.srv...|(20,[0,2,3,4,5,7,...|(20,[0,2,3,4,5,7,...|\n",
            "| cantaloupe.srv.c...|[, cantaloupe.srv...|(20,[0,1,2,3,5,6,...|(20,[0,1,2,3,5,6,...|\n",
            "| cantaloupe.srv.c...|[, cantaloupe.srv...|(20,[2,5,6,9,12,1...|(20,[2,5,6,9,12,1...|\n",
            "| alt.atheism  can...|[, alt.atheism, ,...|(20,[1,2,3,4,5,6,...|(20,[1,2,3,4,5,6,...|\n",
            "+--------------------+--------------------+--------------------+--------------------+\n",
            "only showing top 20 rows\n",
            "\n"
          ]
        }
      ]
    },
    {
      "cell_type": "markdown",
      "source": [
        "####KMeans avec normalisation"
      ],
      "metadata": {
        "id": "fBUrD6oVjknX"
      }
    },
    {
      "cell_type": "code",
      "source": [
        "K_means(l1NormData_entete)"
      ],
      "metadata": {
        "colab": {
          "base_uri": "https://localhost:8080/"
        },
        "id": "pZ9GboE6-5as",
        "outputId": "179517a2-8c2a-4024-d241-d957ebe26a34"
      },
      "execution_count": null,
      "outputs": [
        {
          "output_type": "stream",
          "name": "stdout",
          "text": [
            "Silhouette with squared euclidean distance = 0.14923718008341955\n",
            "Cluster Centers:  2\n"
          ]
        }
      ]
    }
  ]
}